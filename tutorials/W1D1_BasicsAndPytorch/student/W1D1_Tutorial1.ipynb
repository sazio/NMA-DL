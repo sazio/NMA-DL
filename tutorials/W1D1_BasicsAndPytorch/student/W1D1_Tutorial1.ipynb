{
  "nbformat": 4,
  "nbformat_minor": 0,
  "metadata": {
    "accelerator": "GPU",
    "colab": {
      "name": "W1D1_Tutorial1",
      "provenance": [],
      "collapsed_sections": [],
      "include_colab_link": true
    },
    "kernel": {
      "display_name": "Python 3",
      "language": "python",
      "name": "python3"
    },
    "kernelspec": {
      "display_name": "Python 3",
      "name": "python3"
    },
    "language_info": {
      "codemirror_mode": {
        "name": "ipython",
        "version": 3
      },
      "file_extension": ".py",
      "mimetype": "text/x-python",
      "name": "python",
      "nbconvert_exporter": "python",
      "pygments_lexer": "ipython3",
      "version": "3.7.11"
    },
    "widgets": {
      "application/vnd.jupyter.widget-state+json": {
        "388e2c537a4942709f2d2744b60fafc1": {
          "model_module": "@jupyter-widgets/controls",
          "model_name": "TabModel",
          "state": {
            "_view_name": "TabView",
            "_dom_classes": [],
            "_titles": {
              "0": "Youtube",
              "1": "Bilibili"
            },
            "_model_name": "TabModel",
            "_view_module": "@jupyter-widgets/controls",
            "selected_index": 0,
            "_model_module_version": "1.5.0",
            "_view_count": null,
            "_view_module_version": "1.5.0",
            "box_style": "",
            "layout": "IPY_MODEL_4302030e051d4268b0059d3fc1429080",
            "_model_module": "@jupyter-widgets/controls",
            "children": [
              "IPY_MODEL_c9045f516a9148cc96942bf7a4b7934b",
              "IPY_MODEL_5d05e0ece9834fe1a43807469cc589bb"
            ]
          }
        },
        "4302030e051d4268b0059d3fc1429080": {
          "model_module": "@jupyter-widgets/base",
          "model_name": "LayoutModel",
          "state": {
            "_view_name": "LayoutView",
            "grid_template_rows": null,
            "right": null,
            "justify_content": null,
            "_view_module": "@jupyter-widgets/base",
            "overflow": null,
            "_model_module_version": "1.2.0",
            "_view_count": null,
            "flex_flow": null,
            "width": null,
            "min_width": null,
            "border": null,
            "align_items": null,
            "bottom": null,
            "_model_module": "@jupyter-widgets/base",
            "top": null,
            "grid_column": null,
            "overflow_y": null,
            "overflow_x": null,
            "grid_auto_flow": null,
            "grid_area": null,
            "grid_template_columns": null,
            "flex": null,
            "_model_name": "LayoutModel",
            "justify_items": null,
            "grid_row": null,
            "max_height": null,
            "align_content": null,
            "visibility": null,
            "align_self": null,
            "height": null,
            "min_height": null,
            "padding": null,
            "grid_auto_rows": null,
            "grid_gap": null,
            "max_width": null,
            "order": null,
            "_view_module_version": "1.2.0",
            "grid_template_areas": null,
            "object_position": null,
            "object_fit": null,
            "grid_auto_columns": null,
            "margin": null,
            "display": null,
            "left": null
          }
        },
        "c9045f516a9148cc96942bf7a4b7934b": {
          "model_module": "@jupyter-widgets/output",
          "model_name": "OutputModel",
          "state": {
            "_view_name": "OutputView",
            "msg_id": "",
            "_dom_classes": [],
            "_model_name": "OutputModel",
            "outputs": [
              {
                "output_type": "stream",
                "metadata": {
                  "tags": []
                },
                "text": "Video available at https://youtube.com/watch?v=ca21SNqt78I\n",
                "stream": "stdout"
              },
              {
                "output_type": "display_data",
                "metadata": {
                  "tags": []
                },
                "text/html": "\n        <iframe\n            width=\"854\"\n            height=\"480\"\n            src=\"https://www.youtube.com/embed/ca21SNqt78I?fs=1&rel=0\"\n            frameborder=\"0\"\n            allowfullscreen\n        ></iframe>\n        ",
                "text/plain": "<IPython.lib.display.YouTubeVideo at 0x7f9ec4fed410>",
                "image/jpeg": "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\n"
              }
            ],
            "_view_module": "@jupyter-widgets/output",
            "_model_module_version": "1.0.0",
            "_view_count": null,
            "_view_module_version": "1.0.0",
            "layout": "IPY_MODEL_5d9cac788d944b00b386d9f7fd059783",
            "_model_module": "@jupyter-widgets/output"
          }
        },
        "5d05e0ece9834fe1a43807469cc589bb": {
          "model_module": "@jupyter-widgets/output",
          "model_name": "OutputModel",
          "state": {
            "_view_name": "OutputView",
            "msg_id": "",
            "_dom_classes": [],
            "_model_name": "OutputModel",
            "outputs": [
              {
                "output_type": "stream",
                "metadata": {
                  "tags": []
                },
                "text": "Video available at https://www.bilibili.com/video/BV1Av411n7oL\n",
                "stream": "stdout"
              },
              {
                "output_type": "display_data",
                "metadata": {
                  "tags": []
                },
                "text/html": "\n        <iframe\n            width=\"854\"\n            height=\"480\"\n            src=\"https://player.bilibili.com/player.html?bvid=BV1Av411n7oL&page=1?fs=1\"\n            frameborder=\"0\"\n            allowfullscreen\n        ></iframe>\n        ",
                "text/plain": "<__main__.BiliVideo at 0x7f9ec4f9ea90>"
              }
            ],
            "_view_module": "@jupyter-widgets/output",
            "_model_module_version": "1.0.0",
            "_view_count": null,
            "_view_module_version": "1.0.0",
            "layout": "IPY_MODEL_2ffc966ee8504aa4b12a247bd5c634e4",
            "_model_module": "@jupyter-widgets/output"
          }
        },
        "5d9cac788d944b00b386d9f7fd059783": {
          "model_module": "@jupyter-widgets/base",
          "model_name": "LayoutModel",
          "state": {
            "_view_name": "LayoutView",
            "grid_template_rows": null,
            "right": null,
            "justify_content": null,
            "_view_module": "@jupyter-widgets/base",
            "overflow": null,
            "_model_module_version": "1.2.0",
            "_view_count": null,
            "flex_flow": null,
            "width": null,
            "min_width": null,
            "border": null,
            "align_items": null,
            "bottom": null,
            "_model_module": "@jupyter-widgets/base",
            "top": null,
            "grid_column": null,
            "overflow_y": null,
            "overflow_x": null,
            "grid_auto_flow": null,
            "grid_area": null,
            "grid_template_columns": null,
            "flex": null,
            "_model_name": "LayoutModel",
            "justify_items": null,
            "grid_row": null,
            "max_height": null,
            "align_content": null,
            "visibility": null,
            "align_self": null,
            "height": null,
            "min_height": null,
            "padding": null,
            "grid_auto_rows": null,
            "grid_gap": null,
            "max_width": null,
            "order": null,
            "_view_module_version": "1.2.0",
            "grid_template_areas": null,
            "object_position": null,
            "object_fit": null,
            "grid_auto_columns": null,
            "margin": null,
            "display": null,
            "left": null
          }
        },
        "2ffc966ee8504aa4b12a247bd5c634e4": {
          "model_module": "@jupyter-widgets/base",
          "model_name": "LayoutModel",
          "state": {
            "_view_name": "LayoutView",
            "grid_template_rows": null,
            "right": null,
            "justify_content": null,
            "_view_module": "@jupyter-widgets/base",
            "overflow": null,
            "_model_module_version": "1.2.0",
            "_view_count": null,
            "flex_flow": null,
            "width": null,
            "min_width": null,
            "border": null,
            "align_items": null,
            "bottom": null,
            "_model_module": "@jupyter-widgets/base",
            "top": null,
            "grid_column": null,
            "overflow_y": null,
            "overflow_x": null,
            "grid_auto_flow": null,
            "grid_area": null,
            "grid_template_columns": null,
            "flex": null,
            "_model_name": "LayoutModel",
            "justify_items": null,
            "grid_row": null,
            "max_height": null,
            "align_content": null,
            "visibility": null,
            "align_self": null,
            "height": null,
            "min_height": null,
            "padding": null,
            "grid_auto_rows": null,
            "grid_gap": null,
            "max_width": null,
            "order": null,
            "_view_module_version": "1.2.0",
            "grid_template_areas": null,
            "object_position": null,
            "object_fit": null,
            "grid_auto_columns": null,
            "margin": null,
            "display": null,
            "left": null
          }
        },
        "0e7b552cb44c4d03a12f5980a889f123": {
          "model_module": "@jupyter-widgets/controls",
          "model_name": "TabModel",
          "state": {
            "_view_name": "TabView",
            "_dom_classes": [],
            "_titles": {
              "0": "Youtube",
              "1": "Bilibili"
            },
            "_model_name": "TabModel",
            "_view_module": "@jupyter-widgets/controls",
            "selected_index": 0,
            "_model_module_version": "1.5.0",
            "_view_count": null,
            "_view_module_version": "1.5.0",
            "box_style": "",
            "layout": "IPY_MODEL_79ad1ad3ca2245148722993853793df0",
            "_model_module": "@jupyter-widgets/controls",
            "children": [
              "IPY_MODEL_722639f195bf42ef9b6b8c3126a0d3a4",
              "IPY_MODEL_bd21f63e67d541ba9e4e87c00d13840f"
            ]
          }
        },
        "79ad1ad3ca2245148722993853793df0": {
          "model_module": "@jupyter-widgets/base",
          "model_name": "LayoutModel",
          "state": {
            "_view_name": "LayoutView",
            "grid_template_rows": null,
            "right": null,
            "justify_content": null,
            "_view_module": "@jupyter-widgets/base",
            "overflow": null,
            "_model_module_version": "1.2.0",
            "_view_count": null,
            "flex_flow": null,
            "width": null,
            "min_width": null,
            "border": null,
            "align_items": null,
            "bottom": null,
            "_model_module": "@jupyter-widgets/base",
            "top": null,
            "grid_column": null,
            "overflow_y": null,
            "overflow_x": null,
            "grid_auto_flow": null,
            "grid_area": null,
            "grid_template_columns": null,
            "flex": null,
            "_model_name": "LayoutModel",
            "justify_items": null,
            "grid_row": null,
            "max_height": null,
            "align_content": null,
            "visibility": null,
            "align_self": null,
            "height": null,
            "min_height": null,
            "padding": null,
            "grid_auto_rows": null,
            "grid_gap": null,
            "max_width": null,
            "order": null,
            "_view_module_version": "1.2.0",
            "grid_template_areas": null,
            "object_position": null,
            "object_fit": null,
            "grid_auto_columns": null,
            "margin": null,
            "display": null,
            "left": null
          }
        },
        "722639f195bf42ef9b6b8c3126a0d3a4": {
          "model_module": "@jupyter-widgets/output",
          "model_name": "OutputModel",
          "state": {
            "_view_name": "OutputView",
            "msg_id": "",
            "_dom_classes": [],
            "_model_name": "OutputModel",
            "outputs": [
              {
                "output_type": "stream",
                "metadata": {
                  "tags": []
                },
                "text": "Video available at https://youtube.com/watch?v=l-K6495BN-4\n",
                "stream": "stdout"
              },
              {
                "output_type": "display_data",
                "metadata": {
                  "tags": []
                },
                "text/html": "\n        <iframe\n            width=\"854\"\n            height=\"480\"\n            src=\"https://www.youtube.com/embed/l-K6495BN-4?fs=1&rel=0\"\n            frameborder=\"0\"\n            allowfullscreen\n        ></iframe>\n        ",
                "text/plain": "<IPython.lib.display.YouTubeVideo at 0x7f9ec4f84510>",
                "image/jpeg": "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\n"
              }
            ],
            "_view_module": "@jupyter-widgets/output",
            "_model_module_version": "1.0.0",
            "_view_count": null,
            "_view_module_version": "1.0.0",
            "layout": "IPY_MODEL_0f3410bf5e2340408f9d82c45254a151",
            "_model_module": "@jupyter-widgets/output"
          }
        },
        "bd21f63e67d541ba9e4e87c00d13840f": {
          "model_module": "@jupyter-widgets/output",
          "model_name": "OutputModel",
          "state": {
            "_view_name": "OutputView",
            "msg_id": "",
            "_dom_classes": [],
            "_model_name": "OutputModel",
            "outputs": [
              {
                "output_type": "stream",
                "metadata": {
                  "tags": []
                },
                "text": "Video available at https://www.bilibili.com/video/BV1gf4y1j7UZ\n",
                "stream": "stdout"
              },
              {
                "output_type": "display_data",
                "metadata": {
                  "tags": []
                },
                "text/html": "\n        <iframe\n            width=\"854\"\n            height=\"480\"\n            src=\"https://player.bilibili.com/player.html?bvid=BV1gf4y1j7UZ&page=1?fs=1\"\n            frameborder=\"0\"\n            allowfullscreen\n        ></iframe>\n        ",
                "text/plain": "<__main__.BiliVideo at 0x7f9ec4fb2450>"
              }
            ],
            "_view_module": "@jupyter-widgets/output",
            "_model_module_version": "1.0.0",
            "_view_count": null,
            "_view_module_version": "1.0.0",
            "layout": "IPY_MODEL_435fca404a5947189e42d6fa3dafb09b",
            "_model_module": "@jupyter-widgets/output"
          }
        },
        "0f3410bf5e2340408f9d82c45254a151": {
          "model_module": "@jupyter-widgets/base",
          "model_name": "LayoutModel",
          "state": {
            "_view_name": "LayoutView",
            "grid_template_rows": null,
            "right": null,
            "justify_content": null,
            "_view_module": "@jupyter-widgets/base",
            "overflow": null,
            "_model_module_version": "1.2.0",
            "_view_count": null,
            "flex_flow": null,
            "width": null,
            "min_width": null,
            "border": null,
            "align_items": null,
            "bottom": null,
            "_model_module": "@jupyter-widgets/base",
            "top": null,
            "grid_column": null,
            "overflow_y": null,
            "overflow_x": null,
            "grid_auto_flow": null,
            "grid_area": null,
            "grid_template_columns": null,
            "flex": null,
            "_model_name": "LayoutModel",
            "justify_items": null,
            "grid_row": null,
            "max_height": null,
            "align_content": null,
            "visibility": null,
            "align_self": null,
            "height": null,
            "min_height": null,
            "padding": null,
            "grid_auto_rows": null,
            "grid_gap": null,
            "max_width": null,
            "order": null,
            "_view_module_version": "1.2.0",
            "grid_template_areas": null,
            "object_position": null,
            "object_fit": null,
            "grid_auto_columns": null,
            "margin": null,
            "display": null,
            "left": null
          }
        },
        "435fca404a5947189e42d6fa3dafb09b": {
          "model_module": "@jupyter-widgets/base",
          "model_name": "LayoutModel",
          "state": {
            "_view_name": "LayoutView",
            "grid_template_rows": null,
            "right": null,
            "justify_content": null,
            "_view_module": "@jupyter-widgets/base",
            "overflow": null,
            "_model_module_version": "1.2.0",
            "_view_count": null,
            "flex_flow": null,
            "width": null,
            "min_width": null,
            "border": null,
            "align_items": null,
            "bottom": null,
            "_model_module": "@jupyter-widgets/base",
            "top": null,
            "grid_column": null,
            "overflow_y": null,
            "overflow_x": null,
            "grid_auto_flow": null,
            "grid_area": null,
            "grid_template_columns": null,
            "flex": null,
            "_model_name": "LayoutModel",
            "justify_items": null,
            "grid_row": null,
            "max_height": null,
            "align_content": null,
            "visibility": null,
            "align_self": null,
            "height": null,
            "min_height": null,
            "padding": null,
            "grid_auto_rows": null,
            "grid_gap": null,
            "max_width": null,
            "order": null,
            "_view_module_version": "1.2.0",
            "grid_template_areas": null,
            "object_position": null,
            "object_fit": null,
            "grid_auto_columns": null,
            "margin": null,
            "display": null,
            "left": null
          }
        },
        "95d07b52afb64d41b9373540bfffa5cb": {
          "model_module": "@jupyter-widgets/controls",
          "model_name": "TabModel",
          "state": {
            "_view_name": "TabView",
            "_dom_classes": [],
            "_titles": {
              "0": "Youtube",
              "1": "Bilibili"
            },
            "_model_name": "TabModel",
            "_view_module": "@jupyter-widgets/controls",
            "selected_index": 0,
            "_model_module_version": "1.5.0",
            "_view_count": null,
            "_view_module_version": "1.5.0",
            "box_style": "",
            "layout": "IPY_MODEL_7190f712d8124631982af86b7dd5cbba",
            "_model_module": "@jupyter-widgets/controls",
            "children": [
              "IPY_MODEL_624b610aeca4480899fdc08b45321fc5",
              "IPY_MODEL_cefb35705b9846fd91e636a709f4040e"
            ]
          }
        },
        "7190f712d8124631982af86b7dd5cbba": {
          "model_module": "@jupyter-widgets/base",
          "model_name": "LayoutModel",
          "state": {
            "_view_name": "LayoutView",
            "grid_template_rows": null,
            "right": null,
            "justify_content": null,
            "_view_module": "@jupyter-widgets/base",
            "overflow": null,
            "_model_module_version": "1.2.0",
            "_view_count": null,
            "flex_flow": null,
            "width": null,
            "min_width": null,
            "border": null,
            "align_items": null,
            "bottom": null,
            "_model_module": "@jupyter-widgets/base",
            "top": null,
            "grid_column": null,
            "overflow_y": null,
            "overflow_x": null,
            "grid_auto_flow": null,
            "grid_area": null,
            "grid_template_columns": null,
            "flex": null,
            "_model_name": "LayoutModel",
            "justify_items": null,
            "grid_row": null,
            "max_height": null,
            "align_content": null,
            "visibility": null,
            "align_self": null,
            "height": null,
            "min_height": null,
            "padding": null,
            "grid_auto_rows": null,
            "grid_gap": null,
            "max_width": null,
            "order": null,
            "_view_module_version": "1.2.0",
            "grid_template_areas": null,
            "object_position": null,
            "object_fit": null,
            "grid_auto_columns": null,
            "margin": null,
            "display": null,
            "left": null
          }
        },
        "624b610aeca4480899fdc08b45321fc5": {
          "model_module": "@jupyter-widgets/output",
          "model_name": "OutputModel",
          "state": {
            "_view_name": "OutputView",
            "msg_id": "",
            "_dom_classes": [],
            "_model_name": "OutputModel",
            "outputs": [
              {
                "output_type": "stream",
                "metadata": {
                  "tags": []
                },
                "text": "Video available at https://youtube.com/watch?v=jGKd_4tPGrw\n",
                "stream": "stdout"
              },
              {
                "output_type": "display_data",
                "metadata": {
                  "tags": []
                },
                "text/html": "\n        <iframe\n            width=\"854\"\n            height=\"480\"\n            src=\"https://www.youtube.com/embed/jGKd_4tPGrw?fs=1&rel=0\"\n            frameborder=\"0\"\n            allowfullscreen\n        ></iframe>\n        ",
                "text/plain": "<IPython.lib.display.YouTubeVideo at 0x7f9ec50272d0>",
                "image/jpeg": "/9j/4AAQSkZJRgABAQAAAQABAAD/2wCEABALDBoYFhoaGBodHRofISUlIiAiJDElKCAiOic1NS8zLSs1SFBCNThLPSstUGFFUl9WW19bMkFlbXBYbFBZX1cBERISGRYYLhsbL1c9NT9dV1dXV1dXV19XXWNdX1dXV1dXV1dXXVdXV1djV2NXV1deV1dhV1dXV1deV1djV1dXV//AABEIAWgB4AMBIgACEQEDEQH/xAAbAAEAAQUBAAAAAAAAAAAAAAAABAECAwUGB//EAEEQAAIBAgMFBAcHAgYBBQEAAAABAgMRBBIhFDFRU5IFE0FhFyIyUnGR0gYVFoGhsdFCciNigpPB8DNjdKKz4Qf/xAAYAQEBAQEBAAAAAAAAAAAAAAAAAgEDBP/EAB4RAQEBAQEBAQADAQAAAAAAAAABEQIhMRIDIkHw/9oADAMBAAIRAxEAPwDz8AAAAAAAAAAAAAAAAAAAAAAAAAAAAAAAAAAAAAAAAAAAAAAAAAAAAAAAAAAAAAAAAAAAAAAAAAAAAAAAAAAAAAAAAAAAAAAAAAAAAAAAAAAAAAAAAAAAAAAAAAAAAAAAAAAAAAAAAAAAAAAAAAAAAAAAAAAAAAAAAHX+jjG83DdU/pHo4xvNw3VP6QOQB1/o4xvNw3VP6R6OMbzcN1T+kDkAdf6OMbzcN1T+kejjG83DdU/pA5AHX+jjG83DdU/pHo4xvNw3VP6QOQB1/o4xvNw3VP6R6OMbzcN1T+kDkAdf6OMbzcN1T+kejjG83DdU/pA5AHX+jjG83DdU/pHo4xvNw3VP6QOQB1/o4xvNw3VP6R6OMbzcN1T+kDkAdf6OMbzcN1T+kejjG83DdU/pA5AHX+jjG83DdU/pHo4xvNw3VP6QOQB1/o4xvNw3VP6R6OMbzcN1T+kDkAdf6OMbzcN1T+kejjG83DdU/pA5AHX+jjG83DdU/pHo4xvNw3VP6QOQB1/o4xvNw3VP6R6OMbzcN1T+kDkAdf6OMbzcN1T+kejjG83DdU/pA5AHX+jjG83DdU/pHo4xvNw3VP6QOQB1/o4xvNw3VP6R6OMbzcN1T+kDkAdf6OMbzcN1T+kejjG83DdU/pA5AHX+jjG83DdU/pHo4xvNw3VP6QOQB1/o4xvNw3VP6R6OMbzcN1T+kDkAdf6OMbzcN1T+kejjG83DdU/pA5AHXS//AJ1jEm+9w2iv7U/pIv4JxXModUvpBjmwdJ+CcVzKHVL6R+CcVzKHVL6TNbjmwdJ+CcVzKHVL6R+CcVzKHVL6TdMc2DpPwVivfodUvpKfgvE+/R6pfSNZjnAdF+DMT79Hql9JR/Y7E+/R6pfSNHPA37+yGI9+j85fSU/CeI9+l85fwBoQb38KYj36Xzl/Ba/stX9+l85fwBpAbr8MV/fpfN/wUf2ar+9S+b/gDTA27+ztb3qfzf8ABa+wKq/qp/N/wB7UAAABj76GfJmjntfLdZrcbb7AZAWTqRi0pSScnZXdrvguJeABQqABQAVBQAVBbCakk4tST8U7oqBUFABUAAAUKgAUAFQUAFQUAFQULalSMVeUlFXSu3bVuyQF4AAAAAAAAAAAAAAAAAAx1/Yl/a/2NApm/r+xL+1/saKNMmq5Uzlc5cqZcqZjWPOMxl7sd2BizFrkZsha4AYHLyLHLyM7gWOAYjyl5GNyJEoGOUAxgbLGzNKJY4msYGyxszSiY2gMTIld2ZNaIuMh6t+AY9JABTVGzlJJyhLtNL1o1c0f/bL1WvzV5fI3/a9GrUw9SnRspzWW7dssXpJ/K5Fj9m8OoKF62W1rd9O1rcL2JvrrxZJtO1pJ1cA07p17p8V3cjB2XKtHFYyVWdPJGUXO0ZX/APGmst3orbyuG7Mrxp4SE3F7PWbzX30lGSi/jqtCRTwlWOJxF4RlQr2blms42p5Wsttd36huyTP++o8O08ROltEHh1BrNGjK+eUPC872UmvCxlrdq1JVMNHDRhJV6cppzuststnp/du/YjYfsypRpqlsmGq5dI1pNK8fBzjlbvbhvNhPAy2rD1IqKp06dSLS0s3ltZcNGPS/nWKeLxLxDw8O5uqMJym1Kyk5STtG+q9XRXXxLsDjq0o4mFSNN1qEst03GE/VUk9b5d+u8zQwsljZ1tMkqMILXXMpyb0/1Ih4jsmpUjjo3jHv5RcHvWkYq0vJtW+DHqf63xjodr1O8pXq4WvTnNU5dzfNTk07a3d1p5FezFX2/FZ5UnH/AA8yUZbsjy5bvTzL6+FrVpYZuhSp91UjJ+vdpJNNRstxnpUK1PGVZqEZUqyheWazg4xa9m2vgFbMuInZ/aDhSwb7unCjVc4NQTShO7yW13Oz/NomV+0nHEThp3VGk6lWXim/ZS/JSfyMNLsmT7P2ebSqJOzTvlnmcotPydi/A9mS2etHEWdXEOTquO7VWSXwVh6y/n6j/eeJVLaHs+TLndC77xQ3+3e2a3hby8zJi+1ZOtTpUqlGkp01UjUqptTu/ZirrXjr4mDD9nVYQjTlhMJOUbLvnZKS95xy3v5fqT8dTqO0Fh6NajlSyyeVxfwaaatYel/OpeFdRwXeqGfW+Rtxavo1f9jUtV/vPSVLL3N7ZZX7vP8AH2vPcTOxcFKhRyTsrylJQi24003pFN70izEUK0cZCtThGcHT7uV5ZXH1077nfx0CZ5axwxeJxEqksP3MKUJygnUUpOo4uz3NZVe/El9mY3v6WdxyTUpQnG98s4uzVyHRoYnDOpCjTp1aUpynBynkcHJ3aas7q7eqJfZWCdCllnJSqSlKc5LROcnd28v4Eb1mI+IxeIeLnh6KpJKlCeeabytyktyavuXAwT7UxEI4iEoU3XoRjU9VPLVpu97K909Hx1sUrSqx7SqOjGM3s9O8ZSy3Wee6WupK7OwlXvquIxCjGdRRgoReZQgr75eLbbDfJF2N7RtCh3GWUq8oqF9VlazSlpwin+hB7KnWjicbKrOnkjNOdlK//ii1lu9Fbf5lnYGEff1W5KVLDudGh5JyzS+WkfyZMpYOqsRiVKEZUMQ03PNZx/w1FrLbXd+o++t8mxihjcZOjtMIUe7cc8aLzZ5Q3r172UmvCxfW7VqSnhVh4wksRTnNOd1lsotPT+56fsY6dHG06GzRjSlaOSNdzatC1k3C3tJedjPT7LdOrg8lu7oUqkG3vd1G2n+lj1n9SrjK8qqw9Huu9jTjOrUkm4Rb0SjBO7vZ+OiRG7YdfZY99Gm6ixFHLkbUZrvI20fs/qSsThq1PEPEUIxnnhGFSnKWW9m8soys9dXoW4vD4ivQipxpwmq1OaipN2hGabvK2r0YJZso8XiaWIowrdzKnWcorIpJwkouWrb9ZaeRtSDj8JKpWws42tSqSlK78HCS0/Nk42I6zxUFCpqQAAAAAAAAAAAABZV9mXwf7GpjE21T2ZfB/sa1E9K5UUSqiXIuJUx5SuUvBoxuJCxuOpUfblrwW8n1HaLfBXOJeCq42tOS0V974Fcyfb8R1b85+tt+IKV9Yytx3/oTMLjaVa+SWq8HozQy+zsqau6iflYhQlUoVoST0T1tpobv8fXxNn8nPvTsZRMUomWrUstPEizbZCiSMbiUaEUGLJRMcokiSMckBHkjFVhdNcUSZIxtGsd2ACmqAqAKFQAKAqAKAqAKAqAKAqAKAqAKAqAKAqAMaoxzueVZ2lFy8XFO6X6sVqMakJQmlKMlZp+KMgAxYfDwpQUKcYwgt0YqyRkKgChUAAUKgChUAAAAAAAAAAAABQqAAAAsqezL4M1qNlV9mXwf7GrTJ6VyyXKllyqJUuK3LblLmizFxcqU1HRuLS+RzeF7YjSptKLlJWvfRX82zpm9Gc1TwyTk4xV3fNGSdr38L/Fonq+ZVcc39bEWt9oZzhP/AA/zjrG1/FmrqYqck20pNK9rNG1xEZxhUTpRfeK2miUVeyS43bd/gQoReRXldcLL9SZkV3LfK6pesk/JfsWuBXBwao0778i/YytHR50VxLbWJEomNxAsLJRM6gWyiBHaMUkSGjHJBjtAAW0AAAAAAAAAAAAAAAAAAAAAAAAAAAAAAAAAAAAAAAAAAAAAAAAAAAAAWVfZl8H+xp4s3Fb2JfB/saSLJ6Vyy3LsxiuVzEqZcxRsx3GY0ZGzW9oPK1PjoydmIWPjmhZ+LJ6+K4uVoMXOT1dWpbwjBafmzBhKTlUjC7vKSWvC5Wvi6lO8LbvEpgKtqsKk9EpL5eJEV307CsyO6gniYyXqyUvg7mByOrzVnzlEYVIywaDGSxZKJdmLWzRikjFJGaRjkB14AKUAAAAAAAAAAAAAAAAAAAAAAAAAAAAAAAAAAAAAAAAAAAAAAAAAAAAAMdf2Jf2v9jQqR0Eo3TT3PQjfd1L3X82ZY2XGqTK3Nr930vdfzY+76XB/NmYrY1eYw4jF06SvUnGC83Y3X3fT4P5s1lf7IYKpJznCpKT8XVn/ACMP05rtD7WQjeNCDm/elpH8lvf6GLsbtvvr0680qrbcZPRSXDyOm/BPZ/Kn/uz/AJH4J7P5Uv8Acn/IvMswneXWmxnZ0pNNLea/FZKH/kaVvDxf5HXQ+ymEirRVZLgq1RL9zFL7FYBu7pTb4urP+SJw2968zr4pyqupG8XuVnZpfFEyh27iIaZ8y/zK/wCu87/8Edn8qX+5P+Sv4J7P5U/9yf8AJ1xzcz2X27Gs1CayTe7hL4eZuEycvsV2endUp3X/AKs/5NmuyKHuvqZmJxoLlykb37po+6+pj7po+6+pmYY0TMcjovuqj7r6mU+6aPuvqZuGJwANUsqVIxV5SUVxbsilOvCd8k4ytvs07F7Se9XNJQquNLDxi8sZKd5JqN2nortebf5Abwoa2lOpUlTi6rSdOcrwcXmtNKLva25+BghjZ5aNSdTR06TcYyipZnveVrVPy/IDclJzUU5SaSW9t2S/M1bxUrt95/id9k7nT2c9t2/2fWv/AMFtSMqkISlVnriLJLLZJVJJeHkgNtGSeqaa8i409KrZxg6ndwc67clZXkqmiu92jb/LyYWLquMFn1rKUISsvaU9JJecLy4eqBuAQuz8RKq5ye6NoW/zpev+rt+RJpTk75o5eGt7gXlTQ1qzlQrRlVcpd05ZoSjKDS8d14/D+CXUrTXfyhNz7uEcq0abcd7stQNmUNQ8RUUJuNVNWhZ5ozkm5JX0W5q5fXrTpupDvZZc1K83a8IybT8LeC37rgbQKSe538PzNLWqZr/48nCFamlK8dLpb3a28y0s0fXU5WeJlHLplac2n4XA2uZXtfXgVNf2lWlBtxdmqFaSdlo1lt+5fh3KNZwc5TTpqXrW0d7aWQE0GvhWvWmp1sjjNRjT9VZo2VtHq73ev8GHDYqTdF97mqTk1Olp6is76b1laWv8oDbFDUYadSaoXrT/AMShKbtl3rJa2n+ZlrxNWVOU+8cXGhSqWSVnJpt303aAbooarEV6lN1IqbaUqfrSsnBSvfW1luW/dcrGrUajFVNHVy5lKMpJZG2m7W3oDaCLTV07p+KIFGtepLPWcZKbiqd4q68NGru61uQp4yaoRcZ5XGhGe+MU3Z2sra7t2gG8Uk767t/kVIeCd6mIf+eP/wBUCHTxk3OLU3aaqeq5RbVk7eqksrVvPzA3BSUklduyXizTQxcskXGs6kpUZSkvVeVqN09FprpYpia96c0q3eqVCcpLR5XZWem693p5eTA3SknezTtv8gauddqc4ueSDrKLmrKy7mLSv5vxfw4FMViWlaFZu0JSz5orNq1weZq3l+oG1lJJXbSXmVNLOo89aWf1pUqLyu1tZPcv+7zJUxUryfeWqKrkVHTWOay036x1v/AG1Kmsp1J+rPvJO9epDLplyqckluv4Ir2fiG55ZTzycW7xlGUHrv0Scd+79wNkAAAAAAAAAAAAAAAAAAAAAAAAAAAAAAAAWuKas0rcC41c8VLJKOfLOdaUIy09WKd29eCT/OwGzsUyrTRabvI1+1SeHVVSSnTbzr+mbWkl+fh+Rn7PqyqRdRvST0h7iWln/m4+engBKsr3trxFiynWhO+WSlbR2d7M19TtKbo1pQjBShByScvWj/dG2n7AbJxTVmlYqQ545xdTPC0acFKbUr703aOmu7yMf3nZSvGLajmShPMmrpWbsrPVAbAqQZY2UXKMqazpwUUpXUszaV3ZW3O//Jjr42qtFCKmqlOL9a6ak/B2A2CitdFrv8yqSW419PGTTlmipQ75wvm1V2krK27XiZsXiO7knq0qdSVrqzy23/MCSopbkilWnmTV2r+K3mChiZSnknBRvFTjaWbS9tdFZ/MiVa9Xvamtoxq0YJJ+Dcb3VvFMCfRw0YKW+Tk7yctb6W+HgZbECn2mpSSSjllJxj63rX1s3G2i0KPtDPCTjGUcrjGTurxnmScfG9vF+enkGwsLGupYycVKUo5qarShmvqlnsrRtuV14mOpjJJSeaVlDEvwveE7Kzt8bf8AIG1sr3trxFle9teJAjjJxnUzxWSNSEU09UnFatW4tfPyJVCtnz2WkZOKfvW3/rdfkBlsLLgVAFLBRS0SVioAplV7214lHFaaLTd5FwApYtlTTTVt+8vAGHZ4926f9LjlfFq1t5kjBJWS/wD34lwAo0uG8plWmi03eRcAKZVwQsr3trxKgClgopXslrv8yoAAAAAAAAAAAAAAAAAAAAAAAAAAAAAAAAAx1qeeNs0o+cXZowQ7PpJpuOa2b2vW1bu3r4uxfjcR3VKU1FzataKdrttL/kxV+0YxVFxWbvZRS1taLaV31L5gXrAU1K6VlmU8q0jmSsnb/u65lp0IxlKUdM1m14X424lu108zjnV1fT4b/kYqHaMJ5GtIypynmbtlScbp9X6ASyLLAQlmzynK8JQ9Z7ovek/yWruxV7QpqDmpJpShGWtsuaSV3f43M1GvCom4STs7PyfmBYsJG01K8s8VGWb+pJW8PiU2ROLjKc5J2XrPck/+67ySAIuKwqkpNK8nk/qcfZd1Zrc9WYaOAbU+8bUpSjJNSu4uNrO7Vr3XCxsABg2SFra+2qm/+q9/+CtfDRqe1f2ZR3+ErX/YzADEqMVJS8VHL+V7lssJBuTd7ynGb1/qja37IzgCPDCKLeWU1HV5U9E3va+e7cWrAU0rJNK0U9d9ndN8Xfx8yUAImwQve87Oedxv6rle97fHw3FXgKbTTTs1UT18JyvL9SUAIeJwl41cmrqKzjJ2je1r7r3tb5EjD0VThGC3RVr+L82ZAAAAAAAAAAAAAAAAAAAAAAAAAAAAAAAAAAAAAAAAAAAAAAAAAAAAAAAYMZRdSGVWvmg9fKab/Yh/dkk5NSTXeU3Be7TU1Nr43v8AJGzAGuhhKneQlJ3y1JScs7eZNSStG1l7SLYYKqoQScYyhSnTTTbu242e7T2X8PM2YA1csDUeZrKm3RaTnKXsVMzvJq5Kw1KeepUqKMXJRWWLzJJX1bstdX8kSgAAAAAAAAAAAAAAAAAAAAAAAAAAAAAAAAAAAAAAAAAAAAAAAAAAAAAAAAAAAAAAAAAAAAAAAAAAAAAAAAAAAAAAAAAAAAAAAAAAAAAAAAAAAAAAAAAAAAAAAAAAAAAAAAAAAAAAAAAAAAAAAAAAAAAAAAAAAAAAAAAAAAAAAAAAAAAAAAAAAAAAAAAAAAAAAAAAAAAAAAAAAAAAAAAAAAAAAAAAAAAAAAAAAAAAAAAAAAAAAAAAAAAAAAAAKAVAAAAAAAAAAAAAAAAAAAAAAAAAAAAAAAAAAAAAAAAAAFAVKAVAAFCoAAAAAAAAAAAAAAAAAAAAAAAAAAAAChUAAAAAAAAAAAAAAAAAAAAAAAAAAAAAAAAAAAAAAAAAAAAKFQAAAAAAAAAAAAAAYtohxG0Q4kE1z7XpqtUotNOlrNvdGGVPN/8AJK28Df7RDiNohxNH970LxWaScmlZ05qzzKKzaerq1vtvRRdsYd5XnaU03FyhKKaSbvdr/KwN7tEOI2iHE0D7YpqlVq2koU5xi3JOL1y62aTSWb9C6n2tSahmvBzWZKzdou+VyaVo3S0TA3u0Q4jaIcTna3btGKTjnldN6wnFJZJT1bWl1Hdvs07GZ9r0FdOUrp2sqc3d5sto6es7u2lwN5tEOI2iHE033hTtRcVOUaztFqD0/uv7K+JFxPbtOnOUJQlmj3israuMU4r/AFJ6fBgdHtEOI2iHE0L7bwyTvU1i7NZZN313K2q9WWq4My4btCnVlOMHdx3219XwenHwW8Dc7RDiNohxNJR7QUsPOvklFR7y8XbN6raf7GL74hFS76MqTioytbPeMk2mnG/uy38AOg2iHEbRDiamnjac21BuTSk2lF30lZ/ru4+AwOKValGoouOa/qverSa1t8ANttEOI2iHEggCdtEOI2iHEggCdtEOI2iHEggCdtEOI2iHEggCdtEOI2iHEggCdtEOI2iHEggCdtEOJq8Z9psNRqTpyVVuFszjTlJK6utUZjie1O0KkO062GUrUcR3cJ7tJOKUZXfB2+IbM/11L+2OESTar2e591Kz42ZN7P7doYiUow7yMopNqcHDR7mr/A4OlTxNStLBVakFDCqVSaTVlHTNlfi9fHdc2P2R7Uq4vE4qrVd3kgor3YZpWXna+8ZY2/n/AB3O0Q4jaIcSAVCU7aIcRtEOJBAE7aIcRtEOJBAE7aIcRtEOJBAE7aIcRtEOJBAE7aIcRtEOJBAE7aIcRtEOJBAE7aIcRtEOJBAE7aIcRtEOJBAE7aIcRtEOJBAE7aIcRtEOJBAE7aIcRtEOJBAE7aIcRtEOJBIuOxXdRVldtrem0ldX3eOugG42iHEbRDiamjWk6k4PK0kmmvFNtcXfd5EgC7u3wItXsqlOUpSp3cm23d6twyu/lZLTdovE2YA1UeyKSVu7b3O7lKTbU1JXbd3ql8ij7GotxbpezFRWrtlSaSavrpKW/ibYAayn2VTjBwUHlcoyeaUpNyVrO7d/6V8iz7lo3T7t6X0zStvb3Xs7OTtwvpY2wA1NTsajJ3lTb9XLbNK1sjhuva+VtX32FfsiE42UXF3upK908yk7a8UbYAQMJg+5pQpxu1FWu97+Jjq9lUpzlOVJOUnBt66uDvH5XNmANS+xqLTXduzlm0lJWlr7Ovq73utvM1Ls+EJucIWlLe03r8eO42AA1sezYLOlF5ZpqUbvLq5Nu3g25P8AQwvsOhlyum2r73OTk9GtZN3tZtWv4m4AGtwvZypTqzV3KpJN6bklZJfkv1MtHCqnFRhG0Vey+Lu/1bJoAjd2+A7t8CSAI3dvgO7fAkgCN3b4Du3wJIAjd2+A7t8CSAI3dvgO7fAkgCN3b4Du3wJIAjd2+Bw/2l+zOMxGMqVaVJShJRs3KK3RS3NnoIA8/wAV9ncXPBU6aoS2htKtLPDLOnG/dq99bJrpXBE77Hdh4nCzruvTyqcYqNpKV7N33fE7IARu7fAd2+BJAEbu3wHdvgSQBG7t8B3b4EkARu7fAd2+BJAEbu3wHdvgSQBG7t8B3b4EkARu7fAd2+BJAEbu3wHdvgSQBG7t8B3b4EkARu7fAd2+BJAEbu3wHdvgSQBG7t8B3b4EkARu7fAo6b4EoARI0LXailffZWv8S7u3wJIAAAAAAAAAAAAAAAAAAAAAAAAAAAAAAAAAAAAAAAAAAAAAAAAAAAAAAAAAAAAAAAAAAAAAAAAAAAAAAAAAw7VS5tPrQ2qlzafWjw4Ae47VS5tPrQ2qlzafWjw4Ae47VS5tPrQ2qlzafWjw4Ae47VS5tPrQ2qlzafWjw4Ae47VS5tPrQ2qlzafWjw4Ae47VS5tPrQ2qlzafWjw4Ae47VS5tPrQ2qlzafWjw4Ae47VS5tPrQ2qlzafWjw4Ae47VS5tPrQ2qlzafWjw4Ae47VS5tPrQ2qlzafWjw4Ae47VS5tPrQ2qlzafWjw4Ae47VS5tPrQ2qlzafWjw4Ae47VS5tPrQ2qlzafWjw4Ae47VS5tPrQ2qlzafWjw4Ae47VS5tPrQ2qlzafWjw4Ae47VS5tPrQ2qlzafWjw4Ae47VS5tPrQ2qlzafWjw4Ae47VS5tPrQ2qlzafWjw4Ae47VS5tPrQ2qlzafWjw4Ae47VS5tPrQ2qlzafWjw4Ae47VS5tPrQ2qlzafWjw4Ae47VS5tPrQ2qlzafWjw4Ae47VS5tPrQ2qlzafWjw4Ae47VS5tPrQ2qlzafWjw4Ae47VS5tPrQ2qlzafWjw4Ae47VS5tPrQ2qlzafWjw4Ae47VS5tPrQ2qlzafWjw4Ae47VS5tPrQ2qlzafWjw4Ae47VS5tPrQ2qlzafWjw4Ae47VS5tPrQ2qlzafWjw4AAAAAAAAAAAAAAAAAAAAAAAAAAAAAAAAAAAAAAAAAAAAAAAAAAAAAAAAAAAAAAAAAAAAAAAAAAAAAAAAAAAAAAAAAAAAAAAAAAAAAAAAAAAAAAAAAAAAAAAAAAAAAAAAAAAAAAAAAAAAAAAAAAAAAAAAAAAAAAAAAAAAAAAAAAAAAAAAAAAAAAAAAAAAAAAAAAAAAAAAAAAAAAAAAAAAAAAAAAAAAAAAAAAAAAAAAAAAAAAAAf/Z\n"
              }
            ],
            "_view_module": "@jupyter-widgets/output",
            "_model_module_version": "1.0.0",
            "_view_count": null,
            "_view_module_version": "1.0.0",
            "layout": "IPY_MODEL_2e033a89d678414da4119106f6cd260e",
            "_model_module": "@jupyter-widgets/output"
          }
        },
        "cefb35705b9846fd91e636a709f4040e": {
          "model_module": "@jupyter-widgets/output",
          "model_name": "OutputModel",
          "state": {
            "_view_name": "OutputView",
            "msg_id": "",
            "_dom_classes": [],
            "_model_name": "OutputModel",
            "outputs": [
              {
                "output_type": "stream",
                "metadata": {
                  "tags": []
                },
                "text": "Video available at https://www.bilibili.com/video/BV1Rw411d7Uy\n",
                "stream": "stdout"
              },
              {
                "output_type": "display_data",
                "metadata": {
                  "tags": []
                },
                "text/html": "\n        <iframe\n            width=\"854\"\n            height=\"480\"\n            src=\"https://player.bilibili.com/player.html?bvid=BV1Rw411d7Uy&page=1?fs=1\"\n            frameborder=\"0\"\n            allowfullscreen\n        ></iframe>\n        ",
                "text/plain": "<__main__.BiliVideo at 0x7f9ec9807fd0>"
              }
            ],
            "_view_module": "@jupyter-widgets/output",
            "_model_module_version": "1.0.0",
            "_view_count": null,
            "_view_module_version": "1.0.0",
            "layout": "IPY_MODEL_622091a5e2f14ad5874d57b4dfeae8a2",
            "_model_module": "@jupyter-widgets/output"
          }
        },
        "2e033a89d678414da4119106f6cd260e": {
          "model_module": "@jupyter-widgets/base",
          "model_name": "LayoutModel",
          "state": {
            "_view_name": "LayoutView",
            "grid_template_rows": null,
            "right": null,
            "justify_content": null,
            "_view_module": "@jupyter-widgets/base",
            "overflow": null,
            "_model_module_version": "1.2.0",
            "_view_count": null,
            "flex_flow": null,
            "width": null,
            "min_width": null,
            "border": null,
            "align_items": null,
            "bottom": null,
            "_model_module": "@jupyter-widgets/base",
            "top": null,
            "grid_column": null,
            "overflow_y": null,
            "overflow_x": null,
            "grid_auto_flow": null,
            "grid_area": null,
            "grid_template_columns": null,
            "flex": null,
            "_model_name": "LayoutModel",
            "justify_items": null,
            "grid_row": null,
            "max_height": null,
            "align_content": null,
            "visibility": null,
            "align_self": null,
            "height": null,
            "min_height": null,
            "padding": null,
            "grid_auto_rows": null,
            "grid_gap": null,
            "max_width": null,
            "order": null,
            "_view_module_version": "1.2.0",
            "grid_template_areas": null,
            "object_position": null,
            "object_fit": null,
            "grid_auto_columns": null,
            "margin": null,
            "display": null,
            "left": null
          }
        },
        "622091a5e2f14ad5874d57b4dfeae8a2": {
          "model_module": "@jupyter-widgets/base",
          "model_name": "LayoutModel",
          "state": {
            "_view_name": "LayoutView",
            "grid_template_rows": null,
            "right": null,
            "justify_content": null,
            "_view_module": "@jupyter-widgets/base",
            "overflow": null,
            "_model_module_version": "1.2.0",
            "_view_count": null,
            "flex_flow": null,
            "width": null,
            "min_width": null,
            "border": null,
            "align_items": null,
            "bottom": null,
            "_model_module": "@jupyter-widgets/base",
            "top": null,
            "grid_column": null,
            "overflow_y": null,
            "overflow_x": null,
            "grid_auto_flow": null,
            "grid_area": null,
            "grid_template_columns": null,
            "flex": null,
            "_model_name": "LayoutModel",
            "justify_items": null,
            "grid_row": null,
            "max_height": null,
            "align_content": null,
            "visibility": null,
            "align_self": null,
            "height": null,
            "min_height": null,
            "padding": null,
            "grid_auto_rows": null,
            "grid_gap": null,
            "max_width": null,
            "order": null,
            "_view_module_version": "1.2.0",
            "grid_template_areas": null,
            "object_position": null,
            "object_fit": null,
            "grid_auto_columns": null,
            "margin": null,
            "display": null,
            "left": null
          }
        },
        "7177fffaef5540f0ac9d3656969eb982": {
          "model_module": "@jupyter-widgets/controls",
          "model_name": "TabModel",
          "state": {
            "_view_name": "TabView",
            "_dom_classes": [],
            "_titles": {
              "0": "Youtube",
              "1": "Bilibili"
            },
            "_model_name": "TabModel",
            "_view_module": "@jupyter-widgets/controls",
            "selected_index": 0,
            "_model_module_version": "1.5.0",
            "_view_count": null,
            "_view_module_version": "1.5.0",
            "box_style": "",
            "layout": "IPY_MODEL_556c8fa0db7546f1876dd5277b1c234e",
            "_model_module": "@jupyter-widgets/controls",
            "children": [
              "IPY_MODEL_15d080083d1040a4aed29aa61a79f23d",
              "IPY_MODEL_39b9d1bb7a8540499b1e7f7bc07b17d1"
            ]
          }
        },
        "556c8fa0db7546f1876dd5277b1c234e": {
          "model_module": "@jupyter-widgets/base",
          "model_name": "LayoutModel",
          "state": {
            "_view_name": "LayoutView",
            "grid_template_rows": null,
            "right": null,
            "justify_content": null,
            "_view_module": "@jupyter-widgets/base",
            "overflow": null,
            "_model_module_version": "1.2.0",
            "_view_count": null,
            "flex_flow": null,
            "width": null,
            "min_width": null,
            "border": null,
            "align_items": null,
            "bottom": null,
            "_model_module": "@jupyter-widgets/base",
            "top": null,
            "grid_column": null,
            "overflow_y": null,
            "overflow_x": null,
            "grid_auto_flow": null,
            "grid_area": null,
            "grid_template_columns": null,
            "flex": null,
            "_model_name": "LayoutModel",
            "justify_items": null,
            "grid_row": null,
            "max_height": null,
            "align_content": null,
            "visibility": null,
            "align_self": null,
            "height": null,
            "min_height": null,
            "padding": null,
            "grid_auto_rows": null,
            "grid_gap": null,
            "max_width": null,
            "order": null,
            "_view_module_version": "1.2.0",
            "grid_template_areas": null,
            "object_position": null,
            "object_fit": null,
            "grid_auto_columns": null,
            "margin": null,
            "display": null,
            "left": null
          }
        },
        "15d080083d1040a4aed29aa61a79f23d": {
          "model_module": "@jupyter-widgets/output",
          "model_name": "OutputModel",
          "state": {
            "_view_name": "OutputView",
            "msg_id": "",
            "_dom_classes": [],
            "_model_name": "OutputModel",
            "outputs": [
              {
                "output_type": "stream",
                "metadata": {
                  "tags": []
                },
                "text": "Video available at https://youtube.com/watch?v=R1R8VoYXBVA\n",
                "stream": "stdout"
              },
              {
                "output_type": "display_data",
                "metadata": {
                  "tags": []
                },
                "text/html": "\n        <iframe\n            width=\"854\"\n            height=\"480\"\n            src=\"https://www.youtube.com/embed/R1R8VoYXBVA?fs=1&rel=0\"\n            frameborder=\"0\"\n            allowfullscreen\n        ></iframe>\n        ",
                "text/plain": "<IPython.lib.display.YouTubeVideo at 0x7f9ec4f2cf90>",
                "image/jpeg": "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\n"
              }
            ],
            "_view_module": "@jupyter-widgets/output",
            "_model_module_version": "1.0.0",
            "_view_count": null,
            "_view_module_version": "1.0.0",
            "layout": "IPY_MODEL_a63db387db914fbfb220acf2430373db",
            "_model_module": "@jupyter-widgets/output"
          }
        },
        "39b9d1bb7a8540499b1e7f7bc07b17d1": {
          "model_module": "@jupyter-widgets/output",
          "model_name": "OutputModel",
          "state": {
            "_view_name": "OutputView",
            "msg_id": "",
            "_dom_classes": [],
            "_model_name": "OutputModel",
            "outputs": [
              {
                "output_type": "stream",
                "metadata": {
                  "tags": []
                },
                "text": "Video available at https://www.bilibili.com/video/BV1G44y127As\n",
                "stream": "stdout"
              },
              {
                "output_type": "display_data",
                "metadata": {
                  "tags": []
                },
                "text/html": "\n        <iframe\n            width=\"854\"\n            height=\"480\"\n            src=\"https://player.bilibili.com/player.html?bvid=BV1G44y127As&page=1?fs=1\"\n            frameborder=\"0\"\n            allowfullscreen\n        ></iframe>\n        ",
                "text/plain": "<__main__.BiliVideo at 0x7f9ec4ff41d0>"
              }
            ],
            "_view_module": "@jupyter-widgets/output",
            "_model_module_version": "1.0.0",
            "_view_count": null,
            "_view_module_version": "1.0.0",
            "layout": "IPY_MODEL_a266c53b25e742f59a8247c0712e51cc",
            "_model_module": "@jupyter-widgets/output"
          }
        },
        "a63db387db914fbfb220acf2430373db": {
          "model_module": "@jupyter-widgets/base",
          "model_name": "LayoutModel",
          "state": {
            "_view_name": "LayoutView",
            "grid_template_rows": null,
            "right": null,
            "justify_content": null,
            "_view_module": "@jupyter-widgets/base",
            "overflow": null,
            "_model_module_version": "1.2.0",
            "_view_count": null,
            "flex_flow": null,
            "width": null,
            "min_width": null,
            "border": null,
            "align_items": null,
            "bottom": null,
            "_model_module": "@jupyter-widgets/base",
            "top": null,
            "grid_column": null,
            "overflow_y": null,
            "overflow_x": null,
            "grid_auto_flow": null,
            "grid_area": null,
            "grid_template_columns": null,
            "flex": null,
            "_model_name": "LayoutModel",
            "justify_items": null,
            "grid_row": null,
            "max_height": null,
            "align_content": null,
            "visibility": null,
            "align_self": null,
            "height": null,
            "min_height": null,
            "padding": null,
            "grid_auto_rows": null,
            "grid_gap": null,
            "max_width": null,
            "order": null,
            "_view_module_version": "1.2.0",
            "grid_template_areas": null,
            "object_position": null,
            "object_fit": null,
            "grid_auto_columns": null,
            "margin": null,
            "display": null,
            "left": null
          }
        },
        "a266c53b25e742f59a8247c0712e51cc": {
          "model_module": "@jupyter-widgets/base",
          "model_name": "LayoutModel",
          "state": {
            "_view_name": "LayoutView",
            "grid_template_rows": null,
            "right": null,
            "justify_content": null,
            "_view_module": "@jupyter-widgets/base",
            "overflow": null,
            "_model_module_version": "1.2.0",
            "_view_count": null,
            "flex_flow": null,
            "width": null,
            "min_width": null,
            "border": null,
            "align_items": null,
            "bottom": null,
            "_model_module": "@jupyter-widgets/base",
            "top": null,
            "grid_column": null,
            "overflow_y": null,
            "overflow_x": null,
            "grid_auto_flow": null,
            "grid_area": null,
            "grid_template_columns": null,
            "flex": null,
            "_model_name": "LayoutModel",
            "justify_items": null,
            "grid_row": null,
            "max_height": null,
            "align_content": null,
            "visibility": null,
            "align_self": null,
            "height": null,
            "min_height": null,
            "padding": null,
            "grid_auto_rows": null,
            "grid_gap": null,
            "max_width": null,
            "order": null,
            "_view_module_version": "1.2.0",
            "grid_template_areas": null,
            "object_position": null,
            "object_fit": null,
            "grid_auto_columns": null,
            "margin": null,
            "display": null,
            "left": null
          }
        },
        "276e9d4a5fda40b4aadeb8c60ffef9a7": {
          "model_module": "@jupyter-widgets/controls",
          "model_name": "TabModel",
          "state": {
            "_view_name": "TabView",
            "_dom_classes": [],
            "_titles": {
              "0": "Youtube",
              "1": "Bilibili"
            },
            "_model_name": "TabModel",
            "_view_module": "@jupyter-widgets/controls",
            "selected_index": 0,
            "_model_module_version": "1.5.0",
            "_view_count": null,
            "_view_module_version": "1.5.0",
            "box_style": "",
            "layout": "IPY_MODEL_2809f35a302a451a907f2c13eee3c18f",
            "_model_module": "@jupyter-widgets/controls",
            "children": [
              "IPY_MODEL_b94bfbd080cb48e9be0d1e2b6b265985",
              "IPY_MODEL_847800d1db7a4622aa2c114ea5b18863"
            ]
          }
        },
        "2809f35a302a451a907f2c13eee3c18f": {
          "model_module": "@jupyter-widgets/base",
          "model_name": "LayoutModel",
          "state": {
            "_view_name": "LayoutView",
            "grid_template_rows": null,
            "right": null,
            "justify_content": null,
            "_view_module": "@jupyter-widgets/base",
            "overflow": null,
            "_model_module_version": "1.2.0",
            "_view_count": null,
            "flex_flow": null,
            "width": null,
            "min_width": null,
            "border": null,
            "align_items": null,
            "bottom": null,
            "_model_module": "@jupyter-widgets/base",
            "top": null,
            "grid_column": null,
            "overflow_y": null,
            "overflow_x": null,
            "grid_auto_flow": null,
            "grid_area": null,
            "grid_template_columns": null,
            "flex": null,
            "_model_name": "LayoutModel",
            "justify_items": null,
            "grid_row": null,
            "max_height": null,
            "align_content": null,
            "visibility": null,
            "align_self": null,
            "height": null,
            "min_height": null,
            "padding": null,
            "grid_auto_rows": null,
            "grid_gap": null,
            "max_width": null,
            "order": null,
            "_view_module_version": "1.2.0",
            "grid_template_areas": null,
            "object_position": null,
            "object_fit": null,
            "grid_auto_columns": null,
            "margin": null,
            "display": null,
            "left": null
          }
        },
        "b94bfbd080cb48e9be0d1e2b6b265985": {
          "model_module": "@jupyter-widgets/output",
          "model_name": "OutputModel",
          "state": {
            "_view_name": "OutputView",
            "msg_id": "",
            "_dom_classes": [],
            "_model_name": "OutputModel",
            "outputs": [
              {
                "output_type": "stream",
                "metadata": {
                  "tags": []
                },
                "text": "Video available at https://youtube.com/watch?v=0d0KSJ3lJbg\n",
                "stream": "stdout"
              },
              {
                "output_type": "display_data",
                "metadata": {
                  "tags": []
                },
                "text/html": "\n        <iframe\n            width=\"854\"\n            height=\"480\"\n            src=\"https://www.youtube.com/embed/0d0KSJ3lJbg?fs=1&rel=0\"\n            frameborder=\"0\"\n            allowfullscreen\n        ></iframe>\n        ",
                "text/plain": "<IPython.lib.display.YouTubeVideo at 0x7f9ec5185e90>",
                "image/jpeg": "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\n"
              }
            ],
            "_view_module": "@jupyter-widgets/output",
            "_model_module_version": "1.0.0",
            "_view_count": null,
            "_view_module_version": "1.0.0",
            "layout": "IPY_MODEL_baebeab7fda84c1e9c7e4b42264c1f32",
            "_model_module": "@jupyter-widgets/output"
          }
        },
        "847800d1db7a4622aa2c114ea5b18863": {
          "model_module": "@jupyter-widgets/output",
          "model_name": "OutputModel",
          "state": {
            "_view_name": "OutputView",
            "msg_id": "",
            "_dom_classes": [],
            "_model_name": "OutputModel",
            "outputs": [
              {
                "output_type": "stream",
                "metadata": {
                  "tags": []
                },
                "text": "Video available at https://www.bilibili.com/video/BV1BM4y1K7pD\n",
                "stream": "stdout"
              },
              {
                "output_type": "display_data",
                "metadata": {
                  "tags": []
                },
                "text/html": "\n        <iframe\n            width=\"854\"\n            height=\"480\"\n            src=\"https://player.bilibili.com/player.html?bvid=BV1BM4y1K7pD&page=1?fs=1\"\n            frameborder=\"0\"\n            allowfullscreen\n        ></iframe>\n        ",
                "text/plain": "<__main__.BiliVideo at 0x7f9ec51078d0>"
              }
            ],
            "_view_module": "@jupyter-widgets/output",
            "_model_module_version": "1.0.0",
            "_view_count": null,
            "_view_module_version": "1.0.0",
            "layout": "IPY_MODEL_63ebc9e480034f7eb0a23426f3e90e55",
            "_model_module": "@jupyter-widgets/output"
          }
        },
        "baebeab7fda84c1e9c7e4b42264c1f32": {
          "model_module": "@jupyter-widgets/base",
          "model_name": "LayoutModel",
          "state": {
            "_view_name": "LayoutView",
            "grid_template_rows": null,
            "right": null,
            "justify_content": null,
            "_view_module": "@jupyter-widgets/base",
            "overflow": null,
            "_model_module_version": "1.2.0",
            "_view_count": null,
            "flex_flow": null,
            "width": null,
            "min_width": null,
            "border": null,
            "align_items": null,
            "bottom": null,
            "_model_module": "@jupyter-widgets/base",
            "top": null,
            "grid_column": null,
            "overflow_y": null,
            "overflow_x": null,
            "grid_auto_flow": null,
            "grid_area": null,
            "grid_template_columns": null,
            "flex": null,
            "_model_name": "LayoutModel",
            "justify_items": null,
            "grid_row": null,
            "max_height": null,
            "align_content": null,
            "visibility": null,
            "align_self": null,
            "height": null,
            "min_height": null,
            "padding": null,
            "grid_auto_rows": null,
            "grid_gap": null,
            "max_width": null,
            "order": null,
            "_view_module_version": "1.2.0",
            "grid_template_areas": null,
            "object_position": null,
            "object_fit": null,
            "grid_auto_columns": null,
            "margin": null,
            "display": null,
            "left": null
          }
        },
        "63ebc9e480034f7eb0a23426f3e90e55": {
          "model_module": "@jupyter-widgets/base",
          "model_name": "LayoutModel",
          "state": {
            "_view_name": "LayoutView",
            "grid_template_rows": null,
            "right": null,
            "justify_content": null,
            "_view_module": "@jupyter-widgets/base",
            "overflow": null,
            "_model_module_version": "1.2.0",
            "_view_count": null,
            "flex_flow": null,
            "width": null,
            "min_width": null,
            "border": null,
            "align_items": null,
            "bottom": null,
            "_model_module": "@jupyter-widgets/base",
            "top": null,
            "grid_column": null,
            "overflow_y": null,
            "overflow_x": null,
            "grid_auto_flow": null,
            "grid_area": null,
            "grid_template_columns": null,
            "flex": null,
            "_model_name": "LayoutModel",
            "justify_items": null,
            "grid_row": null,
            "max_height": null,
            "align_content": null,
            "visibility": null,
            "align_self": null,
            "height": null,
            "min_height": null,
            "padding": null,
            "grid_auto_rows": null,
            "grid_gap": null,
            "max_width": null,
            "order": null,
            "_view_module_version": "1.2.0",
            "grid_template_areas": null,
            "object_position": null,
            "object_fit": null,
            "grid_auto_columns": null,
            "margin": null,
            "display": null,
            "left": null
          }
        },
        "8d3172ba7cca446ab312cf3fc6ae28cf": {
          "model_module": "@jupyter-widgets/controls",
          "model_name": "TabModel",
          "state": {
            "_view_name": "TabView",
            "_dom_classes": [],
            "_titles": {
              "0": "Youtube",
              "1": "Bilibili"
            },
            "_model_name": "TabModel",
            "_view_module": "@jupyter-widgets/controls",
            "selected_index": 0,
            "_model_module_version": "1.5.0",
            "_view_count": null,
            "_view_module_version": "1.5.0",
            "box_style": "",
            "layout": "IPY_MODEL_40628e775e774136ae3fa37657d2b142",
            "_model_module": "@jupyter-widgets/controls",
            "children": [
              "IPY_MODEL_7f19a57c242a40679f030bc1b7a40578",
              "IPY_MODEL_900f56e9a405486bb290654d381358e7"
            ]
          }
        },
        "40628e775e774136ae3fa37657d2b142": {
          "model_module": "@jupyter-widgets/base",
          "model_name": "LayoutModel",
          "state": {
            "_view_name": "LayoutView",
            "grid_template_rows": null,
            "right": null,
            "justify_content": null,
            "_view_module": "@jupyter-widgets/base",
            "overflow": null,
            "_model_module_version": "1.2.0",
            "_view_count": null,
            "flex_flow": null,
            "width": null,
            "min_width": null,
            "border": null,
            "align_items": null,
            "bottom": null,
            "_model_module": "@jupyter-widgets/base",
            "top": null,
            "grid_column": null,
            "overflow_y": null,
            "overflow_x": null,
            "grid_auto_flow": null,
            "grid_area": null,
            "grid_template_columns": null,
            "flex": null,
            "_model_name": "LayoutModel",
            "justify_items": null,
            "grid_row": null,
            "max_height": null,
            "align_content": null,
            "visibility": null,
            "align_self": null,
            "height": null,
            "min_height": null,
            "padding": null,
            "grid_auto_rows": null,
            "grid_gap": null,
            "max_width": null,
            "order": null,
            "_view_module_version": "1.2.0",
            "grid_template_areas": null,
            "object_position": null,
            "object_fit": null,
            "grid_auto_columns": null,
            "margin": null,
            "display": null,
            "left": null
          }
        },
        "7f19a57c242a40679f030bc1b7a40578": {
          "model_module": "@jupyter-widgets/output",
          "model_name": "OutputModel",
          "state": {
            "_view_name": "OutputView",
            "msg_id": "",
            "_dom_classes": [],
            "_model_name": "OutputModel",
            "outputs": [
              {
                "output_type": "stream",
                "metadata": {
                  "tags": []
                },
                "text": "Video available at https://youtube.com/watch?v=9Mc9GFUtILY\n",
                "stream": "stdout"
              },
              {
                "output_type": "display_data",
                "metadata": {
                  "tags": []
                },
                "text/html": "\n        <iframe\n            width=\"854\"\n            height=\"480\"\n            src=\"https://www.youtube.com/embed/9Mc9GFUtILY?fs=1&rel=0\"\n            frameborder=\"0\"\n            allowfullscreen\n        ></iframe>\n        ",
                "text/plain": "<IPython.lib.display.YouTubeVideo at 0x7f9ec4f2abd0>",
                "image/jpeg": "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\n"
              }
            ],
            "_view_module": "@jupyter-widgets/output",
            "_model_module_version": "1.0.0",
            "_view_count": null,
            "_view_module_version": "1.0.0",
            "layout": "IPY_MODEL_5b0d56fa255a4175bfd73b0ea18313ce",
            "_model_module": "@jupyter-widgets/output"
          }
        },
        "900f56e9a405486bb290654d381358e7": {
          "model_module": "@jupyter-widgets/output",
          "model_name": "OutputModel",
          "state": {
            "_view_name": "OutputView",
            "msg_id": "",
            "_dom_classes": [],
            "_model_name": "OutputModel",
            "outputs": [
              {
                "output_type": "stream",
                "metadata": {
                  "tags": []
                },
                "text": "Video available at https://www.bilibili.com/video/BV1nM4y1K7qx\n",
                "stream": "stdout"
              },
              {
                "output_type": "display_data",
                "metadata": {
                  "tags": []
                },
                "text/html": "\n        <iframe\n            width=\"854\"\n            height=\"480\"\n            src=\"https://player.bilibili.com/player.html?bvid=BV1nM4y1K7qx&page=1?fs=1\"\n            frameborder=\"0\"\n            allowfullscreen\n        ></iframe>\n        ",
                "text/plain": "<__main__.BiliVideo at 0x7f9ec4fc6d90>"
              }
            ],
            "_view_module": "@jupyter-widgets/output",
            "_model_module_version": "1.0.0",
            "_view_count": null,
            "_view_module_version": "1.0.0",
            "layout": "IPY_MODEL_661db416bde74f7c85fcc3686f83330c",
            "_model_module": "@jupyter-widgets/output"
          }
        },
        "5b0d56fa255a4175bfd73b0ea18313ce": {
          "model_module": "@jupyter-widgets/base",
          "model_name": "LayoutModel",
          "state": {
            "_view_name": "LayoutView",
            "grid_template_rows": null,
            "right": null,
            "justify_content": null,
            "_view_module": "@jupyter-widgets/base",
            "overflow": null,
            "_model_module_version": "1.2.0",
            "_view_count": null,
            "flex_flow": null,
            "width": null,
            "min_width": null,
            "border": null,
            "align_items": null,
            "bottom": null,
            "_model_module": "@jupyter-widgets/base",
            "top": null,
            "grid_column": null,
            "overflow_y": null,
            "overflow_x": null,
            "grid_auto_flow": null,
            "grid_area": null,
            "grid_template_columns": null,
            "flex": null,
            "_model_name": "LayoutModel",
            "justify_items": null,
            "grid_row": null,
            "max_height": null,
            "align_content": null,
            "visibility": null,
            "align_self": null,
            "height": null,
            "min_height": null,
            "padding": null,
            "grid_auto_rows": null,
            "grid_gap": null,
            "max_width": null,
            "order": null,
            "_view_module_version": "1.2.0",
            "grid_template_areas": null,
            "object_position": null,
            "object_fit": null,
            "grid_auto_columns": null,
            "margin": null,
            "display": null,
            "left": null
          }
        },
        "661db416bde74f7c85fcc3686f83330c": {
          "model_module": "@jupyter-widgets/base",
          "model_name": "LayoutModel",
          "state": {
            "_view_name": "LayoutView",
            "grid_template_rows": null,
            "right": null,
            "justify_content": null,
            "_view_module": "@jupyter-widgets/base",
            "overflow": null,
            "_model_module_version": "1.2.0",
            "_view_count": null,
            "flex_flow": null,
            "width": null,
            "min_width": null,
            "border": null,
            "align_items": null,
            "bottom": null,
            "_model_module": "@jupyter-widgets/base",
            "top": null,
            "grid_column": null,
            "overflow_y": null,
            "overflow_x": null,
            "grid_auto_flow": null,
            "grid_area": null,
            "grid_template_columns": null,
            "flex": null,
            "_model_name": "LayoutModel",
            "justify_items": null,
            "grid_row": null,
            "max_height": null,
            "align_content": null,
            "visibility": null,
            "align_self": null,
            "height": null,
            "min_height": null,
            "padding": null,
            "grid_auto_rows": null,
            "grid_gap": null,
            "max_width": null,
            "order": null,
            "_view_module_version": "1.2.0",
            "grid_template_areas": null,
            "object_position": null,
            "object_fit": null,
            "grid_auto_columns": null,
            "margin": null,
            "display": null,
            "left": null
          }
        },
        "cd28bba152974b92b81b0a2ff3d58480": {
          "model_module": "@jupyter-widgets/controls",
          "model_name": "HBoxModel",
          "state": {
            "_view_name": "HBoxView",
            "_dom_classes": [],
            "_model_name": "HBoxModel",
            "_view_module": "@jupyter-widgets/controls",
            "_model_module_version": "1.5.0",
            "_view_count": null,
            "_view_module_version": "1.5.0",
            "box_style": "",
            "layout": "IPY_MODEL_6d107ec76c9b497a88c724e009a7f0f4",
            "_model_module": "@jupyter-widgets/controls",
            "children": [
              "IPY_MODEL_1617ba78f33347dcaf5eafa60a91bf1a",
              "IPY_MODEL_11d4dfda723f4f8f95921d4975fe58d1"
            ]
          }
        },
        "6d107ec76c9b497a88c724e009a7f0f4": {
          "model_module": "@jupyter-widgets/base",
          "model_name": "LayoutModel",
          "state": {
            "_view_name": "LayoutView",
            "grid_template_rows": null,
            "right": null,
            "justify_content": null,
            "_view_module": "@jupyter-widgets/base",
            "overflow": null,
            "_model_module_version": "1.2.0",
            "_view_count": null,
            "flex_flow": null,
            "width": null,
            "min_width": null,
            "border": null,
            "align_items": null,
            "bottom": null,
            "_model_module": "@jupyter-widgets/base",
            "top": null,
            "grid_column": null,
            "overflow_y": null,
            "overflow_x": null,
            "grid_auto_flow": null,
            "grid_area": null,
            "grid_template_columns": null,
            "flex": null,
            "_model_name": "LayoutModel",
            "justify_items": null,
            "grid_row": null,
            "max_height": null,
            "align_content": null,
            "visibility": null,
            "align_self": null,
            "height": null,
            "min_height": null,
            "padding": null,
            "grid_auto_rows": null,
            "grid_gap": null,
            "max_width": null,
            "order": null,
            "_view_module_version": "1.2.0",
            "grid_template_areas": null,
            "object_position": null,
            "object_fit": null,
            "grid_auto_columns": null,
            "margin": null,
            "display": null,
            "left": null
          }
        },
        "1617ba78f33347dcaf5eafa60a91bf1a": {
          "model_module": "@jupyter-widgets/controls",
          "model_name": "FloatProgressModel",
          "state": {
            "_view_name": "ProgressView",
            "style": "IPY_MODEL_0daa621e4a994ec1bc3a7389160847ce",
            "_dom_classes": [],
            "description": "",
            "_model_name": "FloatProgressModel",
            "bar_style": "success",
            "max": 170498071,
            "_view_module": "@jupyter-widgets/controls",
            "_model_module_version": "1.5.0",
            "value": 170498071,
            "_view_count": null,
            "_view_module_version": "1.5.0",
            "orientation": "horizontal",
            "min": 0,
            "description_tooltip": null,
            "_model_module": "@jupyter-widgets/controls",
            "layout": "IPY_MODEL_e0e6ec1150f6439e990ba6387e763b79"
          }
        },
        "11d4dfda723f4f8f95921d4975fe58d1": {
          "model_module": "@jupyter-widgets/controls",
          "model_name": "HTMLModel",
          "state": {
            "_view_name": "HTMLView",
            "style": "IPY_MODEL_a4dd996dbcac4e75a14ceda1ccddaf7c",
            "_dom_classes": [],
            "description": "",
            "_model_name": "HTMLModel",
            "placeholder": "​",
            "_view_module": "@jupyter-widgets/controls",
            "_model_module_version": "1.5.0",
            "value": " 170499072/? [01:12&lt;00:00, 2337708.35it/s]",
            "_view_count": null,
            "_view_module_version": "1.5.0",
            "description_tooltip": null,
            "_model_module": "@jupyter-widgets/controls",
            "layout": "IPY_MODEL_4d4f5629b08545b5adbcf54fad154b3f"
          }
        },
        "0daa621e4a994ec1bc3a7389160847ce": {
          "model_module": "@jupyter-widgets/controls",
          "model_name": "ProgressStyleModel",
          "state": {
            "_view_name": "StyleView",
            "_model_name": "ProgressStyleModel",
            "description_width": "initial",
            "_view_module": "@jupyter-widgets/base",
            "_model_module_version": "1.5.0",
            "_view_count": null,
            "_view_module_version": "1.2.0",
            "bar_color": null,
            "_model_module": "@jupyter-widgets/controls"
          }
        },
        "e0e6ec1150f6439e990ba6387e763b79": {
          "model_module": "@jupyter-widgets/base",
          "model_name": "LayoutModel",
          "state": {
            "_view_name": "LayoutView",
            "grid_template_rows": null,
            "right": null,
            "justify_content": null,
            "_view_module": "@jupyter-widgets/base",
            "overflow": null,
            "_model_module_version": "1.2.0",
            "_view_count": null,
            "flex_flow": null,
            "width": null,
            "min_width": null,
            "border": null,
            "align_items": null,
            "bottom": null,
            "_model_module": "@jupyter-widgets/base",
            "top": null,
            "grid_column": null,
            "overflow_y": null,
            "overflow_x": null,
            "grid_auto_flow": null,
            "grid_area": null,
            "grid_template_columns": null,
            "flex": null,
            "_model_name": "LayoutModel",
            "justify_items": null,
            "grid_row": null,
            "max_height": null,
            "align_content": null,
            "visibility": null,
            "align_self": null,
            "height": null,
            "min_height": null,
            "padding": null,
            "grid_auto_rows": null,
            "grid_gap": null,
            "max_width": null,
            "order": null,
            "_view_module_version": "1.2.0",
            "grid_template_areas": null,
            "object_position": null,
            "object_fit": null,
            "grid_auto_columns": null,
            "margin": null,
            "display": null,
            "left": null
          }
        },
        "a4dd996dbcac4e75a14ceda1ccddaf7c": {
          "model_module": "@jupyter-widgets/controls",
          "model_name": "DescriptionStyleModel",
          "state": {
            "_view_name": "StyleView",
            "_model_name": "DescriptionStyleModel",
            "description_width": "",
            "_view_module": "@jupyter-widgets/base",
            "_model_module_version": "1.5.0",
            "_view_count": null,
            "_view_module_version": "1.2.0",
            "_model_module": "@jupyter-widgets/controls"
          }
        },
        "4d4f5629b08545b5adbcf54fad154b3f": {
          "model_module": "@jupyter-widgets/base",
          "model_name": "LayoutModel",
          "state": {
            "_view_name": "LayoutView",
            "grid_template_rows": null,
            "right": null,
            "justify_content": null,
            "_view_module": "@jupyter-widgets/base",
            "overflow": null,
            "_model_module_version": "1.2.0",
            "_view_count": null,
            "flex_flow": null,
            "width": null,
            "min_width": null,
            "border": null,
            "align_items": null,
            "bottom": null,
            "_model_module": "@jupyter-widgets/base",
            "top": null,
            "grid_column": null,
            "overflow_y": null,
            "overflow_x": null,
            "grid_auto_flow": null,
            "grid_area": null,
            "grid_template_columns": null,
            "flex": null,
            "_model_name": "LayoutModel",
            "justify_items": null,
            "grid_row": null,
            "max_height": null,
            "align_content": null,
            "visibility": null,
            "align_self": null,
            "height": null,
            "min_height": null,
            "padding": null,
            "grid_auto_rows": null,
            "grid_gap": null,
            "max_width": null,
            "order": null,
            "_view_module_version": "1.2.0",
            "grid_template_areas": null,
            "object_position": null,
            "object_fit": null,
            "grid_auto_columns": null,
            "margin": null,
            "display": null,
            "left": null
          }
        },
        "36975ce64a814aa396ff026723859a59": {
          "model_module": "@jupyter-widgets/controls",
          "model_name": "TabModel",
          "state": {
            "_view_name": "TabView",
            "_dom_classes": [],
            "_titles": {
              "0": "Youtube",
              "1": "Bilibili"
            },
            "_model_name": "TabModel",
            "_view_module": "@jupyter-widgets/controls",
            "selected_index": 0,
            "_model_module_version": "1.5.0",
            "_view_count": null,
            "_view_module_version": "1.5.0",
            "box_style": "",
            "layout": "IPY_MODEL_d806c3acd9e34f86bc27085aa6562cf0",
            "_model_module": "@jupyter-widgets/controls",
            "children": [
              "IPY_MODEL_50b8248bca14491fb09e000afbb9b66f",
              "IPY_MODEL_5d791f4f4f734260bb5bd1377112f0fc"
            ]
          }
        },
        "d806c3acd9e34f86bc27085aa6562cf0": {
          "model_module": "@jupyter-widgets/base",
          "model_name": "LayoutModel",
          "state": {
            "_view_name": "LayoutView",
            "grid_template_rows": null,
            "right": null,
            "justify_content": null,
            "_view_module": "@jupyter-widgets/base",
            "overflow": null,
            "_model_module_version": "1.2.0",
            "_view_count": null,
            "flex_flow": null,
            "width": null,
            "min_width": null,
            "border": null,
            "align_items": null,
            "bottom": null,
            "_model_module": "@jupyter-widgets/base",
            "top": null,
            "grid_column": null,
            "overflow_y": null,
            "overflow_x": null,
            "grid_auto_flow": null,
            "grid_area": null,
            "grid_template_columns": null,
            "flex": null,
            "_model_name": "LayoutModel",
            "justify_items": null,
            "grid_row": null,
            "max_height": null,
            "align_content": null,
            "visibility": null,
            "align_self": null,
            "height": null,
            "min_height": null,
            "padding": null,
            "grid_auto_rows": null,
            "grid_gap": null,
            "max_width": null,
            "order": null,
            "_view_module_version": "1.2.0",
            "grid_template_areas": null,
            "object_position": null,
            "object_fit": null,
            "grid_auto_columns": null,
            "margin": null,
            "display": null,
            "left": null
          }
        },
        "50b8248bca14491fb09e000afbb9b66f": {
          "model_module": "@jupyter-widgets/output",
          "model_name": "OutputModel",
          "state": {
            "_view_name": "OutputView",
            "msg_id": "",
            "_dom_classes": [],
            "_model_name": "OutputModel",
            "outputs": [
              {
                "output_type": "stream",
                "metadata": {
                  "tags": []
                },
                "text": "Video available at https://youtube.com/watch?v=sjegA9OBUPw\n",
                "stream": "stdout"
              },
              {
                "output_type": "display_data",
                "metadata": {
                  "tags": []
                },
                "text/html": "\n        <iframe\n            width=\"854\"\n            height=\"480\"\n            src=\"https://www.youtube.com/embed/sjegA9OBUPw?fs=1&rel=0\"\n            frameborder=\"0\"\n            allowfullscreen\n        ></iframe>\n        ",
                "text/plain": "<IPython.lib.display.YouTubeVideo at 0x7f9ec4f77350>",
                "image/jpeg": "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\n"
              }
            ],
            "_view_module": "@jupyter-widgets/output",
            "_model_module_version": "1.0.0",
            "_view_count": null,
            "_view_module_version": "1.0.0",
            "layout": "IPY_MODEL_7b28de0b35bc444cb974abbe7268bc34",
            "_model_module": "@jupyter-widgets/output"
          }
        },
        "5d791f4f4f734260bb5bd1377112f0fc": {
          "model_module": "@jupyter-widgets/output",
          "model_name": "OutputModel",
          "state": {
            "_view_name": "OutputView",
            "msg_id": "",
            "_dom_classes": [],
            "_model_name": "OutputModel",
            "outputs": [
              {
                "output_type": "stream",
                "metadata": {
                  "tags": []
                },
                "text": "Video available at https://www.bilibili.com/video/BV19B4y1N77t\n",
                "stream": "stdout"
              },
              {
                "output_type": "display_data",
                "metadata": {
                  "tags": []
                },
                "text/html": "\n        <iframe\n            width=\"854\"\n            height=\"480\"\n            src=\"https://player.bilibili.com/player.html?bvid=BV19B4y1N77t&page=1?fs=1\"\n            frameborder=\"0\"\n            allowfullscreen\n        ></iframe>\n        ",
                "text/plain": "<__main__.BiliVideo at 0x7f9ec4f66a90>"
              }
            ],
            "_view_module": "@jupyter-widgets/output",
            "_model_module_version": "1.0.0",
            "_view_count": null,
            "_view_module_version": "1.0.0",
            "layout": "IPY_MODEL_2819dda5c65442d5822a91f73072cc7c",
            "_model_module": "@jupyter-widgets/output"
          }
        },
        "7b28de0b35bc444cb974abbe7268bc34": {
          "model_module": "@jupyter-widgets/base",
          "model_name": "LayoutModel",
          "state": {
            "_view_name": "LayoutView",
            "grid_template_rows": null,
            "right": null,
            "justify_content": null,
            "_view_module": "@jupyter-widgets/base",
            "overflow": null,
            "_model_module_version": "1.2.0",
            "_view_count": null,
            "flex_flow": null,
            "width": null,
            "min_width": null,
            "border": null,
            "align_items": null,
            "bottom": null,
            "_model_module": "@jupyter-widgets/base",
            "top": null,
            "grid_column": null,
            "overflow_y": null,
            "overflow_x": null,
            "grid_auto_flow": null,
            "grid_area": null,
            "grid_template_columns": null,
            "flex": null,
            "_model_name": "LayoutModel",
            "justify_items": null,
            "grid_row": null,
            "max_height": null,
            "align_content": null,
            "visibility": null,
            "align_self": null,
            "height": null,
            "min_height": null,
            "padding": null,
            "grid_auto_rows": null,
            "grid_gap": null,
            "max_width": null,
            "order": null,
            "_view_module_version": "1.2.0",
            "grid_template_areas": null,
            "object_position": null,
            "object_fit": null,
            "grid_auto_columns": null,
            "margin": null,
            "display": null,
            "left": null
          }
        },
        "2819dda5c65442d5822a91f73072cc7c": {
          "model_module": "@jupyter-widgets/base",
          "model_name": "LayoutModel",
          "state": {
            "_view_name": "LayoutView",
            "grid_template_rows": null,
            "right": null,
            "justify_content": null,
            "_view_module": "@jupyter-widgets/base",
            "overflow": null,
            "_model_module_version": "1.2.0",
            "_view_count": null,
            "flex_flow": null,
            "width": null,
            "min_width": null,
            "border": null,
            "align_items": null,
            "bottom": null,
            "_model_module": "@jupyter-widgets/base",
            "top": null,
            "grid_column": null,
            "overflow_y": null,
            "overflow_x": null,
            "grid_auto_flow": null,
            "grid_area": null,
            "grid_template_columns": null,
            "flex": null,
            "_model_name": "LayoutModel",
            "justify_items": null,
            "grid_row": null,
            "max_height": null,
            "align_content": null,
            "visibility": null,
            "align_self": null,
            "height": null,
            "min_height": null,
            "padding": null,
            "grid_auto_rows": null,
            "grid_gap": null,
            "max_width": null,
            "order": null,
            "_view_module_version": "1.2.0",
            "grid_template_areas": null,
            "object_position": null,
            "object_fit": null,
            "grid_auto_columns": null,
            "margin": null,
            "display": null,
            "left": null
          }
        },
        "e192d773b1e0493eac968ac9cae7f4e3": {
          "model_module": "@jupyter-widgets/controls",
          "model_name": "TabModel",
          "state": {
            "_view_name": "TabView",
            "_dom_classes": [],
            "_titles": {
              "0": "Youtube",
              "1": "Bilibili"
            },
            "_model_name": "TabModel",
            "_view_module": "@jupyter-widgets/controls",
            "selected_index": 0,
            "_model_module_version": "1.5.0",
            "_view_count": null,
            "_view_module_version": "1.5.0",
            "box_style": "",
            "layout": "IPY_MODEL_247449f4812c4128aefee9cf985e399b",
            "_model_module": "@jupyter-widgets/controls",
            "children": [
              "IPY_MODEL_d4f95786bb884a2c9c8cbd81110e4274",
              "IPY_MODEL_42b3f7d11b9f444aaaab450f8230b817"
            ]
          }
        },
        "247449f4812c4128aefee9cf985e399b": {
          "model_module": "@jupyter-widgets/base",
          "model_name": "LayoutModel",
          "state": {
            "_view_name": "LayoutView",
            "grid_template_rows": null,
            "right": null,
            "justify_content": null,
            "_view_module": "@jupyter-widgets/base",
            "overflow": null,
            "_model_module_version": "1.2.0",
            "_view_count": null,
            "flex_flow": null,
            "width": null,
            "min_width": null,
            "border": null,
            "align_items": null,
            "bottom": null,
            "_model_module": "@jupyter-widgets/base",
            "top": null,
            "grid_column": null,
            "overflow_y": null,
            "overflow_x": null,
            "grid_auto_flow": null,
            "grid_area": null,
            "grid_template_columns": null,
            "flex": null,
            "_model_name": "LayoutModel",
            "justify_items": null,
            "grid_row": null,
            "max_height": null,
            "align_content": null,
            "visibility": null,
            "align_self": null,
            "height": null,
            "min_height": null,
            "padding": null,
            "grid_auto_rows": null,
            "grid_gap": null,
            "max_width": null,
            "order": null,
            "_view_module_version": "1.2.0",
            "grid_template_areas": null,
            "object_position": null,
            "object_fit": null,
            "grid_auto_columns": null,
            "margin": null,
            "display": null,
            "left": null
          }
        },
        "d4f95786bb884a2c9c8cbd81110e4274": {
          "model_module": "@jupyter-widgets/output",
          "model_name": "OutputModel",
          "state": {
            "_view_name": "OutputView",
            "msg_id": "",
            "_dom_classes": [],
            "_model_name": "OutputModel",
            "outputs": [
              {
                "output_type": "stream",
                "metadata": {
                  "tags": []
                },
                "text": "Video available at https://youtube.com/watch?v=JrC_UAJWYKU\n",
                "stream": "stdout"
              },
              {
                "output_type": "display_data",
                "metadata": {
                  "tags": []
                },
                "text/html": "\n        <iframe\n            width=\"854\"\n            height=\"480\"\n            src=\"https://www.youtube.com/embed/JrC_UAJWYKU?fs=1&rel=0\"\n            frameborder=\"0\"\n            allowfullscreen\n        ></iframe>\n        ",
                "text/plain": "<IPython.lib.display.YouTubeVideo at 0x7f9ec1f97290>",
                "image/jpeg": "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\n"
              }
            ],
            "_view_module": "@jupyter-widgets/output",
            "_model_module_version": "1.0.0",
            "_view_count": null,
            "_view_module_version": "1.0.0",
            "layout": "IPY_MODEL_a514981bba2b4c5fbe38de9e30b72b0d",
            "_model_module": "@jupyter-widgets/output"
          }
        },
        "42b3f7d11b9f444aaaab450f8230b817": {
          "model_module": "@jupyter-widgets/output",
          "model_name": "OutputModel",
          "state": {
            "_view_name": "OutputView",
            "msg_id": "",
            "_dom_classes": [],
            "_model_name": "OutputModel",
            "outputs": [
              {
                "output_type": "stream",
                "metadata": {
                  "tags": []
                },
                "text": "Video available at https://www.bilibili.com/video/BV1xy4y1T7kv\n",
                "stream": "stdout"
              },
              {
                "output_type": "display_data",
                "metadata": {
                  "tags": []
                },
                "text/html": "\n        <iframe\n            width=\"854\"\n            height=\"480\"\n            src=\"https://player.bilibili.com/player.html?bvid=BV1xy4y1T7kv&page=1?fs=1\"\n            frameborder=\"0\"\n            allowfullscreen\n        ></iframe>\n        ",
                "text/plain": "<__main__.BiliVideo at 0x7f9ec1f82650>"
              }
            ],
            "_view_module": "@jupyter-widgets/output",
            "_model_module_version": "1.0.0",
            "_view_count": null,
            "_view_module_version": "1.0.0",
            "layout": "IPY_MODEL_910a4754c5db4d3d805bf19bf8aac1e9",
            "_model_module": "@jupyter-widgets/output"
          }
        },
        "a514981bba2b4c5fbe38de9e30b72b0d": {
          "model_module": "@jupyter-widgets/base",
          "model_name": "LayoutModel",
          "state": {
            "_view_name": "LayoutView",
            "grid_template_rows": null,
            "right": null,
            "justify_content": null,
            "_view_module": "@jupyter-widgets/base",
            "overflow": null,
            "_model_module_version": "1.2.0",
            "_view_count": null,
            "flex_flow": null,
            "width": null,
            "min_width": null,
            "border": null,
            "align_items": null,
            "bottom": null,
            "_model_module": "@jupyter-widgets/base",
            "top": null,
            "grid_column": null,
            "overflow_y": null,
            "overflow_x": null,
            "grid_auto_flow": null,
            "grid_area": null,
            "grid_template_columns": null,
            "flex": null,
            "_model_name": "LayoutModel",
            "justify_items": null,
            "grid_row": null,
            "max_height": null,
            "align_content": null,
            "visibility": null,
            "align_self": null,
            "height": null,
            "min_height": null,
            "padding": null,
            "grid_auto_rows": null,
            "grid_gap": null,
            "max_width": null,
            "order": null,
            "_view_module_version": "1.2.0",
            "grid_template_areas": null,
            "object_position": null,
            "object_fit": null,
            "grid_auto_columns": null,
            "margin": null,
            "display": null,
            "left": null
          }
        },
        "910a4754c5db4d3d805bf19bf8aac1e9": {
          "model_module": "@jupyter-widgets/base",
          "model_name": "LayoutModel",
          "state": {
            "_view_name": "LayoutView",
            "grid_template_rows": null,
            "right": null,
            "justify_content": null,
            "_view_module": "@jupyter-widgets/base",
            "overflow": null,
            "_model_module_version": "1.2.0",
            "_view_count": null,
            "flex_flow": null,
            "width": null,
            "min_width": null,
            "border": null,
            "align_items": null,
            "bottom": null,
            "_model_module": "@jupyter-widgets/base",
            "top": null,
            "grid_column": null,
            "overflow_y": null,
            "overflow_x": null,
            "grid_auto_flow": null,
            "grid_area": null,
            "grid_template_columns": null,
            "flex": null,
            "_model_name": "LayoutModel",
            "justify_items": null,
            "grid_row": null,
            "max_height": null,
            "align_content": null,
            "visibility": null,
            "align_self": null,
            "height": null,
            "min_height": null,
            "padding": null,
            "grid_auto_rows": null,
            "grid_gap": null,
            "max_width": null,
            "order": null,
            "_view_module_version": "1.2.0",
            "grid_template_areas": null,
            "object_position": null,
            "object_fit": null,
            "grid_auto_columns": null,
            "margin": null,
            "display": null,
            "left": null
          }
        }
      }
    }
  },
  "cells": [
    {
      "cell_type": "markdown",
      "metadata": {
        "id": "view-in-github",
        "colab_type": "text"
      },
      "source": [
        "<a href=\"https://colab.research.google.com/github/sazio/NMA-DL/blob/main/tutorials/W1D1_BasicsAndPytorch/student/W1D1_Tutorial1.ipynb\" target=\"_parent\"><img src=\"https://colab.research.google.com/assets/colab-badge.svg\" alt=\"Open In Colab\"/></a>"
      ]
    },
    {
      "cell_type": "markdown",
      "metadata": {
        "execution": {},
        "id": "v1LnYiNU9Gs8"
      },
      "source": [
        "# Tutorial 1: PyTorch\n",
        "**Week 1, Day 1: Basics and PyTorch**\n",
        "\n",
        "**By Neuromatch Academy**\n",
        "\n",
        "\n",
        "__Content creators:__ Shubh Pachchigar, Vladimir Haltakov, Matthew Sargent, Konrad Kording\n",
        "\n",
        "__Content reviewers:__ Deepak Raya, Siwei Bai, Kelson Shilling-Scrivo\n",
        "\n",
        "__Content editors:__ Anoop Kulkarni, Spiros Chavlis\n",
        "\n",
        "__Production editors:__ Arush Tagade, Spiros Chavlis"
      ]
    },
    {
      "cell_type": "markdown",
      "metadata": {
        "execution": {},
        "id": "mOm9veTG9Gs9"
      },
      "source": [
        "**Our 2021 Sponsors, including Presenting Sponsor Facebook Reality Labs**\n",
        "\n",
        "<p align='center'><img src='https://github.com/NeuromatchAcademy/widgets/blob/master/sponsors.png?raw=True'/></p>"
      ]
    },
    {
      "cell_type": "markdown",
      "metadata": {
        "execution": {},
        "id": "JJDzAXfq9Gs-"
      },
      "source": [
        "---\n",
        "# Tutorial Objectives\n",
        "\n",
        "Then have a few specific objectives for this tutorial:\n",
        "* Learn about PyTorch and tensors\n",
        "* Tensor Manipulations\n",
        "* Data Loading\n",
        "* GPUs and Cuda Tensors\n",
        "* Train NaiveNet\n",
        "* Get to know your pod\n",
        "* Start thinking about the course as a whole"
      ]
    },
    {
      "cell_type": "code",
      "metadata": {
        "execution": {},
        "colab": {
          "base_uri": "https://localhost:8080/",
          "height": 501
        },
        "id": "jyzX88No9Gs-",
        "outputId": "42af73b8-b66b-48cc-ed59-0745f0408e00"
      },
      "source": [
        "# @title Tutorial slides\n",
        "\n",
        "# @markdown These are the slides for the videos in this tutorial today\n",
        "from IPython.display import IFrame\n",
        "IFrame(src=f\"https://mfr.ca-1.osf.io/render?url=https://osf.io/wcjrv/?direct%26mode=render%26action=download%26mode=render\", width=854, height=480)"
      ],
      "execution_count": 7,
      "outputs": [
        {
          "output_type": "execute_result",
          "data": {
            "text/html": [
              "\n",
              "        <iframe\n",
              "            width=\"854\"\n",
              "            height=\"480\"\n",
              "            src=\"https://mfr.ca-1.osf.io/render?url=https://osf.io/wcjrv/?direct%26mode=render%26action=download%26mode=render\"\n",
              "            frameborder=\"0\"\n",
              "            allowfullscreen\n",
              "        ></iframe>\n",
              "        "
            ],
            "text/plain": [
              "<IPython.lib.display.IFrame at 0x7f9ec97ea250>"
            ]
          },
          "metadata": {
            "tags": []
          },
          "execution_count": 7
        }
      ]
    },
    {
      "cell_type": "markdown",
      "metadata": {
        "execution": {},
        "id": "bEH1NMYW9Gs-"
      },
      "source": [
        "---\n",
        "# Setup"
      ]
    },
    {
      "cell_type": "markdown",
      "metadata": {
        "execution": {},
        "id": "Gw3MsHG29Gs_"
      },
      "source": [
        "Throughout your Neuromatch tutorials, most (probably all!) notebooks contain setup cells. These cells will import the required Python packages (e.g., PyTorch, NumPy); set global or environment variables, and load in helper functions for things like plotting. In some tutorials, you will notice that we install some dependencies even if they are preinstalled on google colab or kaggle. This happens because we have added automation to our repository through [GitHub Actions](https://docs.github.com/en/actions/learn-github-actions/introduction-to-github-actions).\n",
        "\n",
        "Be sure to run all of the cells in the setup section. Feel free to expand them and have a look at what you are loading in, but you should be able to fulfill the learning objectives of every tutorial without having to look at these cells.\n",
        "\n",
        "If you start building your own projects built on this code base we highly recommend looking at them in more detail."
      ]
    },
    {
      "cell_type": "code",
      "metadata": {
        "execution": {},
        "id": "1zI5G30k9Gs_"
      },
      "source": [
        "# @title Install dependencies\n",
        "!pip install pandas --quiet\n",
        "!pip install git+https://github.com/NeuromatchAcademy/evaltools --quiet\n",
        "\n",
        "from evaltools.airtable import AirtableForm"
      ],
      "execution_count": 106,
      "outputs": []
    },
    {
      "cell_type": "code",
      "metadata": {
        "execution": {},
        "id": "BEfe532h9GtA"
      },
      "source": [
        "# Imports\n",
        "import time\n",
        "import torch\n",
        "import random\n",
        "import numpy as np\n",
        "import pandas as pd\n",
        "import matplotlib.pyplot as plt\n",
        "\n",
        "from torch import nn\n",
        "from torchvision import datasets\n",
        "from torchvision.transforms import ToTensor\n",
        "from torch.utils.data import DataLoader"
      ],
      "execution_count": 107,
      "outputs": []
    },
    {
      "cell_type": "code",
      "metadata": {
        "cellView": "form",
        "execution": {},
        "id": "UZZWECj89GtA"
      },
      "source": [
        "# @title Figure Settings\n",
        "import ipywidgets as widgets\n",
        "%config InlineBackend.figure_format = 'retina'\n",
        "plt.style.use(\"https://raw.githubusercontent.com/NeuromatchAcademy/content-creation/main/nma.mplstyle\")"
      ],
      "execution_count": 108,
      "outputs": []
    },
    {
      "cell_type": "code",
      "metadata": {
        "execution": {},
        "id": "Yn-yPZ5F9GtB"
      },
      "source": [
        "# @title Helper Functions\n",
        "\n",
        "atform = AirtableForm('appn7VdPRseSoMXEG','W1D1_T1','https://portal.neuromatchacademy.org/api/redirect/to/97e94a29-0b3a-4e16-9a8d-f6838a5bd83d')\n",
        "\n",
        "\n",
        "def checkExercise1(A, B, C, D):\n",
        "  \"\"\"\n",
        "  Helper function for checking exercise.\n",
        "\n",
        "  Args:\n",
        "    A: torch.Tensor\n",
        "    B: torch.Tensor\n",
        "    C: torch.Tensor\n",
        "    D: torch.Tensor\n",
        "  Returns:\n",
        "    Nothing.\n",
        "  \"\"\"\n",
        "  errors = []\n",
        "  # TODO better errors and error handling\n",
        "  if not torch.equal(A.to(int),torch.ones(20, 21).to(int)):\n",
        "    errors.append(f\"Got: {A} \\n Expected: {torch.ones(20, 21)} (shape: {torch.ones(20, 21).shape})\")\n",
        "  if not np.array_equal( B.numpy(),np.vander([1, 2, 3], 4)):\n",
        "    errors.append(\"B is not a tensor containing the elements of Z \")\n",
        "  if C.shape != (20, 21):\n",
        "    errors.append(\"C is not the correct shape \")\n",
        "  if not torch.equal(D, torch.arange(4, 41, step=2)):\n",
        "    errors.append(\"D does not contain the correct elements\")\n",
        "\n",
        "  if errors == []:\n",
        "    print(\"All correct!\")\n",
        "\n",
        "  else:\n",
        "    [print(e) for e in errors]\n",
        "\n",
        "\n",
        "def timeFun(f, dim, iterations, device='cpu'):\n",
        "  iterations = iterations\n",
        "  t_total = 0\n",
        "  for _ in range(iterations):\n",
        "    start = time.time()\n",
        "    f(dim, device)\n",
        "    end = time.time()\n",
        "    t_total += end - start\n",
        "\n",
        "  if device == 'cpu':\n",
        "    print(f\"time taken for {iterations} iterations of {f.__name__}({dim}, {device}): {t_total:.5f}\")\n",
        "  else:\n",
        "    print(f\"time taken for {iterations} iterations of {f.__name__}({dim}, {device}): {t_total:.5f}\")"
      ],
      "execution_count": 109,
      "outputs": []
    },
    {
      "cell_type": "markdown",
      "metadata": {
        "execution": {},
        "id": "_sA0xWWZ9GtB"
      },
      "source": [
        "**Important note: Google Colab users**\n",
        "\n",
        "*Scratch Code Cells*\n",
        "\n",
        "If you want to quickly try out something or take a look at the data you can use scratch code cells. They allow you to run Python code, but will not mess up the structure of your notebook.\n",
        "\n",
        "To open a new scratch cell go to *Insert* → *Scratch code cell*."
      ]
    },
    {
      "cell_type": "markdown",
      "metadata": {
        "execution": {},
        "id": "qSRRWjbV9GtB"
      },
      "source": [
        "# Section 1: Welcome to Neuromatch Deep learning course\n",
        "\n",
        "*Time estimate: ~25mins*"
      ]
    },
    {
      "cell_type": "code",
      "metadata": {
        "execution": {},
        "colab": {
          "base_uri": "https://localhost:8080/",
          "height": 580,
          "referenced_widgets": [
            "388e2c537a4942709f2d2744b60fafc1",
            "4302030e051d4268b0059d3fc1429080",
            "c9045f516a9148cc96942bf7a4b7934b",
            "5d05e0ece9834fe1a43807469cc589bb",
            "5d9cac788d944b00b386d9f7fd059783",
            "2ffc966ee8504aa4b12a247bd5c634e4"
          ]
        },
        "id": "dKU1furL9GtC",
        "outputId": "8bfe7f7f-a026-4eda-cdf9-a964fd2cb23d"
      },
      "source": [
        "# @title Video 1: Welcome and History\n",
        "from ipywidgets import widgets\n",
        "\n",
        "out2 = widgets.Output()\n",
        "with out2:\n",
        "  from IPython.display import IFrame\n",
        "  class BiliVideo(IFrame):\n",
        "    def __init__(self, id, page=1, width=400, height=300, **kwargs):\n",
        "      self.id=id\n",
        "      src = \"https://player.bilibili.com/player.html?bvid={0}&page={1}\".format(id, page)\n",
        "      super(BiliVideo, self).__init__(src, width, height, **kwargs)\n",
        "\n",
        "  video = BiliVideo(id=f\"BV1Av411n7oL\", width=854, height=480, fs=1)\n",
        "  print(\"Video available at https://www.bilibili.com/video/{0}\".format(video.id))\n",
        "  display(video)\n",
        "\n",
        "out1 = widgets.Output()\n",
        "with out1:\n",
        "  from IPython.display import YouTubeVideo\n",
        "  video = YouTubeVideo(id=f\"ca21SNqt78I\", width=854, height=480, fs=1, rel=0)\n",
        "  print(\"Video available at https://youtube.com/watch?v=\" + video.id)\n",
        "  display(video)\n",
        "\n",
        "out = widgets.Tab([out1, out2])\n",
        "out.set_title(0, 'Youtube')\n",
        "out.set_title(1, 'Bilibili')\n",
        "\n",
        "# add timing\n",
        "atform.add_event('Video 1: Welcome and History')\n",
        "\n",
        "display(out)"
      ],
      "execution_count": 110,
      "outputs": [
        {
          "output_type": "display_data",
          "data": {
            "application/vnd.jupyter.widget-view+json": {
              "model_id": "388e2c537a4942709f2d2744b60fafc1",
              "version_minor": 0,
              "version_major": 2
            },
            "text/plain": [
              "Tab(children=(Output(), Output()), _titles={'0': 'Youtube', '1': 'Bilibili'})"
            ]
          },
          "metadata": {
            "tags": []
          }
        }
      ]
    },
    {
      "cell_type": "markdown",
      "metadata": {
        "execution": {},
        "id": "PMFUmZtt9GtC"
      },
      "source": [
        "*This will be an intensive 3 week adventure. We will all learn Deep Learning. In a group. Groups need standards. Read our \n",
        "[Code of Conduct](https://docs.google.com/document/d/1eHKIkaNbAlbx_92tLQelXnicKXEcvFzlyzzeWjEtifM/edit?usp=sharing).\n"
      ]
    },
    {
      "cell_type": "code",
      "metadata": {
        "execution": {},
        "colab": {
          "base_uri": "https://localhost:8080/",
          "height": 580,
          "referenced_widgets": [
            "0e7b552cb44c4d03a12f5980a889f123",
            "79ad1ad3ca2245148722993853793df0",
            "722639f195bf42ef9b6b8c3126a0d3a4",
            "bd21f63e67d541ba9e4e87c00d13840f",
            "0f3410bf5e2340408f9d82c45254a151",
            "435fca404a5947189e42d6fa3dafb09b"
          ]
        },
        "id": "EQBiyFEV9GtC",
        "outputId": "9ec3add6-8d27-4b97-9e9e-3938167d05d5"
      },
      "source": [
        "# @title Video 2: Why DL is cool\n",
        "from ipywidgets import widgets\n",
        "\n",
        "out2 = widgets.Output()\n",
        "with out2:\n",
        "  from IPython.display import IFrame\n",
        "  class BiliVideo(IFrame):\n",
        "    def __init__(self, id, page=1, width=400, height=300, **kwargs):\n",
        "      self.id=id\n",
        "      src = \"https://player.bilibili.com/player.html?bvid={0}&page={1}\".format(id, page)\n",
        "      super(BiliVideo, self).__init__(src, width, height, **kwargs)\n",
        "\n",
        "  video = BiliVideo(id=f\"BV1gf4y1j7UZ\", width=854, height=480, fs=1)\n",
        "  print(\"Video available at https://www.bilibili.com/video/{0}\".format(video.id))\n",
        "  display(video)\n",
        "\n",
        "out1 = widgets.Output()\n",
        "with out1:\n",
        "  from IPython.display import YouTubeVideo\n",
        "  video = YouTubeVideo(id=f\"l-K6495BN-4\", width=854, height=480, fs=1, rel=0)\n",
        "  print(\"Video available at https://youtube.com/watch?v=\" + video.id)\n",
        "  display(video)\n",
        "\n",
        "out = widgets.Tab([out1, out2])\n",
        "out.set_title(0, 'Youtube')\n",
        "out.set_title(1, 'Bilibili')\n",
        "\n",
        "# add timing to airtable\n",
        "atform.add_event('Video 2: Why DL is cool')\n",
        "\n",
        "display(out)"
      ],
      "execution_count": 111,
      "outputs": [
        {
          "output_type": "display_data",
          "data": {
            "application/vnd.jupyter.widget-view+json": {
              "model_id": "0e7b552cb44c4d03a12f5980a889f123",
              "version_minor": 0,
              "version_major": 2
            },
            "text/plain": [
              "Tab(children=(Output(), Output()), _titles={'0': 'Youtube', '1': 'Bilibili'})"
            ]
          },
          "metadata": {
            "tags": []
          }
        }
      ]
    },
    {
      "cell_type": "markdown",
      "metadata": {
        "execution": {},
        "id": "ubJdUJct9GtC"
      },
      "source": [
        "**Describe what you hope to get out of this course in about 100 words.**"
      ]
    },
    {
      "cell_type": "markdown",
      "metadata": {
        "execution": {},
        "id": "RDV-abU_9GtC"
      },
      "source": [
        "---\n",
        "# Section 2: The Basics of PyTorch\n",
        "\n",
        "*Time estimate: ~2 hours 05 mins*"
      ]
    },
    {
      "cell_type": "markdown",
      "metadata": {
        "execution": {},
        "id": "JaG63W3P9GtC"
      },
      "source": [
        "PyTorch is a Python-based scientific computing package targeted at two sets of\n",
        "audiences:\n",
        "\n",
        "-  A replacement for NumPy to use the power of GPUs\n",
        "-  A deep learning platform that provides significant flexibility\n",
        "   and speed\n",
        "\n",
        "At its core, PyTorch provides a few key features:\n",
        "\n",
        "- A multidimensional [Tensor](https://pytorch.org/docs/stable/tensors.html) object, similar to [NumPy Array](https://numpy.org/doc/stable/reference/generated/numpy.ndarray.html) but with GPU acceleration.\n",
        "- An optimized **autograd** engine for automatically computing derivatives.\n",
        "- A clean, modular API for building and deploying **deep learning models**.\n",
        "\n",
        "You can find more information about PyTorch in the appendix."
      ]
    },
    {
      "cell_type": "markdown",
      "metadata": {
        "execution": {},
        "id": "IuBmwF7Q9GtC"
      },
      "source": [
        "## Section 2.1: Creating Tensors\n"
      ]
    },
    {
      "cell_type": "code",
      "metadata": {
        "execution": {},
        "colab": {
          "base_uri": "https://localhost:8080/",
          "height": 580,
          "referenced_widgets": [
            "95d07b52afb64d41b9373540bfffa5cb",
            "7190f712d8124631982af86b7dd5cbba",
            "624b610aeca4480899fdc08b45321fc5",
            "cefb35705b9846fd91e636a709f4040e",
            "2e033a89d678414da4119106f6cd260e",
            "622091a5e2f14ad5874d57b4dfeae8a2"
          ]
        },
        "id": "6J1-GYF89GtD",
        "outputId": "8ff6a82e-68cf-4814-e803-99ffb9aa7010"
      },
      "source": [
        "# @title Video 3: Making Tensors\n",
        "from ipywidgets import widgets\n",
        "\n",
        "out2 = widgets.Output()\n",
        "with out2:\n",
        "  from IPython.display import IFrame\n",
        "  class BiliVideo(IFrame):\n",
        "    def __init__(self, id, page=1, width=400, height=300, **kwargs):\n",
        "      self.id=id\n",
        "      src = \"https://player.bilibili.com/player.html?bvid={0}&page={1}\".format(id, page)\n",
        "      super(BiliVideo, self).__init__(src, width, height, **kwargs)\n",
        "\n",
        "  video = BiliVideo(id=f\"BV1Rw411d7Uy\", width=854, height=480, fs=1)\n",
        "  print(\"Video available at https://www.bilibili.com/video/{0}\".format(video.id))\n",
        "  display(video)\n",
        "\n",
        "out1 = widgets.Output()\n",
        "with out1:\n",
        "  from IPython.display import YouTubeVideo\n",
        "  video = YouTubeVideo(id=f\"jGKd_4tPGrw\", width=854, height=480, fs=1, rel=0)\n",
        "  print(\"Video available at https://youtube.com/watch?v=\" + video.id)\n",
        "  display(video)\n",
        "\n",
        "out = widgets.Tab([out1, out2])\n",
        "out.set_title(0, 'Youtube')\n",
        "out.set_title(1, 'Bilibili')\n",
        "\n",
        "# add timing to airtable\n",
        "atform.add_event('Video 3: Making Tensors')\n",
        "\n",
        "display(out)"
      ],
      "execution_count": 112,
      "outputs": [
        {
          "output_type": "display_data",
          "data": {
            "application/vnd.jupyter.widget-view+json": {
              "model_id": "95d07b52afb64d41b9373540bfffa5cb",
              "version_minor": 0,
              "version_major": 2
            },
            "text/plain": [
              "Tab(children=(Output(), Output()), _titles={'0': 'Youtube', '1': 'Bilibili'})"
            ]
          },
          "metadata": {
            "tags": []
          }
        }
      ]
    },
    {
      "cell_type": "markdown",
      "metadata": {
        "execution": {},
        "id": "PvnCe1qn9GtD"
      },
      "source": [
        "There are various ways of creating tensors, and when doing any real deep learning project we will usually have to do so."
      ]
    },
    {
      "cell_type": "markdown",
      "metadata": {
        "execution": {},
        "id": "2fnEESAw9GtD"
      },
      "source": [
        "**Construct tensors directly:**\n",
        "\n",
        "---\n",
        "\n"
      ]
    },
    {
      "cell_type": "code",
      "metadata": {
        "execution": {},
        "colab": {
          "base_uri": "https://localhost:8080/"
        },
        "id": "nOcoTrOn9GtD",
        "outputId": "dcbf6482-d3c2-4c48-a34d-a873ac0374f8"
      },
      "source": [
        "# we can construct a tensor directly from some common python iterables,\n",
        "# such as list and tuple nested iterables can also be handled as long as the\n",
        "# dimensions make sense\n",
        "\n",
        "# tensor from a list\n",
        "a = torch.tensor([0, 1, 2])\n",
        "\n",
        "#tensor from a tuple of tuples\n",
        "b = ((1.0, 1.1), (1.2, 1.3))\n",
        "b = torch.tensor(b)\n",
        "\n",
        "# tensor from a numpy array\n",
        "c = np.ones([2, 3])\n",
        "c = torch.tensor(c)\n",
        "\n",
        "print(f\"Tensor a: {a}\")\n",
        "print(f\"Tensor b: {b}\")\n",
        "print(f\"Tensor c: {c}\")"
      ],
      "execution_count": 113,
      "outputs": [
        {
          "output_type": "stream",
          "text": [
            "Tensor a: tensor([0, 1, 2])\n",
            "Tensor b: tensor([[1.0000, 1.1000],\n",
            "        [1.2000, 1.3000]])\n",
            "Tensor c: tensor([[1., 1., 1.],\n",
            "        [1., 1., 1.]], dtype=torch.float64)\n"
          ],
          "name": "stdout"
        }
      ]
    },
    {
      "cell_type": "markdown",
      "metadata": {
        "execution": {},
        "id": "72sIpaB99GtD"
      },
      "source": [
        "**Some common tensor constructors:**\n",
        "\n",
        "---"
      ]
    },
    {
      "cell_type": "code",
      "metadata": {
        "execution": {},
        "colab": {
          "base_uri": "https://localhost:8080/"
        },
        "id": "qh3ri-hD9GtD",
        "outputId": "7d3d3634-9341-46e4-a26d-52351c4355c4"
      },
      "source": [
        "# the numerical arguments we pass to these constructors\n",
        "# determine the shape of the output tensor\n",
        "\n",
        "x = torch.ones(5, 3)\n",
        "y = torch.zeros(2)\n",
        "z = torch.empty(1, 1, 5)\n",
        "print(f\"Tensor x: {x}\")\n",
        "print(f\"Tensor y: {y}\")\n",
        "print(f\"Tensor z: {z}\")"
      ],
      "execution_count": 114,
      "outputs": [
        {
          "output_type": "stream",
          "text": [
            "Tensor x: tensor([[1., 1., 1.],\n",
            "        [1., 1., 1.],\n",
            "        [1., 1., 1.],\n",
            "        [1., 1., 1.],\n",
            "        [1., 1., 1.]])\n",
            "Tensor y: tensor([0., 0.])\n",
            "Tensor z: tensor([[[-2.2359e-24,  3.0757e-41,  1.4013e-45,  0.0000e+00,  1.4013e-45]]])\n"
          ],
          "name": "stdout"
        }
      ]
    },
    {
      "cell_type": "markdown",
      "metadata": {
        "execution": {},
        "id": "y7zNC4kd9GtD"
      },
      "source": [
        "Notice that ```.empty()``` does not return zeros, but seemingly random small numbers. Unlike ```.zeros()```, which initialises the elements of the tensor with zeros, ```.empty()``` just allocates the memory. It is hence a bit faster if you are looking to just create a tensor."
      ]
    },
    {
      "cell_type": "markdown",
      "metadata": {
        "execution": {},
        "id": "lwma1smM9GtD"
      },
      "source": [
        "**Creating random tensors and tensors like other tensors:**\n",
        "\n",
        "---"
      ]
    },
    {
      "cell_type": "code",
      "metadata": {
        "execution": {},
        "colab": {
          "base_uri": "https://localhost:8080/"
        },
        "id": "oUl6KvOz9GtD",
        "outputId": "15fe3744-aca1-4b7d-d405-e407773d888d"
      },
      "source": [
        "# there are also constructors for random numbers\n",
        "\n",
        "# uniform distribution\n",
        "a = torch.rand(1, 3)\n",
        "\n",
        "# normal distribution\n",
        "b = torch.randn(3, 4)\n",
        "\n",
        "# there are also constructors that allow us to construct\n",
        "# a tensor according to the above constructors, but with\n",
        "# dimensions equal to another tensor\n",
        "\n",
        "c = torch.zeros_like(a)\n",
        "d = torch.rand_like(c)\n",
        "\n",
        "print(f\"Tensor a: {a}\")\n",
        "print(f\"Tensor b: {b}\")\n",
        "print(f\"Tensor c: {c}\")\n",
        "print(f\"Tensor d: {d}\")"
      ],
      "execution_count": 115,
      "outputs": [
        {
          "output_type": "stream",
          "text": [
            "Tensor a: tensor([[0.9988, 0.5345, 0.2341]])\n",
            "Tensor b: tensor([[ 0.1914, -1.1335, -0.6456,  0.7852],\n",
            "        [ 0.5798,  0.1317,  2.3333, -0.9449],\n",
            "        [-0.0317,  0.7663, -0.6806,  0.1859]])\n",
            "Tensor c: tensor([[0., 0., 0.]])\n",
            "Tensor d: tensor([[0.6391, 0.9668, 0.0810]])\n"
          ],
          "name": "stdout"
        }
      ]
    },
    {
      "cell_type": "markdown",
      "metadata": {
        "execution": {},
        "id": "dYxPj9uo9GtD"
      },
      "source": [
        "*Reproducibility*: \n",
        "\n",
        "- PyTorch random number generator: You can use `torch.manual_seed()` to seed the RNG for all devices (both CPU and CUDA)\n",
        "\n",
        "```python\n",
        "import torch\n",
        "torch.manual_seed(0)\n",
        "```\n",
        "- For custom operators, you might need to set python seed as well:\n",
        "\n",
        "```python\n",
        "import random\n",
        "random.seed(0)\n",
        "```\n",
        "\n",
        "- Random number generators in other libraries\n",
        "\n",
        "```python\n",
        "import numpy as np\n",
        "np.random.seed(0)\n",
        "```\n"
      ]
    },
    {
      "cell_type": "markdown",
      "metadata": {
        "execution": {},
        "id": "xIW3yY8a9GtE"
      },
      "source": [
        "Here, we define for you a function called `set_seed` that does the job for you!"
      ]
    },
    {
      "cell_type": "code",
      "metadata": {
        "execution": {},
        "id": "xUXVOjGO9GtE"
      },
      "source": [
        "def set_seed(seed=None, seed_torch=True):\n",
        "  \"\"\"\n",
        "  Function that controls randomness. NumPy and random modules must be imported.\n",
        "\n",
        "  Args:\n",
        "    seed : Integer\n",
        "      A non-negative integer that defines the random state. Default is `None`.\n",
        "    seed_torch : Boolean\n",
        "      If `True` sets the random seed for pytorch tensors, so pytorch module\n",
        "      must be imported. Default is `True`.\n",
        "\n",
        "  Returns:\n",
        "    Nothing.\n",
        "  \"\"\"\n",
        "  if seed is None:\n",
        "    seed = np.random.choice(2 ** 32)\n",
        "  random.seed(seed)\n",
        "  np.random.seed(seed)\n",
        "  if seed_torch:\n",
        "    torch.manual_seed(seed)\n",
        "    torch.cuda.manual_seed_all(seed)\n",
        "    torch.cuda.manual_seed(seed)\n",
        "    torch.backends.cudnn.benchmark = False\n",
        "    torch.backends.cudnn.deterministic = True\n",
        "\n",
        "  print(f'Random seed {seed} has been set.')"
      ],
      "execution_count": 116,
      "outputs": []
    },
    {
      "cell_type": "markdown",
      "metadata": {
        "execution": {},
        "id": "-GiPpwWO9GtE"
      },
      "source": [
        "Now, let's use the `set_seed` function in the previous example. Execute the cell multiple times to verify that the numbers printed are always the same."
      ]
    },
    {
      "cell_type": "code",
      "metadata": {
        "execution": {},
        "id": "3bjg1W2c9GtE"
      },
      "source": [
        "def simplefun(seed=True, my_seed=None):\n",
        "  if seed:\n",
        "    set_seed(seed=my_seed)\n",
        "\n",
        "  # uniform distribution\n",
        "  a = torch.rand(1, 3)\n",
        "  # normal distribution\n",
        "  b = torch.randn(3, 4)\n",
        "\n",
        "  print(\"Tensor a: \", a)\n",
        "  print(\"Tensor b: \", b)"
      ],
      "execution_count": 117,
      "outputs": []
    },
    {
      "cell_type": "code",
      "metadata": {
        "execution": {},
        "colab": {
          "base_uri": "https://localhost:8080/"
        },
        "id": "U1asj59q9GtE",
        "outputId": "18bb62e7-da5c-4d4c-c2cd-81ec0acc0a29"
      },
      "source": [
        "simplefun(seed=True, my_seed=0)  # Turn `seed` to `False` or change `my_seed`"
      ],
      "execution_count": 118,
      "outputs": [
        {
          "output_type": "stream",
          "text": [
            "Random seed 0 has been set.\n",
            "Tensor a:  tensor([[0.4963, 0.7682, 0.0885]])\n",
            "Tensor b:  tensor([[ 0.3643,  0.1344,  0.1642,  0.3058],\n",
            "        [ 0.2100,  0.9056,  0.6035,  0.8110],\n",
            "        [-0.0451,  0.8797,  1.0482, -0.0445]])\n"
          ],
          "name": "stdout"
        }
      ]
    },
    {
      "cell_type": "markdown",
      "metadata": {
        "execution": {},
        "id": "llVeD6ua9GtE"
      },
      "source": [
        "**Numpy-like number ranges:**\n",
        "---\n",
        "The ```.arange()``` and ```.linspace()``` behave how you would expect them to if you are familar with numpy."
      ]
    },
    {
      "cell_type": "code",
      "metadata": {
        "execution": {},
        "colab": {
          "base_uri": "https://localhost:8080/"
        },
        "id": "RzlmX-Pu9GtE",
        "outputId": "1137b3f7-f8bb-4b56-c489-38eab08cfab4"
      },
      "source": [
        "a = torch.arange(0, 10, step=1)\n",
        "b = np.arange(0, 10, step=1)\n",
        "\n",
        "c = torch.linspace(0, 5, steps=11)\n",
        "d = np.linspace(0, 5, num=11)\n",
        "\n",
        "print(f\"Tensor a: {a}\\n\")\n",
        "print(f\"Numpy array b: {b}\\n\")\n",
        "print(f\"Tensor c: {c}\\n\")\n",
        "print(f\"Numpy array d: {d}\\n\")"
      ],
      "execution_count": 119,
      "outputs": [
        {
          "output_type": "stream",
          "text": [
            "Tensor a: tensor([0, 1, 2, 3, 4, 5, 6, 7, 8, 9])\n",
            "\n",
            "Numpy array b: [0 1 2 3 4 5 6 7 8 9]\n",
            "\n",
            "Tensor c: tensor([0.0000, 0.5000, 1.0000, 1.5000, 2.0000, 2.5000, 3.0000, 3.5000, 4.0000,\n",
            "        4.5000, 5.0000])\n",
            "\n",
            "Numpy array d: [0.  0.5 1.  1.5 2.  2.5 3.  3.5 4.  4.5 5. ]\n",
            "\n"
          ],
          "name": "stdout"
        }
      ]
    },
    {
      "cell_type": "markdown",
      "metadata": {
        "execution": {},
        "id": "JKcPlF0Y9GtE"
      },
      "source": [
        "### Coding Exercise 2.1: Creating Tensors\n",
        "\n",
        "Below you will find some incomplete code. Fill in the missing code to construct the specified tensors.\n",
        "\n",
        "We want the tensors: \n",
        "\n",
        "$A:$ 20 by 21 tensor consisting of ones\n",
        "\n",
        "$B:$ a tensor with elements equal to the elements of numpy array $Z$\n",
        "\n",
        "$C:$ a tensor with the same number of elements as $A$ but with values $\n",
        "\\sim U(0,1)$\n",
        "\n",
        "$D:$ a 1D tensor containing the even numbers between 4 and 40 inclusive.\n"
      ]
    },
    {
      "cell_type": "code",
      "metadata": {
        "execution": {},
        "colab": {
          "base_uri": "https://localhost:8080/"
        },
        "id": "FWZ-diMq9GtE",
        "outputId": "823bb7e3-b18b-4a4c-c235-babb8b45d81e"
      },
      "source": [
        "def tensor_creation(Z):\n",
        "  \"\"\"A function that creates various tensors.\n",
        "\n",
        "  Args:\n",
        "    Z (numpy.ndarray): An array of shape\n",
        "\n",
        "  Returns:\n",
        "    A : 20 by 21 tensor consisting of ones\n",
        "    B : a tensor with elements equal to the elements of numpy array  Z\n",
        "    C : a tensor with the same number of elements as A but with values ∼U(0,1)\n",
        "    D : a 1D tensor containing the even numbers between 4 and 40 inclusive.\n",
        "  \"\"\"\n",
        "  #################################################\n",
        "  ## TODO for students: fill in the missing code\n",
        "  ## from the first expression\n",
        "  #raise NotImplementedError(\"Student exercise: say what they should have done\")\n",
        "  #################################################\n",
        "  A = torch.ones([20,21]) \n",
        "  B = torch.tensor(Z)\n",
        "  C = torch.rand(A.shape) # torch.rand_like(A)\n",
        "  D = torch.arange(4, 41, step = 2 )\n",
        "\n",
        "  return A, B, C, D\n",
        "\n",
        "\n",
        "# add timing to airtable\n",
        "atform.add_event('Coding Exercise 2.1: Creating Tensors')\n",
        "\n",
        "\n",
        "\n",
        "# numpy array to copy later\n",
        "Z = np.vander([1, 2, 3], 4)\n",
        "\n",
        "# Uncomment below to check your function!\n",
        "A, B, C, D = tensor_creation(Z)\n",
        "checkExercise1(A, B, C, D)"
      ],
      "execution_count": 120,
      "outputs": [
        {
          "output_type": "stream",
          "text": [
            "All correct!\n"
          ],
          "name": "stdout"
        }
      ]
    },
    {
      "cell_type": "markdown",
      "metadata": {
        "execution": {},
        "id": "Qvy_LXMB9GtE"
      },
      "source": [
        "[*Click for solution*](https://github.com/NeuromatchAcademy/course-content-dl/tree/main//tutorials/W1D1_BasicsAndPytorch/solutions/W1D1_Tutorial1_Solution_ad4f6c0f.py)\n",
        "\n"
      ]
    },
    {
      "cell_type": "markdown",
      "metadata": {
        "execution": {},
        "id": "doBynVtV9GtE"
      },
      "source": [
        "```\n",
        "All correct!\n",
        "```"
      ]
    },
    {
      "cell_type": "markdown",
      "metadata": {
        "execution": {},
        "id": "J_I7tNCn9GtE"
      },
      "source": [
        "## Section 2.2: Operations in PyTorch\n",
        "\n",
        "**Tensor-Tensor operations**\n",
        "\n",
        "We can perform operations on tensors using methods under ```torch.``` \n",
        "\n"
      ]
    },
    {
      "cell_type": "code",
      "metadata": {
        "cellView": "form",
        "execution": {},
        "colab": {
          "base_uri": "https://localhost:8080/",
          "height": 580,
          "referenced_widgets": [
            "7177fffaef5540f0ac9d3656969eb982",
            "556c8fa0db7546f1876dd5277b1c234e",
            "15d080083d1040a4aed29aa61a79f23d",
            "39b9d1bb7a8540499b1e7f7bc07b17d1",
            "a63db387db914fbfb220acf2430373db",
            "a266c53b25e742f59a8247c0712e51cc"
          ]
        },
        "id": "8bWO7rvg9GtE",
        "outputId": "af04fe1a-e9b5-4672-d46b-1df11b28d74b"
      },
      "source": [
        "# @title Video 4: Tensor Operators\n",
        "from ipywidgets import widgets\n",
        "\n",
        "out2 = widgets.Output()\n",
        "with out2:\n",
        "  from IPython.display import IFrame\n",
        "  class BiliVideo(IFrame):\n",
        "    def __init__(self, id, page=1, width=400, height=300, **kwargs):\n",
        "      self.id=id\n",
        "      src = \"https://player.bilibili.com/player.html?bvid={0}&page={1}\".format(id, page)\n",
        "      super(BiliVideo, self).__init__(src, width, height, **kwargs)\n",
        "\n",
        "  video = BiliVideo(id=f\"BV1G44y127As\", width=854, height=480, fs=1)\n",
        "  print(\"Video available at https://www.bilibili.com/video/{0}\".format(video.id))\n",
        "  display(video)\n",
        "\n",
        "out1 = widgets.Output()\n",
        "with out1:\n",
        "  from IPython.display import YouTubeVideo\n",
        "  video = YouTubeVideo(id=f\"R1R8VoYXBVA\", width=854, height=480, fs=1, rel=0)\n",
        "  print(\"Video available at https://youtube.com/watch?v=\" + video.id)\n",
        "  display(video)\n",
        "\n",
        "out = widgets.Tab([out1, out2])\n",
        "out.set_title(0, 'Youtube')\n",
        "out.set_title(1, 'Bilibili')\n",
        "\n",
        "# add timing to airtable\n",
        "atform.add_event('Video 4: Tensor Operators')\n",
        "\n",
        "display(out)"
      ],
      "execution_count": 121,
      "outputs": [
        {
          "output_type": "display_data",
          "data": {
            "application/vnd.jupyter.widget-view+json": {
              "model_id": "7177fffaef5540f0ac9d3656969eb982",
              "version_minor": 0,
              "version_major": 2
            },
            "text/plain": [
              "Tab(children=(Output(), Output()), _titles={'0': 'Youtube', '1': 'Bilibili'})"
            ]
          },
          "metadata": {
            "tags": []
          }
        }
      ]
    },
    {
      "cell_type": "markdown",
      "metadata": {
        "execution": {},
        "id": "o9yB8mCq9GtE"
      },
      "source": [
        "**Tensor-Tensor operations**\n",
        "\n",
        "We can perform operations on tensors using methods under ```torch.``` "
      ]
    },
    {
      "cell_type": "code",
      "metadata": {
        "execution": {},
        "colab": {
          "base_uri": "https://localhost:8080/"
        },
        "id": "D3Ko7OxX9GtE",
        "outputId": "fe85821b-cc96-4847-a099-7a290a13cd92"
      },
      "source": [
        "a = torch.ones(5, 3)\n",
        "b = torch.rand(5, 3)\n",
        "c = torch.empty(5, 3)\n",
        "d = torch.empty(5, 3)\n",
        "\n",
        "# this only works if c and d already exist\n",
        "torch.add(a, b, out=c)\n",
        "#Pointwise Multiplication of a and b\n",
        "torch.multiply(a, b, out=d)\n",
        "print(c)\n",
        "print(d)"
      ],
      "execution_count": 122,
      "outputs": [
        {
          "output_type": "stream",
          "text": [
            "tensor([[1.6464, 1.5228, 1.0491],\n",
            "        [1.9147, 1.7692, 1.9970],\n",
            "        [1.7526, 1.1700, 1.9173],\n",
            "        [1.5269, 1.7371, 1.0991],\n",
            "        [1.3562, 1.0091, 1.3053]])\n",
            "tensor([[0.6464, 0.5228, 0.0491],\n",
            "        [0.9147, 0.7692, 0.9970],\n",
            "        [0.7526, 0.1700, 0.9173],\n",
            "        [0.5269, 0.7371, 0.0991],\n",
            "        [0.3562, 0.0091, 0.3053]])\n"
          ],
          "name": "stdout"
        }
      ]
    },
    {
      "cell_type": "markdown",
      "metadata": {
        "execution": {},
        "id": "wszeZsk59GtE"
      },
      "source": [
        "However, in PyTorch most common Python operators are overridden.\n",
        "The common standard arithmetic operators (+, -, *, /, and **) have all been lifted to elementwise operations"
      ]
    },
    {
      "cell_type": "code",
      "metadata": {
        "execution": {},
        "colab": {
          "base_uri": "https://localhost:8080/"
        },
        "id": "r7v3K-Bq9GtE",
        "outputId": "c9dac260-c1be-431f-a2a0-0a983d7e74e0"
      },
      "source": [
        "x = torch.tensor([1, 2, 4, 8])\n",
        "y = torch.tensor([1, 2, 3, 4])\n",
        "x + y, x - y, x * y, x / y, x**y  # The ** operator is exponentiation"
      ],
      "execution_count": 123,
      "outputs": [
        {
          "output_type": "execute_result",
          "data": {
            "text/plain": [
              "(tensor([ 2,  4,  7, 12]),\n",
              " tensor([0, 0, 1, 4]),\n",
              " tensor([ 1,  4, 12, 32]),\n",
              " tensor([1.0000, 1.0000, 1.3333, 2.0000]),\n",
              " tensor([   1,    4,   64, 4096]))"
            ]
          },
          "metadata": {
            "tags": []
          },
          "execution_count": 123
        }
      ]
    },
    {
      "cell_type": "markdown",
      "metadata": {
        "execution": {},
        "id": "Dpw5HxDr9GtF"
      },
      "source": [
        "**Tensor Methods**"
      ]
    },
    {
      "cell_type": "markdown",
      "metadata": {
        "execution": {},
        "id": "0b3g_az89GtF"
      },
      "source": [
        "Tensors also have a number of common arithmetic operations built in. A full list of **all** methods can be found  in the appendix (there are a lot!) \n",
        "\n",
        "All of these operations should have similar syntax to their numpy equivalents.(Feel free to skip if you already know this!)"
      ]
    },
    {
      "cell_type": "code",
      "metadata": {
        "execution": {},
        "colab": {
          "base_uri": "https://localhost:8080/"
        },
        "id": "JIsaK1b-9GtF",
        "outputId": "cf3e2b0d-4c94-4e32-e853-6e6d5c92b9c9"
      },
      "source": [
        "x = torch.rand(3, 3)\n",
        "print(x)\n",
        "print(\"\\n\")\n",
        "# sum() - note the axis is the axis you move across when summing\n",
        "print(f\"Sum of every element of x: {x.sum()}\")\n",
        "print(f\"Sum of the columns of x: {x.sum(axis=0)}\")\n",
        "print(f\"Sum of the rows of x: {x.sum(axis=1)}\")\n",
        "print(\"\\n\")\n",
        "\n",
        "print(f\"Mean value of all elements of x {x.mean()}\")\n",
        "print(f\"Mean values of the columns of x {x.mean(axis=0)}\")\n",
        "print(f\"Mean values of the rows of x {x.mean(axis=1)}\")"
      ],
      "execution_count": 124,
      "outputs": [
        {
          "output_type": "stream",
          "text": [
            "tensor([[0.6079, 0.1074, 0.6594],\n",
            "        [0.7684, 0.5697, 0.1655],\n",
            "        [0.1123, 0.3457, 0.7195]])\n",
            "\n",
            "\n",
            "Sum of every element of x: 4.055744171142578\n",
            "Sum of the columns of x: tensor([1.4886, 1.0228, 1.5443])\n",
            "Sum of the rows of x: tensor([1.3747, 1.5035, 1.1776])\n",
            "\n",
            "\n",
            "Mean value of all elements of x 0.4506382346153259\n",
            "Mean values of the columns of x tensor([0.4962, 0.3409, 0.5148])\n",
            "Mean values of the rows of x tensor([0.4582, 0.5012, 0.3925])\n"
          ],
          "name": "stdout"
        }
      ]
    },
    {
      "cell_type": "markdown",
      "metadata": {
        "execution": {},
        "id": "cxYIW9AG9GtF"
      },
      "source": [
        "**Matrix Operations**\n",
        "\n",
        "The ```@``` symbol is overridden to represent matrix multiplication. You can also use ```torch.matmul()``` to multiply tensors. For dot multiplication, you can use ```torch.dot()```, or manipulate the axes of your tensors and do matrix multiplication (we will cover that in the next section). \n",
        "\n",
        "Transposes of 2D tensors are obtained using ```torch.t()``` or ```Tensor.T```. Note the lack of brackets for ```Tensor.T``` - it is an attribute, not a method."
      ]
    },
    {
      "cell_type": "markdown",
      "metadata": {
        "execution": {},
        "id": "57cke_kf9GtF"
      },
      "source": [
        "### Coding Exercise 2.2 : Simple tensor operations\n",
        "\n",
        "Below are two expressions involving operations on matrices. \n",
        "\n",
        "$$ \\textbf{A} = \n",
        "\\begin{bmatrix}2 &4 \\\\5 & 7 \n",
        "\\end{bmatrix} \n",
        "\\begin{bmatrix} 1 &1 \\\\2 & 3\n",
        "\\end{bmatrix} \n",
        " + \n",
        "\\begin{bmatrix}10 & 10  \\\\ 12 & 1 \n",
        "\\end{bmatrix} \n",
        "$$\n",
        "\n",
        "\n",
        "and\n",
        "\n",
        "\n",
        "$$ b = \n",
        "\\begin{bmatrix} 3 \\\\ 5 \\\\ 7\n",
        "\\end{bmatrix} \\cdot \n",
        "\\begin{bmatrix} 2 \\\\ 4 \\\\ 8\n",
        "\\end{bmatrix}\n",
        "$$\n",
        "\n",
        "The code block below that computes these expressions using PyTorch is incomplete - fill in the missing lines.\n",
        "\n"
      ]
    },
    {
      "cell_type": "code",
      "metadata": {
        "execution": {},
        "colab": {
          "base_uri": "https://localhost:8080/"
        },
        "id": "CTwHFb2X9GtF",
        "outputId": "dca91c15-1b47-4481-b363-d374b63a7d80"
      },
      "source": [
        "def simple_operations(a1: torch.Tensor, a2: torch.Tensor, a3: torch.Tensor):\n",
        "  ################################################\n",
        "  ## TODO for students:  complete the first computation using the argument matricies\n",
        "  #raise NotImplementedError(\"Student exercise: fill in the missing code to complete the operation\")\n",
        "  ################################################\n",
        "  # multiplication of tensor a1 with tensor a2 and then add it with tensor a3\n",
        "  answer = a1@a2 + a3\n",
        "  return answer\n",
        "\n",
        "# add timing to airtable\n",
        "atform.add_event('Coding Exercise 2.2 : Simple tensor operations-simple_operations')\n",
        "\n",
        "# Computing expression 1:\n",
        "\n",
        "# init our tensors\n",
        "a1 = torch.tensor([[2, 4], [5, 7]])\n",
        "a2 = torch.tensor([[1, 1], [2, 3]])\n",
        "a3 = torch.tensor([[10, 10], [12, 1]])\n",
        "## uncomment to test your function\n",
        "A = simple_operations(a1, a2, a3)\n",
        "print(A)"
      ],
      "execution_count": 125,
      "outputs": [
        {
          "output_type": "stream",
          "text": [
            "tensor([[20, 24],\n",
            "        [31, 27]])\n"
          ],
          "name": "stdout"
        }
      ]
    },
    {
      "cell_type": "markdown",
      "metadata": {
        "execution": {},
        "id": "oxYtRk-x9GtF"
      },
      "source": [
        "[*Click for solution*](https://github.com/NeuromatchAcademy/course-content-dl/tree/main//tutorials/W1D1_BasicsAndPytorch/solutions/W1D1_Tutorial1_Solution_5562ea1d.py)\n",
        "\n"
      ]
    },
    {
      "cell_type": "markdown",
      "metadata": {
        "execution": {},
        "id": "xnNBZGGe9GtF"
      },
      "source": [
        "```\n",
        "tensor([[20, 24],\n",
        "        [31, 27]])\n",
        "```"
      ]
    },
    {
      "cell_type": "code",
      "metadata": {
        "execution": {},
        "colab": {
          "base_uri": "https://localhost:8080/"
        },
        "id": "40La7EAk9GtF",
        "outputId": "dfb7a9ba-457f-41bb-96dd-443ac364a741"
      },
      "source": [
        "def dot_product(b1: torch.Tensor, b2: torch.Tensor):\n",
        "  ###############################################\n",
        "  ## TODO for students:  complete the first computation using the argument matricies\n",
        "  #raise NotImplementedError(\"Student exercise: fill in the missing code to complete the operation\")\n",
        "  ###############################################\n",
        "  # Use torch.dot() to compute the dot product of two tensors\n",
        "  product = torch.dot(b1, b2)\n",
        "  return product\n",
        "\n",
        "# add timing to airtable\n",
        "atform.add_event('Coding Exercise 2.2 : Simple tensor operations-dot_product')\n",
        "\n",
        "\n",
        "# Computing expression 2:\n",
        "b1 = torch.tensor([3, 5, 7])\n",
        "b2 = torch.tensor([2, 4, 8])\n",
        "## Uncomment to test your function\n",
        "b = dot_product(b1, b2)\n",
        "print(b)"
      ],
      "execution_count": 126,
      "outputs": [
        {
          "output_type": "stream",
          "text": [
            "tensor(82)\n"
          ],
          "name": "stdout"
        }
      ]
    },
    {
      "cell_type": "markdown",
      "metadata": {
        "execution": {},
        "id": "yd8tIDfl9GtF"
      },
      "source": [
        "[*Click for solution*](https://github.com/NeuromatchAcademy/course-content-dl/tree/main//tutorials/W1D1_BasicsAndPytorch/solutions/W1D1_Tutorial1_Solution_00491ea4.py)\n",
        "\n"
      ]
    },
    {
      "cell_type": "markdown",
      "metadata": {
        "execution": {},
        "id": "7p4V_F9-9GtF"
      },
      "source": [
        "```\n",
        "tensor(82)\n",
        "```"
      ]
    },
    {
      "cell_type": "markdown",
      "metadata": {
        "execution": {},
        "id": "eCUnmRZG9GtF"
      },
      "source": [
        "## Section 2.3 Manipulating Tensors in Pytorch\n",
        "\n"
      ]
    },
    {
      "cell_type": "code",
      "metadata": {
        "cellView": "form",
        "execution": {},
        "colab": {
          "base_uri": "https://localhost:8080/",
          "height": 580,
          "referenced_widgets": [
            "276e9d4a5fda40b4aadeb8c60ffef9a7",
            "2809f35a302a451a907f2c13eee3c18f",
            "b94bfbd080cb48e9be0d1e2b6b265985",
            "847800d1db7a4622aa2c114ea5b18863",
            "baebeab7fda84c1e9c7e4b42264c1f32",
            "63ebc9e480034f7eb0a23426f3e90e55"
          ]
        },
        "id": "a6ecmK9Z9GtF",
        "outputId": "6d04db4d-0960-4486-ddbc-2d24c5df399f"
      },
      "source": [
        "# @title Video 5: Tensor Indexing\n",
        "from ipywidgets import widgets\n",
        "\n",
        "out2 = widgets.Output()\n",
        "with out2:\n",
        "  from IPython.display import IFrame\n",
        "  class BiliVideo(IFrame):\n",
        "    def __init__(self, id, page=1, width=400, height=300, **kwargs):\n",
        "      self.id=id\n",
        "      src = \"https://player.bilibili.com/player.html?bvid={0}&page={1}\".format(id, page)\n",
        "      super(BiliVideo, self).__init__(src, width, height, **kwargs)\n",
        "\n",
        "  video = BiliVideo(id=f\"BV1BM4y1K7pD\", width=854, height=480, fs=1)\n",
        "  print(\"Video available at https://www.bilibili.com/video/{0}\".format(video.id))\n",
        "  display(video)\n",
        "\n",
        "out1 = widgets.Output()\n",
        "with out1:\n",
        "  from IPython.display import YouTubeVideo\n",
        "  video = YouTubeVideo(id=f\"0d0KSJ3lJbg\", width=854, height=480, fs=1, rel=0)\n",
        "  print(\"Video available at https://youtube.com/watch?v=\" + video.id)\n",
        "  display(video)\n",
        "\n",
        "out = widgets.Tab([out1, out2])\n",
        "out.set_title(0, 'Youtube')\n",
        "out.set_title(1, 'Bilibili')\n",
        "\n",
        "# add timing to airtable\n",
        "atform.add_event('Video 5: Tensor Indexing')\n",
        "\n",
        "display(out)"
      ],
      "execution_count": 127,
      "outputs": [
        {
          "output_type": "display_data",
          "data": {
            "application/vnd.jupyter.widget-view+json": {
              "model_id": "276e9d4a5fda40b4aadeb8c60ffef9a7",
              "version_minor": 0,
              "version_major": 2
            },
            "text/plain": [
              "Tab(children=(Output(), Output()), _titles={'0': 'Youtube', '1': 'Bilibili'})"
            ]
          },
          "metadata": {
            "tags": []
          }
        }
      ]
    },
    {
      "cell_type": "markdown",
      "metadata": {
        "execution": {},
        "id": "U1zdJ--69GtF"
      },
      "source": [
        "**Indexing**\n",
        "\n",
        "Just as in numpy, elements in a tensor can be accessed by index. As in any numpy array, the first element has index 0 and ranges are specified to include the first but before the last element. We can access elements according to their relative position to the end of the list by using negative indices. Indexing is also referred to as slicing.\n",
        "\n",
        "For example, [-1] selects the last element; [1:3] selects the second and the third elements, and [:-2] will select all elements excluding the last and second-to-last elements."
      ]
    },
    {
      "cell_type": "code",
      "metadata": {
        "execution": {},
        "colab": {
          "base_uri": "https://localhost:8080/"
        },
        "id": "3B6dOIA-9GtF",
        "outputId": "0f777f40-42e5-4b50-a816-51c0ffff3826"
      },
      "source": [
        "x = torch.arange(0, 10)\n",
        "print(x)\n",
        "print(x[-1])\n",
        "print(x[1:3])\n",
        "print(x[:-2])"
      ],
      "execution_count": 128,
      "outputs": [
        {
          "output_type": "stream",
          "text": [
            "tensor([0, 1, 2, 3, 4, 5, 6, 7, 8, 9])\n",
            "tensor(9)\n",
            "tensor([1, 2])\n",
            "tensor([0, 1, 2, 3, 4, 5, 6, 7])\n"
          ],
          "name": "stdout"
        }
      ]
    },
    {
      "cell_type": "markdown",
      "metadata": {
        "execution": {},
        "id": "Ad95yk7Z9GtF"
      },
      "source": [
        "When we have multidimensional tensors, indexing rules work the same way as numpy."
      ]
    },
    {
      "cell_type": "code",
      "metadata": {
        "execution": {},
        "colab": {
          "base_uri": "https://localhost:8080/"
        },
        "id": "Tj9wjkUH9GtF",
        "outputId": "ac5f102e-6f08-493f-d7fe-a54b55b8aefc"
      },
      "source": [
        "# make a 5D tensor\n",
        "x = torch.rand(1, 2, 3, 4, 5)\n",
        "\n",
        "print(f\" shape of x[0]:{x[0].shape}\")\n",
        "print(f\" shape of x[0][0]:{x[0][0].shape}\")\n",
        "print(f\" shape of x[0][0][0]:{x[0][0][0].shape}\")"
      ],
      "execution_count": 129,
      "outputs": [
        {
          "output_type": "stream",
          "text": [
            " shape of x[0]:torch.Size([2, 3, 4, 5])\n",
            " shape of x[0][0]:torch.Size([3, 4, 5])\n",
            " shape of x[0][0][0]:torch.Size([4, 5])\n"
          ],
          "name": "stdout"
        }
      ]
    },
    {
      "cell_type": "markdown",
      "metadata": {
        "execution": {},
        "id": "gMHnVz7P9GtF"
      },
      "source": [
        "**Flatten and reshape**\n",
        "\n",
        "There are various methods for reshaping tensors. It is common to have to express 2D data in 1D format. Similarly, it is also common to have to reshape a 1D tensor into a 2D tensor. We can achieve this with the ```.flatten()``` and ```.reshape()``` methods."
      ]
    },
    {
      "cell_type": "code",
      "metadata": {
        "execution": {},
        "colab": {
          "base_uri": "https://localhost:8080/"
        },
        "id": "P45G2NOY9GtF",
        "outputId": "a3ee1f59-a0ab-4231-d2b8-da6a8b6e9ec3"
      },
      "source": [
        "z = torch.arange(12).reshape(6, 2)\n",
        "print(f\"Original z: \\n {z}\")\n",
        "\n",
        "# 2D -> 1D\n",
        "z = z.flatten()\n",
        "print(f\"Flattened z: \\n {z}\")\n",
        "\n",
        "# and back to 2D\n",
        "z = z.reshape(3, 4)\n",
        "print(f\"Reshaped (3x4) z: \\n {z}\")"
      ],
      "execution_count": 130,
      "outputs": [
        {
          "output_type": "stream",
          "text": [
            "Original z: \n",
            " tensor([[ 0,  1],\n",
            "        [ 2,  3],\n",
            "        [ 4,  5],\n",
            "        [ 6,  7],\n",
            "        [ 8,  9],\n",
            "        [10, 11]])\n",
            "Flattened z: \n",
            " tensor([ 0,  1,  2,  3,  4,  5,  6,  7,  8,  9, 10, 11])\n",
            "Reshaped (3x4) z: \n",
            " tensor([[ 0,  1,  2,  3],\n",
            "        [ 4,  5,  6,  7],\n",
            "        [ 8,  9, 10, 11]])\n"
          ],
          "name": "stdout"
        }
      ]
    },
    {
      "cell_type": "code",
      "metadata": {
        "colab": {
          "base_uri": "https://localhost:8080/"
        },
        "id": "0_5yIS_jKPzx",
        "outputId": "ba6bcf7f-4eac-4b74-d8d2-8018f7d47477"
      },
      "source": [
        "z.view(12)"
      ],
      "execution_count": 131,
      "outputs": [
        {
          "output_type": "execute_result",
          "data": {
            "text/plain": [
              "tensor([ 0,  1,  2,  3,  4,  5,  6,  7,  8,  9, 10, 11])"
            ]
          },
          "metadata": {
            "tags": []
          },
          "execution_count": 131
        }
      ]
    },
    {
      "cell_type": "markdown",
      "metadata": {
        "execution": {},
        "id": "7iGBoyTR9GtG"
      },
      "source": [
        "You will also see the ```.view()``` methods used a lot to reshape tensors. There is a subtle difference between ```.view()``` and ```.reshape()```, though for now we will just use ```.reshape()```. The documentation can be found in the appendix."
      ]
    },
    {
      "cell_type": "markdown",
      "metadata": {
        "execution": {},
        "id": "Lu3polMe9GtG"
      },
      "source": [
        "**Squeezing tensors**\n",
        "\n",
        "When processing batches of data, you will quite often be left with singleton dimensions. e.g. [1,10] or [256, 1, 3]. This dimension can quite easily mess up your matrix operations if you don't plan on it being there...\n",
        "\n",
        "In order to compress tensors along their singleton dimensions we can use the ```.squeeze()``` method. We can use the ```.unsqueeze()``` method to do the opposite. \n"
      ]
    },
    {
      "cell_type": "code",
      "metadata": {
        "execution": {},
        "colab": {
          "base_uri": "https://localhost:8080/"
        },
        "id": "oVK_adH79GtG",
        "outputId": "3a873af0-6b1c-4bc4-d0e6-0f35a3759509"
      },
      "source": [
        "x = torch.randn(1, 10)\n",
        "# printing the zeroth element of the tensor will not give us the first number!\n",
        "\n",
        "print(x.shape)\n",
        "print(f\"x[0]: {x[0]}\")"
      ],
      "execution_count": 132,
      "outputs": [
        {
          "output_type": "stream",
          "text": [
            "torch.Size([1, 10])\n",
            "x[0]: tensor([-1.6057,  0.2758, -0.0624, -1.5593, -0.8883, -0.7485,  0.1456, -0.6005,\n",
            "         0.8546,  1.1705])\n"
          ],
          "name": "stdout"
        }
      ]
    },
    {
      "cell_type": "markdown",
      "metadata": {
        "execution": {},
        "id": "W-qL1zOb9GtG"
      },
      "source": [
        " Because of that pesky singleton dimension, x[0] gave us the first row instead!\n",
        "\n"
      ]
    },
    {
      "cell_type": "code",
      "metadata": {
        "execution": {},
        "colab": {
          "base_uri": "https://localhost:8080/"
        },
        "id": "Dva97imb9GtG",
        "outputId": "bb0e9067-e903-4ff6-ed3e-3fadac87ac8c"
      },
      "source": [
        "# lets get rid of that singleton dimension and see what happens now\n",
        "x = x.squeeze(0)\n",
        "print(x.shape)\n",
        "print(f\"x[0]: {x[0]}\")"
      ],
      "execution_count": 133,
      "outputs": [
        {
          "output_type": "stream",
          "text": [
            "torch.Size([10])\n",
            "x[0]: -1.6056749820709229\n"
          ],
          "name": "stdout"
        }
      ]
    },
    {
      "cell_type": "code",
      "metadata": {
        "execution": {},
        "colab": {
          "base_uri": "https://localhost:8080/"
        },
        "id": "MCl1OPPH9GtG",
        "outputId": "e0abb831-e57a-4a4a-bc7a-4fb8990f834e"
      },
      "source": [
        "# adding singleton dimensions works a similar way, and is often used when tensors\n",
        "# being added need same number of dimensions\n",
        "\n",
        "y = torch.randn(5, 5)\n",
        "print(f\"shape of y: {y.shape}\")\n",
        "\n",
        "# lets insert a singleton dimension\n",
        "y = y.unsqueeze(1)\n",
        "print(f\"shape of y: {y.shape}\")"
      ],
      "execution_count": 134,
      "outputs": [
        {
          "output_type": "stream",
          "text": [
            "shape of y: torch.Size([5, 5])\n",
            "shape of y: torch.Size([5, 1, 5])\n"
          ],
          "name": "stdout"
        }
      ]
    },
    {
      "cell_type": "markdown",
      "metadata": {
        "execution": {},
        "id": "Dp4ge7ws9GtG"
      },
      "source": [
        "**Permutation**\n",
        "Sometimes our dimensions will be in the wrong order! For example, we may be dealing with RGB images with dim [3x48x64], but our pipeline expects the colour dimension to be the last dimension i.e. [48x64x3]. To get around this we can use ```.permute()```\n"
      ]
    },
    {
      "cell_type": "code",
      "metadata": {
        "execution": {},
        "colab": {
          "base_uri": "https://localhost:8080/"
        },
        "id": "P2y_xjmA9GtG",
        "outputId": "485827a8-3939-4337-ad3c-1f0d89b050a6"
      },
      "source": [
        "# `x` has dimensions [color,image_height,image_width]\n",
        "x = torch.rand(3, 48, 64)\n",
        "\n",
        "# we want to permute our tensor to be [ image_height , image_width , color ]\n",
        "x = x.permute(1, 2, 0)\n",
        "# permute(1,2,0) means:\n",
        "# the 0th dim of my new tensor = the 1st dim of my old tensor\n",
        "# the 1st dim of my new tensor = the 2nd\n",
        "# the 2nd dim of my new tensor = the 0th\n",
        "print(x.shape)"
      ],
      "execution_count": 135,
      "outputs": [
        {
          "output_type": "stream",
          "text": [
            "torch.Size([48, 64, 3])\n"
          ],
          "name": "stdout"
        }
      ]
    },
    {
      "cell_type": "markdown",
      "metadata": {
        "execution": {},
        "id": "XNhZSqnJ9GtG"
      },
      "source": [
        "You may also see ```.transpose()``` used. This works in a similar way as permute, but can only swap two dimensions at once."
      ]
    },
    {
      "cell_type": "markdown",
      "metadata": {
        "execution": {},
        "id": "6DrnF0E59GtG"
      },
      "source": [
        "**Concatenation**"
      ]
    },
    {
      "cell_type": "markdown",
      "metadata": {
        "execution": {},
        "id": "6LJYLXoN9GtG"
      },
      "source": [
        "In this example, we concatenate two matrices along rows (axis 0, the first element of the shape) vs. columns (axis 1, the second element of the shape). We can see that the first output tensor’s axis-0 length ( 6 ) is the sum of the two input tensors’ axis-0 lengths ( 3+3 ); while the second output tensor’s axis-1 length ( 8 ) is the sum of the two input tensors’ axis-1 lengths ( 4+4 )."
      ]
    },
    {
      "cell_type": "code",
      "metadata": {
        "execution": {},
        "colab": {
          "base_uri": "https://localhost:8080/"
        },
        "id": "2P-X9jUR9GtG",
        "outputId": "01b7e3f7-4a6e-445d-c263-7cce9fad0bf7"
      },
      "source": [
        "# Create two tensors of the same shape\n",
        "x = torch.arange(12, dtype=torch.float32).reshape((3, 4))\n",
        "y = torch.tensor([[2.0, 1, 4, 3], [1, 2, 3, 4], [4, 3, 2, 1]])\n",
        "\n",
        "\n",
        "#concatenate them along rows\n",
        "cat_rows = torch.cat((x, y), dim=0)\n",
        "\n",
        "# concatenate along columns\n",
        "cat_cols = torch.cat((x, y), dim=1)\n",
        "\n",
        "# printing outputs\n",
        "print('Concatenated by rows: shape{} \\n {}'.format(list(cat_rows.shape), cat_rows))\n",
        "print('\\n Concatenated by colums: shape{}  \\n {}'.format(list(cat_cols.shape), cat_cols))"
      ],
      "execution_count": 136,
      "outputs": [
        {
          "output_type": "stream",
          "text": [
            "Concatenated by rows: shape[6, 4] \n",
            " tensor([[ 0.,  1.,  2.,  3.],\n",
            "        [ 4.,  5.,  6.,  7.],\n",
            "        [ 8.,  9., 10., 11.],\n",
            "        [ 2.,  1.,  4.,  3.],\n",
            "        [ 1.,  2.,  3.,  4.],\n",
            "        [ 4.,  3.,  2.,  1.]])\n",
            "\n",
            " Concatenated by colums: shape[3, 8]  \n",
            " tensor([[ 0.,  1.,  2.,  3.,  2.,  1.,  4.,  3.],\n",
            "        [ 4.,  5.,  6.,  7.,  1.,  2.,  3.,  4.],\n",
            "        [ 8.,  9., 10., 11.,  4.,  3.,  2.,  1.]])\n"
          ],
          "name": "stdout"
        }
      ]
    },
    {
      "cell_type": "markdown",
      "metadata": {
        "execution": {},
        "id": "9F-OCRYj9GtG"
      },
      "source": [
        "**Conversion to Other Python Objects**\n",
        "\n",
        "Converting to a NumPy tensor, or vice versa, is easy. The converted result does not share memory. This minor inconvenience is actually quite important: when you perform operations on the CPU or on GPUs, you do not want to halt computation, waiting to see whether the NumPy package of Python might want to be doing something else with the same chunk of memory.\n",
        "\n",
        "When converting to a numpy array, the information being tracked by the tensor will be lost i.e. the computational graph. This will be covered in detail when you are introduced to autograd tomorrow! "
      ]
    },
    {
      "cell_type": "code",
      "metadata": {
        "execution": {},
        "colab": {
          "base_uri": "https://localhost:8080/"
        },
        "id": "v740GwI79GtG",
        "outputId": "ba2404e8-0608-44d6-fcba-74b4f97c052d"
      },
      "source": [
        "x = torch.randn(5)\n",
        "print(f\"x: {x}  |  x type:  {x.type()}\")\n",
        "\n",
        "y = x.numpy()\n",
        "print(f\"y: {y}  |  y type:  {type(y)}\")\n",
        "\n",
        "z = torch.tensor(y)\n",
        "print(f\"z: {z}  |  z type:  {z.type()}\")"
      ],
      "execution_count": 137,
      "outputs": [
        {
          "output_type": "stream",
          "text": [
            "x: tensor([-2.2472,  0.2189, -0.6323,  0.9613,  0.5662])  |  x type:  torch.FloatTensor\n",
            "y: [-2.2472162   0.21886738 -0.6322729   0.96129405  0.5662092 ]  |  y type:  <class 'numpy.ndarray'>\n",
            "z: tensor([-2.2472,  0.2189, -0.6323,  0.9613,  0.5662])  |  z type:  torch.FloatTensor\n"
          ],
          "name": "stdout"
        }
      ]
    },
    {
      "cell_type": "markdown",
      "metadata": {
        "execution": {},
        "id": "87ijHvzT9GtG"
      },
      "source": [
        "To convert a size-1 tensor to a Python scalar, we can invoke the item function or Python’s built-in functions."
      ]
    },
    {
      "cell_type": "code",
      "metadata": {
        "execution": {},
        "colab": {
          "base_uri": "https://localhost:8080/"
        },
        "id": "Yz-626zT9GtG",
        "outputId": "1f2368de-c6ad-445f-b7a4-ba1618acc5c4"
      },
      "source": [
        "a = torch.tensor([3.5])\n",
        "a, a.item(), float(a), int(a)"
      ],
      "execution_count": 138,
      "outputs": [
        {
          "output_type": "execute_result",
          "data": {
            "text/plain": [
              "(tensor([3.5000]), 3.5, 3.5, 3)"
            ]
          },
          "metadata": {
            "tags": []
          },
          "execution_count": 138
        }
      ]
    },
    {
      "cell_type": "markdown",
      "metadata": {
        "execution": {},
        "id": "bmPjlEpd9GtG"
      },
      "source": [
        "### Coding Exercise 2.3: Manipulating Tensors\n",
        "Using a combination of the methods discussed above, complete the functions below."
      ]
    },
    {
      "cell_type": "markdown",
      "metadata": {
        "execution": {},
        "id": "CM405Apj9GtG"
      },
      "source": [
        "**Function A** \n",
        "\n",
        "This function takes in two 2D tensors $A$ and $B$ and returns the column sum of A multiplied by the sum of all the elmements of $B$ i.e. a scalar, e.g.,:\n",
        "\n",
        "$ A = \\begin{bmatrix}\n",
        "1 & 1 \\\\\n",
        "1 & 1 \n",
        "\\end{bmatrix} \\,$\n",
        "and\n",
        "$ B = \\begin{bmatrix}\n",
        "1 & 2 & 3\\\\\n",
        "1 & 2 & 3 \n",
        "\\end{bmatrix} \\,$\n",
        "so\n",
        "$ \\, Out =  \\begin{bmatrix} 2 & 2 \\\\\n",
        "\\end{bmatrix} \\cdot 12 = \\begin{bmatrix}\n",
        "24 & 24\\\\\n",
        "\\end{bmatrix}$\n",
        "\n",
        "**Function B** \n",
        "\n",
        "This function takes in a square matrix $C$ and returns a 2D tensor consisting of a flattened $C$ with the index of each element appended to this tensor in the row dimension, e.g.,:\n",
        "\n",
        "$ C = \\begin{bmatrix}\n",
        "2 & 3 \\\\\n",
        "-1 & 10 \n",
        "\\end{bmatrix} \\,$\n",
        "so\n",
        "$ \\, Out = \\begin{bmatrix}\n",
        "0 & 2 \\\\\n",
        "1 & 3 \\\\\n",
        "2 & -1 \\\\\n",
        "3 & 10\n",
        "\\end{bmatrix}$\n",
        "\n",
        "**Hint:** pay close attention to singleton dimensions\n",
        "\n",
        "**Function C**\n",
        "\n",
        "This function takes in two 2D tensors $D$ and $E$. If the dimensions allow it, this function returns the elementwise sum of $D$-shaped $E$, and $D$; else this function returns a 1D tensor that is the concatenation of the two tensors, e.g.,:\n",
        "\n",
        "$ D = \\begin{bmatrix}\n",
        "1 & -1 \\\\\n",
        "-1 & 3 \n",
        "\\end{bmatrix} \\,$\n",
        "and \n",
        "$ E = \\begin{bmatrix}\n",
        "2 & 3 & 0 & 2 \\\\\n",
        "\\end{bmatrix} \\, $\n",
        "so\n",
        "$ \\, Out = \\begin{bmatrix}\n",
        "3 & 2 \\\\\n",
        "-1 & 5 \n",
        "\\end{bmatrix}$\n",
        "\n",
        "$ D = \\begin{bmatrix}\n",
        "1 & -1 \\\\\n",
        "-1 & 3 \n",
        "\\end{bmatrix}$\n",
        "and\n",
        "$ \\, E = \\begin{bmatrix}\n",
        "2 & 3 & 0  \\\\\n",
        "\\end{bmatrix} \\,$\n",
        "so\n",
        "$ \\, Out = \\begin{bmatrix}\n",
        "1 & -1 & -1 & 3  & 2 & 3 & 0  \n",
        "\\end{bmatrix}$\n",
        "\n",
        "**Hint:** `torch.numel()` is an easy way of finding the number of elements in a tensor\n"
      ]
    },
    {
      "cell_type": "code",
      "metadata": {
        "execution": {},
        "colab": {
          "base_uri": "https://localhost:8080/"
        },
        "id": "_rwvnsHe9GtG",
        "outputId": "aad38d6b-6a77-4a25-9191-360b41d4fbbd"
      },
      "source": [
        "def functionA(my_tensor1, my_tensor2):\n",
        "  \"\"\"\n",
        "  This function takes in two 2D tensors `my_tensor1` and `my_tensor2`\n",
        "  and returns the column sum of\n",
        "  `my_tensor1` multiplied by the sum of all the elmements of `my_tensor2`,\n",
        "  i.e., a scalar.\n",
        "\n",
        "  Args:\n",
        "    my_tensor1: torch.Tensor\n",
        "    my_tensor2: torch.Tensor\n",
        "  Retuns:\n",
        "    output: torch.Tensor\n",
        "      The multiplication of the column sum of `my_tensor1` by the sum of\n",
        "      `my_tensor2`.\n",
        "  \"\"\"\n",
        "  ################################################\n",
        "  ## TODO for students: complete functionA\n",
        "  #raise NotImplementedError(\"Student exercise: complete function A\")\n",
        "  ################################################\n",
        "  # TODO multiplication the sum of the tensors\n",
        "  output = my_tensor1.sum(axis = 1) * my_tensor2.sum()\n",
        "\n",
        "  return output\n",
        "\n",
        "\n",
        "def functionB(my_tensor):\n",
        "  \"\"\"\n",
        "  This function takes in a square matrix `my_tensor` and returns a 2D tensor\n",
        "  consisting of a flattened `my_tensor` with the index of each element\n",
        "  appended to this tensor in the row dimension.\n",
        "\n",
        "  Args:\n",
        "    my_tensor: torch.Tensor\n",
        "  Retuns:\n",
        "    output: torch.Tensor\n",
        "      Concatenated tensor.\n",
        "  \"\"\"\n",
        "  ################################################\n",
        "  ## TODO for students: complete functionB\n",
        "  # raise NotImplementedError(\"Student exercise: complete function B\")\n",
        "  ################################################\n",
        "  # TODO flatten the tensor `my_tensor`\n",
        "  my_tensor = my_tensor.flatten()\n",
        "  # TODO create the idx tensor to be concatenated to `my_tensor`\n",
        "  idx_tensor = torch.arange(0, my_tensor.shape[0])\n",
        "  # TODO concatenate the two tensors\n",
        "  output = torch.cat(( idx_tensor.reshape(-1, 1), my_tensor.reshape(-1,1)), 1)\n",
        "\n",
        "  return output\n",
        "\n",
        "\n",
        "def functionC(my_tensor1, my_tensor2):\n",
        "  \"\"\"\n",
        "  This function takes in two 2D tensors `my_tensor1` and `my_tensor2`.\n",
        "  If the dimensions allow it, it returns the\n",
        "  elementwise sum of `my_tensor1`-shaped `my_tensor2`, and `my_tensor2`;\n",
        "  else this function returns a 1D tensor that is the concatenation of the\n",
        "  two tensors.\n",
        "\n",
        "  Args:\n",
        "    my_tensor1: torch.Tensor\n",
        "    my_tensor2: torch.Tensor\n",
        "  Retuns:\n",
        "    output: torch.Tensor\n",
        "      Concatenated tensor.\n",
        "  \"\"\"\n",
        "  ################################################\n",
        "  ## TODO for students: complete functionB\n",
        "  #raise NotImplementedError(\"Student exercise: complete function C\")\n",
        "  ################################################\n",
        "  # TODO check we can reshape `my_tensor2` into the shape of `my_tensor1`\n",
        "  if my_tensor2.flatten().shape == my_tensor1.flatten().shape:\n",
        "    # TODO reshape `my_tensor2` into the shape of `my_tensor1`\n",
        "    my_tensor2 = my_tensor2.reshape(my_tensor1.shape)\n",
        "    # TODO sum the two tensors\n",
        "    output = my_tensor1 + my_tensor2\n",
        "  else:\n",
        "    # TODO flatten both tensors\n",
        "    my_tensor1 = my_tensor1.flatten()\n",
        "    my_tensor2 = my_tensor2.flatten()\n",
        "    # TODO concatenate the two tensors in the correct dimension\n",
        "    output = torch.cat((my_tensor1, my_tensor2))\n",
        "\n",
        "  return output\n",
        "\n",
        "# add timing to airtable\n",
        "atform.add_event('Coding Exercise 2.3: Manipulating Tensors')\n",
        "\n",
        "\n",
        "\n",
        "## Implement the functions above and then uncomment the following lines to test your code\n",
        "print(functionA(torch.tensor([[1, 1], [1, 1]]), torch.tensor([[1, 2, 3], [1, 2, 3]])))\n",
        "print(functionB(torch.tensor([[2, 3], [-1, 10]])))\n",
        "print(functionC(torch.tensor([[1, -1], [-1, 3]]), torch.tensor([[2, 3, 0, 2]])))\n",
        "print(functionC(torch.tensor([[1, -1], [-1, 3]]), torch.tensor([[2, 3, 0]])))"
      ],
      "execution_count": 139,
      "outputs": [
        {
          "output_type": "stream",
          "text": [
            "tensor([24, 24])\n",
            "tensor([[ 0,  2],\n",
            "        [ 1,  3],\n",
            "        [ 2, -1],\n",
            "        [ 3, 10]])\n",
            "tensor([[ 3,  2],\n",
            "        [-1,  5]])\n",
            "tensor([ 1, -1, -1,  3,  2,  3,  0])\n"
          ],
          "name": "stdout"
        }
      ]
    },
    {
      "cell_type": "markdown",
      "metadata": {
        "execution": {},
        "id": "erD9Ipp19GtG"
      },
      "source": [
        "[*Click for solution*](https://github.com/NeuromatchAcademy/course-content-dl/tree/main//tutorials/W1D1_BasicsAndPytorch/solutions/W1D1_Tutorial1_Solution_ea1718cb.py)\n",
        "\n"
      ]
    },
    {
      "cell_type": "markdown",
      "metadata": {
        "execution": {},
        "id": "Rxld3Nf39GtG"
      },
      "source": [
        "```\n",
        "tensor([24, 24])\n",
        "tensor([[ 0,  2],\n",
        "        [ 1,  3],\n",
        "        [ 2, -1],\n",
        "        [ 3, 10]])\n",
        "tensor([[ 3,  2],\n",
        "        [-1,  5]])\n",
        "tensor([ 1, -1, -1,  3,  2,  3,  0])\n",
        "```"
      ]
    },
    {
      "cell_type": "markdown",
      "metadata": {
        "execution": {},
        "id": "MqdCJZdE9GtG"
      },
      "source": [
        "## Section 2.4: GPUs \n"
      ]
    },
    {
      "cell_type": "code",
      "metadata": {
        "cellView": "form",
        "execution": {},
        "colab": {
          "base_uri": "https://localhost:8080/",
          "height": 580,
          "referenced_widgets": [
            "8d3172ba7cca446ab312cf3fc6ae28cf",
            "40628e775e774136ae3fa37657d2b142",
            "7f19a57c242a40679f030bc1b7a40578",
            "900f56e9a405486bb290654d381358e7",
            "5b0d56fa255a4175bfd73b0ea18313ce",
            "661db416bde74f7c85fcc3686f83330c"
          ]
        },
        "id": "KmdrRZyF9GtG",
        "outputId": "8eb94343-bad0-4687-a0e1-b9692ab9b982"
      },
      "source": [
        "# @title Video 6: GPU vs CPU\n",
        "from ipywidgets import widgets\n",
        "\n",
        "out2 = widgets.Output()\n",
        "with out2:\n",
        "  from IPython.display import IFrame\n",
        "  class BiliVideo(IFrame):\n",
        "    def __init__(self, id, page=1, width=400, height=300, **kwargs):\n",
        "      self.id=id\n",
        "      src = \"https://player.bilibili.com/player.html?bvid={0}&page={1}\".format(id, page)\n",
        "      super(BiliVideo, self).__init__(src, width, height, **kwargs)\n",
        "\n",
        "  video = BiliVideo(id=f\"BV1nM4y1K7qx\", width=854, height=480, fs=1)\n",
        "  print(\"Video available at https://www.bilibili.com/video/{0}\".format(video.id))\n",
        "  display(video)\n",
        "\n",
        "out1 = widgets.Output()\n",
        "with out1:\n",
        "  from IPython.display import YouTubeVideo\n",
        "  video = YouTubeVideo(id=f\"9Mc9GFUtILY\", width=854, height=480, fs=1, rel=0)\n",
        "  print(\"Video available at https://youtube.com/watch?v=\" + video.id)\n",
        "  display(video)\n",
        "\n",
        "out = widgets.Tab([out1, out2])\n",
        "out.set_title(0, 'Youtube')\n",
        "out.set_title(1, 'Bilibili')\n",
        "\n",
        "# add timing to airtable\n",
        "atform.add_event('Video 6: GPU vs CPU')\n",
        "\n",
        "display(out)"
      ],
      "execution_count": 140,
      "outputs": [
        {
          "output_type": "display_data",
          "data": {
            "application/vnd.jupyter.widget-view+json": {
              "model_id": "8d3172ba7cca446ab312cf3fc6ae28cf",
              "version_minor": 0,
              "version_major": 2
            },
            "text/plain": [
              "Tab(children=(Output(), Output()), _titles={'0': 'Youtube', '1': 'Bilibili'})"
            ]
          },
          "metadata": {
            "tags": []
          }
        }
      ]
    },
    {
      "cell_type": "markdown",
      "metadata": {
        "execution": {},
        "id": "xtL5_LGP9GtH"
      },
      "source": [
        "\n",
        "By default, when we create a tensor it will *not* live on the GPU! "
      ]
    },
    {
      "cell_type": "code",
      "metadata": {
        "execution": {},
        "colab": {
          "base_uri": "https://localhost:8080/"
        },
        "id": "gy-Nvyii9GtH",
        "outputId": "584cf92d-7e51-4fb5-86ef-c936593130a3"
      },
      "source": [
        "x = torch.randn(10)\n",
        "print(x.device)"
      ],
      "execution_count": 141,
      "outputs": [
        {
          "output_type": "stream",
          "text": [
            "cpu\n"
          ],
          "name": "stdout"
        }
      ]
    },
    {
      "cell_type": "markdown",
      "metadata": {
        "execution": {},
        "id": "HqcBM9oq9GtH"
      },
      "source": [
        "When using Colab notebooks by default will not have access to a GPU. In order to start using GPUs we need to request one. We can do this by going to the runtime tab at the top of the page. \n",
        "\n",
        "By following Runtime -> Change runtime type and selecting \"GPU\" from the Hardware Accelerator dropdown list, we can start playing with sending tensors to GPUs.\n",
        "\n",
        "Once you have done this your runtime will restart and you will need to rerun the first setup cell to reimport PyTorch. Then proceed to the next cell.\n",
        "\n",
        "(For more information on the GPU usage policy you can view in the appendix)"
      ]
    },
    {
      "cell_type": "markdown",
      "metadata": {
        "execution": {},
        "id": "iN4Cxyuw9GtH"
      },
      "source": [
        "**Now we have a GPU**\n"
      ]
    },
    {
      "cell_type": "markdown",
      "metadata": {
        "execution": {},
        "id": "nOpVmXXo9GtH"
      },
      "source": [
        "The cell below should return True."
      ]
    },
    {
      "cell_type": "code",
      "metadata": {
        "execution": {},
        "colab": {
          "base_uri": "https://localhost:8080/"
        },
        "id": "JhmJGLw-9GtH",
        "outputId": "2e477657-daca-4e10-e36d-8fbe22168033"
      },
      "source": [
        "print(torch.cuda.is_available())"
      ],
      "execution_count": 142,
      "outputs": [
        {
          "output_type": "stream",
          "text": [
            "True\n"
          ],
          "name": "stdout"
        }
      ]
    },
    {
      "cell_type": "markdown",
      "metadata": {
        "execution": {},
        "id": "_Os3gbKB9GtH"
      },
      "source": [
        "CUDA is an API developed by Nvidia for interfacing with GPUs. PyTorch provides us with a layer of abstraction, and allows us to launch CUDA kernels using pure Python. *NOTE I am assuming that GPU stuff might be covered in more detail on another day but there could be a bit more detail here.*\n",
        "\n",
        "In short, we get the power of parallising our tensor computations on GPUs, whilst only writing (relatively) simple Python!\n",
        "\n",
        "Here, we define the function `set_device`, which returns the device use in the notebook, i.e., `cpu` or `cuda`. Unless otherwise specified, we use this function on top of every tutorial, and we store the device variable such as\n",
        "\n",
        "```python\n",
        "DEVICE = set_device()\n",
        "```\n",
        "\n",
        "Let's define the function using the PyTorch package `torch.cuda`, which is lazily initialized, so we can always import it, and use `is_available()` to determine if our system supports CUDA."
      ]
    },
    {
      "cell_type": "code",
      "metadata": {
        "execution": {},
        "id": "BQkol2tK9GtH"
      },
      "source": [
        "def set_device():\n",
        "  device = \"cuda\" if torch.cuda.is_available() else \"cpu\"\n",
        "  if device != \"cuda\":\n",
        "    print(\"GPU is not enabled in this notebook. \\n\"\n",
        "          \"If you want to enable it, in the menu under `Runtime` -> \\n\"\n",
        "          \"`Hardware accelerator.` and select `GPU` from the dropdown menu\")\n",
        "  else:\n",
        "    print(\"GPU is enabled in this notebook. \\n\"\n",
        "          \"If you want to disable it, in the menu under `Runtime` -> \\n\"\n",
        "          \"`Hardware accelerator.` and select `None` from the dropdown menu\")\n",
        "\n",
        "  return device"
      ],
      "execution_count": 143,
      "outputs": []
    },
    {
      "cell_type": "markdown",
      "metadata": {
        "execution": {},
        "id": "eF8Tt1p09GtH"
      },
      "source": [
        "Let's make some CUDA tensors!"
      ]
    },
    {
      "cell_type": "code",
      "metadata": {
        "execution": {},
        "colab": {
          "base_uri": "https://localhost:8080/"
        },
        "id": "2E0u1D4I9GtH",
        "outputId": "9b43763b-2db5-46b7-bffb-3c9fbc9e6236"
      },
      "source": [
        "# common device agnostic way of writing code that can run on cpu OR gpu\n",
        "# that we provide for you in each of the tutorials\n",
        "DEVICE = set_device()\n",
        "\n",
        "# we can specify a device when we first create our tensor\n",
        "x = torch.randn(2, 2, device=DEVICE)\n",
        "print(x.dtype)\n",
        "print(x.device)\n",
        "\n",
        "# we can also use the .to() method to change the device a tensor lives on\n",
        "y = torch.randn(2, 2)\n",
        "print(f\"y before calling to() |  device: {y.device} | dtype: {y.type()}\")\n",
        "\n",
        "y = y.to(DEVICE)\n",
        "print(f\"y after calling to() |  device: {y.device} | dtype: {y.type()}\")"
      ],
      "execution_count": 144,
      "outputs": [
        {
          "output_type": "stream",
          "text": [
            "GPU is enabled in this notebook. \n",
            "If you want to disable it, in the menu under `Runtime` -> \n",
            "`Hardware accelerator.` and select `None` from the dropdown menu\n",
            "torch.float32\n",
            "cuda:0\n",
            "y before calling to() |  device: cpu | dtype: torch.FloatTensor\n",
            "y after calling to() |  device: cuda:0 | dtype: torch.cuda.FloatTensor\n"
          ],
          "name": "stdout"
        }
      ]
    },
    {
      "cell_type": "markdown",
      "metadata": {
        "execution": {},
        "id": "g3m2rQyR9GtH"
      },
      "source": [
        "**Operations between cpu tensors and cuda tensors**\n",
        "\n",
        "Note that the type of the tensor changed after calling ```.to()```. What happens if we try and perform operations on tensors on devices?\n",
        "\n",
        "\n"
      ]
    },
    {
      "cell_type": "code",
      "metadata": {
        "execution": {},
        "id": "9XKF9uBx9GtH"
      },
      "source": [
        "x = torch.tensor([0, 1, 2], device=DEVICE)\n",
        "y = torch.tensor([3, 4, 5], device=\"cpu\")\n",
        "\n",
        "# Uncomment the following line and run this cell\n",
        "# z = x + y"
      ],
      "execution_count": 145,
      "outputs": []
    },
    {
      "cell_type": "markdown",
      "metadata": {
        "execution": {},
        "id": "LSCVDZ0i9GtH"
      },
      "source": [
        "We cannot combine cuda tensors and cpu tensors in this fashion. If we want to compute an operation that combines tensors on different devices, we need to move them first! We can use the `.to()` method as before, or the `.cpu()` and `.cuda()` methods. Note that using the `.cuda()` will throw an error if CUDA is not enabled in your machine.\n",
        "\n",
        "Genrally in this course all Deep learning is done on the GPU and any computation is done on the CPU, so sometimes we have to pass things back and forth so you'll see us call."
      ]
    },
    {
      "cell_type": "code",
      "metadata": {
        "execution": {},
        "colab": {
          "base_uri": "https://localhost:8080/"
        },
        "id": "sQUEj4lL9GtH",
        "outputId": "3bb99ff3-28d1-4344-e803-47127ef22aa6"
      },
      "source": [
        "x = torch.tensor([0, 1, 2], device=DEVICE)\n",
        "y = torch.tensor([3, 4, 5], device=\"cpu\")\n",
        "z = torch.tensor([6, 7, 8], device=DEVICE)\n",
        "\n",
        "# moving to cpu\n",
        "x = x.to(\"cpu\")  # alternatively, you can use x = x.cpu()\n",
        "print(x + y)\n",
        "\n",
        "# moving to gpu\n",
        "y = y.to(DEVICE)  # alternatively, you can use y = y.cuda()\n",
        "print(y + z)"
      ],
      "execution_count": 146,
      "outputs": [
        {
          "output_type": "stream",
          "text": [
            "tensor([3, 5, 7])\n",
            "tensor([ 9, 11, 13], device='cuda:0')\n"
          ],
          "name": "stdout"
        }
      ]
    },
    {
      "cell_type": "markdown",
      "metadata": {
        "execution": {},
        "id": "Npb7ScH-9GtH"
      },
      "source": [
        "### Coding Exercise 2.4: Just how much faster are GPUs?\n",
        "\n",
        "Below is a simple function `simpleFun`. Complete this function, such that it performs the operations:\n",
        "\n",
        "- elementwise multiplication\n",
        "\n",
        "- matrix multiplication\n",
        "\n",
        "The operations should be able to perfomed on either the CPU or GPU specified by the parameter `device`. We will use the helper function `timeFun(f, dim, iterations, device)`."
      ]
    },
    {
      "cell_type": "code",
      "metadata": {
        "execution": {},
        "id": "fy8dhsI79GtH"
      },
      "source": [
        "dim = 10000\n",
        "iterations = 1"
      ],
      "execution_count": 147,
      "outputs": []
    },
    {
      "cell_type": "code",
      "metadata": {
        "execution": {},
        "colab": {
          "base_uri": "https://localhost:8080/"
        },
        "id": "t7swBUv39GtH",
        "outputId": "c9fa0f6a-d15d-4365-c04b-742309c4e47b"
      },
      "source": [
        "def simpleFun(dim, device):\n",
        "  \"\"\"\n",
        "  Args:\n",
        "    dim: integer\n",
        "    device: \"cpu\" or \"cuda\"\n",
        "  Returns:\n",
        "    Nothing.\n",
        "  \"\"\"\n",
        "  ###############################################\n",
        "  ## TODO for students: recreate the function, but\n",
        "  ## ensure all computations happens on the `device`\n",
        "  #raise NotImplementedError(\"Student exercise: fill in the missing code to create the tensors\")\n",
        "  ###############################################\n",
        "  # 2D tensor filled with uniform random numbers in [0,1), dim x dim\n",
        "  x = torch.rand((dim,dim), device = device)\n",
        "  # 2D tensor filled with uniform random numbers in [0,1), dim x dim\n",
        "  y = torch.rand((dim,dim), device = device)\n",
        "  # 2D tensor filled with the scalar value 2, dim x dim\n",
        "  z = 2*torch.ones((dim,dim), device = device)\n",
        "\n",
        "  # elementwise multiplication of x and y\n",
        "  a = x*y\n",
        "  # matrix multiplication of x and y\n",
        "  b = x@y\n",
        "\n",
        "  del x\n",
        "  del y\n",
        "  del z\n",
        "  del a\n",
        "  del b\n",
        "\n",
        "\n",
        "## TODO: Implement the function above and uncomment the following lines to test your code\n",
        "timeFun(f=simpleFun, dim=dim, iterations=iterations, device = 'cpu')\n",
        "timeFun(f=simpleFun, dim=dim, iterations=iterations, device=DEVICE)"
      ],
      "execution_count": 164,
      "outputs": [
        {
          "output_type": "stream",
          "text": [
            "time taken for 1 iterations of simpleFun(10000, cpu): 28.15272\n",
            "time taken for 1 iterations of simpleFun(10000, cuda): 0.00235\n"
          ],
          "name": "stdout"
        }
      ]
    },
    {
      "cell_type": "markdown",
      "metadata": {
        "execution": {},
        "id": "fxGGlZxb9GtH"
      },
      "source": [
        "[*Click for solution*](https://github.com/NeuromatchAcademy/course-content-dl/tree/main//tutorials/W1D1_BasicsAndPytorch/solutions/W1D1_Tutorial1_Solution_232a94a4.py)\n",
        "\n"
      ]
    },
    {
      "cell_type": "markdown",
      "metadata": {
        "execution": {},
        "id": "rDYUaQaP9GtH"
      },
      "source": [
        "Sample output (depends on your hardware)\n",
        "\n",
        "```\n",
        "time taken for 1 iterations of simpleFun(10000, cpu): 23.74070\n",
        "time taken for 1 iterations of simpleFun(10000, cuda): 0.87535\n",
        "```"
      ]
    },
    {
      "cell_type": "markdown",
      "metadata": {
        "execution": {},
        "id": "3-NdYsMs9GtH"
      },
      "source": [
        "**Discuss!**\n",
        "\n",
        "Try and reduce the dimensions of the tensors and increase the iterations. You can get to a point where the cpu only function is faster than the GPU function. Why might this be?\n"
      ]
    },
    {
      "cell_type": "markdown",
      "metadata": {
        "execution": {},
        "id": "98Pw_nyX9GtH"
      },
      "source": [
        "## Section 2.5: Datasets and Dataloaders\n",
        "\n"
      ]
    },
    {
      "cell_type": "code",
      "metadata": {
        "cellView": "form",
        "execution": {},
        "id": "dsxOCwAb9GtH"
      },
      "source": [
        "# @title Video 7: Getting Data\n",
        "from ipywidgets import widgets\n",
        "\n",
        "out2 = widgets.Output()\n",
        "with out2:\n",
        "  from IPython.display import IFrame\n",
        "  class BiliVideo(IFrame):\n",
        "    def __init__(self, id, page=1, width=400, height=300, **kwargs):\n",
        "      self.id=id\n",
        "      src = \"https://player.bilibili.com/player.html?bvid={0}&page={1}\".format(id, page)\n",
        "      super(BiliVideo, self).__init__(src, width, height, **kwargs)\n",
        "\n",
        "  video = BiliVideo(id=f\"BV1744y127SQ\", width=854, height=480, fs=1)\n",
        "  print(\"Video available at https://www.bilibili.com/video/{0}\".format(video.id))\n",
        "  display(video)\n",
        "\n",
        "out1 = widgets.Output()\n",
        "with out1:\n",
        "  from IPython.display import YouTubeVideo\n",
        "  video = YouTubeVideo(id=f\"LSkjPM1gFu0\", width=854, height=480, fs=1, rel=0)\n",
        "  print(\"Video available at https://youtube.com/watch?v=\" + video.id)\n",
        "  display(video)\n",
        "\n",
        "out = widgets.Tab([out1, out2])\n",
        "out.set_title(0, 'Youtube')\n",
        "out.set_title(1, 'Bilibili')\n",
        "\n",
        "# add timing to airtable\n",
        "atform.add_event('Video 7: Getting Data')\n",
        "\n",
        "display(out)"
      ],
      "execution_count": null,
      "outputs": []
    },
    {
      "cell_type": "markdown",
      "metadata": {
        "execution": {},
        "id": "W_mSeShP9GtI"
      },
      "source": [
        "When training neural network models you will be working with large amounts of data. Fortunately, PyTorch offers some great tools that help you organize and manipulate your data samples.\n"
      ]
    },
    {
      "cell_type": "code",
      "metadata": {
        "execution": {},
        "id": "IUg3YUv89GtI"
      },
      "source": [
        "# Import dataset and dataloaders related packages\n",
        "from torchvision import datasets\n",
        "from torchvision.transforms import ToTensor\n",
        "from torch.utils.data import DataLoader\n",
        "from torchvision.transforms import Compose, Grayscale"
      ],
      "execution_count": 151,
      "outputs": []
    },
    {
      "cell_type": "markdown",
      "metadata": {
        "execution": {},
        "id": "glQ4S6Yn9GtI"
      },
      "source": [
        "**Datasets**\n",
        "\n",
        "The `torchvision` package gives you easy access to many of the publicly available datasets. Let's load the [CIFAR10](https://www.cs.toronto.edu/~kriz/cifar.html) dataset, which contains color images of 10 different classes, like vehicles and animals.\n",
        "\n",
        "Creating an object of type `datasets.CIFAR10` will automatically download and load all images from the dataset. The resulting data structure can be treated as a list containing data samples and their corresponding labels."
      ]
    },
    {
      "cell_type": "code",
      "metadata": {
        "execution": {},
        "colab": {
          "base_uri": "https://localhost:8080/",
          "height": 133,
          "referenced_widgets": [
            "cd28bba152974b92b81b0a2ff3d58480",
            "6d107ec76c9b497a88c724e009a7f0f4",
            "1617ba78f33347dcaf5eafa60a91bf1a",
            "11d4dfda723f4f8f95921d4975fe58d1",
            "0daa621e4a994ec1bc3a7389160847ce",
            "e0e6ec1150f6439e990ba6387e763b79",
            "a4dd996dbcac4e75a14ceda1ccddaf7c",
            "4d4f5629b08545b5adbcf54fad154b3f"
          ]
        },
        "id": "cy51KSlR9GtI",
        "outputId": "25586345-4fef-4b7f-8b5e-8d7d53456613"
      },
      "source": [
        "# Download and load the images from the CIFAR10 dataset\n",
        "cifar10_data = datasets.CIFAR10(\n",
        "    root=\"data\",            # path where the images will be stored\n",
        "    download=True,          # all images should be downloaded\n",
        "    transform=ToTensor()    # transform the images to tensors\n",
        "    )\n",
        "\n",
        "# Print the number of samples in the loaded dataset\n",
        "print(f\"Number of samples: {len(cifar10_data)}\")\n",
        "print(f\"Class names: {cifar10_data.classes}\")"
      ],
      "execution_count": 152,
      "outputs": [
        {
          "output_type": "stream",
          "text": [
            "Downloading https://www.cs.toronto.edu/~kriz/cifar-10-python.tar.gz to data/cifar-10-python.tar.gz\n"
          ],
          "name": "stdout"
        },
        {
          "output_type": "display_data",
          "data": {
            "application/vnd.jupyter.widget-view+json": {
              "model_id": "cd28bba152974b92b81b0a2ff3d58480",
              "version_minor": 0,
              "version_major": 2
            },
            "text/plain": [
              "HBox(children=(FloatProgress(value=0.0, max=170498071.0), HTML(value='')))"
            ]
          },
          "metadata": {
            "tags": []
          }
        },
        {
          "output_type": "stream",
          "text": [
            "\n",
            "Extracting data/cifar-10-python.tar.gz to data\n",
            "Number of samples: 50000\n",
            "Class names: ['airplane', 'automobile', 'bird', 'cat', 'deer', 'dog', 'frog', 'horse', 'ship', 'truck']\n"
          ],
          "name": "stdout"
        }
      ]
    },
    {
      "cell_type": "markdown",
      "metadata": {
        "execution": {},
        "id": "-uO0oDu39GtI"
      },
      "source": [
        "We have 50000 samples loaded. Now let's take a look at one of them in detail. Each sample consists of an image and its corresponding label."
      ]
    },
    {
      "cell_type": "code",
      "metadata": {
        "execution": {},
        "colab": {
          "base_uri": "https://localhost:8080/"
        },
        "id": "6h7I7GVx9GtI",
        "outputId": "07e4f76a-6e5f-4442-bda6-a4adcb7ddea2"
      },
      "source": [
        "# Choose a random sample\n",
        "random.seed(2021)\n",
        "image, label = cifar10_data[random.randint(0, len(cifar10_data))]\n",
        "print(f\"Label: {cifar10_data.classes[label]}\")\n",
        "print(f\"Image size: {image.shape}\")"
      ],
      "execution_count": 153,
      "outputs": [
        {
          "output_type": "stream",
          "text": [
            "Label: horse\n",
            "Image size: torch.Size([3, 32, 32])\n"
          ],
          "name": "stdout"
        }
      ]
    },
    {
      "cell_type": "markdown",
      "metadata": {
        "execution": {},
        "id": "wxlKDxsD9GtI"
      },
      "source": [
        "Color images are modeled as 3 dimensional tensors. The first dimension corresponds to the channels (C) of the image (in this case we have RGB images). The second dimensions is the height (H) of the image and the third is the width (W). We can denote this image format as C × H × W."
      ]
    },
    {
      "cell_type": "markdown",
      "metadata": {
        "execution": {},
        "id": "WX5PqSsB9GtI"
      },
      "source": [
        "### Coding Exercise 2.5: Display an image from the dataset\n",
        "\n",
        "Let's try to display the image using `matplotlib`. The code below will not work, because `imshow` expects to have the image in a different format - $H \\times W \\times C$.\n",
        "\n",
        "You need to reorder the dimensions of the tensor using the `permute` method of the tensor. PyTorch `torch.permute(*dims)` rearranges the original tensor according to the desired ordering and returns a new multidimensional rotated tensor. The size of the returned tensor remains the same as that of the original.\n",
        "\n",
        "**Code hint:**\n",
        "\n",
        "```python\n",
        "# create a tensor of size 2 x 4\n",
        "input_var = torch.randn(2, 4)\n",
        "# print its size and the tensor\n",
        "print(input_var.size())\n",
        "print(input_var)\n",
        "\n",
        "# dimensions permuted\n",
        "input_var = input_var.permute(1, 0)\n",
        "# print its size and the permuted tensor\n",
        "print(input_var.size())\n",
        "print(input_var)\n",
        "```"
      ]
    },
    {
      "cell_type": "code",
      "metadata": {
        "execution": {},
        "colab": {
          "base_uri": "https://localhost:8080/",
          "height": 447
        },
        "id": "jBiceuUR9GtI",
        "outputId": "04b1de16-ecdf-4ac5-d1b1-188b19d93066"
      },
      "source": [
        "# TODO: Uncomment the following line to see the error that arises from the current image format\n",
        "#plt.imshow(image)\n",
        "\n",
        "# TODO: Comment the above line and fix this code by reordering the tensor dimensions\n",
        "plt.imshow(image.permute(1, 2, 0))\n",
        "#plt.show()"
      ],
      "execution_count": 156,
      "outputs": [
        {
          "output_type": "execute_result",
          "data": {
            "text/plain": [
              "<matplotlib.image.AxesImage at 0x7f9ec259a1d0>"
            ]
          },
          "metadata": {
            "tags": []
          },
          "execution_count": 156
        },
        {
          "output_type": "display_data",
          "data": {
            "image/png": "[encoded data removed]",
            "text/plain": [
              "<Figure size 576x432 with 1 Axes>"
            ]
          },
          "metadata": {
            "tags": [],
            "image/png": {
              "width": 417,
              "height": 413
            },
            "needs_background": "light"
          }
        }
      ]
    },
    {
      "cell_type": "markdown",
      "metadata": {
        "execution": {},
        "id": "sowyoXKY9GtI"
      },
      "source": [
        "[*Click for solution*](https://github.com/NeuromatchAcademy/course-content-dl/tree/main//tutorials/W1D1_BasicsAndPytorch/solutions/W1D1_Tutorial1_Solution_b04bd357.py)\n",
        "\n",
        "*Example output:*\n",
        "\n",
        "<img alt='Solution hint' align='left' width=835.0 height=827.0 src=https://raw.githubusercontent.com/NeuromatchAcademy/course-content-dl/main/tutorials/W1D1_BasicsAndPytorch/static/W1D1_Tutorial1_Solution_b04bd357_0.png>\n",
        "\n"
      ]
    },
    {
      "cell_type": "code",
      "metadata": {
        "cellView": "form",
        "execution": {},
        "id": "Fdwep_Ch9GtI"
      },
      "source": [
        "#@title Video 8: Train and Test\n",
        "from ipywidgets import widgets\n",
        "\n",
        "out2 = widgets.Output()\n",
        "with out2:\n",
        "  from IPython.display import IFrame\n",
        "  class BiliVideo(IFrame):\n",
        "    def __init__(self, id, page=1, width=400, height=300, **kwargs):\n",
        "      self.id=id\n",
        "      src = \"https://player.bilibili.com/player.html?bvid={0}&page={1}\".format(id, page)\n",
        "      super(BiliVideo, self).__init__(src, width, height, **kwargs)\n",
        "\n",
        "  video = BiliVideo(id=f\"BV1rV411H7s5\", width=854, height=480, fs=1)\n",
        "  print(\"Video available at https://www.bilibili.com/video/{0}\".format(video.id))\n",
        "  display(video)\n",
        "\n",
        "out1 = widgets.Output()\n",
        "with out1:\n",
        "  from IPython.display import YouTubeVideo\n",
        "  video = YouTubeVideo(id=f\"JokSIuPs-ys\", width=854, height=480, fs=1, rel=0)\n",
        "  print(\"Video available at https://youtube.com/watch?v=\" + video.id)\n",
        "  display(video)\n",
        "\n",
        "out = widgets.Tab([out1, out2])\n",
        "out.set_title(0, 'Youtube')\n",
        "out.set_title(1, 'Bilibili')\n",
        "\n",
        "# add timing to airtable\n",
        "atform.add_event('Video 8: Train and Test')\n",
        "\n",
        "display(out)"
      ],
      "execution_count": null,
      "outputs": []
    },
    {
      "cell_type": "markdown",
      "metadata": {
        "execution": {},
        "id": "1WEYYPLC9GtI"
      },
      "source": [
        "**Training and Test Datasets**\n",
        "\n",
        "When loading a dataset, you can specify if you want to load the training or the test samples using the `train` argument. We can load the training and test datasets separately. For simplicity, today we will not use both datasets separately, but this topic will be adressed in the next days."
      ]
    },
    {
      "cell_type": "code",
      "metadata": {
        "execution": {},
        "colab": {
          "base_uri": "https://localhost:8080/"
        },
        "id": "fwEiJBCN9GtI",
        "outputId": "9406dbaf-5720-4598-81f5-1e58e54f2312"
      },
      "source": [
        "# Load the training samples\n",
        "training_data = datasets.CIFAR10(\n",
        "    root=\"data\",\n",
        "    train=True,\n",
        "    download=True,\n",
        "    transform=ToTensor()\n",
        "    )\n",
        "\n",
        "# Load the test samples\n",
        "test_data = datasets.CIFAR10(\n",
        "    root=\"data\",\n",
        "    train=False,\n",
        "    download=True,\n",
        "    transform=ToTensor()\n",
        "    )"
      ],
      "execution_count": 157,
      "outputs": [
        {
          "output_type": "stream",
          "text": [
            "Files already downloaded and verified\n",
            "Files already downloaded and verified\n"
          ],
          "name": "stdout"
        }
      ]
    },
    {
      "cell_type": "code",
      "metadata": {
        "cellView": "form",
        "execution": {},
        "colab": {
          "base_uri": "https://localhost:8080/",
          "height": 580,
          "referenced_widgets": [
            "36975ce64a814aa396ff026723859a59",
            "d806c3acd9e34f86bc27085aa6562cf0",
            "50b8248bca14491fb09e000afbb9b66f",
            "5d791f4f4f734260bb5bd1377112f0fc",
            "7b28de0b35bc444cb974abbe7268bc34",
            "2819dda5c65442d5822a91f73072cc7c"
          ]
        },
        "id": "ANrlO2S-9GtI",
        "outputId": "dce95970-f999-4660-85f8-0ef2a5524930"
      },
      "source": [
        "# @title Video 9: Data Augmentation - Transformations\n",
        "from ipywidgets import widgets\n",
        "\n",
        "out2 = widgets.Output()\n",
        "with out2:\n",
        "  from IPython.display import IFrame\n",
        "  class BiliVideo(IFrame):\n",
        "    def __init__(self, id, page=1, width=400, height=300, **kwargs):\n",
        "      self.id=id\n",
        "      src = \"https://player.bilibili.com/player.html?bvid={0}&page={1}\".format(id, page)\n",
        "      super(BiliVideo, self).__init__(src, width, height, **kwargs)\n",
        "\n",
        "  video = BiliVideo(id=f\"BV19B4y1N77t\", width=854, height=480, fs=1)\n",
        "  print(\"Video available at https://www.bilibili.com/video/{0}\".format(video.id))\n",
        "  display(video)\n",
        "\n",
        "out1 = widgets.Output()\n",
        "with out1:\n",
        "  from IPython.display import YouTubeVideo\n",
        "  video = YouTubeVideo(id=f\"sjegA9OBUPw\", width=854, height=480, fs=1, rel=0)\n",
        "  print(\"Video available at https://youtube.com/watch?v=\" + video.id)\n",
        "  display(video)\n",
        "\n",
        "out = widgets.Tab([out1, out2])\n",
        "out.set_title(0, 'Youtube')\n",
        "out.set_title(1, 'Bilibili')\n",
        "\n",
        "# add timing to airtable\n",
        "atform.add_event('Video 9: Data Augmentation - Transformations')\n",
        "\n",
        "display(out)"
      ],
      "execution_count": 169,
      "outputs": [
        {
          "output_type": "display_data",
          "data": {
            "application/vnd.jupyter.widget-view+json": {
              "model_id": "36975ce64a814aa396ff026723859a59",
              "version_minor": 0,
              "version_major": 2
            },
            "text/plain": [
              "Tab(children=(Output(), Output()), _titles={'0': 'Youtube', '1': 'Bilibili'})"
            ]
          },
          "metadata": {
            "tags": []
          }
        }
      ]
    },
    {
      "cell_type": "markdown",
      "metadata": {
        "execution": {},
        "id": "khvp9SrT9GtI"
      },
      "source": [
        "**Dataloader**\n",
        "\n",
        "Another important concept is the `Dataloader`. It is a wrapper around the `Dataset` that splits it into minibatches (important for training the neural network) and makes the data iterable. The `shuffle` argument is used to shuffle the order of the samples across the minibatches.\n"
      ]
    },
    {
      "cell_type": "code",
      "metadata": {
        "execution": {},
        "id": "Y9XtAk9R9GtI"
      },
      "source": [
        "# Create dataloaders with\n",
        "train_dataloader = DataLoader(training_data, batch_size=64, shuffle=True)\n",
        "test_dataloader = DataLoader(test_data, batch_size=64, shuffle=True)"
      ],
      "execution_count": 158,
      "outputs": []
    },
    {
      "cell_type": "markdown",
      "metadata": {
        "execution": {},
        "id": "lcOQgOT79GtI"
      },
      "source": [
        "*Reproducibility:* DataLoader will reseed workers following Randomness in multi-process data loading algorithm. Use `worker_init_fn()` and a `generator` to preserve reproducibility:\n",
        "\n",
        "\n",
        "```python\n",
        "def seed_worker(worker_id):\n",
        "  worker_seed = torch.initial_seed() % 2**32\n",
        "  numpy.random.seed(worker_seed)\n",
        "  random.seed(worker_seed)\n",
        "\n",
        "\n",
        "g_seed = torch.Generator()\n",
        "g_seed.manual_seed(my_seed)\n",
        "\n",
        "DataLoader(\n",
        "    train_dataset,\n",
        "    batch_size=batch_size,\n",
        "    num_workers=num_workers,\n",
        "    worker_init_fn=seed_worker,\n",
        "    generator=g_seed\n",
        "    )\n",
        "```"
      ]
    },
    {
      "cell_type": "markdown",
      "metadata": {
        "execution": {},
        "id": "8zvlcpC29GtI"
      },
      "source": [
        "**Note:** For the `seed_worker` to have an effect, `num_workers` should be 2 or more."
      ]
    },
    {
      "cell_type": "markdown",
      "metadata": {
        "execution": {},
        "id": "u-AtQ9ZJ9GtI"
      },
      "source": [
        "We can now query the next batch from the data loader and inspect it. For this we need to convert the dataloader object to a Python iterator using the function `iter` and then we can query the next batch using the function `next`.\n",
        "\n",
        "We can now see that we have a 4D tensor. This is because we have a 64 images in the batch ($B$) and each image has 3 dimensions: channels ($C$), height ($H$) and width ($W$). So, the size of the 4D tensor is $B \\times C \\times H \\times W$."
      ]
    },
    {
      "cell_type": "code",
      "metadata": {
        "execution": {},
        "colab": {
          "base_uri": "https://localhost:8080/",
          "height": 447
        },
        "id": "RkgTZltc9GtI",
        "outputId": "c63f6362-9b32-495e-f826-32dd9ca38690"
      },
      "source": [
        "# Load the next batch\n",
        "batch_images, batch_labels = next(iter(train_dataloader))\n",
        "print('Batch size:', batch_images.shape)\n",
        "\n",
        "# Display the first image from the batch\n",
        "plt.imshow(batch_images[0].permute(1, 2, 0))\n",
        "plt.show()"
      ],
      "execution_count": 159,
      "outputs": [
        {
          "output_type": "stream",
          "text": [
            "Batch size: torch.Size([64, 3, 32, 32])\n"
          ],
          "name": "stdout"
        },
        {
          "output_type": "display_data",
          "data": {
            "image/png": "[encoded data removed]",
            "text/plain": [
              "<Figure size 576x432 with 1 Axes>"
            ]
          },
          "metadata": {
            "tags": [],
            "image/png": {
              "width": 417,
              "height": 413
            },
            "needs_background": "light"
          }
        }
      ]
    },
    {
      "cell_type": "markdown",
      "metadata": {
        "execution": {},
        "id": "1FpUbkdi9GtI"
      },
      "source": [
        "**Transformations**\n",
        "\n",
        "Another useful feature when loading a dataset is applying transformations on the data - color conversions, normalization, cropping, rotation etc. There are many predefined transformations in the `torchvision.transforms` package and you can also combine them using the `Compose` transform. Checkout the [pytorch documentation](https://pytorch.org/vision/stable/transforms.html) for details."
      ]
    },
    {
      "cell_type": "markdown",
      "metadata": {
        "execution": {},
        "id": "lkN7B8hR9GtI"
      },
      "source": [
        "### Coding Exercise 2.6: Load the CIFAR10 dataset as grayscale images\n",
        "\n",
        "The goal of this excercise is to load the images from the CIFAR10 dataset as grayscale images. Note that we rerun the `set_seed` function to ensure reproducibility."
      ]
    },
    {
      "cell_type": "code",
      "metadata": {
        "execution": {},
        "colab": {
          "base_uri": "https://localhost:8080/",
          "height": 447
        },
        "id": "KwteMBLC9GtI",
        "outputId": "f0bdba1a-5c6a-4cb9-ee0e-9a365fed4e8a"
      },
      "source": [
        "import torchvision\n",
        "def my_data_load():\n",
        "  ###############################################\n",
        "  ## TODO for students: load the CIFAR10 data,\n",
        "  ## but as grayscale images and not as RGB colored.\n",
        "  ## raise NotImplementedError(\"Student exercise: fill in the missing code to load the data\")\n",
        "  ###############################################\n",
        "  ## TODO Load the CIFAR10 data using a transform that converts the images to grayscale tensors\n",
        "  data = datasets.CIFAR10(root = \"data\", \n",
        "                          transform= torchvision.transforms.Grayscale())\n",
        "  # Display a random grayscale image\n",
        "  image, label = data[random.randint(0, len(data))]\n",
        "  plt.imshow(image, cmap=\"gray\")\n",
        "  plt.show()\n",
        "\n",
        "  return data\n",
        "\n",
        "\n",
        "set_seed(seed=2021)\n",
        "## After implementing the above code, uncomment the following lines to test your code\n",
        "data = my_data_load()"
      ],
      "execution_count": 174,
      "outputs": [
        {
          "output_type": "stream",
          "text": [
            "Random seed 2021 has been set.\n"
          ],
          "name": "stdout"
        },
        {
          "output_type": "display_data",
          "data": {
            "image/png": "[encoded data removed]",
            "text/plain": [
              "<Figure size 576x432 with 1 Axes>"
            ]
          },
          "metadata": {
            "tags": [],
            "image/png": {
              "width": 417,
              "height": 413
            },
            "needs_background": "light"
          }
        }
      ]
    },
    {
      "cell_type": "markdown",
      "metadata": {
        "execution": {},
        "id": "XRaKHPHN9GtJ"
      },
      "source": [
        "[*Click for solution*](https://github.com/NeuromatchAcademy/course-content-dl/tree/main//tutorials/W1D1_BasicsAndPytorch/solutions/W1D1_Tutorial1_Solution_6052d728.py)\n",
        "\n",
        "*Example output:*\n",
        "\n",
        "<img alt='Solution hint' align='left' width=835.0 height=827.0 src=https://raw.githubusercontent.com/NeuromatchAcademy/course-content-dl/main/tutorials/W1D1_BasicsAndPytorch/static/W1D1_Tutorial1_Solution_6052d728_1.png>\n",
        "\n"
      ]
    },
    {
      "cell_type": "markdown",
      "metadata": {
        "execution": {},
        "id": "DPpRqrgC9GtJ"
      },
      "source": [
        "---\n",
        "# Section 3: Neural Networks\n",
        "\n",
        "*Time estimate: ~1 hour 30 mins (excluding movie)*"
      ]
    },
    {
      "cell_type": "markdown",
      "metadata": {
        "execution": {},
        "id": "9jEbSyfB9GtJ"
      },
      "source": [
        "Now it's time for you to create your first neural network using PyTorch. This section will walk you through the process of:\n",
        "- Creating a simple neural network model\n",
        "- Training the network\n",
        "- Visualizing the results of the network\n",
        "- Tweeking the network"
      ]
    },
    {
      "cell_type": "code",
      "metadata": {
        "cellView": "form",
        "execution": {},
        "colab": {
          "base_uri": "https://localhost:8080/",
          "height": 580,
          "referenced_widgets": [
            "e192d773b1e0493eac968ac9cae7f4e3",
            "247449f4812c4128aefee9cf985e399b",
            "d4f95786bb884a2c9c8cbd81110e4274",
            "42b3f7d11b9f444aaaab450f8230b817",
            "a514981bba2b4c5fbe38de9e30b72b0d",
            "910a4754c5db4d3d805bf19bf8aac1e9"
          ]
        },
        "id": "2ARBeLel9GtJ",
        "outputId": "756a5a6d-4433-403b-82b7-5dbc97f7c681"
      },
      "source": [
        "# @title Video 10: CSV Files\n",
        "from ipywidgets import widgets\n",
        "\n",
        "out2 = widgets.Output()\n",
        "with out2:\n",
        "  from IPython.display import IFrame\n",
        "  class BiliVideo(IFrame):\n",
        "    def __init__(self, id, page=1, width=400, height=300, **kwargs):\n",
        "      self.id=id\n",
        "      src = \"https://player.bilibili.com/player.html?bvid={0}&page={1}\".format(id, page)\n",
        "      super(BiliVideo, self).__init__(src, width, height, **kwargs)\n",
        "\n",
        "  video = BiliVideo(id=f\"BV1xy4y1T7kv\", width=854, height=480, fs=1)\n",
        "  print(\"Video available at https://www.bilibili.com/video/{0}\".format(video.id))\n",
        "  display(video)\n",
        "\n",
        "out1 = widgets.Output()\n",
        "with out1:\n",
        "  from IPython.display import YouTubeVideo\n",
        "  video = YouTubeVideo(id=f\"JrC_UAJWYKU\", width=854, height=480, fs=1, rel=0)\n",
        "  print(\"Video available at https://youtube.com/watch?v=\" + video.id)\n",
        "  display(video)\n",
        "\n",
        "out = widgets.Tab([out1, out2])\n",
        "out.set_title(0, 'Youtube')\n",
        "out.set_title(1, 'Bilibili')\n",
        "\n",
        "# add timing to airtable\n",
        "atform.add_event('Video 10: CSV Files')\n",
        "\n",
        "display(out)"
      ],
      "execution_count": 175,
      "outputs": [
        {
          "output_type": "display_data",
          "data": {
            "application/vnd.jupyter.widget-view+json": {
              "model_id": "e192d773b1e0493eac968ac9cae7f4e3",
              "version_minor": 0,
              "version_major": 2
            },
            "text/plain": [
              "Tab(children=(Output(), Output()), _titles={'0': 'Youtube', '1': 'Bilibili'})"
            ]
          },
          "metadata": {
            "tags": []
          }
        }
      ]
    },
    {
      "cell_type": "markdown",
      "metadata": {
        "execution": {},
        "id": "ChudOVym9GtJ"
      },
      "source": [
        "## Section 3.1: Data Loading\n",
        "\n",
        "First we need some sample data to train our network on. You can use the function below to generate an example dataset consisting of 2D points along two interleaving half circles. The data will be stored in a file called `sample_data.csv`. You can inspect the file directly in Colab by going to Files on the left side and opening the CSV file."
      ]
    },
    {
      "cell_type": "code",
      "metadata": {
        "execution": {},
        "id": "8lRHsApc9GtJ"
      },
      "source": [
        "# @title Generate sample data\n",
        "# @markdown we used `scikit-learn` module\n",
        "from sklearn.datasets import make_moons\n",
        "\n",
        "# Create a dataset of 256 points with a little noise\n",
        "X, y = make_moons(256, noise=0.1)\n",
        "\n",
        "# Store the data as a Pandas data frame and save it to a CSV file\n",
        "df = pd.DataFrame(dict(x0=X[:,0], x1=X[:,1], y=y))\n",
        "df.to_csv('sample_data.csv')"
      ],
      "execution_count": 176,
      "outputs": []
    },
    {
      "cell_type": "markdown",
      "metadata": {
        "execution": {},
        "id": "Jpo58NuX9GtJ"
      },
      "source": [
        "Now we can load the data from the CSV file using the Pandas library. Pandas provides many functions for reading files in various formats. When loading data from a CSV file, we can reference the columns directly by their names."
      ]
    },
    {
      "cell_type": "code",
      "metadata": {
        "execution": {},
        "colab": {
          "base_uri": "https://localhost:8080/",
          "height": 465
        },
        "id": "ixg1YYCl9GtJ",
        "outputId": "44020e0d-3402-4322-98fd-9035e6e7d23c"
      },
      "source": [
        "# Load the data from the CSV file in a Pandas DataFrame\n",
        "data = pd.read_csv(\"sample_data.csv\")\n",
        "\n",
        "# Create a 2D numpy array from the x0 and x1 columns\n",
        "X_orig = data[[\"x0\", \"x1\"]].to_numpy()\n",
        "\n",
        "# Create a 1D numpy array from the y column\n",
        "y_orig = data[\"y\"].to_numpy()\n",
        "\n",
        "# Print the sizes of the generated 2D points X and the corresponding labels Y\n",
        "print(f\"Size X:{X_orig.shape}\")\n",
        "print(f\"Size y:{y_orig.shape}\")\n",
        "\n",
        "# Visualize the dataset. The color of the points is determined by the labels `y_orig`.\n",
        "plt.scatter(X_orig[:, 0], X_orig[:, 1], s=40, c=y_orig)\n",
        "plt.show()"
      ],
      "execution_count": 177,
      "outputs": [
        {
          "output_type": "stream",
          "text": [
            "Size X:(256, 2)\n",
            "Size y:(256,)\n"
          ],
          "name": "stdout"
        },
        {
          "output_type": "display_data",
          "data": {
            "image/png": "[encoded data removed]",
            "text/plain": [
              "<Figure size 576x432 with 1 Axes>"
            ]
          },
          "metadata": {
            "tags": [],
            "image/png": {
              "width": 558,
              "height": 414
            },
            "needs_background": "light"
          }
        }
      ]
    },
    {
      "cell_type": "markdown",
      "metadata": {
        "execution": {},
        "id": "0ir4xOWy9GtJ"
      },
      "source": [
        "**Prepare Data for PyTorch**\n",
        "\n",
        "Now let's prepare the data in a format suitable for PyTorch - convert everything into tensors."
      ]
    },
    {
      "cell_type": "code",
      "metadata": {
        "execution": {},
        "colab": {
          "base_uri": "https://localhost:8080/"
        },
        "id": "jA9nBXgM9GtJ",
        "outputId": "d5ebdc42-cbf1-41d2-e950-fbddf4a5b885"
      },
      "source": [
        "# Initialize the device variable\n",
        "DEVICE = set_device()\n",
        "\n",
        "# Convert the 2D points to a float32 tensor\n",
        "X = torch.tensor(X_orig, dtype=torch.float32)\n",
        "\n",
        "# Upload the tensor to the device\n",
        "X = X.to(DEVICE)\n",
        "\n",
        "print(f\"Size X:{X.shape}\")\n",
        "\n",
        "# Convert the labels to a long integer tensor\n",
        "y = torch.from_numpy(y_orig).type(torch.LongTensor)\n",
        "# Upload the tensor to the device\n",
        "y = y.to(DEVICE)\n",
        "\n",
        "print(f\"Size y:{y.shape}\")"
      ],
      "execution_count": 178,
      "outputs": [
        {
          "output_type": "stream",
          "text": [
            "GPU is enabled in this notebook. \n",
            "If you want to disable it, in the menu under `Runtime` -> \n",
            "`Hardware accelerator.` and select `None` from the dropdown menu\n",
            "Size X:torch.Size([256, 2])\n",
            "Size y:torch.Size([256])\n"
          ],
          "name": "stdout"
        }
      ]
    },
    {
      "cell_type": "markdown",
      "metadata": {
        "execution": {},
        "id": "1LUArHnn9GtJ"
      },
      "source": [
        "## Section 3.2: Create a Simple Neural Network"
      ]
    },
    {
      "cell_type": "code",
      "metadata": {
        "cellView": "form",
        "execution": {},
        "id": "MiKiqGxU9GtJ"
      },
      "source": [
        "# @title Video 11: Generating the Neural Network\n",
        "from ipywidgets import widgets\n",
        "\n",
        "out2 = widgets.Output()\n",
        "with out2:\n",
        "  from IPython.display import IFrame\n",
        "  class BiliVideo(IFrame):\n",
        "    def __init__(self, id, page=1, width=400, height=300, **kwargs):\n",
        "      self.id=id\n",
        "      src = \"https://player.bilibili.com/player.html?bvid={0}&page={1}\".format(id, page)\n",
        "      super(BiliVideo, self).__init__(src, width, height, **kwargs)\n",
        "\n",
        "  video = BiliVideo(id=f\"BV1fK4y1M74a\", width=854, height=480, fs=1)\n",
        "  print(\"Video available at https://www.bilibili.com/video/{0}\".format(video.id))\n",
        "  display(video)\n",
        "\n",
        "out1 = widgets.Output()\n",
        "with out1:\n",
        "  from IPython.display import YouTubeVideo\n",
        "  video = YouTubeVideo(id=f\"PwSzRohUvck\", width=854, height=480, fs=1, rel=0)\n",
        "  print(\"Video available at https://youtube.com/watch?v=\" + video.id)\n",
        "  display(video)\n",
        "\n",
        "out = widgets.Tab([out1, out2])\n",
        "out.set_title(0, 'Youtube')\n",
        "out.set_title(1, 'Bilibili')\n",
        "\n",
        "# add timing to airtable\n",
        "atform.add_event('Video 11: Generating the Neural Network')\n",
        "\n",
        "display(out)"
      ],
      "execution_count": null,
      "outputs": []
    },
    {
      "cell_type": "markdown",
      "metadata": {
        "execution": {},
        "id": "vJ79qmP19GtJ"
      },
      "source": [
        "For this example we want to have a simple neural network consisting of 3 layers:\n",
        "- 1 input layer of size 2 (our points have 2 coordinates)\n",
        "- 1 hidden layer of size 16 (you can play with different numbers here)\n",
        "- 1 output layer of size 2 (we want the have the scores for the two classes)\n",
        "\n",
        "During the course you will deal with differend kinds of neural networks. On Day 2 we will focus on linear networks, but you will work with some more complicated architectures in the next days. The example here is meant to demonstrate the process of creating and training a neural network end-to-end.\n",
        "\n",
        "**Programing the Network**\n",
        "\n",
        "PyTorch provides a base class for all neural network modules called [`nn.Module`](https://pytorch.org/docs/stable/generated/torch.nn.Module.html). You need to inherit from `nn.Module` and implement some important methods:\n",
        "\n",
        "`__init__`\n",
        "\n",
        "In the `__init__` method you need to define the structure of your network. Here you will specify what layers will the network consist of, what activation functions will be used etc.\n",
        "\n",
        "`forward`\n",
        "\n",
        "All neural network modules need to implement the `forward` method. It specifies the computations the network needs to do when data is passed through it.\n",
        "\n",
        "`predict`\n",
        "\n",
        "This is not an obligatory method of a neural network module, but it is a good practice if you want to quickly get the most likely label from the network. It calls the `forward` method and chooses the label with the highest score.\n",
        "\n",
        "`train`\n",
        "\n",
        "This is also not an obligatory method, but it is a good practice to have. The method will be used to train the network parameters and will be implemented later in the notebook.\n",
        "\n",
        "\n",
        "> Note that you can use the `__call__` method of a module directly and it will invoke the `forward` method: `net()` does the same as `net.forward()`."
      ]
    },
    {
      "cell_type": "code",
      "metadata": {
        "execution": {},
        "id": "qVApUNiZ9GtJ"
      },
      "source": [
        "# Inherit from nn.Module - the base class for neural network modules provided by Pytorch\n",
        "class NaiveNet(nn.Module):\n",
        "\n",
        "  # Define the structure of your network\n",
        "  def __init__(self):\n",
        "    super(NaiveNet, self).__init__()\n",
        "\n",
        "    # The network is defined as a sequence of operations\n",
        "    self.layers = nn.Sequential(\n",
        "        nn.Linear(2, 16),  # Transformation from the input to the hidden layer\n",
        "        nn.ReLU(),         # Activation function (ReLU) is a non-linearity which is widely used because it reduces computation. The function returns 0 if it receives any\n",
        "                           # negative input, but for any positive value x, it returns that value back.\n",
        "        nn.Linear(16, 2),  # Transformation from the hidden to the output layer\n",
        "    )\n",
        "\n",
        "  # Specify the computations performed on the data\n",
        "  def forward(self, x):\n",
        "    # Pass the data through the layers\n",
        "    return self.layers(x)\n",
        "\n",
        "  # Choose the most likely label predicted by the network\n",
        "  def predict(self, x):\n",
        "    # Pass the data through the networks\n",
        "    output = self.forward(x)\n",
        "\n",
        "    # Choose the label with the highest score\n",
        "    return torch.argmax(output, 1)\n",
        "\n",
        "  # Train the neural network (will be implemented later)\n",
        "  def train(self, X, y):\n",
        "    pass"
      ],
      "execution_count": null,
      "outputs": []
    },
    {
      "cell_type": "markdown",
      "metadata": {
        "execution": {},
        "id": "RehqPEVt9GtJ"
      },
      "source": [
        "**Check that your network works**\n",
        "\n",
        "Create an instance of your model and visualize it"
      ]
    },
    {
      "cell_type": "code",
      "metadata": {
        "execution": {},
        "id": "fRmfYzkf9GtJ"
      },
      "source": [
        "# Create new NaiveNet and transfer it to the device\n",
        "model = NaiveNet().to(DEVICE)\n",
        "\n",
        "# Print the structure of the network\n",
        "print(model)"
      ],
      "execution_count": null,
      "outputs": []
    },
    {
      "cell_type": "markdown",
      "metadata": {
        "execution": {},
        "id": "51ggJqZ89GtJ"
      },
      "source": [
        "### Coding Exercise 3.2: Classify some samples\n",
        "\n",
        "Now let's pass some of the points of our dataset through the network and see if it works. You should not expect the network to actually classify the points correctly, because it has not been trained yet. \n",
        "\n",
        "The goal here is just to get some experience with the data structures that are passed to the forward and predict methods and their results."
      ]
    },
    {
      "cell_type": "code",
      "metadata": {
        "execution": {},
        "id": "53ZjBgId9GtJ"
      },
      "source": [
        "## Get the samples\n",
        "# X_samples = ...\n",
        "# print(\"Sample input:\\n\", X_samples)\n",
        "\n",
        "## Do a forward pass of the network\n",
        "# output = ...\n",
        "# print(\"\\nNetwork output:\\n\", output)\n",
        "\n",
        "## Predict the label of each point\n",
        "# y_predicted = ...\n",
        "# print(\"\\nPredicted labels:\\n\", y_predicted)"
      ],
      "execution_count": null,
      "outputs": []
    },
    {
      "cell_type": "markdown",
      "metadata": {
        "execution": {},
        "id": "GRvqP9IY9GtJ"
      },
      "source": [
        "[*Click for solution*](https://github.com/NeuromatchAcademy/course-content-dl/tree/main//tutorials/W1D1_BasicsAndPytorch/solutions/W1D1_Tutorial1_Solution_af8ae0ff.py)\n",
        "\n"
      ]
    },
    {
      "cell_type": "markdown",
      "metadata": {
        "execution": {},
        "id": "rYmFksUp9GtJ"
      },
      "source": [
        "```\n",
        "Sample input:\n",
        " tensor([[ 0.9066,  0.5052],\n",
        "        [-0.2024,  1.1226],\n",
        "        [ 1.0685,  0.2809],\n",
        "        [ 0.6720,  0.5097],\n",
        "        [ 0.8548,  0.5122]], device='cuda:0')\n",
        "\n",
        "Network output:\n",
        " tensor([[ 0.1543, -0.8018],\n",
        "        [ 2.2077, -2.9859],\n",
        "        [-0.5745, -0.0195],\n",
        "        [ 0.1924, -0.8367],\n",
        "        [ 0.1818, -0.8301]], device='cuda:0', grad_fn=<AddmmBackward>)\n",
        "\n",
        "Predicted labels:\n",
        " tensor([0, 0, 1, 0, 0], device='cuda:0')\n",
        "```"
      ]
    },
    {
      "cell_type": "markdown",
      "metadata": {
        "execution": {},
        "id": "9O7qM-2g9GtJ"
      },
      "source": [
        "## Section 3.3: Train Your Neural Network\n",
        "\n"
      ]
    },
    {
      "cell_type": "code",
      "metadata": {
        "cellView": "form",
        "execution": {},
        "id": "InqkAl-u9GtK"
      },
      "source": [
        "# @title Video 12: Train the Network\n",
        "from ipywidgets import widgets\n",
        "\n",
        "out2 = widgets.Output()\n",
        "with out2:\n",
        "  from IPython.display import IFrame\n",
        "  class BiliVideo(IFrame):\n",
        "    def __init__(self, id, page=1, width=400, height=300, **kwargs):\n",
        "      self.id=id\n",
        "      src = \"https://player.bilibili.com/player.html?bvid={0}&page={1}\".format(id, page)\n",
        "      super(BiliVideo, self).__init__(src, width, height, **kwargs)\n",
        "\n",
        "  video = BiliVideo(id=f\"BV1v54y1n7CS\", width=854, height=480, fs=1)\n",
        "  print(\"Video available at https://www.bilibili.com/video/{0}\".format(video.id))\n",
        "  display(video)\n",
        "\n",
        "out1 = widgets.Output()\n",
        "with out1:\n",
        "  from IPython.display import YouTubeVideo\n",
        "  video = YouTubeVideo(id=f\"4MIqnE4XPaA\", width=854, height=480, fs=1, rel=0)\n",
        "  print(\"Video available at https://youtube.com/watch?v=\" + video.id)\n",
        "  display(video)\n",
        "\n",
        "out = widgets.Tab([out1, out2])\n",
        "out.set_title(0, 'Youtube')\n",
        "out.set_title(1, 'Bilibili')\n",
        "\n",
        "# add timing to airtable\n",
        "atform.add_event('Video 12: Train the Network')\n",
        "\n",
        "display(out)"
      ],
      "execution_count": null,
      "outputs": []
    },
    {
      "cell_type": "markdown",
      "metadata": {
        "execution": {},
        "id": "mNxaWlRj9GtK"
      },
      "source": [
        "Now it is time to train your network on your dataset. Don't worry if you don't fully understand everything yet - we wil cover training in much more details in the next days. For now, the goal is just to see your network in action!\n",
        "\n",
        "You will usually implement the `train` method directly when implementing your class `NaiveNet`. Here, we will implement it as a function outside of the class in order to have it in a ceparate cell."
      ]
    },
    {
      "cell_type": "code",
      "metadata": {
        "cellView": "form",
        "execution": {},
        "id": "nP25yhc59GtK"
      },
      "source": [
        "# @title Helper function to plot the decision boundary\n",
        "\n",
        "# Code adapted from this notebook: https://jonchar.net/notebooks/Artificial-Neural-Network-with-Keras/\n",
        "\n",
        "from pathlib import Path\n",
        "\n",
        "def plot_decision_boundary(model, X, y, device):\n",
        "  # Transfer the data to the CPU\n",
        "  X = X.cpu().numpy()\n",
        "  y = y.cpu().numpy()\n",
        "\n",
        "  # Check if the frames folder exists and create it if needed\n",
        "  frames_path = Path(\"frames\")\n",
        "  if not frames_path.exists():\n",
        "    frames_path.mkdir()\n",
        "\n",
        "  # Set min and max values and give it some padding\n",
        "  x_min, x_max = X[:, 0].min() - .5, X[:, 0].max() + .5\n",
        "  y_min, y_max = X[:, 1].min() - .5, X[:, 1].max() + .5\n",
        "  h = 0.01\n",
        "\n",
        "  # Generate a grid of points with distance h between them\n",
        "  xx, yy = np.meshgrid(np.arange(x_min, x_max, h), np.arange(y_min, y_max, h))\n",
        "\n",
        "  # Predict the function value for the whole gid\n",
        "  grid_points = np.c_[xx.ravel(), yy.ravel()]\n",
        "  grid_points = torch.from_numpy(grid_points).type(torch.FloatTensor)\n",
        "  Z = model.predict(grid_points.to(device)).cpu().numpy()\n",
        "  Z = Z.reshape(xx.shape)\n",
        "\n",
        "  # Plot the contour and training examples\n",
        "  plt.contourf(xx, yy, Z, cmap=plt.cm.Spectral)\n",
        "  plt.scatter(X[:, 0], X[:, 1], c=y, cmap=plt.cm.binary)"
      ],
      "execution_count": null,
      "outputs": []
    },
    {
      "cell_type": "code",
      "metadata": {
        "execution": {},
        "id": "_S5LesgP9GtK"
      },
      "source": [
        "# Implement the train function given a training dataset X and correcsponding labels y\n",
        "def train(model, X, y):\n",
        "  # The Cross Entropy Loss is suitable for classification problems\n",
        "  loss_function = nn.CrossEntropyLoss()\n",
        "\n",
        "  # Create an optimizer (Stochastic Gradient Descent) that will be used to train the network\n",
        "  learning_rate = 1e-2\n",
        "  optimizer = torch.optim.SGD(model.parameters(), lr=learning_rate)\n",
        "\n",
        "  # Number of epochs\n",
        "  epochs = 15000\n",
        "\n",
        "  # List of losses for visualization\n",
        "  losses = []\n",
        "\n",
        "  for i in range(epochs):\n",
        "    # Pass the data through the network and compute the loss\n",
        "    # We'll use the whole dataset during the training instead of using batches\n",
        "    # in to order to keep the code simple for now.\n",
        "    y_logits = model.forward(X)\n",
        "    loss = loss_function(y_logits, y)\n",
        "\n",
        "    # Clear the previous gradients and compute the new ones\n",
        "    optimizer.zero_grad()\n",
        "    loss.backward()\n",
        "\n",
        "    # Adapt the weights of the network\n",
        "    optimizer.step()\n",
        "\n",
        "    # Store the loss\n",
        "    losses.append(loss.item())\n",
        "\n",
        "    # Print the results at every 1000th epoch\n",
        "    if i % 1000 == 0:\n",
        "      print(f\"Epoch {i} loss is {loss.item()}\")\n",
        "\n",
        "      plot_decision_boundary(model, X, y, DEVICE)\n",
        "      plt.savefig('frames/{:05d}.png'.format(i))\n",
        "\n",
        "  return losses\n",
        "\n",
        "\n",
        "# Create a new network instance a train it\n",
        "model = NaiveNet().to(DEVICE)\n",
        "losses = train(model, X, y)"
      ],
      "execution_count": null,
      "outputs": []
    },
    {
      "cell_type": "markdown",
      "metadata": {
        "execution": {},
        "id": "Wjqn5rSH9GtK"
      },
      "source": [
        "**Plot the loss during training**\n",
        "\n",
        "Plot the loss during the training to see how it reduces and converges."
      ]
    },
    {
      "cell_type": "code",
      "metadata": {
        "execution": {},
        "id": "yvl68oid9GtK"
      },
      "source": [
        "plt.plot(np.linspace(1, len(losses), len(losses)), losses)\n",
        "plt.xlabel(\"Epoch\")\n",
        "plt.ylabel(\"Loss\")"
      ],
      "execution_count": null,
      "outputs": []
    },
    {
      "cell_type": "code",
      "metadata": {
        "cellView": "form",
        "execution": {},
        "id": "0pF3VT829GtK"
      },
      "source": [
        "# @title Visualize the training process\n",
        "# @markdown ### Execute this cell!\n",
        "!pip install imageio --quiet\n",
        "!pip install pathlib --quiet\n",
        "\n",
        "import imageio\n",
        "from IPython.core.interactiveshell import InteractiveShell\n",
        "from IPython.display import Image, display\n",
        "from pathlib import Path\n",
        "\n",
        "InteractiveShell.ast_node_interactivity = \"all\"\n",
        "\n",
        "# Make a list with all images\n",
        "images = []\n",
        "for i in range(10):\n",
        "  filename = \"frames/0\"+str(i)+\"000.png\"\n",
        "  images.append(imageio.imread(filename))\n",
        "# Save the gif\n",
        "imageio.mimsave('frames/movie.gif', images)\n",
        "gifPath = Path(\"frames/movie.gif\")\n",
        "with open(gifPath,'rb') as f:\n",
        "  display(Image(data=f.read(), format='png'))"
      ],
      "execution_count": null,
      "outputs": []
    },
    {
      "cell_type": "code",
      "metadata": {
        "cellView": "form",
        "execution": {},
        "id": "UVHI1VYu9GtK"
      },
      "source": [
        "# @title Video 13: Play with it\n",
        "from ipywidgets import widgets\n",
        "\n",
        "out2 = widgets.Output()\n",
        "with out2:\n",
        "  from IPython.display import IFrame\n",
        "  class BiliVideo(IFrame):\n",
        "    def __init__(self, id, page=1, width=400, height=300, **kwargs):\n",
        "      self.id=id\n",
        "      src = \"https://player.bilibili.com/player.html?bvid={0}&page={1}\".format(id, page)\n",
        "      super(BiliVideo, self).__init__(src, width, height, **kwargs)\n",
        "\n",
        "  video = BiliVideo(id=f\"BV1Cq4y1W7BH\", width=854, height=480, fs=1)\n",
        "  print(\"Video available at https://www.bilibili.com/video/{0}\".format(video.id))\n",
        "  display(video)\n",
        "\n",
        "out1 = widgets.Output()\n",
        "with out1:\n",
        "  from IPython.display import YouTubeVideo\n",
        "  video = YouTubeVideo(id=f\"_GGkapdOdSY\", width=854, height=480, fs=1, rel=0)\n",
        "  print(\"Video available at https://youtube.com/watch?v=\" + video.id)\n",
        "  display(video)\n",
        "\n",
        "out = widgets.Tab([out1, out2])\n",
        "out.set_title(0, 'Youtube')\n",
        "out.set_title(1, 'Bilibili')\n",
        "\n",
        "# add timing to airtable\n",
        "atform.add_event('Video 13: Play with it')\n",
        "\n",
        "display(out)"
      ],
      "execution_count": null,
      "outputs": []
    },
    {
      "cell_type": "markdown",
      "metadata": {
        "execution": {},
        "id": "zTm5HyTA9GtK"
      },
      "source": [
        "### Exercise 3.3: Tweak your Network\n",
        "\n",
        "You can now play around with the network a little bit to get a feeling of what different parameters are doing. Here are some ideas what you could try:\n",
        "- Increase or decrease the number of epochs for training\n",
        "- Increase or decrease the size of the hidden layer\n",
        "- Add one additional hidden layer\n",
        "\n",
        "Can you get the network to better fit the data?"
      ]
    },
    {
      "cell_type": "code",
      "metadata": {
        "cellView": "form",
        "execution": {},
        "id": "2H6DUeP09GtK"
      },
      "source": [
        "# @title Video 14: XOR Widget\n",
        "from ipywidgets import widgets\n",
        "\n",
        "out2 = widgets.Output()\n",
        "with out2:\n",
        "  from IPython.display import IFrame\n",
        "  class BiliVideo(IFrame):\n",
        "    def __init__(self, id, page=1, width=400, height=300, **kwargs):\n",
        "      self.id=id\n",
        "      src = \"https://player.bilibili.com/player.html?bvid={0}&page={1}\".format(id, page)\n",
        "      super(BiliVideo, self).__init__(src, width, height, **kwargs)\n",
        "\n",
        "  video = BiliVideo(id=f\"BV1mB4y1N7QS\", width=854, height=480, fs=1)\n",
        "  print(\"Video available at https://www.bilibili.com/video/{0}\".format(video.id))\n",
        "  display(video)\n",
        "\n",
        "out1 = widgets.Output()\n",
        "with out1:\n",
        "  from IPython.display import YouTubeVideo\n",
        "  video = YouTubeVideo(id=f\"oTr1nE2rCWg\", width=854, height=480, fs=1, rel=0)\n",
        "  print(\"Video available at https://youtube.com/watch?v=\" + video.id)\n",
        "  display(video)\n",
        "\n",
        "out = widgets.Tab([out1, out2])\n",
        "out.set_title(0, 'Youtube')\n",
        "out.set_title(1, 'Bilibili')\n",
        "\n",
        "# add timing to airtable\n",
        "atform.add_event('Video 14: XOR Widget')\n",
        "\n",
        "display(out)"
      ],
      "execution_count": null,
      "outputs": []
    },
    {
      "cell_type": "markdown",
      "metadata": {
        "execution": {},
        "id": "fG87uO_W9GtK"
      },
      "source": [
        "Exclusive OR (XOR) logical operation gives a true (`1`) output when the number of true inputs is odd. That is, a true output result if one, and only one, of the inputs to the gate is true. If both inputs are false (`0`) or both are true or false output results. Mathematically speaking, XOR represents the inequality function, i.e., the output is true if the inputs are not alike; otherwise, the output is false.\n",
        "\n",
        "In case of two inputs ($X$ and $Y$) the following truth table is applied:\n",
        "\n",
        "\\begin{array}{ccc}\n",
        "X & Y & \\text{XOR} \\\\\n",
        "\\hline\n",
        "0 & 0 & 0 \\\\\n",
        "0 & 1 & 1 \\\\\n",
        "1 & 0 & 1 \\\\\n",
        "1 & 1 & 0 \\\\\n",
        "\\end{array}\n",
        "\n",
        "Here, with `0`, we denote `False`, and with `1` we denote `True` in boolean terms."
      ]
    },
    {
      "cell_type": "markdown",
      "metadata": {
        "execution": {},
        "id": "dDi1OsFt9GtK"
      },
      "source": [
        "### Interactive Demo 3.3: Solving XOR\n",
        "\n",
        "Here we use an open source and famous visualization widget developed by Tensorflow team available [here](https://github.com/tensorflow/playground).\n",
        "* Play with the widget and observe that you can not solve the continuous XOR dataset.\n",
        "* Now add one hidden layer with three units, play with the widget, and set weights by hand to solve this dataset perfectly.\n",
        "\n",
        "For the second part, you should set the weights by clicking on the connections and either type the value or use the up and down keys to change it by one increment. You could also do the same for the biases by clicking on the tiny square to each neuron's bottom left.\n",
        "Even though there are infinitely many solutions, a neat solution when $f(x)$ is ReLU is: \n",
        "\n",
        "\\begin{equation}\n",
        "  y = f(x_1)+f(x_2)-f(x_1+x_2)\n",
        "\\end{equation}\n",
        "\n",
        "Try to set the weights and biases to implement this function after you played enough :)"
      ]
    },
    {
      "cell_type": "code",
      "metadata": {
        "cellView": "form",
        "execution": {},
        "id": "oKLKwbq-9GtK"
      },
      "source": [
        "# @markdown ###Play with the parameters to solve XOR\n",
        "from IPython.display import HTML\n",
        "HTML('<iframe width=\"1020\" height=\"660\" src=\"https://playground.arashash.com/#activation=relu&batchSize=10&dataset=xor&regDataset=reg-plane&learningRate=0.03&regularizationRate=0&noise=0&networkShape=&seed=0.91390&showTestData=false&discretize=false&percTrainData=90&x=true&y=true&xTimesY=false&xSquared=false&ySquared=false&cosX=false&sinX=false&cosY=false&sinY=false&collectStats=false&problem=classification&initZero=false&hideText=false\" allowfullscreen></iframe>')"
      ],
      "execution_count": null,
      "outputs": []
    },
    {
      "cell_type": "code",
      "metadata": {
        "cellView": "form",
        "execution": {},
        "id": "Syr1Oorj9GtK"
      },
      "source": [
        "# @markdown Do you think we can solve the discrete XOR (only 4 possibilities) with only 2 hidden units?\n",
        "w1_min_xor = 'Select' #@param ['Select', 'Yes', 'No']\n",
        "if w1_min_xor == 'No':\n",
        "  print(\"Correct!\")\n",
        "else:\n",
        "  print(\"How about giving it another try?\")"
      ],
      "execution_count": null,
      "outputs": []
    },
    {
      "cell_type": "markdown",
      "metadata": {
        "execution": {},
        "id": "5Ej8ZYCI9GtK"
      },
      "source": [
        "---\n",
        "# Section 4: Ethics And Course Info\n"
      ]
    },
    {
      "cell_type": "code",
      "metadata": {
        "cellView": "form",
        "execution": {},
        "id": "tvx1mcbv9GtK"
      },
      "source": [
        "# @title Video 15: Ethics\n",
        "from ipywidgets import widgets\n",
        "\n",
        "out2 = widgets.Output()\n",
        "with out2:\n",
        "  from IPython.display import IFrame\n",
        "  class BiliVideo(IFrame):\n",
        "    def __init__(self, id, page=1, width=400, height=300, **kwargs):\n",
        "      self.id=id\n",
        "      src = \"https://player.bilibili.com/player.html?bvid={0}&page={1}\".format(id, page)\n",
        "      super(BiliVideo, self).__init__(src, width, height, **kwargs)\n",
        "\n",
        "  video = BiliVideo(id=f\"BV1Hw41197oB\", width=854, height=480, fs=1)\n",
        "  print(\"Video available at https://www.bilibili.com/video/{0}\".format(video.id))\n",
        "  display(video)\n",
        "\n",
        "out1 = widgets.Output()\n",
        "with out1:\n",
        "  from IPython.display import YouTubeVideo\n",
        "  video = YouTubeVideo(id=f\"Kt6JLi3rUFU\", width=854, height=480, fs=1, rel=0)\n",
        "  print(\"Video available at https://youtube.com/watch?v=\" + video.id)\n",
        "  display(video)\n",
        "\n",
        "out = widgets.Tab([out1, out2])\n",
        "out.set_title(0, 'Youtube')\n",
        "out.set_title(1, 'Bilibili')\n",
        "\n",
        "display(out)"
      ],
      "execution_count": null,
      "outputs": []
    },
    {
      "cell_type": "code",
      "metadata": {
        "cellView": "form",
        "execution": {},
        "id": "as-AEbsV9GtL"
      },
      "source": [
        "# @title Video 16: Be a group\n",
        "from ipywidgets import widgets\n",
        "\n",
        "out2 = widgets.Output()\n",
        "with out2:\n",
        "  from IPython.display import IFrame\n",
        "  class BiliVideo(IFrame):\n",
        "    def __init__(self, id, page=1, width=400, height=300, **kwargs):\n",
        "      self.id=id\n",
        "      src = \"https://player.bilibili.com/player.html?bvid={0}&page={1}\".format(id, page)\n",
        "      super(BiliVideo, self).__init__(src, width, height, **kwargs)\n",
        "\n",
        "  video = BiliVideo(id=f\"BV1j44y1272h\", width=854, height=480, fs=1)\n",
        "  print(\"Video available at https://www.bilibili.com/video/{0}\".format(video.id))\n",
        "  display(video)\n",
        "\n",
        "out1 = widgets.Output()\n",
        "with out1:\n",
        "  from IPython.display import YouTubeVideo\n",
        "  video = YouTubeVideo(id=f\"Sfp6--d_H1A\", width=854, height=480, fs=1, rel=0)\n",
        "  print(\"Video available at https://youtube.com/watch?v=\" + video.id)\n",
        "  display(video)\n",
        "\n",
        "out = widgets.Tab([out1, out2])\n",
        "out.set_title(0, 'Youtube')\n",
        "out.set_title(1, 'Bilibili')\n",
        "\n",
        "display(out)"
      ],
      "execution_count": null,
      "outputs": []
    },
    {
      "cell_type": "code",
      "metadata": {
        "cellView": "form",
        "execution": {},
        "id": "g4Oj-PaK9GtL"
      },
      "source": [
        "# @title Video 17: Syllabus\n",
        "from ipywidgets import widgets\n",
        "\n",
        "out2 = widgets.Output()\n",
        "with out2:\n",
        "  from IPython.display import IFrame\n",
        "  class BiliVideo(IFrame):\n",
        "    def __init__(self, id, page=1, width=400, height=300, **kwargs):\n",
        "      self.id=id\n",
        "      src = \"https://player.bilibili.com/player.html?bvid={0}&page={1}\".format(id, page)\n",
        "      super(BiliVideo, self).__init__(src, width, height, **kwargs)\n",
        "\n",
        "  video = BiliVideo(id=f\"BV1iB4y1N7uQ\", width=854, height=480, fs=1)\n",
        "  print(\"Video available at https://www.bilibili.com/video/{0}\".format(video.id))\n",
        "  display(video)\n",
        "\n",
        "out1 = widgets.Output()\n",
        "with out1:\n",
        "  from IPython.display import YouTubeVideo\n",
        "  video = YouTubeVideo(id=f\"cDvAqG_hAvQ\", width=854, height=480, fs=1, rel=0)\n",
        "  print(\"Video available at https://youtube.com/watch?v=\" + video.id)\n",
        "  display(video)\n",
        "\n",
        "out = widgets.Tab([out1, out2])\n",
        "out.set_title(0, 'Youtube')\n",
        "out.set_title(1, 'Bilibili')\n",
        "\n",
        "display(out)"
      ],
      "execution_count": null,
      "outputs": []
    },
    {
      "cell_type": "markdown",
      "metadata": {
        "execution": {},
        "id": "WkgGGOBB9GtL"
      },
      "source": [
        "Meet our lecturers:\n",
        "\n",
        "Week 1: the building blocks\n",
        "*   [Konrad Kording](https://kordinglab.com)\n",
        "*   [Andrew Saxe](https://www.saxelab.org/)\n",
        "*   [Surya Ganguli](https://ganguli-gang.stanford.edu/)\n",
        "*   [Ioannis Mitliagkas](http://mitliagkas.github.io/)\n",
        "*   [Lyle Ungar](https://www.cis.upenn.edu/~ungar/)\n",
        "\n",
        "Week 2: making things work\n",
        "* [Alona Fyshe](https://webdocs.cs.ualberta.ca/~alona/)\n",
        "* [Alexander Ecker](https://eckerlab.org/)\n",
        "* [James Evans](https://sociology.uchicago.edu/directory/james-evans)\n",
        "* [He He](https://hhexiy.github.io/)\n",
        "* [Vikash Gilja](https://tnel.ucsd.edu/bio) and [Akash Srivastava](https://akashgit.github.io/)\n",
        "\n",
        "Week 3: more magic\n",
        "* [Tim Lillicrap](https://contrastiveconvergence.net/~timothylillicrap/index.php) and [Blake Richards](https://www.mcgill.ca/neuro/blake-richards-phd)\n",
        "* [Jane Wang](http://www.janexwang.com/) and [Feryal Behbahani](https://feryal.github.io/)\n",
        "* [Tim Lillicrap](https://contrastiveconvergence.net/~timothylillicrap/index.php) and [Blake Richards](https://www.mcgill.ca/neuro/blake-richards-phd)\n",
        "* [Josh Vogelstein](https://jovo.me/) and [Vincenzo Lamonaco](https://www.vincenzolomonaco.com/)\n",
        "\n",
        "Now, go to the [visualization of ICLR papers](https://iclr.cc/virtual/2021/paper_vis.html). Read a few abstracts. Look at the various clusters. Where do you see yourself in this map?\n"
      ]
    },
    {
      "cell_type": "markdown",
      "metadata": {
        "execution": {},
        "id": "94CLuuEm9GtL"
      },
      "source": [
        "---\n",
        "# Submit to Airtable"
      ]
    },
    {
      "cell_type": "code",
      "metadata": {
        "cellView": "form",
        "execution": {},
        "id": "bOljd1Db9GtL"
      },
      "source": [
        "# @title Video 18: Submission info\n",
        "from ipywidgets import widgets\n",
        "\n",
        "out2 = widgets.Output()\n",
        "with out2:\n",
        "  from IPython.display import IFrame\n",
        "  class BiliVideo(IFrame):\n",
        "    def __init__(self, id, page=1, width=400, height=300, **kwargs):\n",
        "      self.id=id\n",
        "      src = \"https://player.bilibili.com/player.html?bvid={0}&page={1}\".format(id, page)\n",
        "      super(BiliVideo, self).__init__(src, width, height, **kwargs)\n",
        "\n",
        "  video = BiliVideo(id=f\"BV1e44y127ti\", width=854, height=480, fs=1)\n",
        "  print(\"Video available at https://www.bilibili.com/video/{0}\".format(video.id))\n",
        "  display(video)\n",
        "\n",
        "out1 = widgets.Output()\n",
        "with out1:\n",
        "  from IPython.display import YouTubeVideo\n",
        "  video = YouTubeVideo(id=f\"JwTn7ej2dq8\", width=854, height=480, fs=1, rel=0)\n",
        "  print(\"Video available at https://youtube.com/watch?v=\" + video.id)\n",
        "  display(video)\n",
        "\n",
        "out = widgets.Tab([out1, out2])\n",
        "out.set_title(0, 'Youtube')\n",
        "out.set_title(1, 'Bilibili')\n",
        "\n",
        "display(out)"
      ],
      "execution_count": null,
      "outputs": []
    },
    {
      "cell_type": "markdown",
      "metadata": {
        "execution": {},
        "id": "ZVrt4swy9GtL"
      },
      "source": [
        "This is Darryl, the Deep Learning Dapper Lion, and he's here to teach you about content submission to airtable.\n",
        "<br>\n",
        "<img src=\"https://raw.githubusercontent.com/NeuromatchAcademy/course-content-dl/main/tutorials/static/DapperLion.png\" alt=\"Darryl\"> \n",
        "<br><br>\n",
        "At the end of each tutorial there will be an <b>Airtable Submission Cell</b>. Run the cell to generate the airtable submission button and click on it to submit your information to airtable.\n",
        "<br><br>\n",
        "if it is the last tutorial of the day your button will look like this and take you to the end of day survey: \n",
        "<br>\n",
        "<img src=\"https://raw.githubusercontent.com/NeuromatchAcademy/course-content-dl/main/tutorials/static/SurveyButton.png?raw=1\" alt=\"Survey Button\">\n",
        "\n",
        "otherwise it look like this: \n",
        "<br>\n",
        "\n",
        "<img src=\"https://raw.githubusercontent.com/NeuromatchAcademy/course-content-dl/main/tutorials/static/AirtableSubmissionButton.png?raw=1\" alt=\"Submission Button\"> \n",
        "<br><br>\n",
        "\n",
        "It is critical that you push the submit button for every tutorial you run. <b> even if you don't finish the tutorial, still submit!</b>\n",
        "Submitting is the only way we can verify that you attempted each tutorial, which is critical for us to be able to track your progress."
      ]
    },
    {
      "cell_type": "markdown",
      "metadata": {
        "execution": {},
        "id": "j0LM7uuv9GtL"
      },
      "source": [
        "### TL;DR: Basic tutorial workflow\n",
        "1.  work through the tutorial, answering Think! questions and code exercises\n",
        "\n",
        "2. at end each tutorial, (even if tutorial incomplete) run the airtable submission code cell\n",
        "\n",
        "3. Push the submission button\n",
        "\n",
        "4. if the last tutorial of the day, Submission button will also take you to the end of the day survey on a new page. complete that and submit it."
      ]
    },
    {
      "cell_type": "markdown",
      "metadata": {
        "execution": {},
        "id": "yq6HX1d_9GtL"
      },
      "source": [
        "### Submission FAQs: \n",
        "\n",
        "1. What if I want to change my answers to previous discussion questions? \n",
        "> you are free to change and resubmit any of the answers and Think! questions as many times as you like. However, <b> please only run the airtable submission code and click on the link once you are ready to submit</b>.\n",
        "\n",
        "2. Okay, but what if I submitted my airtable anyway and reallly want to resubmit?\n",
        "> After making changes, you can re-run the airtable submission cell code cell. This will result in a second submission from you for the data. This will make Darryl sad as it will be more work for him to clean up the data later. \n",
        "\n",
        "3. HELP! I accidentally ran the code to generate the airtable submission button before I was ready to submit! what do I do?\n",
        "> If you run the code to generate the link, anything that happens afterwards will not be captured. Complete the tutorial and make sure to re-run the airtable submission again when you are finished before pressing the submission button. \n",
        "4. What if I want to work on this on my own later, should I wait to submit until I'm finished?\n",
        ">  Please submit wherever you are at the end of the day. It's graet that you want to keep working on this, but it's important to see the places where we tried things that didn't quite work out, so we can fix them for next year.  \n",
        "\n",
        "Finally, we try to keep the airtable code as hidden as possible, but if you ever see any calls to `atform`  such as `atform.add_event()` in the coding exercises, just know that is for saving airtable information only.<b> It will not affect the code that is being run around it in any way</b> , so please do not modify, comment out, or worry about any of those lines of code.\n",
        "<br><br><br>\n",
        "Now, lets try submitting today's course to Airtable by running the next cell and clicking the button when it appears. "
      ]
    },
    {
      "cell_type": "code",
      "metadata": {
        "cellView": "form",
        "execution": {},
        "id": "-AmFo11L9GtL"
      },
      "source": [
        "# @title Airtable Submission Link\n",
        "from IPython import display\n",
        "display.HTML(\n",
        "    f\"\"\"\n",
        "  <div>\n",
        "    <a href= \"{atform.url()}\" target=\"_blank\">\n",
        "    <img src=\"https://github.com/NeuromatchAcademy/course-content-dl/blob/main/tutorials/static/SurveyButton.png?raw=1\"\n",
        "  alt=\"button link to survey\" style=\"width:410px\"></a>\n",
        "    </div>\"\"\" )"
      ],
      "execution_count": null,
      "outputs": []
    },
    {
      "cell_type": "markdown",
      "metadata": {
        "execution": {},
        "id": "lPgIpIPg9GtM"
      },
      "source": [
        "---\n",
        "# Bonus - 60 years of Machine Learning Research in one Plot\n",
        "\n",
        "by [Hendrik Strobelt](http://hendrik.strobelt.com) (MIT-IBM Watson AI Lab) with support from Benjamin Hoover.\n",
        "\n",
        "In this notebook we visualize a subset* of 3,300 articles retreived from the AllenAI [S2ORC dataset](https://github.com/allenai/s2orc). We represent each paper by a position that is output of a dimensionality reduction method applied to a vector representation of each paper. The vector representation is output of a neural network.\n",
        "\n",
        "*The selection is very biased on the keywords and methodology we used to filter. Please see the details section to learn about what we did. "
      ]
    },
    {
      "cell_type": "code",
      "metadata": {
        "cellView": "form",
        "execution": {},
        "id": "p2b-yXvV9GtM"
      },
      "source": [
        "# @title Import `altair` and load the data\n",
        "!pip install altair vega_datasets --quiet\n",
        "import requests\n",
        "import altair as alt # altair is defining data visualizations\n",
        "\n",
        "# Source data files\n",
        "# Position data file maps ID to x,y positions\n",
        "# original link: http://gltr.io/temp/ml_regexv1_cs_ma_citation+_99perc.pos_umap_cosine_100_d0.1.json\n",
        "POS_FILE = 'https://osf.io/qyrfn/download'\n",
        "# original link: http://gltr.io/temp/ml_regexv1_cs_ma_citation+_99perc_clean.csv\n",
        "# Metadata file maps ID to title, abstract, author,....\n",
        "META_FILE = 'https://osf.io/vfdu6/download'\n",
        "\n",
        "# data loading and wrangling\n",
        "def load_data():\n",
        "  positions = pd.read_json(POS_FILE)\n",
        "  positions[['x', 'y']] = positions['pos'].to_list()\n",
        "  meta = pd.read_csv(META_FILE)\n",
        "  return positions.merge(meta, left_on='id', right_on='paper_id')\n",
        "\n",
        "# load data\n",
        "data = load_data()"
      ],
      "execution_count": null,
      "outputs": []
    },
    {
      "cell_type": "code",
      "metadata": {
        "cellView": "form",
        "execution": {},
        "id": "6hbtYwC49GtM"
      },
      "source": [
        "# @title Define Visualization using ALtair\n",
        "YEAR_PERIOD = \"quinquennial\"  # @param\n",
        "selection = alt.selection_multi(fields=[YEAR_PERIOD], bind='legend')\n",
        "data[YEAR_PERIOD] = (data[\"year\"] / 5.0).apply(np.floor) * 5\n",
        "chart = alt.Chart(data[[\"x\", \"y\", \"authors\", \"title\", YEAR_PERIOD, \"citation_count\"]], width=800,\n",
        "                  height=800).mark_circle(radius=2, opacity=0.2).encode(\n",
        "    alt.Color(YEAR_PERIOD+':O',\n",
        "              scale=alt.Scale(scheme='viridis', reverse=False, clamp=True, domain=list(range(1955,2020,5))),\n",
        "              # legend=alt.Legend(title='Total Records')\n",
        "              ),\n",
        "    alt.Size('citation_count',\n",
        "              scale=alt.Scale(type=\"pow\", exponent=1, range=[15, 300])\n",
        "              ),\n",
        "       alt.X('x:Q',\n",
        "        scale=alt.Scale(zero=False), axis=alt.Axis(labels=False)\n",
        "    ),\n",
        "       alt.Y('y:Q',\n",
        "        scale=alt.Scale(zero=False), axis=alt.Axis(labels=False)\n",
        "    ),\n",
        "    tooltip=['title', 'authors'],\n",
        "    # size='citation_count',\n",
        "    # color=\"decade:O\",\n",
        "    opacity=alt.condition(selection, alt.value(.8), alt.value(0.2)),\n",
        "\n",
        ").add_selection(\n",
        "    selection\n",
        ").interactive()"
      ],
      "execution_count": null,
      "outputs": []
    },
    {
      "cell_type": "markdown",
      "metadata": {
        "execution": {},
        "id": "d4Y3MALv9GtM"
      },
      "source": [
        "Lets look at the Visualization. Each dot represents one paper. Close dots mean that the respective papers are closer related than distant ones. The color indicates the 5-year period of when the paper was published. The dot size indicates the citation count (within S2ORC corpus) as of July 2020. \n",
        "\n",
        "The view is **interactive** and allows for three main interactions. Try them and play around.\n",
        "1. hover over a dot to see a tooltip (title, author)\n",
        "2. select a year in the legend (right) to filter dots\n",
        "2. zoom in/out with scroll -- double click resets view "
      ]
    },
    {
      "cell_type": "code",
      "metadata": {
        "execution": {},
        "id": "VTtPx_mE9GtM"
      },
      "source": [
        "chart"
      ],
      "execution_count": null,
      "outputs": []
    },
    {
      "cell_type": "markdown",
      "metadata": {
        "execution": {},
        "id": "0rtzInp49GtM"
      },
      "source": [
        "## Questions\n",
        "\n",
        "By playing around, can you find some answers to the follwing questions?\n",
        "\n",
        "1. Can you find topical clusters? What cluster might occur because of a filtering error?\n",
        "2. Can you see a temporal trend in the data and clusters?\n",
        "2. Can you determine when deep learning methods started booming ?\n",
        "3. Can you find the key papers that where written before the DL \"winter\" that define milestones for a cluster? (tipp: look for large dots of different color)"
      ]
    },
    {
      "cell_type": "markdown",
      "metadata": {
        "execution": {},
        "id": "OK80W_XO9GtM"
      },
      "source": [
        "## Methods\n",
        "\n",
        "Here is what we did:\n",
        "1. Filtering of all papers who fullfilled the criterria:\n",
        "  - are categorized as `Computer Science` or `Mathematics` \n",
        "  - one of the following keywords appearing in title or abstract: `\"machine learning|artificial intelligence|neural network|(machine|computer) vision|perceptron|network architecture| RNN | CNN | LSTM | BLEU | MNIST | CIFAR |reinforcement learning|gradient descent| Imagenet \"`\n",
        "2. per year, remove all papers that are below the 99 percentile of citation count in that year\n",
        "3. embed each paper by using abstract+title in SPECTER model\n",
        "4. project based on embedding using UMAP\n",
        "5. visualize using Altair"
      ]
    },
    {
      "cell_type": "markdown",
      "metadata": {
        "execution": {},
        "id": "dh3Ci1Gz9GtM"
      },
      "source": [
        "### Find Authors"
      ]
    },
    {
      "cell_type": "code",
      "metadata": {
        "cellView": "form",
        "execution": {},
        "id": "mfCbfkAZ9GtM"
      },
      "source": [
        "# @title Edit the `AUTHOR_FILTER` variable to full text search for authors.\n",
        "\n",
        "AUTHOR_FILTER = \"Rush \"  # @param space at the end means \"word border\"\n",
        "\n",
        "### Don't ignore case when searching...\n",
        "FLAGS = 0\n",
        "### uncomment do ignore case\n",
        "# FLAGS = re.IGNORECASE\n",
        "\n",
        "## --- FILTER CODE.. make it your own ---\n",
        "import re\n",
        "data['issel'] = data['authors'].str.contains(AUTHOR_FILTER, na=False, flags=FLAGS, )\n",
        "if data['issel'].mean()<0.0000000001:\n",
        "  print('No match found')\n",
        "\n",
        "## --- FROM HERE ON VIS CODE ---\n",
        "alt.Chart(data[[\"x\", \"y\", \"authors\", \"title\", YEAR_PERIOD, \"citation_count\", \"issel\"]], width=800,\n",
        "                  height=800) \\\n",
        "    .mark_circle(stroke=\"black\", strokeOpacity=1).encode(\n",
        "    alt.Color(YEAR_PERIOD+':O',\n",
        "              scale=alt.Scale(scheme='viridis', reverse=False),\n",
        "              # legend=alt.Legend(title='Total Records')\n",
        "              ),\n",
        "    alt.Size('citation_count',\n",
        "              scale=alt.Scale(type=\"pow\", exponent=1, range=[15, 300])\n",
        "              ),\n",
        "    alt.StrokeWidth('issel:Q', scale=alt.Scale(type=\"linear\", domain=[0,1], range=[0, 2]), legend=None),\n",
        "\n",
        "    alt.Opacity('issel:Q', scale=alt.Scale(type=\"linear\", domain=[0,1], range=[.2, 1]), legend=None),\n",
        "    alt.X('x:Q',\n",
        "        scale=alt.Scale(zero=False), axis=alt.Axis(labels=False)\n",
        "    ),\n",
        "    alt.Y('y:Q',\n",
        "        scale=alt.Scale(zero=False), axis=alt.Axis(labels=False)\n",
        "    ),\n",
        "    tooltip=['title', 'authors'],\n",
        ").interactive()"
      ],
      "execution_count": null,
      "outputs": []
    },
    {
      "cell_type": "markdown",
      "metadata": {
        "execution": {},
        "id": "iou2Rs9x9GtM"
      },
      "source": [
        "---\n",
        "# Appendix\n",
        "\n",
        "## Official PyTorch resources:\n",
        "### Tutorials\n",
        "https://pytorch.org/tutorials/\n",
        "\n",
        "### Documentation\n",
        "\n",
        " https://pytorch.org/docs/stable/tensors.html (tensor methods)\n",
        "\n",
        " https://pytorch.org/docs/stable/tensors.html#torch.Tensor.view  (The view method in particular)\n",
        "\n",
        " https://pytorch.org/vision/stable/datasets.html (pre-loaded image datasets)\n",
        "\n",
        " ## Google Colab Resources:\n",
        " https://research.google.com/colaboratory/faq.html (FAQ including guidance on GPU usage)\n",
        "\n",
        " ## Books for reference:\n",
        "\n",
        "https://www.deeplearningbook.org/ (Deep Learning by Ian Goodfellow, Yoshua Bengio and Aaron Courville)\n",
        "\n",
        " "
      ]
    }
  ]
}