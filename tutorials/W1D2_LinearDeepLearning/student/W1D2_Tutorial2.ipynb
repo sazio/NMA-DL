{
  "nbformat": 4,
  "nbformat_minor": 0,
  "metadata": {
    "colab": {
      "name": "W1D2_Tutorial2",
      "provenance": [],
      "collapsed_sections": [],
      "toc_visible": true,
      "include_colab_link": true
    },
    "kernel": {
      "display_name": "Python 3",
      "language": "python",
      "name": "python3"
    },
    "kernelspec": {
      "display_name": "Python 3",
      "name": "python3"
    },
    "language_info": {
      "codemirror_mode": {
        "name": "ipython",
        "version": 3
      },
      "file_extension": ".py",
      "mimetype": "text/x-python",
      "name": "python",
      "nbconvert_exporter": "python",
      "pygments_lexer": "ipython3",
      "version": "3.7.11"
    },
    "widgets": {
      "application/vnd.jupyter.widget-state+json": {
        "1fbb04ed19d94e41bc90096c2b2aa648": {
          "model_module": "@jupyter-widgets/controls",
          "model_name": "TabModel",
          "state": {
            "_view_name": "TabView",
            "_dom_classes": [],
            "_titles": {
              "0": "Youtube",
              "1": "Bilibili"
            },
            "_model_name": "TabModel",
            "_view_module": "@jupyter-widgets/controls",
            "selected_index": 0,
            "_model_module_version": "1.5.0",
            "_view_count": null,
            "_view_module_version": "1.5.0",
            "box_style": "",
            "layout": "IPY_MODEL_d039d97e359649d18bca32607e8536e6",
            "_model_module": "@jupyter-widgets/controls",
            "children": [
              "IPY_MODEL_1e06eb6948d548ae9e18f9a2d677f27d",
              "IPY_MODEL_aa4bc6d8b2b44eaa91a721f19d47aefc"
            ]
          }
        },
        "d039d97e359649d18bca32607e8536e6": {
          "model_module": "@jupyter-widgets/base",
          "model_name": "LayoutModel",
          "state": {
            "_view_name": "LayoutView",
            "grid_template_rows": null,
            "right": null,
            "justify_content": null,
            "_view_module": "@jupyter-widgets/base",
            "overflow": null,
            "_model_module_version": "1.2.0",
            "_view_count": null,
            "flex_flow": null,
            "width": null,
            "min_width": null,
            "border": null,
            "align_items": null,
            "bottom": null,
            "_model_module": "@jupyter-widgets/base",
            "top": null,
            "grid_column": null,
            "overflow_y": null,
            "overflow_x": null,
            "grid_auto_flow": null,
            "grid_area": null,
            "grid_template_columns": null,
            "flex": null,
            "_model_name": "LayoutModel",
            "justify_items": null,
            "grid_row": null,
            "max_height": null,
            "align_content": null,
            "visibility": null,
            "align_self": null,
            "height": null,
            "min_height": null,
            "padding": null,
            "grid_auto_rows": null,
            "grid_gap": null,
            "max_width": null,
            "order": null,
            "_view_module_version": "1.2.0",
            "grid_template_areas": null,
            "object_position": null,
            "object_fit": null,
            "grid_auto_columns": null,
            "margin": null,
            "display": null,
            "left": null
          }
        },
        "1e06eb6948d548ae9e18f9a2d677f27d": {
          "model_module": "@jupyter-widgets/output",
          "model_name": "OutputModel",
          "state": {
            "_view_name": "OutputView",
            "msg_id": "",
            "_dom_classes": [],
            "_model_name": "OutputModel",
            "outputs": [
              {
                "output_type": "stream",
                "metadata": {
                  "tags": []
                },
                "text": "Video available at https://youtube.com/watch?v=6e5JIYsqVvU\n",
                "stream": "stdout"
              },
              {
                "output_type": "display_data",
                "metadata": {
                  "tags": []
                },
                "text/html": "\n        <iframe\n            width=\"854\"\n            height=\"480\"\n            src=\"https://www.youtube.com/embed/6e5JIYsqVvU?fs=1&rel=0\"\n            frameborder=\"0\"\n            allowfullscreen\n        ></iframe>\n        ",
                "text/plain": "<IPython.lib.display.YouTubeVideo at 0x7f503a07a690>",
                "image/jpeg": "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\n"
              }
            ],
            "_view_module": "@jupyter-widgets/output",
            "_model_module_version": "1.0.0",
            "_view_count": null,
            "_view_module_version": "1.0.0",
            "layout": "IPY_MODEL_afc0e3f82cab471ba9bb708cfc9daac0",
            "_model_module": "@jupyter-widgets/output"
          }
        },
        "aa4bc6d8b2b44eaa91a721f19d47aefc": {
          "model_module": "@jupyter-widgets/output",
          "model_name": "OutputModel",
          "state": {
            "_view_name": "OutputView",
            "msg_id": "",
            "_dom_classes": [],
            "_model_name": "OutputModel",
            "outputs": [
              {
                "output_type": "stream",
                "metadata": {
                  "tags": []
                },
                "text": "Video available at https://www.bilibili.com/video/BV1F44y117ot\n",
                "stream": "stdout"
              },
              {
                "output_type": "display_data",
                "metadata": {
                  "tags": []
                },
                "text/html": "\n        <iframe\n            width=\"854\"\n            height=\"480\"\n            src=\"https://player.bilibili.com/player.html?bvid=BV1F44y117ot&page=1?fs=1\"\n            frameborder=\"0\"\n            allowfullscreen\n        ></iframe>\n        ",
                "text/plain": "<__main__.BiliVideo at 0x7f4fd97b3610>"
              }
            ],
            "_view_module": "@jupyter-widgets/output",
            "_model_module_version": "1.0.0",
            "_view_count": null,
            "_view_module_version": "1.0.0",
            "layout": "IPY_MODEL_d33920363d784768a8c2a9c77821fae5",
            "_model_module": "@jupyter-widgets/output"
          }
        },
        "afc0e3f82cab471ba9bb708cfc9daac0": {
          "model_module": "@jupyter-widgets/base",
          "model_name": "LayoutModel",
          "state": {
            "_view_name": "LayoutView",
            "grid_template_rows": null,
            "right": null,
            "justify_content": null,
            "_view_module": "@jupyter-widgets/base",
            "overflow": null,
            "_model_module_version": "1.2.0",
            "_view_count": null,
            "flex_flow": null,
            "width": null,
            "min_width": null,
            "border": null,
            "align_items": null,
            "bottom": null,
            "_model_module": "@jupyter-widgets/base",
            "top": null,
            "grid_column": null,
            "overflow_y": null,
            "overflow_x": null,
            "grid_auto_flow": null,
            "grid_area": null,
            "grid_template_columns": null,
            "flex": null,
            "_model_name": "LayoutModel",
            "justify_items": null,
            "grid_row": null,
            "max_height": null,
            "align_content": null,
            "visibility": null,
            "align_self": null,
            "height": null,
            "min_height": null,
            "padding": null,
            "grid_auto_rows": null,
            "grid_gap": null,
            "max_width": null,
            "order": null,
            "_view_module_version": "1.2.0",
            "grid_template_areas": null,
            "object_position": null,
            "object_fit": null,
            "grid_auto_columns": null,
            "margin": null,
            "display": null,
            "left": null
          }
        },
        "d33920363d784768a8c2a9c77821fae5": {
          "model_module": "@jupyter-widgets/base",
          "model_name": "LayoutModel",
          "state": {
            "_view_name": "LayoutView",
            "grid_template_rows": null,
            "right": null,
            "justify_content": null,
            "_view_module": "@jupyter-widgets/base",
            "overflow": null,
            "_model_module_version": "1.2.0",
            "_view_count": null,
            "flex_flow": null,
            "width": null,
            "min_width": null,
            "border": null,
            "align_items": null,
            "bottom": null,
            "_model_module": "@jupyter-widgets/base",
            "top": null,
            "grid_column": null,
            "overflow_y": null,
            "overflow_x": null,
            "grid_auto_flow": null,
            "grid_area": null,
            "grid_template_columns": null,
            "flex": null,
            "_model_name": "LayoutModel",
            "justify_items": null,
            "grid_row": null,
            "max_height": null,
            "align_content": null,
            "visibility": null,
            "align_self": null,
            "height": null,
            "min_height": null,
            "padding": null,
            "grid_auto_rows": null,
            "grid_gap": null,
            "max_width": null,
            "order": null,
            "_view_module_version": "1.2.0",
            "grid_template_areas": null,
            "object_position": null,
            "object_fit": null,
            "grid_auto_columns": null,
            "margin": null,
            "display": null,
            "left": null
          }
        }
      }
    }
  },
  "cells": [
    {
      "cell_type": "markdown",
      "metadata": {
        "id": "view-in-github",
        "colab_type": "text"
      },
      "source": [
        "<a href=\"https://colab.research.google.com/github/sazio/NMA-DL/blob/main/tutorials/W1D2_LinearDeepLearning/student/W1D2_Tutorial2.ipynb\" target=\"_parent\"><img src=\"https://colab.research.google.com/assets/colab-badge.svg\" alt=\"Open In Colab\"/></a>"
      ]
    },
    {
      "cell_type": "markdown",
      "metadata": {
        "execution": {},
        "id": "xBg6-YqQaAr7"
      },
      "source": [
        "# Tutorial 2: Learning Hyperparameters\n",
        "**Week 1, Day 2: Linear Deep Learning**\n",
        "\n",
        "**By Neuromatch Academy**\n",
        "\n",
        "__Content creators:__ Saeed Salehi, Andrew Saxe\n",
        "\n",
        "__Content reviewers:__ Polina Turishcheva, Antoine De Comite, Kelson Shilling-Scrivo\n",
        "\n",
        "__Content editors:__ Anoop Kulkarni\n",
        "\n",
        "__Production editors:__ Khalid Almubarak, Spiros Chavlis\n"
      ]
    },
    {
      "cell_type": "markdown",
      "metadata": {
        "execution": {},
        "id": "CyuR5eokaAr8"
      },
      "source": [
        "**Our 2021 Sponsors, including Presenting Sponsor Facebook Reality Labs**\n",
        "\n",
        "<p align='center'><img src='https://github.com/NeuromatchAcademy/widgets/blob/master/sponsors.png?raw=True'/></p>"
      ]
    },
    {
      "cell_type": "markdown",
      "metadata": {
        "execution": {},
        "id": "SoqilWMBaAr8"
      },
      "source": [
        "---\n",
        "# Tutorial Objectives\n",
        "\n",
        "* Training landscape\n",
        "* The effect of depth\n",
        "* Choosing a learning rate\n",
        "* Initialization matters\n"
      ]
    },
    {
      "cell_type": "code",
      "metadata": {
        "cellView": "form",
        "execution": {},
        "id": "i9wqPq_HaAr9",
        "outputId": "196463b6-b58f-42c2-b48c-a08dc77412d3",
        "colab": {
          "base_uri": "https://localhost:8080/",
          "height": 501
        }
      },
      "source": [
        "# @title Tutorial slides\n",
        "\n",
        "# @markdown These are the slides for the videos in the tutorial\n",
        "from IPython.display import IFrame\n",
        "IFrame(src=f\"https://mfr.ca-1.osf.io/render?url=https://osf.io/sne2m/?direct%26mode=render%26action=download%26mode=render\", width=854, height=480)"
      ],
      "execution_count": 10,
      "outputs": [
        {
          "output_type": "execute_result",
          "data": {
            "text/html": [
              "\n",
              "        <iframe\n",
              "            width=\"854\"\n",
              "            height=\"480\"\n",
              "            src=\"https://mfr.ca-1.osf.io/render?url=https://osf.io/sne2m/?direct%26mode=render%26action=download%26mode=render\"\n",
              "            frameborder=\"0\"\n",
              "            allowfullscreen\n",
              "        ></iframe>\n",
              "        "
            ],
            "text/plain": [
              "<IPython.lib.display.IFrame at 0x7f5032cacc90>"
            ]
          },
          "metadata": {
            "tags": []
          },
          "execution_count": 10
        }
      ]
    },
    {
      "cell_type": "markdown",
      "metadata": {
        "execution": {},
        "id": "c2XpKH_SaAr9"
      },
      "source": [
        "---\n",
        "# Setup\n",
        "\n",
        "This a GPU-Free tutorial!"
      ]
    },
    {
      "cell_type": "code",
      "metadata": {
        "execution": {},
        "id": "U-e8NBjQaAr9"
      },
      "source": [
        "# @title Install dependencies\n",
        "!pip install git+https://github.com/NeuromatchAcademy/evaltools --quiet\n",
        "\n",
        "from evaltools.airtable import AirtableForm"
      ],
      "execution_count": 11,
      "outputs": []
    },
    {
      "cell_type": "code",
      "metadata": {
        "execution": {},
        "id": "jqObUA6daAr-"
      },
      "source": [
        "# Imports\n",
        "import time\n",
        "import numpy as np\n",
        "import matplotlib\n",
        "import matplotlib.pyplot as plt"
      ],
      "execution_count": 12,
      "outputs": []
    },
    {
      "cell_type": "code",
      "metadata": {
        "cellView": "form",
        "execution": {},
        "id": "cWbxr3IAaAr-"
      },
      "source": [
        "# @title Figure settings\n",
        "\n",
        "from ipywidgets import interact, IntSlider, FloatSlider, fixed\n",
        "from ipywidgets import HBox, interactive_output, ToggleButton, Layout\n",
        "from mpl_toolkits.axes_grid1 import make_axes_locatable\n",
        "\n",
        "%config InlineBackend.figure_format = 'retina'\n",
        "plt.style.use(\"https://raw.githubusercontent.com/NeuromatchAcademy/content-creation/main/nma.mplstyle\")"
      ],
      "execution_count": 13,
      "outputs": []
    },
    {
      "cell_type": "code",
      "metadata": {
        "cellView": "form",
        "execution": {},
        "id": "I-vmDgRXaAr_"
      },
      "source": [
        "# @title Plotting functions\n",
        "\n",
        "def plot_x_y_(x_t_, y_t_, x_ev_, y_ev_, loss_log_, weight_log_):\n",
        "  \"\"\"\n",
        "  \"\"\"\n",
        "  plt.figure(figsize=(12, 4))\n",
        "  plt.subplot(1, 3, 1)\n",
        "  plt.scatter(x_t_, y_t_, c='r', label='training data')\n",
        "  plt.plot(x_ev_, y_ev_, c='b', label='test results', linewidth=2)\n",
        "  plt.xlabel('x')\n",
        "  plt.ylabel('y')\n",
        "  plt.legend()\n",
        "  plt.subplot(1, 3, 2)\n",
        "  plt.plot(loss_log_, c='r')\n",
        "  plt.xlabel('epochs')\n",
        "  plt.ylabel('mean squared error')\n",
        "  plt.subplot(1, 3, 3)\n",
        "  plt.plot(weight_log_)\n",
        "  plt.xlabel('epochs')\n",
        "  plt.ylabel('weights')\n",
        "  plt.show()\n",
        "\n",
        "\n",
        "def plot_vector_field(what, init_weights=None):\n",
        "  \"\"\"\n",
        "  \"\"\"\n",
        "  n_epochs=40\n",
        "  lr=0.15\n",
        "  x_pos = np.linspace(2.0, 0.5, 100, endpoint=True)\n",
        "  y_pos = 1. / x_pos\n",
        "  xx, yy = np.mgrid[-1.9:2.0:0.2, -1.9:2.0:0.2]\n",
        "  zz = np.empty_like(xx)\n",
        "  x, y = xx[:, 0], yy[0]\n",
        "\n",
        "  x_temp, y_temp = gen_samples(10, 1.0, 0.0)\n",
        "\n",
        "  cmap = matplotlib.cm.plasma\n",
        "  plt.figure(figsize=(8, 7))\n",
        "  ax = plt.gca()\n",
        "\n",
        "  if what == 'all' or what == 'vectors':\n",
        "    for i, a in enumerate(x):\n",
        "      for j, b in enumerate(y):\n",
        "        temp_model = ShallowNarrowLNN([a, b])\n",
        "        da, db = temp_model.dloss_dw(x_temp, y_temp)\n",
        "        zz[i, j] = temp_model.loss(temp_model.forward(x_temp), y_temp)\n",
        "        scale = min(40 * np.sqrt(da**2 + db**2), 50)\n",
        "        ax.quiver(a, b, - da, - db, scale=scale, color=cmap(np.sqrt(da**2 + db**2)))\n",
        "\n",
        "  if what == 'all' or what == 'trajectory':\n",
        "    if init_weights is None:\n",
        "      for init_weights in [[0.5, -0.5], [0.55, -0.45], [-1.8, 1.7]]:\n",
        "        temp_model = ShallowNarrowLNN(init_weights)\n",
        "        _, temp_records = temp_model.train(x_temp, y_temp, lr, n_epochs)\n",
        "        ax.scatter(temp_records[:, 0], temp_records[:, 1],\n",
        "                    c=np.arange(len(temp_records)), cmap='Greys')\n",
        "        ax.scatter(temp_records[0, 0], temp_records[0, 1], c='blue', zorder=9)\n",
        "        ax.scatter(temp_records[-1, 0], temp_records[-1, 1], c='red', marker='X', s=100, zorder=9)\n",
        "    else:\n",
        "      temp_model = ShallowNarrowLNN(init_weights)\n",
        "      _, temp_records = temp_model.train(x_temp, y_temp, lr, n_epochs)\n",
        "      ax.scatter(temp_records[:, 0], temp_records[:, 1],\n",
        "                  c=np.arange(len(temp_records)), cmap='Greys')\n",
        "      ax.scatter(temp_records[0, 0], temp_records[0, 1], c='blue', zorder=9)\n",
        "      ax.scatter(temp_records[-1, 0], temp_records[-1, 1], c='red', marker='X', s=100, zorder=9)\n",
        "\n",
        "  if what == 'all' or what == 'loss':\n",
        "    contplt = ax.contourf(x, y, np.log(zz+0.001), zorder=-1, cmap='coolwarm', levels=100)\n",
        "    divider = make_axes_locatable(ax)\n",
        "    cax = divider.append_axes(\"right\", size=\"5%\", pad=0.05)\n",
        "    cbar = plt.colorbar(contplt, cax=cax)\n",
        "    cbar.set_label('log (Loss)')\n",
        "\n",
        "  ax.set_xlabel(\"$w_1$\")\n",
        "  ax.set_ylabel(\"$w_2$\")\n",
        "  ax.set_xlim(-1.9, 1.9)\n",
        "  ax.set_ylim(-1.9, 1.9)\n",
        "\n",
        "  plt.show()\n",
        "\n",
        "\n",
        "def plot_loss_landscape():\n",
        "  \"\"\"\n",
        "  \"\"\"\n",
        "  x_temp, y_temp = gen_samples(10, 1.0, 0.0)\n",
        "\n",
        "  xx, yy = np.mgrid[-1.9:2.0:0.2, -1.9:2.0:0.2]\n",
        "  zz = np.empty_like(xx)\n",
        "  x, y = xx[:, 0], yy[0]\n",
        "\n",
        "  for i, a in enumerate(x):\n",
        "    for j, b in enumerate(y):\n",
        "      temp_model = ShallowNarrowLNN([a, b])\n",
        "      zz[i, j] = temp_model.loss(temp_model.forward(x_temp), y_temp)\n",
        "\n",
        "  temp_model = ShallowNarrowLNN([-1.8, 1.7])\n",
        "  loss_rec_1, w_rec_1 = temp_model.train(x_temp, y_temp, 0.02, 240)\n",
        "\n",
        "  temp_model = ShallowNarrowLNN([1.5, -1.5])\n",
        "  loss_rec_2, w_rec_2 = temp_model.train(x_temp, y_temp, 0.02, 240)\n",
        "\n",
        "  plt.figure(figsize=(12, 8))\n",
        "  ax = plt.subplot(1, 1, 1, projection='3d')\n",
        "  ax.plot_surface(xx, yy, np.log(zz+0.5), cmap='coolwarm', alpha=0.5)\n",
        "  ax.scatter3D(w_rec_1[:, 0], w_rec_1[:, 1], np.log(loss_rec_1+0.5),\n",
        "                c='k', s=50, zorder=9)\n",
        "  ax.scatter3D(w_rec_2[:, 0], w_rec_2[:, 1], np.log(loss_rec_2+0.5),\n",
        "                c='k', s=50, zorder=9)\n",
        "  plt.axis(\"off\")\n",
        "  ax.view_init(45, 260)\n",
        "\n",
        "  plt.show()\n",
        "\n",
        "\n",
        "def depth_widget(depth):\n",
        "  if depth == 0:\n",
        "    depth_lr_init_interplay(depth, 0.02, 0.9)\n",
        "  else:\n",
        "    depth_lr_init_interplay(depth, 0.01, 0.9)\n",
        "\n",
        "\n",
        "def lr_widget(lr):\n",
        "  depth_lr_init_interplay(50, lr, 0.9)\n",
        "\n",
        "\n",
        "def depth_lr_interplay(depth, lr):\n",
        "  depth_lr_init_interplay(depth, lr, 0.9)\n",
        "\n",
        "\n",
        "def depth_lr_init_interplay(depth, lr, init_weights):\n",
        "  n_epochs = 600\n",
        "\n",
        "  x_train, y_train = gen_samples(100, 2.0, 0.1)\n",
        "  model = DeepNarrowLNN(np.full((1, depth+1), init_weights))\n",
        "\n",
        "  plt.figure(figsize=(10, 5))\n",
        "  plt.plot(model.train(x_train, y_train, lr, n_epochs),\n",
        "            linewidth=3.0, c='m')\n",
        "\n",
        "  plt.title(\"Training a {}-layer LNN with\"\n",
        "  \" $\\eta=${} initialized with $w_i=${}\".format(depth, lr, init_weights), pad=15)\n",
        "  plt.yscale('log')\n",
        "  plt.xlabel('epochs')\n",
        "  plt.ylabel('Log mean squared error')\n",
        "  plt.ylim(0.001, 1.0)\n",
        "  plt.show()\n",
        "\n",
        "\n",
        "def plot_init_effect():\n",
        "  depth = 15\n",
        "  n_epochs = 250\n",
        "  lr = 0.02\n",
        "\n",
        "  x_train, y_train = gen_samples(100, 2.0, 0.1)\n",
        "\n",
        "  plt.figure(figsize=(12, 6))\n",
        "  for init_w in np.arange(0.7, 1.09, 0.05):\n",
        "      model = DeepNarrowLNN(np.full((1, depth), init_w))\n",
        "      plt.plot(model.train(x_train, y_train, lr, n_epochs),\n",
        "              linewidth=3.0, label=\"initial weights {:.2f}\".format(init_w))\n",
        "  plt.title(\"Training a {}-layer narrow LNN with $\\eta=${}\".format(depth, lr), pad=15)\n",
        "  plt.yscale('log')\n",
        "  plt.xlabel('epochs')\n",
        "  plt.ylabel('Log mean squared error')\n",
        "  plt.legend(loc='lower left', ncol=4)\n",
        "  plt.ylim(0.001, 1.0)\n",
        "  plt.show()\n",
        "\n",
        "\n",
        "class InterPlay:\n",
        "  def __init__(self):\n",
        "    self.lr = [None]\n",
        "    self.depth = [None]\n",
        "    self.success = [None]\n",
        "    self.min_depth, self.max_depth = 5, 65\n",
        "    self.depth_list = np.arange(10, 61, 10)\n",
        "    self.i_depth = 0\n",
        "    self.min_lr, self.max_lr = 0.001, 0.105\n",
        "    self.n_epochs = 600\n",
        "    self.x_train, self.y_train = gen_samples(100, 2.0, 0.1)\n",
        "    self.converged = False\n",
        "    self.button = None\n",
        "    self.slider = None\n",
        "\n",
        "  def train(self, lr, update=False, init_weights=0.9):\n",
        "    if update and self.converged and self.i_depth < len(self.depth_list):\n",
        "      depth = self.depth_list[self.i_depth]\n",
        "      self.plot(depth, lr)\n",
        "      self.i_depth += 1\n",
        "      self.lr.append(None)\n",
        "      self.depth.append(None)\n",
        "      self.success.append(None)\n",
        "      self.converged = False\n",
        "      self.slider.value = 0.005\n",
        "      if self.i_depth < len(self.depth_list):\n",
        "        self.button.value = False\n",
        "        self.button.description = 'Explore!'\n",
        "        self.button.disabled = True\n",
        "        self.button.button_style = 'danger'\n",
        "      else:\n",
        "        self.button.value = False\n",
        "        self.button.button_style = ''\n",
        "        self.button.disabled = True\n",
        "        self.button.description = 'Done!'\n",
        "      time.sleep(1.0)\n",
        "\n",
        "    elif self.i_depth < len(self.depth_list):\n",
        "      depth = self.depth_list[self.i_depth]\n",
        "      # assert self.min_depth <= depth <= self.max_depth\n",
        "      assert self.min_lr <= lr <= self.max_lr\n",
        "      self.converged = False\n",
        "\n",
        "      model = DeepNarrowLNN(np.full((1, depth), init_weights))\n",
        "      self.losses = np.array(model.train(self.x_train, self.y_train, lr, self.n_epochs))\n",
        "      if np.any(self.losses < 1e-2):\n",
        "        success = np.argwhere(self.losses < 1e-2)[0][0]\n",
        "        if np.all((self.losses[success:] < 1e-2)):\n",
        "          self.converged = True\n",
        "          self.success[-1] = success\n",
        "          self.lr[-1] = lr\n",
        "          self.depth[-1] = depth\n",
        "          self.button.disabled = False\n",
        "          self.button.button_style = 'success'\n",
        "          self.button.description = 'Register!'\n",
        "        else:\n",
        "          self.button.disabled = True\n",
        "          self.button.button_style = 'danger'\n",
        "          self.button.description = 'Explore!'\n",
        "      else:\n",
        "        self.button.disabled = True\n",
        "        self.button.button_style = 'danger'\n",
        "        self.button.description = 'Explore!'\n",
        "      self.plot(depth, lr)\n",
        "\n",
        "  def plot(self, depth, lr):\n",
        "    fig = plt.figure(constrained_layout=False, figsize=(10, 8))\n",
        "    gs = fig.add_gridspec(2, 2)\n",
        "    ax1 = fig.add_subplot(gs[0, :])\n",
        "    ax2 = fig.add_subplot(gs[1, 0])\n",
        "    ax3 = fig.add_subplot(gs[1, 1])\n",
        "\n",
        "    ax1.plot(self.losses, linewidth=3.0, c='m')\n",
        "    ax1.set_title(\"Training a {}-layer LNN with\"\n",
        "    \" $\\eta=${}\".format(depth, lr), pad=15, fontsize=16)\n",
        "    ax1.set_yscale('log')\n",
        "    ax1.set_xlabel('epochs')\n",
        "    ax1.set_ylabel('Log mean squared error')\n",
        "    ax1.set_ylim(0.001, 1.0)\n",
        "\n",
        "    ax2.set_xlim(self.min_depth, self.max_depth)\n",
        "    ax2.set_ylim(-10, self.n_epochs)\n",
        "    ax2.set_xlabel('Depth')\n",
        "    ax2.set_ylabel('Learning time (Epochs)')\n",
        "    ax2.set_title(\"Learning time vs depth\", fontsize=14)\n",
        "    ax2.scatter(np.array(self.depth), np.array(self.success), c='r')\n",
        "\n",
        "    # ax3.set_yscale('log')\n",
        "    ax3.set_xlim(self.min_depth, self.max_depth)\n",
        "    ax3.set_ylim(self.min_lr, self.max_lr)\n",
        "    ax3.set_xlabel('Depth')\n",
        "    ax3.set_ylabel('Optimial learning rate')\n",
        "    ax3.set_title(\"Empirically optimal $\\eta$ vs depth\", fontsize=14)\n",
        "    ax3.scatter(np.array(self.depth), np.array(self.lr), c='r')\n",
        "\n",
        "    plt.show()"
      ],
      "execution_count": 14,
      "outputs": []
    },
    {
      "cell_type": "code",
      "metadata": {
        "cellView": "form",
        "execution": {},
        "id": "Ee7DTEXMaAsC"
      },
      "source": [
        "# @title Helper functions\n",
        "\n",
        "atform = AirtableForm('appn7VdPRseSoMXEG','W1D2_T2','https://portal.neuromatchacademy.org/api/redirect/to/9c55f6cb-cdf9-4429-ac1c-ec44fe64c303')\n",
        "\n",
        "\n",
        "def gen_samples(n, a, sigma):\n",
        "  \"\"\"\n",
        "  Generates `n` samples with `y = z * x + noise(sgma)` linear relation.\n",
        "\n",
        "  Args:\n",
        "    n : int\n",
        "    a : float\n",
        "    sigma : float\n",
        "  Retutns:\n",
        "   x : np.array\n",
        "   y : np.array\n",
        "  \"\"\"\n",
        "  assert n > 0\n",
        "  assert sigma >= 0\n",
        "\n",
        "  if sigma > 0:\n",
        "    x = np.random.rand(n)\n",
        "    noise = np.random.normal(scale=sigma, size=(n))\n",
        "    y = a * x + noise\n",
        "  else:\n",
        "    x = np.linspace(0.0, 1.0, n, endpoint=True)\n",
        "    y = a * x\n",
        "  return x, y\n",
        "\n",
        "\n",
        "class ShallowNarrowLNN:\n",
        "  \"\"\"\n",
        "  Shallow and narrow (one neuron per layer) linear neural network\n",
        "  \"\"\"\n",
        "  def __init__(self, init_ws):\n",
        "    \"\"\"\n",
        "    init_ws: initial weights as a list\n",
        "    \"\"\"\n",
        "    assert isinstance(init_ws, list)\n",
        "    assert len(init_ws) == 2\n",
        "    self.w1 = init_ws[0]\n",
        "    self.w2 = init_ws[1]\n",
        "\n",
        "  def forward(self, x):\n",
        "    \"\"\"\n",
        "    The forward pass through netwrok y = x * w1 * w2\n",
        "    \"\"\"\n",
        "    y = x * self.w1 * self.w2\n",
        "    return y\n",
        "\n",
        "  def loss(self, y_p, y_t):\n",
        "    \"\"\"\n",
        "    Mean squared error (L2) with 1/2 for convenience\n",
        "    \"\"\"\n",
        "    assert y_p.shape == y_t.shape\n",
        "    mse = ((y_t - y_p)**2).mean()\n",
        "    return mse\n",
        "\n",
        "  def dloss_dw(self, x, y_t):\n",
        "    \"\"\"\n",
        "    partial derivative of loss with respect to weights\n",
        "\n",
        "    Args:\n",
        "      x : np.array\n",
        "      y_t : np.array\n",
        "    \"\"\"\n",
        "    assert x.shape == y_t.shape\n",
        "    Error = y_t - self.w1 * self.w2 * x\n",
        "    dloss_dw1 = - (2 * self.w2 * x * Error).mean()\n",
        "    dloss_dw2 = - (2 * self.w1 * x * Error).mean()\n",
        "    return dloss_dw1, dloss_dw2\n",
        "\n",
        "  def train(self, x, y_t, eta, n_ep):\n",
        "    \"\"\"\n",
        "    Gradient descent algorithm\n",
        "\n",
        "    Args:\n",
        "      x : np.array\n",
        "      y_t : np.array\n",
        "      eta: float\n",
        "      n_ep : int\n",
        "    \"\"\"\n",
        "    assert x.shape == y_t.shape\n",
        "\n",
        "    loss_records = np.empty(n_ep)  # pre allocation of loss records\n",
        "    weight_records = np.empty((n_ep, 2))  # pre allocation of weight records\n",
        "\n",
        "    for i in range(n_ep):\n",
        "      y_p = self.forward(x)\n",
        "      loss_records[i] = self.loss(y_p, y_t)\n",
        "      dloss_dw1, dloss_dw2 = self.dloss_dw(x, y_t)\n",
        "      self.w1 -= eta * dloss_dw1\n",
        "      self.w2 -= eta * dloss_dw2\n",
        "      weight_records[i] = [self.w1, self.w2]\n",
        "\n",
        "    return loss_records, weight_records\n",
        "\n",
        "\n",
        "class DeepNarrowLNN:\n",
        "  \"\"\"\n",
        "  Deep but thin (one neuron per layer) linear neural network\n",
        "  \"\"\"\n",
        "  def __init__(self, init_ws):\n",
        "    \"\"\"\n",
        "    init_ws: initial weights as a numpy array\n",
        "    \"\"\"\n",
        "    self.n = init_ws.size\n",
        "    self.W = init_ws.reshape(1, -1)\n",
        "\n",
        "  def forward(self, x):\n",
        "    \"\"\"\n",
        "    x : np.array\n",
        "      input features\n",
        "    \"\"\"\n",
        "    y = np.prod(self.W) * x\n",
        "    return y\n",
        "\n",
        "  def loss(self, y_t, y_p):\n",
        "    \"\"\"\n",
        "    mean squared error (L2 loss)\n",
        "\n",
        "    Args:\n",
        "      y_t : np.array\n",
        "      y_p : np.array\n",
        "    \"\"\"\n",
        "    assert y_p.shape == y_t.shape\n",
        "    mse = ((y_t - y_p)**2 / 2).mean()\n",
        "    return mse\n",
        "\n",
        "  def dloss_dw(self, x, y_t, y_p):\n",
        "    \"\"\"\n",
        "    analytical gradient of weights\n",
        "\n",
        "    Args:\n",
        "      x : np.array\n",
        "      y_t : np.array\n",
        "      y_p : np.array\n",
        "    \"\"\"\n",
        "    E = y_t - y_p  # = y_t - x * np.prod(self.W)\n",
        "    Ex = np.multiply(x, E).mean()\n",
        "    Wp = np.prod(self.W) / (self.W + 1e-9)\n",
        "    dW = - Ex * Wp\n",
        "    return dW\n",
        "\n",
        "  def train(self, x, y_t, eta, n_epochs):\n",
        "    \"\"\"\n",
        "    training using gradient descent\n",
        "\n",
        "    Args:\n",
        "      x : np.array\n",
        "      y_t : np.array\n",
        "      eta: float\n",
        "      n_epochs : int\n",
        "    \"\"\"\n",
        "    loss_records = np.empty(n_epochs)\n",
        "    loss_records[:] = np.nan\n",
        "    for i in range(n_epochs):\n",
        "      y_p = self.forward(x)\n",
        "      loss_records[i] = self.loss(y_t, y_p).mean()\n",
        "      dloss_dw = self.dloss_dw(x, y_t, y_p)\n",
        "      if np.isnan(dloss_dw).any() or np.isinf(dloss_dw).any():\n",
        "        return loss_records\n",
        "      self.W -= eta * dloss_dw\n",
        "    return loss_records"
      ],
      "execution_count": 15,
      "outputs": []
    },
    {
      "cell_type": "code",
      "metadata": {
        "cellView": "form",
        "execution": {},
        "id": "TmooFrmWaAsD"
      },
      "source": [
        "#@title Set random seed\n",
        "\n",
        "#@markdown Executing `set_seed(seed=seed)` you are setting the seed\n",
        "\n",
        "# for DL its critical to set the random seed so that students can have a\n",
        "# baseline to compare their results to expected results.\n",
        "# Read more here: https://pytorch.org/docs/stable/notes/randomness.html\n",
        "\n",
        "# Call `set_seed` function in the exercises to ensure reproducibility.\n",
        "import random\n",
        "import torch\n",
        "\n",
        "def set_seed(seed=None, seed_torch=True):\n",
        "  if seed is None:\n",
        "    seed = np.random.choice(2 ** 32)\n",
        "  random.seed(seed)\n",
        "  np.random.seed(seed)\n",
        "  if seed_torch:\n",
        "    torch.manual_seed(seed)\n",
        "    torch.cuda.manual_seed_all(seed)\n",
        "    torch.cuda.manual_seed(seed)\n",
        "    torch.backends.cudnn.benchmark = False\n",
        "    torch.backends.cudnn.deterministic = True\n",
        "\n",
        "  print(f'Random seed {seed} has been set.')\n",
        "\n",
        "\n",
        "# In case that `DataLoader` is used\n",
        "def seed_worker(worker_id):\n",
        "  worker_seed = torch.initial_seed() % 2**32\n",
        "  np.random.seed(worker_seed)\n",
        "  random.seed(worker_seed)"
      ],
      "execution_count": 16,
      "outputs": []
    },
    {
      "cell_type": "code",
      "metadata": {
        "cellView": "form",
        "execution": {},
        "id": "iNsrc4OuaAsD"
      },
      "source": [
        "#@title Set device (GPU or CPU). Execute `set_device()`\n",
        "# especially if torch modules used.\n",
        "\n",
        "# inform the user if the notebook uses GPU or CPU.\n",
        "\n",
        "def set_device():\n",
        "  device = \"cuda\" if torch.cuda.is_available() else \"cpu\"\n",
        "  if device != \"cuda\":\n",
        "    print(\"GPU is not enabled in this notebook. \\n\"\n",
        "          \"If you want to enable it, in the menu under `Runtime` -> \\n\"\n",
        "          \"`Hardware accelerator.` and select `GPU` from the dropdown menu\")\n",
        "  else:\n",
        "    print(\"GPU is enabled in this notebook. \\n\"\n",
        "          \"If you want to disable it, in the menu under `Runtime` -> \\n\"\n",
        "          \"`Hardware accelerator.` and select `None` from the dropdown menu\")\n",
        "\n",
        "  return device"
      ],
      "execution_count": 17,
      "outputs": []
    },
    {
      "cell_type": "code",
      "metadata": {
        "execution": {},
        "id": "gvZhjwDWaAsD",
        "outputId": "757ccd7d-58b0-4c61-cafd-292b72c1c6a2",
        "colab": {
          "base_uri": "https://localhost:8080/"
        }
      },
      "source": [
        "SEED = 2021\n",
        "set_seed(seed=SEED)\n",
        "DEVICE = set_device()"
      ],
      "execution_count": 18,
      "outputs": [
        {
          "output_type": "stream",
          "text": [
            "Random seed 2021 has been set.\n",
            "GPU is not enabled in this notebook. \n",
            "If you want to enable it, in the menu under `Runtime` -> \n",
            "`Hardware accelerator.` and select `GPU` from the dropdown menu\n"
          ],
          "name": "stdout"
        }
      ]
    },
    {
      "cell_type": "markdown",
      "metadata": {
        "execution": {},
        "id": "mg1Rg_ciaAsD"
      },
      "source": [
        "---\n",
        "# Section 1: A Shallow Narrow Linear Neural Network\n",
        "\n",
        "*Time estimate: ~30 mins*"
      ]
    },
    {
      "cell_type": "code",
      "metadata": {
        "execution": {},
        "id": "Q9HjMpuuaAsE",
        "outputId": "7b5a2955-e122-454c-d6fa-9ed4efea49da",
        "colab": {
          "base_uri": "https://localhost:8080/",
          "height": 581,
          "referenced_widgets": [
            "1fbb04ed19d94e41bc90096c2b2aa648",
            "d039d97e359649d18bca32607e8536e6",
            "1e06eb6948d548ae9e18f9a2d677f27d",
            "aa4bc6d8b2b44eaa91a721f19d47aefc",
            "afc0e3f82cab471ba9bb708cfc9daac0",
            "d33920363d784768a8c2a9c77821fae5"
          ]
        }
      },
      "source": [
        "# @title Video 1: Shallow Narrow Linear Net\n",
        "from ipywidgets import widgets\n",
        "\n",
        "out2 = widgets.Output()\n",
        "with out2:\n",
        "  from IPython.display import IFrame\n",
        "  class BiliVideo(IFrame):\n",
        "    def __init__(self, id, page=1, width=400, height=300, **kwargs):\n",
        "      self.id=id\n",
        "      src = \"https://player.bilibili.com/player.html?bvid={0}&page={1}\".format(id, page)\n",
        "      super(BiliVideo, self).__init__(src, width, height, **kwargs)\n",
        "\n",
        "  video = BiliVideo(id=f\"BV1F44y117ot\", width=854, height=480, fs=1)\n",
        "  print(\"Video available at https://www.bilibili.com/video/{0}\".format(video.id))\n",
        "  display(video)\n",
        "\n",
        "out1 = widgets.Output()\n",
        "with out1:\n",
        "  from IPython.display import YouTubeVideo\n",
        "  video = YouTubeVideo(id=f\"6e5JIYsqVvU\", width=854, height=480, fs=1, rel=0)\n",
        "  print(\"Video available at https://youtube.com/watch?v=\" + video.id)\n",
        "  display(video)\n",
        "\n",
        "out = widgets.Tab([out1, out2])\n",
        "out.set_title(0, 'Youtube')\n",
        "out.set_title(1, 'Bilibili')\n",
        "\n",
        "#add event to airtable\n",
        "atform.add_event('video 1: Shallow Narrow Linear Net')\n",
        "\n",
        "display(out)"
      ],
      "execution_count": 19,
      "outputs": [
        {
          "output_type": "display_data",
          "data": {
            "application/vnd.jupyter.widget-view+json": {
              "model_id": "1fbb04ed19d94e41bc90096c2b2aa648",
              "version_minor": 0,
              "version_major": 2
            },
            "text/plain": [
              "Tab(children=(Output(), Output()), _titles={'0': 'Youtube', '1': 'Bilibili'})"
            ]
          },
          "metadata": {
            "tags": []
          }
        }
      ]
    },
    {
      "cell_type": "markdown",
      "metadata": {
        "execution": {},
        "id": "kq5bTN_paAsE"
      },
      "source": [
        "## Section 1.1: A Shallow Narrow Linear Net"
      ]
    },
    {
      "cell_type": "markdown",
      "metadata": {
        "execution": {},
        "id": "GOwxpKVLaAsE"
      },
      "source": [
        "To better understand the behavior of neural network training with gradient descent, we start with the incredibly simple case of a shallow narrow linear neural net, since state-of-the-art models are impossible to dissect and comprehend with our current mathematical tools.\n",
        "\n",
        "The model we use has one hidden layer, with only one neuron, and two weights. We consider the squared error (or L2 loss) as the cost function. As you may have already guessed, we can visualize the model as a neural network:\n",
        "\n",
        "<center><img src=\"https://raw.githubusercontent.com/NeuromatchAcademy/course-content-dl/main/tutorials/W1D2_LinearDeepLearning/static/shallow_narrow_nn.png\" width=\"400\"/></center>\n",
        "\n",
        "<br/>\n",
        "\n",
        "or by its computation graph:\n",
        "\n",
        "<center><img src=\"https://raw.githubusercontent.com/NeuromatchAcademy/course-content-dl/main/tutorials/W1D2_LinearDeepLearning/static/shallow_narrow.png\" alt=\"Shallow Narrow Graph\" width=\"400\"/></center>\n",
        "\n",
        "or on a rare occasion, even as a reasonably compact mapping:\n",
        "\n",
        "$$ loss = (y - w_1 \\cdot w_2 \\cdot x)^2 $$\n",
        "\n",
        "<br/>\n",
        "\n",
        "Implementing a neural network from scratch without using any Automatic Differentiation tool is rarely necessary. The following two exercises are therefore **Bonus** (optional) exercises. Please ignore them if you have any time-limits or pressure and continue to Section 1.2."
      ]
    },
    {
      "cell_type": "markdown",
      "metadata": {
        "execution": {},
        "id": "IicQTzUnaAsE"
      },
      "source": [
        "### Analytical Exercise 1.1: Loss Gradients (Optional)\n",
        "\n",
        "Once again, we ask you to calculate the network gradients analytically, since you will need them for the next exercise. We understand how annoying this is.\n",
        "\n",
        "$\\dfrac{\\partial{loss}}{\\partial{w_1}} = ?$\n",
        "\n",
        "$\\dfrac{\\partial{loss}}{\\partial{w_2}} = ?$\n",
        "\n",
        "<br/>\n",
        "\n",
        "---\n",
        "#### Solution\n",
        "\n",
        "$\\dfrac{\\partial{loss}}{\\partial{w_1}} = -2 \\cdot w_2 \\cdot x \\cdot (y - w_1 \\cdot w_2 \\cdot x)$\n",
        "\n",
        "$\\dfrac{\\partial{loss}}{\\partial{w_2}} = -2 \\cdot w_1 \\cdot x \\cdot (y - w_1 \\cdot w_2 \\cdot x)$\n",
        "\n",
        "---\n"
      ]
    },
    {
      "cell_type": "markdown",
      "metadata": {
        "execution": {},
        "id": "Mi_NYTvQaAsE"
      },
      "source": [
        "### Coding Exercise 1.1: Implement simple narrow LNN (Optional)\n",
        "\n",
        "Next, we ask you to implement the `forward` pass for our model from scratch without using PyTorch.\n",
        "\n",
        "Also, although our model gets a single input feature and outputs a single prediction, we could calculate the loss and perform training for multiple samples at once. This is the common practice for neural networks, since computers are incredibly fast doing matrix (or tensor) operations on batches of data, rather than processing samples one at a time through `for` loops. Therefore, for the `loss` function, please implement the **mean** squared error (MSE), and adjust your analytical gradients accordingly when implementing the `dloss_dw` function.\n",
        "\n",
        "Finally, complete the `train` function for the gradient descent algorithm:\n",
        "\n",
        "\\begin{equation}\n",
        "\\mathbf{w}^{(t+1)} = \\mathbf{w}^{(t)} - \\eta \\nabla loss (\\mathbf{w}^{(t)})\n",
        "\\end{equation}"
      ]
    },
    {
      "cell_type": "code",
      "metadata": {
        "execution": {},
        "id": "iXxQ-kY7aAsE",
        "outputId": "da0ff8e6-a13f-4523-b2e0-7a727411945d",
        "colab": {
          "base_uri": "https://localhost:8080/",
          "height": 461
        }
      },
      "source": [
        "class ShallowNarrowExercise:\n",
        "  \"\"\"Shallow and narrow (one neuron per layer) linear neural network\n",
        "  \"\"\"\n",
        "  def __init__(self, init_weights):\n",
        "    \"\"\"\n",
        "    Args:\n",
        "      init_weights (list): initial weights\n",
        "    \"\"\"\n",
        "    assert isinstance(init_weights, (list, np.ndarray, tuple))\n",
        "    assert len(init_weights) == 2\n",
        "    self.w1 = init_weights[0]\n",
        "    self.w2 = init_weights[1]\n",
        "\n",
        "\n",
        "  def forward(self, x):\n",
        "    \"\"\"The forward pass through netwrok y = x * w1 * w2\n",
        "\n",
        "    Args:\n",
        "      x (np.ndarray): features (inputs) to neural net\n",
        "\n",
        "    returns:\n",
        "      (np.ndarray): neural network output (prediction)\n",
        "    \"\"\"\n",
        "    #################################################\n",
        "    ## Implement the forward pass to calculate prediction\n",
        "    ## Note that prediction is not the loss\n",
        "    # Complete the function and remove or comment the line below\n",
        "    #raise NotImplementedError(\"Forward Pass `forward`\")\n",
        "    #################################################\n",
        "    y = self.w1*self.w2*x\n",
        "    return y\n",
        "\n",
        "\n",
        "  def dloss_dw(self, x, y_true):\n",
        "    \"\"\"Gradient of loss with respect to weights\n",
        "\n",
        "    Args:\n",
        "      x (np.ndarray): features (inputs) to neural net\n",
        "      y_true (np.ndarray): true labels\n",
        "\n",
        "    returns:\n",
        "      (float): mean gradient of loss with respect to w1\n",
        "      (float): mean gradient of loss with respect to w2\n",
        "    \"\"\"\n",
        "    assert x.shape == y_true.shape\n",
        "    #################################################\n",
        "    ## Implement the gradient computation function\n",
        "    # Complete the function and remove or comment the line below\n",
        "    #raise NotImplementedError(\"Gradient of Loss `dloss_dw`\")\n",
        "    #################################################\n",
        "    dloss_dw1 = - (2 * self.w2 * x * (y_true - self.w1 * self.w2 * x)).mean()\n",
        "    dloss_dw2 = - (2 * self.w1 * x * (y_true - self.w1 * self.w2 * x)).mean()\n",
        "    return dloss_dw1, dloss_dw2\n",
        "\n",
        "\n",
        "  def train(self, x, y_true, lr, n_ep):\n",
        "    \"\"\"Training with Gradient descent algorithm\n",
        "\n",
        "    Args:\n",
        "      x (np.ndarray): features (inputs) to neural net\n",
        "      y_true (np.ndarray): true labels\n",
        "      lr (float): learning rate\n",
        "      n_ep (int): number of epochs (training iterations)\n",
        "\n",
        "    returns:\n",
        "      (list): training loss records\n",
        "      (list): training weight records (evolution of weights)\n",
        "    \"\"\"\n",
        "    assert x.shape == y_true.shape\n",
        "\n",
        "    loss_records = np.empty(n_ep)  # pre allocation of loss records\n",
        "    weight_records = np.empty((n_ep, 2))  # pre allocation of weight records\n",
        "\n",
        "    for i in range(n_ep):\n",
        "      y_prediction = self.forward(x)\n",
        "      loss_records[i] = loss(y_prediction, y_true)\n",
        "      dloss_dw1, dloss_dw2 = self.dloss_dw(x, y_true)\n",
        "      #################################################\n",
        "      ## Implement the gradient descent step\n",
        "      # Complete the function and remove or comment the line below\n",
        "      # raise NotImplementedError(\"Training loop `train`\")\n",
        "      #################################################\n",
        "      self.w1 -= lr*dloss_dw1\n",
        "      self.w2 -= lr*dloss_dw2\n",
        "      weight_records[i] = [self.w1, self.w2]\n",
        "\n",
        "    return loss_records, weight_records\n",
        "\n",
        "\n",
        "def loss(y_prediction, y_true):\n",
        "  \"\"\"Mean squared error\n",
        "\n",
        "  Args:\n",
        "    y_prediction (np.ndarray): model output (prediction)\n",
        "    y_true (np.ndarray): true label\n",
        "\n",
        "  returns:\n",
        "    (np.ndarray): mean squared error loss\n",
        "  \"\"\"\n",
        "  assert y_prediction.shape == y_true.shape\n",
        "  #################################################\n",
        "  ## Implement the MEAN squared error\n",
        "  # Complete the function and remove or comment the line below\n",
        "  # raise NotImplementedError(\"Loss function `loss`\")\n",
        "  #################################################\n",
        "  mse = (y_true - y_prediction)**2\n",
        "  return mse\n",
        "\n",
        "\n",
        "#add event to airtable\n",
        "atform.add_event('Coding Exercise 1.1: Implement simple narrow LNN')\n",
        "\n",
        "set_seed(seed=SEED)\n",
        "n_epochs = 211\n",
        "learning_rate = 0.02\n",
        "initial_weights = [1.4, -1.6]\n",
        "x_train, y_train = gen_samples(n=73, a=2.0, sigma=0.2)\n",
        "x_eval = np.linspace(0.0, 1.0, 37, endpoint=True)\n",
        "## Uncomment to run\n",
        "sn_model = ShallowNarrowExercise(initial_weights)\n",
        "loss_log, weight_log = sn_model.train(x_train, y_train, learning_rate, n_epochs)\n",
        "y_eval = sn_model.forward(x_eval)\n",
        "plot_x_y_(x_train, y_train, x_eval, y_eval, loss_log, weight_log)"
      ],
      "execution_count": 24,
      "outputs": [
        {
          "output_type": "stream",
          "text": [
            "Random seed 2021 has been set.\n"
          ],
          "name": "stdout"
        },
        {
          "output_type": "error",
          "ename": "ValueError",
          "evalue": "ignored",
          "traceback": [
            "\u001b[0;31m---------------------------------------------------------------------------\u001b[0m",
            "\u001b[0;31mTypeError\u001b[0m                                 Traceback (most recent call last)",
            "\u001b[0;31mTypeError\u001b[0m: only size-1 arrays can be converted to Python scalars",
            "\nThe above exception was the direct cause of the following exception:\n",
            "\u001b[0;31mValueError\u001b[0m                                Traceback (most recent call last)",
            "\u001b[0;32m<ipython-input-24-6a30add6fe08>\u001b[0m in \u001b[0;36m<module>\u001b[0;34m()\u001b[0m\n\u001b[1;32m    119\u001b[0m \u001b[0;31m## Uncomment to run\u001b[0m\u001b[0;34m\u001b[0m\u001b[0;34m\u001b[0m\u001b[0;34m\u001b[0m\u001b[0m\n\u001b[1;32m    120\u001b[0m \u001b[0msn_model\u001b[0m \u001b[0;34m=\u001b[0m \u001b[0mShallowNarrowExercise\u001b[0m\u001b[0;34m(\u001b[0m\u001b[0minitial_weights\u001b[0m\u001b[0;34m)\u001b[0m\u001b[0;34m\u001b[0m\u001b[0;34m\u001b[0m\u001b[0m\n\u001b[0;32m--> 121\u001b[0;31m \u001b[0mloss_log\u001b[0m\u001b[0;34m,\u001b[0m \u001b[0mweight_log\u001b[0m \u001b[0;34m=\u001b[0m \u001b[0msn_model\u001b[0m\u001b[0;34m.\u001b[0m\u001b[0mtrain\u001b[0m\u001b[0;34m(\u001b[0m\u001b[0mx_train\u001b[0m\u001b[0;34m,\u001b[0m \u001b[0my_train\u001b[0m\u001b[0;34m,\u001b[0m \u001b[0mlearning_rate\u001b[0m\u001b[0;34m,\u001b[0m \u001b[0mn_epochs\u001b[0m\u001b[0;34m)\u001b[0m\u001b[0;34m\u001b[0m\u001b[0;34m\u001b[0m\u001b[0m\n\u001b[0m\u001b[1;32m    122\u001b[0m \u001b[0my_eval\u001b[0m \u001b[0;34m=\u001b[0m \u001b[0msn_model\u001b[0m\u001b[0;34m.\u001b[0m\u001b[0mforward\u001b[0m\u001b[0;34m(\u001b[0m\u001b[0mx_eval\u001b[0m\u001b[0;34m)\u001b[0m\u001b[0;34m\u001b[0m\u001b[0;34m\u001b[0m\u001b[0m\n\u001b[1;32m    123\u001b[0m \u001b[0mplot_x_y_\u001b[0m\u001b[0;34m(\u001b[0m\u001b[0mx_train\u001b[0m\u001b[0;34m,\u001b[0m \u001b[0my_train\u001b[0m\u001b[0;34m,\u001b[0m \u001b[0mx_eval\u001b[0m\u001b[0;34m,\u001b[0m \u001b[0my_eval\u001b[0m\u001b[0;34m,\u001b[0m \u001b[0mloss_log\u001b[0m\u001b[0;34m,\u001b[0m \u001b[0mweight_log\u001b[0m\u001b[0;34m)\u001b[0m\u001b[0;34m\u001b[0m\u001b[0;34m\u001b[0m\u001b[0m\n",
            "\u001b[0;32m<ipython-input-24-6a30add6fe08>\u001b[0m in \u001b[0;36mtrain\u001b[0;34m(self, x, y_true, lr, n_ep)\u001b[0m\n\u001b[1;32m     74\u001b[0m     \u001b[0;32mfor\u001b[0m \u001b[0mi\u001b[0m \u001b[0;32min\u001b[0m \u001b[0mrange\u001b[0m\u001b[0;34m(\u001b[0m\u001b[0mn_ep\u001b[0m\u001b[0;34m)\u001b[0m\u001b[0;34m:\u001b[0m\u001b[0;34m\u001b[0m\u001b[0;34m\u001b[0m\u001b[0m\n\u001b[1;32m     75\u001b[0m       \u001b[0my_prediction\u001b[0m \u001b[0;34m=\u001b[0m \u001b[0mself\u001b[0m\u001b[0;34m.\u001b[0m\u001b[0mforward\u001b[0m\u001b[0;34m(\u001b[0m\u001b[0mx\u001b[0m\u001b[0;34m)\u001b[0m\u001b[0;34m\u001b[0m\u001b[0;34m\u001b[0m\u001b[0m\n\u001b[0;32m---> 76\u001b[0;31m       \u001b[0mloss_records\u001b[0m\u001b[0;34m[\u001b[0m\u001b[0mi\u001b[0m\u001b[0;34m]\u001b[0m \u001b[0;34m=\u001b[0m \u001b[0mloss\u001b[0m\u001b[0;34m(\u001b[0m\u001b[0my_prediction\u001b[0m\u001b[0;34m,\u001b[0m \u001b[0my_true\u001b[0m\u001b[0;34m)\u001b[0m\u001b[0;34m\u001b[0m\u001b[0;34m\u001b[0m\u001b[0m\n\u001b[0m\u001b[1;32m     77\u001b[0m       \u001b[0mdloss_dw1\u001b[0m\u001b[0;34m,\u001b[0m \u001b[0mdloss_dw2\u001b[0m \u001b[0;34m=\u001b[0m \u001b[0mself\u001b[0m\u001b[0;34m.\u001b[0m\u001b[0mdloss_dw\u001b[0m\u001b[0;34m(\u001b[0m\u001b[0mx\u001b[0m\u001b[0;34m,\u001b[0m \u001b[0my_true\u001b[0m\u001b[0;34m)\u001b[0m\u001b[0;34m\u001b[0m\u001b[0;34m\u001b[0m\u001b[0m\n\u001b[1;32m     78\u001b[0m       \u001b[0;31m#################################################\u001b[0m\u001b[0;34m\u001b[0m\u001b[0;34m\u001b[0m\u001b[0;34m\u001b[0m\u001b[0m\n",
            "\u001b[0;31mValueError\u001b[0m: setting an array element with a sequence."
          ]
        }
      ]
    },
    {
      "cell_type": "markdown",
      "metadata": {
        "execution": {},
        "id": "uDCKT_KLaAsE"
      },
      "source": [
        "[*Click for solution*](https://github.com/NeuromatchAcademy/course-content-dl/tree/main//tutorials/W1D2_LinearDeepLearning/solutions/W1D2_Tutorial2_Solution_46492cd6.py)\n",
        "\n",
        "*Example output:*\n",
        "\n",
        "<img alt='Solution hint' align='left' width=1696.0 height=544.0 src=https://raw.githubusercontent.com/NeuromatchAcademy/course-content-dl/main/tutorials/W1D2_LinearDeepLearning/static/W1D2_Tutorial2_Solution_46492cd6_1.png>\n",
        "\n"
      ]
    },
    {
      "cell_type": "markdown",
      "metadata": {
        "execution": {},
        "id": "1apjHfT3aAsE"
      },
      "source": [
        "## Section 1.2: Learning landscapes"
      ]
    },
    {
      "cell_type": "code",
      "metadata": {
        "cellView": "form",
        "execution": {},
        "id": "ViBCQ2D7aAsE"
      },
      "source": [
        "# @title Video 2: Training Landscape\n",
        "from ipywidgets import widgets\n",
        "\n",
        "out2 = widgets.Output()\n",
        "with out2:\n",
        "  from IPython.display import IFrame\n",
        "  class BiliVideo(IFrame):\n",
        "    def __init__(self, id, page=1, width=400, height=300, **kwargs):\n",
        "      self.id=id\n",
        "      src = \"https://player.bilibili.com/player.html?bvid={0}&page={1}\".format(id, page)\n",
        "      super(BiliVideo, self).__init__(src, width, height, **kwargs)\n",
        "\n",
        "  video = BiliVideo(id=f\"BV1Nv411J71X\", width=854, height=480, fs=1)\n",
        "  print(\"Video available at https://www.bilibili.com/video/{0}\".format(video.id))\n",
        "  display(video)\n",
        "\n",
        "out1 = widgets.Output()\n",
        "with out1:\n",
        "  from IPython.display import YouTubeVideo\n",
        "  video = YouTubeVideo(id=f\"k28bnNAcOEg\", width=854, height=480, fs=1, rel=0)\n",
        "  print(\"Video available at https://youtube.com/watch?v=\" + video.id)\n",
        "  display(video)\n",
        "\n",
        "out = widgets.Tab([out1, out2])\n",
        "out.set_title(0, 'Youtube')\n",
        "out.set_title(1, 'Bilibili')\n",
        "\n",
        "#add event to airtable\n",
        "atform.add_event('Video 2: Training Landscape')\n",
        "\n",
        "display(out)"
      ],
      "execution_count": null,
      "outputs": []
    },
    {
      "cell_type": "markdown",
      "metadata": {
        "execution": {},
        "id": "AwnubTrfaAsF"
      },
      "source": [
        "As you may have already asked yourself, we can analytically find $w_1$ and $w_2$ without using gradient descent:\n",
        "\n",
        "\\begin{equation}\n",
        "w_1 \\cdot w_2 = \\dfrac{y}{x}\n",
        "\\end{equation}\n",
        "\n",
        "In fact, we can plot the gradients, the loss function and all the possible solutions in one figure. In this example, we use the $y = 1x$ mapping:\n",
        "\n",
        "**Blue ribbon**: shows all possible solutions: $~ w_1 w_2 = \\dfrac{y}{x} = \\dfrac{x}{x} = 1 \\Rightarrow w_1 = \\dfrac{1}{w_2}$\n",
        "\n",
        "**Contour background**: Shows the loss values, red being higher loss\n",
        "\n",
        "**Vector field (arrows)**: shows the gradient vector field. The larger yellow arrows show larger gradients, which correspond to bigger steps by gradient descent.\n",
        "\n",
        "**Scatter circles**: the trajectory (evolution) of weights during training for three different initializations, with blue dots marking the start of training and red crosses ( **x** ) marking the end of training. You can also try your own initializations (keep the initial values between `-2.0` and `2.0`) as shown here:\n",
        "```python\n",
        "plot_vector_field('all', [1.0, -1.0])\n",
        "```\n",
        "\n",
        "Finally, if the plot is too crowded, feel free to pass one of the following strings as argument:\n",
        "\n",
        "```python\n",
        "plot_vector_field('vectors')  # for vector field\n",
        "plot_vector_field('trajectory')  # for training trajectory\n",
        "plot_vector_field('loss')  # for loss contour\n",
        "```\n",
        "\n",
        "**Think!**\n",
        "\n",
        "Explore the next two plots. Try different initial values.  Can you find the saddle point? Why does training slow down near the minima?"
      ]
    },
    {
      "cell_type": "code",
      "metadata": {
        "execution": {},
        "id": "WeonmjLPaAsF"
      },
      "source": [
        "plot_vector_field('all')"
      ],
      "execution_count": null,
      "outputs": []
    },
    {
      "cell_type": "markdown",
      "metadata": {
        "execution": {},
        "id": "GfLdoH5QaAsF"
      },
      "source": [
        "Here, we also visualize the loss landscape in a 3-D plot, with two training trajectories for different initial conditions.\n",
        "Note: the trajectories from the 3D plot and the previous plot are independent and different."
      ]
    },
    {
      "cell_type": "code",
      "metadata": {
        "execution": {},
        "id": "iOqcICgcaAsF"
      },
      "source": [
        "plot_loss_landscape()"
      ],
      "execution_count": null,
      "outputs": []
    },
    {
      "cell_type": "code",
      "metadata": {
        "cellView": "form",
        "execution": {},
        "id": "t6KVa6YIaAsF"
      },
      "source": [
        "# @title Student Response\n",
        "from ipywidgets import widgets\n",
        "\n",
        "\n",
        "text=widgets.Textarea(\n",
        "    value='Type your here and Push submit',\n",
        "    placeholder='Type something',\n",
        "    description='',\n",
        "    disabled=False\n",
        ")\n",
        "\n",
        "button = widgets.Button(description=\"Submit!\")\n",
        "\n",
        "display(text,button)\n",
        "\n",
        "def on_button_clicked(b):\n",
        "    atform.add_answer('q1', text.value)\n",
        "    print(\"Submission successful!\")\n",
        "\n",
        "button.on_click(on_button_clicked)"
      ],
      "execution_count": null,
      "outputs": []
    },
    {
      "cell_type": "code",
      "metadata": {
        "cellView": "form",
        "execution": {},
        "id": "S4h7fki3aAsF"
      },
      "source": [
        "# @title Video 3: Training Landscape - Discussion\n",
        "from ipywidgets import widgets\n",
        "\n",
        "out2 = widgets.Output()\n",
        "with out2:\n",
        "  from IPython.display import IFrame\n",
        "  class BiliVideo(IFrame):\n",
        "    def __init__(self, id, page=1, width=400, height=300, **kwargs):\n",
        "      self.id=id\n",
        "      src = \"https://player.bilibili.com/player.html?bvid={0}&page={1}\".format(id, page)\n",
        "      super(BiliVideo, self).__init__(src, width, height, **kwargs)\n",
        "\n",
        "  video = BiliVideo(id=f\"BV1py4y1j7cv\", width=854, height=480, fs=1)\n",
        "  print(\"Video available at https://www.bilibili.com/video/{0}\".format(video.id))\n",
        "  display(video)\n",
        "\n",
        "out1 = widgets.Output()\n",
        "with out1:\n",
        "  from IPython.display import YouTubeVideo\n",
        "  video = YouTubeVideo(id=f\"0EcUGgxOdkI\", width=854, height=480, fs=1, rel=0)\n",
        "  print(\"Video available at https://youtube.com/watch?v=\" + video.id)\n",
        "  display(video)\n",
        "\n",
        "out = widgets.Tab([out1, out2])\n",
        "out.set_title(0, 'Youtube')\n",
        "out.set_title(1, 'Bilibili')\n",
        "\n",
        "#add event to airtable\n",
        "atform.add_event('Video 3: Training Landscape - Discussiond')\n",
        "\n",
        "display(out)"
      ],
      "execution_count": null,
      "outputs": []
    },
    {
      "cell_type": "markdown",
      "metadata": {
        "execution": {},
        "id": "oN4IwZlHaAsF"
      },
      "source": [
        "---\n",
        "# Section 2: Depth, Learning rate, and initialization\n",
        "*Time estimate: ~45 mins*"
      ]
    },
    {
      "cell_type": "markdown",
      "metadata": {
        "execution": {},
        "id": "95Gsm4zuaAsF"
      },
      "source": [
        "Successful deep learning models are often developed by a team of very clever people, spending many many hours \"tuning\" learning hyperparameters, and finding effective initializations. In this section, we look at three basic (but often not simple) hyperparameters: depth, learning rate, and initialization."
      ]
    },
    {
      "cell_type": "markdown",
      "metadata": {
        "execution": {},
        "id": "v14fINCBaAsF"
      },
      "source": [
        "## Section 2.1: The effect of depth"
      ]
    },
    {
      "cell_type": "code",
      "metadata": {
        "cellView": "form",
        "execution": {},
        "id": "3pNf6mmOaAsF"
      },
      "source": [
        "# @title Video 4: Effect of Depth\n",
        "from ipywidgets import widgets\n",
        "\n",
        "out2 = widgets.Output()\n",
        "with out2:\n",
        "  from IPython.display import IFrame\n",
        "  class BiliVideo(IFrame):\n",
        "    def __init__(self, id, page=1, width=400, height=300, **kwargs):\n",
        "      self.id=id\n",
        "      src = \"https://player.bilibili.com/player.html?bvid={0}&page={1}\".format(id, page)\n",
        "      super(BiliVideo, self).__init__(src, width, height, **kwargs)\n",
        "\n",
        "  video = BiliVideo(id=f\"BV1z341167di\", width=854, height=480, fs=1)\n",
        "  print(\"Video available at https://www.bilibili.com/video/{0}\".format(video.id))\n",
        "  display(video)\n",
        "\n",
        "out1 = widgets.Output()\n",
        "with out1:\n",
        "  from IPython.display import YouTubeVideo\n",
        "  video = YouTubeVideo(id=f\"Ii_As9cRR5Q\", width=854, height=480, fs=1, rel=0)\n",
        "  print(\"Video available at https://youtube.com/watch?v=\" + video.id)\n",
        "  display(video)\n",
        "\n",
        "out = widgets.Tab([out1, out2])\n",
        "out.set_title(0, 'Youtube')\n",
        "out.set_title(1, 'Bilibili')\n",
        "\n",
        "#add event to airtable\n",
        "atform.add_event('Video 4: Effect of Depth')\n",
        "\n",
        "display(out)"
      ],
      "execution_count": null,
      "outputs": []
    },
    {
      "cell_type": "markdown",
      "metadata": {
        "execution": {},
        "id": "Lqs4xtL-aAsF"
      },
      "source": [
        "Why might depth be useful? What makes a network or learning system \"deep\"? The reality is that shallow neural nets are often incapable of learning complex functions due to data limitations. On the other hand, depth seems like magic. Depth can change the functions a network can represent, the way a network learns, and how a network generalizes to unseen data. \n",
        "\n",
        "So let's look at the challenges that depth poses in training a neural network. Imagine a single input, single output linear network with 50 hidden layers and only one neuron per layer (i.e. a narrow deep neural network). The output of the network is easy to calculate:\n",
        "\n",
        "$$ prediction = x \\cdot w_1 \\cdot w_2 \\cdot \\cdot \\cdot w_{50} $$\n",
        "\n",
        "If the initial value for all the weights is $w_i = 2$, the prediction for $x=1$ would be **exploding**: $y_p = 2^{50} \\approx 1.1256 \\times 10^{15}$. On the other hand, for weights initialized to $w_i = 0.5$, the output is **vanishing**: $y_p = 0.5^{50} \\approx 8.88 \\times 10^{-16}$. Similarly, if we recall the chain rule, as the graph gets deeper, the number of elements in the chain multiplication increases, which could lead to exploding or vanishing gradients. To avoid such numerical vulnerablities that could impair our training algorithm, we need to understand the effect of depth.\n"
      ]
    },
    {
      "cell_type": "markdown",
      "metadata": {
        "execution": {},
        "id": "vMa5IFKWaAsF"
      },
      "source": [
        "### Interactive Demo 2.1: Depth widget\n",
        "\n",
        "Use the widget to explore the impact of depth on the training curve (loss evolution) of a deep but narrow neural network.\n",
        "\n",
        "**Think!**\n",
        "\n",
        "Which networks trained the fastest? Did all networks eventually \"work\" (converge)? What is the shape of their learning trajectory?"
      ]
    },
    {
      "cell_type": "code",
      "metadata": {
        "cellView": "form",
        "execution": {},
        "id": "Cj3EflL8aAsF"
      },
      "source": [
        "# @markdown Make sure you execute this cell to enable the widget!\n",
        "\n",
        "_ = interact(depth_widget,\n",
        "    depth = IntSlider(min=0, max=51,\n",
        "                      step=5, value=0,\n",
        "                      continuous_update=False))"
      ],
      "execution_count": null,
      "outputs": []
    },
    {
      "cell_type": "code",
      "metadata": {
        "cellView": "form",
        "execution": {},
        "id": "G3ffhEAKaAsF"
      },
      "source": [
        "# @title Video 5: Effect of Depth - Discussion\n",
        "from ipywidgets import widgets\n",
        "\n",
        "out2 = widgets.Output()\n",
        "with out2:\n",
        "  from IPython.display import IFrame\n",
        "  class BiliVideo(IFrame):\n",
        "    def __init__(self, id, page=1, width=400, height=300, **kwargs):\n",
        "      self.id=id\n",
        "      src = \"https://player.bilibili.com/player.html?bvid={0}&page={1}\".format(id, page)\n",
        "      super(BiliVideo, self).__init__(src, width, height, **kwargs)\n",
        "\n",
        "  video = BiliVideo(id=f\"BV1Qq4y1H7uk\", width=854, height=480, fs=1)\n",
        "  print(\"Video available at https://www.bilibili.com/video/{0}\".format(video.id))\n",
        "  display(video)\n",
        "\n",
        "out1 = widgets.Output()\n",
        "with out1:\n",
        "  from IPython.display import YouTubeVideo\n",
        "  video = YouTubeVideo(id=f\"EqSDkwmSruk\", width=854, height=480, fs=1, rel=0)\n",
        "  print(\"Video available at https://youtube.com/watch?v=\" + video.id)\n",
        "  display(video)\n",
        "\n",
        "out = widgets.Tab([out1, out2])\n",
        "out.set_title(0, 'Youtube')\n",
        "out.set_title(1, 'Bilibili')\n",
        "\n",
        "#add event to airtable\n",
        "atform.add_event('Video 5: Effect of Depth - Discussion')\n",
        "\n",
        "display(out)"
      ],
      "execution_count": null,
      "outputs": []
    },
    {
      "cell_type": "markdown",
      "metadata": {
        "execution": {},
        "id": "TdWAfXNPaAsF"
      },
      "source": [
        "## Section 2.2: Choosing a learning rate"
      ]
    },
    {
      "cell_type": "markdown",
      "metadata": {
        "execution": {},
        "id": "jccSbRsvaAsF"
      },
      "source": [
        "The learning rate is a common hyperparameter for most optimization algorithms. How should we set it? Sometimes the only option is to try all the possibilities, but sometimes knowing some key trade-offs will help guide our search for good hyperparameters."
      ]
    },
    {
      "cell_type": "code",
      "metadata": {
        "cellView": "form",
        "execution": {},
        "id": "LevksSwjaAsF"
      },
      "source": [
        "# @title Video 6: Learning Rate\n",
        "from ipywidgets import widgets\n",
        "\n",
        "out2 = widgets.Output()\n",
        "with out2:\n",
        "  from IPython.display import IFrame\n",
        "  class BiliVideo(IFrame):\n",
        "    def __init__(self, id, page=1, width=400, height=300, **kwargs):\n",
        "      self.id=id\n",
        "      src = \"https://player.bilibili.com/player.html?bvid={0}&page={1}\".format(id, page)\n",
        "      super(BiliVideo, self).__init__(src, width, height, **kwargs)\n",
        "\n",
        "  video = BiliVideo(id=f\"BV11f4y157MT\", width=854, height=480, fs=1)\n",
        "  print(\"Video available at https://www.bilibili.com/video/{0}\".format(video.id))\n",
        "  display(video)\n",
        "\n",
        "out1 = widgets.Output()\n",
        "with out1:\n",
        "  from IPython.display import YouTubeVideo\n",
        "  video = YouTubeVideo(id=f\"w_GrCVM-_Qo\", width=854, height=480, fs=1, rel=0)\n",
        "  print(\"Video available at https://youtube.com/watch?v=\" + video.id)\n",
        "  display(video)\n",
        "\n",
        "out = widgets.Tab([out1, out2])\n",
        "out.set_title(0, 'Youtube')\n",
        "out.set_title(1, 'Bilibili')\n",
        "\n",
        "#add event to airtable\n",
        "atform.add_event('Video 6: Learning Rate')\n",
        "\n",
        "display(out)"
      ],
      "execution_count": null,
      "outputs": []
    },
    {
      "cell_type": "markdown",
      "metadata": {
        "execution": {},
        "id": "3WPBEizaaAsG"
      },
      "source": [
        "### Interactive Demo 2.2: Learning rate widget\n",
        "\n",
        "Here, we fix the network depth to 50 layers. Use the widget to explore the impact of learning rate $\\eta$ on the training curve (loss evolution) of a deep but narrow neural network.\n",
        "\n",
        "**Think!**\n",
        "\n",
        "Can we say that larger learning rates always lead to faster learning? Why not? "
      ]
    },
    {
      "cell_type": "code",
      "metadata": {
        "cellView": "form",
        "execution": {},
        "id": "n6VKnPN9aAsG"
      },
      "source": [
        "# @markdown Make sure you execute this cell to enable the widget!\n",
        "\n",
        "_ = interact(lr_widget,\n",
        "    lr = FloatSlider(min=0.005, max=0.045, step=0.005, value=0.005,\n",
        "                     continuous_update=False, readout_format='.3f',\n",
        "                     description='eta'))"
      ],
      "execution_count": null,
      "outputs": []
    },
    {
      "cell_type": "code",
      "metadata": {
        "cellView": "form",
        "execution": {},
        "id": "RpqpzHFxaAsG"
      },
      "source": [
        "# @title Video 7: Learning Rate - Discussion\n",
        "from ipywidgets import widgets\n",
        "\n",
        "out2 = widgets.Output()\n",
        "with out2:\n",
        "  from IPython.display import IFrame\n",
        "  class BiliVideo(IFrame):\n",
        "    def __init__(self, id, page=1, width=400, height=300, **kwargs):\n",
        "      self.id=id\n",
        "      src = \"https://player.bilibili.com/player.html?bvid={0}&page={1}\".format(id, page)\n",
        "      super(BiliVideo, self).__init__(src, width, height, **kwargs)\n",
        "\n",
        "  video = BiliVideo(id=f\"BV1Aq4y1p7bh\", width=854, height=480, fs=1)\n",
        "  print(\"Video available at https://www.bilibili.com/video/{0}\".format(video.id))\n",
        "  display(video)\n",
        "\n",
        "out1 = widgets.Output()\n",
        "with out1:\n",
        "  from IPython.display import YouTubeVideo\n",
        "  video = YouTubeVideo(id=f\"cmS0yqImz2E\", width=854, height=480, fs=1, rel=0)\n",
        "  print(\"Video available at https://youtube.com/watch?v=\" + video.id)\n",
        "  display(video)\n",
        "\n",
        "out = widgets.Tab([out1, out2])\n",
        "out.set_title(0, 'Youtube')\n",
        "out.set_title(1, 'Bilibili')\n",
        "\n",
        "#add event to airtable\n",
        "atform.add_event('Video 7: Learning Rate - Discussion')\n",
        "\n",
        "display(out)"
      ],
      "execution_count": null,
      "outputs": []
    },
    {
      "cell_type": "markdown",
      "metadata": {
        "execution": {},
        "id": "D_rxadGUaAsG"
      },
      "source": [
        "## Section 2.3: Depth vs Learning Rate"
      ]
    },
    {
      "cell_type": "code",
      "metadata": {
        "cellView": "form",
        "execution": {},
        "id": "cC8lRdCGaAsG"
      },
      "source": [
        "# @title Video 8: Depth and Learning Rate\n",
        "from ipywidgets import widgets\n",
        "\n",
        "out2 = widgets.Output()\n",
        "with out2:\n",
        "  from IPython.display import IFrame\n",
        "  class BiliVideo(IFrame):\n",
        "    def __init__(self, id, page=1, width=400, height=300, **kwargs):\n",
        "      self.id=id\n",
        "      src = \"https://player.bilibili.com/player.html?bvid={0}&page={1}\".format(id, page)\n",
        "      super(BiliVideo, self).__init__(src, width, height, **kwargs)\n",
        "\n",
        "  video = BiliVideo(id=f\"BV1V44y1177e\", width=854, height=480, fs=1)\n",
        "  print(\"Video available at https://www.bilibili.com/video/{0}\".format(video.id))\n",
        "  display(video)\n",
        "\n",
        "out1 = widgets.Output()\n",
        "with out1:\n",
        "  from IPython.display import YouTubeVideo\n",
        "  video = YouTubeVideo(id=f\"J30phrux_3k\", width=854, height=480, fs=1, rel=0)\n",
        "  print(\"Video available at https://youtube.com/watch?v=\" + video.id)\n",
        "  display(video)\n",
        "\n",
        "out = widgets.Tab([out1, out2])\n",
        "out.set_title(0, 'Youtube')\n",
        "out.set_title(1, 'Bilibili')\n",
        "\n",
        "#add event to airtable\n",
        "atform.add_event('Video 8: Depth and Learning Rate')\n",
        "\n",
        "display(out)"
      ],
      "execution_count": null,
      "outputs": []
    },
    {
      "cell_type": "markdown",
      "metadata": {
        "execution": {},
        "id": "eEScx7vEaAsG"
      },
      "source": [
        "### Interactive Demo 2.3: Depth and Learning-Rate\n"
      ]
    },
    {
      "cell_type": "markdown",
      "metadata": {
        "execution": {},
        "id": "2nCaVx6faAsG"
      },
      "source": [
        "**Important instruction**\n",
        "The exercise starts with 10 hidden layers. Your task is to find the learning rate that delivers fast but robust convergence (learning). When you are confident about the learning rate, you can **Register** the optimal learning rate for the given depth. Once you press register, a deeper model is instantiated, so you can find the next optimal learning rate. The Register button turns green only when the training converges, but does not imply the fastest convergence. Finally, be patient :) the widgets are slow.\n",
        "\n",
        "\n",
        "**Think!**\n",
        "\n",
        "Can you explain the relationship between the depth and optimal learning rate?"
      ]
    },
    {
      "cell_type": "code",
      "metadata": {
        "cellView": "form",
        "execution": {},
        "id": "uJic3wHmaAsG"
      },
      "source": [
        "# @markdown Make sure you execute this cell to enable the widget!\n",
        "intpl_obj = InterPlay()\n",
        "\n",
        "intpl_obj.slider = FloatSlider(min=0.005, max=0.105, step=0.005, value=0.005,\n",
        "                               layout=Layout(width='500px'),\n",
        "                               continuous_update=False,\n",
        "                               readout_format='.3f',\n",
        "                               description='eta')\n",
        "\n",
        "intpl_obj.button = ToggleButton(value=intpl_obj.converged, description='Register')\n",
        "\n",
        "widgets_ui = HBox([intpl_obj.slider, intpl_obj.button])\n",
        "widgets_out = interactive_output(intpl_obj.train,\n",
        "                                 {'lr': intpl_obj.slider,\n",
        "                                  'update': intpl_obj.button,\n",
        "                                  'init_weights': fixed(0.9)})\n",
        "\n",
        "display(widgets_ui, widgets_out)"
      ],
      "execution_count": null,
      "outputs": []
    },
    {
      "cell_type": "code",
      "metadata": {
        "cellView": "form",
        "execution": {},
        "id": "Igc7DpjKaAsG"
      },
      "source": [
        "# @title Video 9: Depth and Learning Rate - Discussion\n",
        "from ipywidgets import widgets\n",
        "\n",
        "out2 = widgets.Output()\n",
        "with out2:\n",
        "  from IPython.display import IFrame\n",
        "  class BiliVideo(IFrame):\n",
        "    def __init__(self, id, page=1, width=400, height=300, **kwargs):\n",
        "      self.id=id\n",
        "      src = \"https://player.bilibili.com/player.html?bvid={0}&page={1}\".format(id, page)\n",
        "      super(BiliVideo, self).__init__(src, width, height, **kwargs)\n",
        "\n",
        "  video = BiliVideo(id=f\"BV15q4y1p7Uq\", width=854, height=480, fs=1)\n",
        "  print(\"Video available at https://www.bilibili.com/video/{0}\".format(video.id))\n",
        "  display(video)\n",
        "\n",
        "out1 = widgets.Output()\n",
        "with out1:\n",
        "  from IPython.display import YouTubeVideo\n",
        "  video = YouTubeVideo(id=f\"7Fl8vH7cgco\", width=854, height=480, fs=1, rel=0)\n",
        "  print(\"Video available at https://youtube.com/watch?v=\" + video.id)\n",
        "  display(video)\n",
        "\n",
        "out = widgets.Tab([out1, out2])\n",
        "out.set_title(0, 'Youtube')\n",
        "out.set_title(1, 'Bilibili')\n",
        "\n",
        "#add event to airtable\n",
        "atform.add_event('Video 9: Depth and Learning Rate - Discussion')\n",
        "\n",
        "display(out)"
      ],
      "execution_count": null,
      "outputs": []
    },
    {
      "cell_type": "markdown",
      "metadata": {
        "execution": {},
        "id": "PAaVHVohaAsG"
      },
      "source": [
        "## Section 2.4: Why initialization is important"
      ]
    },
    {
      "cell_type": "code",
      "metadata": {
        "cellView": "form",
        "execution": {},
        "id": "oNUGuL7jaAsG"
      },
      "source": [
        "# @title Video 10: Initialization Matters\n",
        "from ipywidgets import widgets\n",
        "\n",
        "out2 = widgets.Output()\n",
        "with out2:\n",
        "  from IPython.display import IFrame\n",
        "  class BiliVideo(IFrame):\n",
        "    def __init__(self, id, page=1, width=400, height=300, **kwargs):\n",
        "      self.id=id\n",
        "      src = \"https://player.bilibili.com/player.html?bvid={0}&page={1}\".format(id, page)\n",
        "      super(BiliVideo, self).__init__(src, width, height, **kwargs)\n",
        "\n",
        "  video = BiliVideo(id=f\"BV1UL411J7vu\", width=854, height=480, fs=1)\n",
        "  print(\"Video available at https://www.bilibili.com/video/{0}\".format(video.id))\n",
        "  display(video)\n",
        "\n",
        "out1 = widgets.Output()\n",
        "with out1:\n",
        "  from IPython.display import YouTubeVideo\n",
        "  video = YouTubeVideo(id=f\"KmqCz95AMzY\", width=854, height=480, fs=1, rel=0)\n",
        "  print(\"Video available at https://youtube.com/watch?v=\" + video.id)\n",
        "  display(video)\n",
        "\n",
        "out = widgets.Tab([out1, out2])\n",
        "out.set_title(0, 'Youtube')\n",
        "out.set_title(1, 'Bilibili')\n",
        "\n",
        "#add event to airtable\n",
        "atform.add_event('Video 10: Initialization Matters')\n",
        "\n",
        "display(out)"
      ],
      "execution_count": null,
      "outputs": []
    },
    {
      "cell_type": "markdown",
      "metadata": {
        "execution": {},
        "id": "BQM8Uwl5aAsH"
      },
      "source": [
        "We’ve seen, even in the simplest of cases, that depth can slow learning. Why? From the chain rule, gradients are multiplied by the current weight at each layer, so the product can vanish or explode. Therefore, weight initialization is a fundamentally important hyperparameter.\n",
        "\n",
        "Although in practice initial values for learnable parameters are often sampled from different $\\mathcal{Uniform}$ or $\\mathcal{Normal}$ probability distribution, here we use a single value for all the parameters.\n",
        "\n",
        "The figure below shows the effect of initialization on the speed of learning for the deep but narrow LNN. We have excluded initializations that lead to numerical errors such as `nan` or `inf`, which are the consequence of smaller or larger initializations."
      ]
    },
    {
      "cell_type": "code",
      "metadata": {
        "cellView": "form",
        "execution": {},
        "id": "VYj60uG1aAsH"
      },
      "source": [
        "# @markdown Make sure you execute this cell to see the figure!\n",
        "\n",
        "plot_init_effect()"
      ],
      "execution_count": null,
      "outputs": []
    },
    {
      "cell_type": "code",
      "metadata": {
        "cellView": "form",
        "execution": {},
        "id": "IMg20RvOaAsH"
      },
      "source": [
        "# @title Video 11: Initialization Matters Explained\n",
        "from ipywidgets import widgets\n",
        "\n",
        "out2 = widgets.Output()\n",
        "with out2:\n",
        "  from IPython.display import IFrame\n",
        "  class BiliVideo(IFrame):\n",
        "    def __init__(self, id, page=1, width=400, height=300, **kwargs):\n",
        "      self.id=id\n",
        "      src = \"https://player.bilibili.com/player.html?bvid={0}&page={1}\".format(id, page)\n",
        "      super(BiliVideo, self).__init__(src, width, height, **kwargs)\n",
        "\n",
        "  video = BiliVideo(id=f\"BV1hM4y1T7gJ\", width=854, height=480, fs=1)\n",
        "  print(\"Video available at https://www.bilibili.com/video/{0}\".format(video.id))\n",
        "  display(video)\n",
        "\n",
        "out1 = widgets.Output()\n",
        "with out1:\n",
        "  from IPython.display import YouTubeVideo\n",
        "  video = YouTubeVideo(id=f\"vKktGdiQDsE\", width=854, height=480, fs=1, rel=0)\n",
        "  print(\"Video available at https://youtube.com/watch?v=\" + video.id)\n",
        "  display(video)\n",
        "\n",
        "out = widgets.Tab([out1, out2])\n",
        "out.set_title(0, 'Youtube')\n",
        "out.set_title(1, 'Bilibili')\n",
        "\n",
        "#add event to airtable\n",
        "atform.add_event('Video 11: Initialization Matters Explained')\n",
        "\n",
        "display(out)"
      ],
      "execution_count": null,
      "outputs": []
    },
    {
      "cell_type": "markdown",
      "metadata": {
        "execution": {},
        "id": "iVLKob1daAsH"
      },
      "source": [
        "---\n",
        "# Summary\n",
        "\n",
        "In the second tutorial, we have learned what is the training landscape, and also we have see in depth the effect of the depth of the network and the learning rate, and their interplay. Finally, we have seen that initialization matters and why we need smart ways of initialization."
      ]
    },
    {
      "cell_type": "code",
      "metadata": {
        "cellView": "form",
        "execution": {},
        "id": "-SgP8NcMaAsH"
      },
      "source": [
        "# @title Video 12: Tutorial 2 Wrap-up\n",
        "from ipywidgets import widgets\n",
        "\n",
        "out2 = widgets.Output()\n",
        "with out2:\n",
        "  from IPython.display import IFrame\n",
        "  class BiliVideo(IFrame):\n",
        "    def __init__(self, id, page=1, width=400, height=300, **kwargs):\n",
        "      self.id=id\n",
        "      src = \"https://player.bilibili.com/player.html?bvid={0}&page={1}\".format(id, page)\n",
        "      super(BiliVideo, self).__init__(src, width, height, **kwargs)\n",
        "\n",
        "  video = BiliVideo(id=f\"BV1P44y117Pd\", width=854, height=480, fs=1)\n",
        "  print(\"Video available at https://www.bilibili.com/video/{0}\".format(video.id))\n",
        "  display(video)\n",
        "\n",
        "out1 = widgets.Output()\n",
        "with out1:\n",
        "  from IPython.display import YouTubeVideo\n",
        "  video = YouTubeVideo(id=f\"r3K8gtak3wA\", width=854, height=480, fs=1, rel=0)\n",
        "  print(\"Video available at https://youtube.com/watch?v=\" + video.id)\n",
        "  display(video)\n",
        "\n",
        "out = widgets.Tab([out1, out2])\n",
        "out.set_title(0, 'Youtube')\n",
        "out.set_title(1, 'Bilibili')\n",
        "\n",
        "#add event to airtable\n",
        "atform.add_event('Video 12: Tutorial 2 Wrap-up')\n",
        "\n",
        "display(out)"
      ],
      "execution_count": null,
      "outputs": []
    },
    {
      "cell_type": "code",
      "metadata": {
        "cellView": "form",
        "execution": {},
        "id": "rI2SQSW-aAsH"
      },
      "source": [
        "\n",
        "# @title Airtable Submission Link\n",
        "from IPython import display as IPydisplay\n",
        "IPydisplay.HTML(\n",
        "   f\"\"\"\n",
        " <div>\n",
        "   <a href= \"{atform.url()}\" target=\"_blank\">\n",
        "   <img src=\"https://github.com/NeuromatchAcademy/course-content-dl/blob/main/tutorials/static/AirtableSubmissionButton.png?raw=1\"\n",
        " alt=\"button link to Airtable\" style=\"width:410px\"></a>\n",
        "   </div>\"\"\" )"
      ],
      "execution_count": null,
      "outputs": []
    },
    {
      "cell_type": "markdown",
      "metadata": {
        "execution": {},
        "id": "MDtFWsahaAsH"
      },
      "source": [
        "---\n",
        "# Bonus"
      ]
    },
    {
      "cell_type": "markdown",
      "metadata": {
        "execution": {},
        "id": "KLCFRhp4aAsH"
      },
      "source": [
        "## Hyperparameter interaction\n",
        "\n",
        "Finally, let's put everything we learned together and find best initial weights and learning rate for a given depth. By now you should have learned the interactions and know how to find the optimal values quickly. If you get `numerical overflow` warnings, don't be discouraged! They are often caused by \"exploding\" or \"vanishing\" gradients.\n",
        "\n",
        "**Think!**\n",
        "\n",
        "Did you experience any surprising behaviour \n",
        "or difficulty finding the optimal parameters?"
      ]
    },
    {
      "cell_type": "code",
      "metadata": {
        "cellView": "form",
        "execution": {},
        "id": "1CKQ6echaAsH"
      },
      "source": [
        "# @markdown Make sure you execute this cell to enable the widget!\n",
        "\n",
        "_ = interact(depth_lr_init_interplay,\n",
        "             depth = IntSlider(min=10, max=51, step=5, value=25,\n",
        "                               continuous_update=False),\n",
        "             lr = FloatSlider(min=0.001, max=0.1,\n",
        "                              step=0.005, value=0.005,\n",
        "                              continuous_update=False,\n",
        "                              readout_format='.3f',\n",
        "                              description='eta'),\n",
        "             init_weights = FloatSlider(min=0.1, max=3.0,\n",
        "                                        step=0.1, value=0.9,\n",
        "                                        continuous_update=False,\n",
        "                                        readout_format='.3f',\n",
        "                                        description='initial weights'))"
      ],
      "execution_count": null,
      "outputs": []
    }
  ]
}