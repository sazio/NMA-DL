{
  "nbformat": 4,
  "nbformat_minor": 0,
  "metadata": {
    "accelerator": "GPU",
    "colab": {
      "name": "W1D4_Tutorial1",
      "provenance": [],
      "collapsed_sections": [],
      "toc_visible": true,
      "include_colab_link": true
    },
    "kernel": {
      "display_name": "Python 3",
      "language": "python",
      "name": "python3"
    },
    "kernelspec": {
      "display_name": "Python 3",
      "language": "python",
      "name": "python3"
    },
    "language_info": {
      "codemirror_mode": {
        "name": "ipython",
        "version": 3
      },
      "file_extension": ".py",
      "mimetype": "text/x-python",
      "name": "python",
      "nbconvert_exporter": "python",
      "pygments_lexer": "ipython3",
      "version": "3.7.11"
    },
    "toc-autonumbering": true,
    "varInspector": {
      "cols": {
        "lenName": 16,
        "lenType": 16,
        "lenVar": 40
      },
      "kernels_config": {
        "python": {
          "delete_cmd_postfix": "",
          "delete_cmd_prefix": "del ",
          "library": "var_list.py",
          "varRefreshCmd": "print(var_dic_list())"
        },
        "r": {
          "delete_cmd_postfix": ") ",
          "delete_cmd_prefix": "rm(",
          "library": "var_list.r",
          "varRefreshCmd": "cat(var_dic_list()) "
        }
      },
      "types_to_exclude": [
        "module",
        "function",
        "builtin_function_or_method",
        "instance",
        "_Feature"
      ],
      "window_display": false
    },
    "widgets": {
      "application/vnd.jupyter.widget-state+json": {
        "a3012409d7c84b96b9809e2bab57906f": {
          "model_module": "@jupyter-widgets/controls",
          "model_name": "TabModel",
          "state": {
            "_view_name": "TabView",
            "_dom_classes": [],
            "_titles": {
              "0": "Youtube",
              "1": "Bilibili"
            },
            "_model_name": "TabModel",
            "_view_module": "@jupyter-widgets/controls",
            "selected_index": 0,
            "_model_module_version": "1.5.0",
            "_view_count": null,
            "_view_module_version": "1.5.0",
            "box_style": "",
            "layout": "IPY_MODEL_e9d6bde3e07243118482cdb7f288d159",
            "_model_module": "@jupyter-widgets/controls",
            "children": [
              "IPY_MODEL_49260ab02e5941bb9a54fe3dc087c69e",
              "IPY_MODEL_12a78b87c0144c79b6d1ef4f1faa4f29"
            ]
          }
        },
        "e9d6bde3e07243118482cdb7f288d159": {
          "model_module": "@jupyter-widgets/base",
          "model_name": "LayoutModel",
          "state": {
            "_view_name": "LayoutView",
            "grid_template_rows": null,
            "right": null,
            "justify_content": null,
            "_view_module": "@jupyter-widgets/base",
            "overflow": null,
            "_model_module_version": "1.2.0",
            "_view_count": null,
            "flex_flow": null,
            "width": null,
            "min_width": null,
            "border": null,
            "align_items": null,
            "bottom": null,
            "_model_module": "@jupyter-widgets/base",
            "top": null,
            "grid_column": null,
            "overflow_y": null,
            "overflow_x": null,
            "grid_auto_flow": null,
            "grid_area": null,
            "grid_template_columns": null,
            "flex": null,
            "_model_name": "LayoutModel",
            "justify_items": null,
            "grid_row": null,
            "max_height": null,
            "align_content": null,
            "visibility": null,
            "align_self": null,
            "height": null,
            "min_height": null,
            "padding": null,
            "grid_auto_rows": null,
            "grid_gap": null,
            "max_width": null,
            "order": null,
            "_view_module_version": "1.2.0",
            "grid_template_areas": null,
            "object_position": null,
            "object_fit": null,
            "grid_auto_columns": null,
            "margin": null,
            "display": null,
            "left": null
          }
        },
        "49260ab02e5941bb9a54fe3dc087c69e": {
          "model_module": "@jupyter-widgets/output",
          "model_name": "OutputModel",
          "state": {
            "_view_name": "OutputView",
            "msg_id": "",
            "_dom_classes": [],
            "_model_name": "OutputModel",
            "outputs": [
              {
                "output_type": "stream",
                "metadata": {
                  "tags": []
                },
                "text": "Video available at https://youtube.com/watch?v=zm9oekdkJbQ\n",
                "stream": "stdout"
              },
              {
                "output_type": "display_data",
                "metadata": {
                  "tags": []
                },
                "text/html": "\n        <iframe\n            width=\"854\"\n            height=\"480\"\n            src=\"https://www.youtube.com/embed/zm9oekdkJbQ?fs=1&rel=0\"\n            frameborder=\"0\"\n            allowfullscreen\n        ></iframe>\n        ",
                "text/plain": "<IPython.lib.display.YouTubeVideo at 0x7ff494802610>",
                "image/jpeg": "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\n"
              }
            ],
            "_view_module": "@jupyter-widgets/output",
            "_model_module_version": "1.0.0",
            "_view_count": null,
            "_view_module_version": "1.0.0",
            "layout": "IPY_MODEL_354f93601567418da1c5322a5ee721c7",
            "_model_module": "@jupyter-widgets/output"
          }
        },
        "12a78b87c0144c79b6d1ef4f1faa4f29": {
          "model_module": "@jupyter-widgets/output",
          "model_name": "OutputModel",
          "state": {
            "_view_name": "OutputView",
            "msg_id": "",
            "_dom_classes": [],
            "_model_name": "OutputModel",
            "outputs": [
              {
                "output_type": "stream",
                "metadata": {
                  "tags": []
                },
                "text": "Video available at https://www.bilibili.com/video/BV1VB4y1K7Vr\n",
                "stream": "stdout"
              },
              {
                "output_type": "display_data",
                "metadata": {
                  "tags": []
                },
                "text/html": "\n        <iframe\n            width=\"854\"\n            height=\"480\"\n            src=\"https://player.bilibili.com/player.html?bvid=BV1VB4y1K7Vr&page=1?fs=1\"\n            frameborder=\"0\"\n            allowfullscreen\n        ></iframe>\n        ",
                "text/plain": "<__main__.BiliVideo at 0x7ff432b3c910>"
              }
            ],
            "_view_module": "@jupyter-widgets/output",
            "_model_module_version": "1.0.0",
            "_view_count": null,
            "_view_module_version": "1.0.0",
            "layout": "IPY_MODEL_23312c5320f44880a70a1904daa35044",
            "_model_module": "@jupyter-widgets/output"
          }
        },
        "354f93601567418da1c5322a5ee721c7": {
          "model_module": "@jupyter-widgets/base",
          "model_name": "LayoutModel",
          "state": {
            "_view_name": "LayoutView",
            "grid_template_rows": null,
            "right": null,
            "justify_content": null,
            "_view_module": "@jupyter-widgets/base",
            "overflow": null,
            "_model_module_version": "1.2.0",
            "_view_count": null,
            "flex_flow": null,
            "width": null,
            "min_width": null,
            "border": null,
            "align_items": null,
            "bottom": null,
            "_model_module": "@jupyter-widgets/base",
            "top": null,
            "grid_column": null,
            "overflow_y": null,
            "overflow_x": null,
            "grid_auto_flow": null,
            "grid_area": null,
            "grid_template_columns": null,
            "flex": null,
            "_model_name": "LayoutModel",
            "justify_items": null,
            "grid_row": null,
            "max_height": null,
            "align_content": null,
            "visibility": null,
            "align_self": null,
            "height": null,
            "min_height": null,
            "padding": null,
            "grid_auto_rows": null,
            "grid_gap": null,
            "max_width": null,
            "order": null,
            "_view_module_version": "1.2.0",
            "grid_template_areas": null,
            "object_position": null,
            "object_fit": null,
            "grid_auto_columns": null,
            "margin": null,
            "display": null,
            "left": null
          }
        },
        "23312c5320f44880a70a1904daa35044": {
          "model_module": "@jupyter-widgets/base",
          "model_name": "LayoutModel",
          "state": {
            "_view_name": "LayoutView",
            "grid_template_rows": null,
            "right": null,
            "justify_content": null,
            "_view_module": "@jupyter-widgets/base",
            "overflow": null,
            "_model_module_version": "1.2.0",
            "_view_count": null,
            "flex_flow": null,
            "width": null,
            "min_width": null,
            "border": null,
            "align_items": null,
            "bottom": null,
            "_model_module": "@jupyter-widgets/base",
            "top": null,
            "grid_column": null,
            "overflow_y": null,
            "overflow_x": null,
            "grid_auto_flow": null,
            "grid_area": null,
            "grid_template_columns": null,
            "flex": null,
            "_model_name": "LayoutModel",
            "justify_items": null,
            "grid_row": null,
            "max_height": null,
            "align_content": null,
            "visibility": null,
            "align_self": null,
            "height": null,
            "min_height": null,
            "padding": null,
            "grid_auto_rows": null,
            "grid_gap": null,
            "max_width": null,
            "order": null,
            "_view_module_version": "1.2.0",
            "grid_template_areas": null,
            "object_position": null,
            "object_fit": null,
            "grid_auto_columns": null,
            "margin": null,
            "display": null,
            "left": null
          }
        },
        "5c99c9b053034ff8b49df77966c78f75": {
          "model_module": "@jupyter-widgets/controls",
          "model_name": "TabModel",
          "state": {
            "_view_name": "TabView",
            "_dom_classes": [],
            "_titles": {
              "0": "Youtube",
              "1": "Bilibili"
            },
            "_model_name": "TabModel",
            "_view_module": "@jupyter-widgets/controls",
            "selected_index": 0,
            "_model_module_version": "1.5.0",
            "_view_count": null,
            "_view_module_version": "1.5.0",
            "box_style": "",
            "layout": "IPY_MODEL_b42f5ec103a044aeb5078b0f06edc167",
            "_model_module": "@jupyter-widgets/controls",
            "children": [
              "IPY_MODEL_b74c75a36e3e4829b41e3ecf3fbc7321",
              "IPY_MODEL_728adc4d5530401399789d50fb33632a"
            ]
          }
        },
        "b42f5ec103a044aeb5078b0f06edc167": {
          "model_module": "@jupyter-widgets/base",
          "model_name": "LayoutModel",
          "state": {
            "_view_name": "LayoutView",
            "grid_template_rows": null,
            "right": null,
            "justify_content": null,
            "_view_module": "@jupyter-widgets/base",
            "overflow": null,
            "_model_module_version": "1.2.0",
            "_view_count": null,
            "flex_flow": null,
            "width": null,
            "min_width": null,
            "border": null,
            "align_items": null,
            "bottom": null,
            "_model_module": "@jupyter-widgets/base",
            "top": null,
            "grid_column": null,
            "overflow_y": null,
            "overflow_x": null,
            "grid_auto_flow": null,
            "grid_area": null,
            "grid_template_columns": null,
            "flex": null,
            "_model_name": "LayoutModel",
            "justify_items": null,
            "grid_row": null,
            "max_height": null,
            "align_content": null,
            "visibility": null,
            "align_self": null,
            "height": null,
            "min_height": null,
            "padding": null,
            "grid_auto_rows": null,
            "grid_gap": null,
            "max_width": null,
            "order": null,
            "_view_module_version": "1.2.0",
            "grid_template_areas": null,
            "object_position": null,
            "object_fit": null,
            "grid_auto_columns": null,
            "margin": null,
            "display": null,
            "left": null
          }
        },
        "b74c75a36e3e4829b41e3ecf3fbc7321": {
          "model_module": "@jupyter-widgets/output",
          "model_name": "OutputModel",
          "state": {
            "_view_name": "OutputView",
            "msg_id": "",
            "_dom_classes": [],
            "_model_name": "OutputModel",
            "outputs": [
              {
                "output_type": "stream",
                "metadata": {
                  "tags": []
                },
                "text": "Video available at https://youtube.com/watch?v=pJc2ENhYbqA\n",
                "stream": "stdout"
              },
              {
                "output_type": "display_data",
                "metadata": {
                  "tags": []
                },
                "text/html": "\n        <iframe\n            width=\"854\"\n            height=\"480\"\n            src=\"https://www.youtube.com/embed/pJc2ENhYbqA?fs=1&rel=0\"\n            frameborder=\"0\"\n            allowfullscreen\n        ></iframe>\n        ",
                "text/plain": "<IPython.lib.display.YouTubeVideo at 0x7ff432b4b610>",
                "image/jpeg": "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\n"
              }
            ],
            "_view_module": "@jupyter-widgets/output",
            "_model_module_version": "1.0.0",
            "_view_count": null,
            "_view_module_version": "1.0.0",
            "layout": "IPY_MODEL_4981d3e4045d4f84b4ec0fbd0054b924",
            "_model_module": "@jupyter-widgets/output"
          }
        },
        "728adc4d5530401399789d50fb33632a": {
          "model_module": "@jupyter-widgets/output",
          "model_name": "OutputModel",
          "state": {
            "_view_name": "OutputView",
            "msg_id": "",
            "_dom_classes": [],
            "_model_name": "OutputModel",
            "outputs": [
              {
                "output_type": "stream",
                "metadata": {
                  "tags": []
                },
                "text": "Video available at https://www.bilibili.com/video/BV1GB4y1K7Ha\n",
                "stream": "stdout"
              },
              {
                "output_type": "display_data",
                "metadata": {
                  "tags": []
                },
                "text/html": "\n        <iframe\n            width=\"854\"\n            height=\"480\"\n            src=\"https://player.bilibili.com/player.html?bvid=BV1GB4y1K7Ha&page=1?fs=1\"\n            frameborder=\"0\"\n            allowfullscreen\n        ></iframe>\n        ",
                "text/plain": "<__main__.BiliVideo at 0x7ff432b4b1d0>"
              }
            ],
            "_view_module": "@jupyter-widgets/output",
            "_model_module_version": "1.0.0",
            "_view_count": null,
            "_view_module_version": "1.0.0",
            "layout": "IPY_MODEL_ae5b732a2a654f868b49167f7b6e0cdf",
            "_model_module": "@jupyter-widgets/output"
          }
        },
        "4981d3e4045d4f84b4ec0fbd0054b924": {
          "model_module": "@jupyter-widgets/base",
          "model_name": "LayoutModel",
          "state": {
            "_view_name": "LayoutView",
            "grid_template_rows": null,
            "right": null,
            "justify_content": null,
            "_view_module": "@jupyter-widgets/base",
            "overflow": null,
            "_model_module_version": "1.2.0",
            "_view_count": null,
            "flex_flow": null,
            "width": null,
            "min_width": null,
            "border": null,
            "align_items": null,
            "bottom": null,
            "_model_module": "@jupyter-widgets/base",
            "top": null,
            "grid_column": null,
            "overflow_y": null,
            "overflow_x": null,
            "grid_auto_flow": null,
            "grid_area": null,
            "grid_template_columns": null,
            "flex": null,
            "_model_name": "LayoutModel",
            "justify_items": null,
            "grid_row": null,
            "max_height": null,
            "align_content": null,
            "visibility": null,
            "align_self": null,
            "height": null,
            "min_height": null,
            "padding": null,
            "grid_auto_rows": null,
            "grid_gap": null,
            "max_width": null,
            "order": null,
            "_view_module_version": "1.2.0",
            "grid_template_areas": null,
            "object_position": null,
            "object_fit": null,
            "grid_auto_columns": null,
            "margin": null,
            "display": null,
            "left": null
          }
        },
        "ae5b732a2a654f868b49167f7b6e0cdf": {
          "model_module": "@jupyter-widgets/base",
          "model_name": "LayoutModel",
          "state": {
            "_view_name": "LayoutView",
            "grid_template_rows": null,
            "right": null,
            "justify_content": null,
            "_view_module": "@jupyter-widgets/base",
            "overflow": null,
            "_model_module_version": "1.2.0",
            "_view_count": null,
            "flex_flow": null,
            "width": null,
            "min_width": null,
            "border": null,
            "align_items": null,
            "bottom": null,
            "_model_module": "@jupyter-widgets/base",
            "top": null,
            "grid_column": null,
            "overflow_y": null,
            "overflow_x": null,
            "grid_auto_flow": null,
            "grid_area": null,
            "grid_template_columns": null,
            "flex": null,
            "_model_name": "LayoutModel",
            "justify_items": null,
            "grid_row": null,
            "max_height": null,
            "align_content": null,
            "visibility": null,
            "align_self": null,
            "height": null,
            "min_height": null,
            "padding": null,
            "grid_auto_rows": null,
            "grid_gap": null,
            "max_width": null,
            "order": null,
            "_view_module_version": "1.2.0",
            "grid_template_areas": null,
            "object_position": null,
            "object_fit": null,
            "grid_auto_columns": null,
            "margin": null,
            "display": null,
            "left": null
          }
        },
        "273b99b291254282ac1ff6c66cbb8771": {
          "model_module": "@jupyter-widgets/controls",
          "model_name": "TabModel",
          "state": {
            "_view_name": "TabView",
            "_dom_classes": [],
            "_titles": {
              "0": "Youtube",
              "1": "Bilibili"
            },
            "_model_name": "TabModel",
            "_view_module": "@jupyter-widgets/controls",
            "selected_index": 0,
            "_model_module_version": "1.5.0",
            "_view_count": null,
            "_view_module_version": "1.5.0",
            "box_style": "",
            "layout": "IPY_MODEL_7412c85269134ac1a51547047d833d21",
            "_model_module": "@jupyter-widgets/controls",
            "children": [
              "IPY_MODEL_38391f6971054a048c246b92e45a4fef",
              "IPY_MODEL_2e58a1902db64bd3b80e1e6fe8403e40"
            ]
          }
        },
        "7412c85269134ac1a51547047d833d21": {
          "model_module": "@jupyter-widgets/base",
          "model_name": "LayoutModel",
          "state": {
            "_view_name": "LayoutView",
            "grid_template_rows": null,
            "right": null,
            "justify_content": null,
            "_view_module": "@jupyter-widgets/base",
            "overflow": null,
            "_model_module_version": "1.2.0",
            "_view_count": null,
            "flex_flow": null,
            "width": null,
            "min_width": null,
            "border": null,
            "align_items": null,
            "bottom": null,
            "_model_module": "@jupyter-widgets/base",
            "top": null,
            "grid_column": null,
            "overflow_y": null,
            "overflow_x": null,
            "grid_auto_flow": null,
            "grid_area": null,
            "grid_template_columns": null,
            "flex": null,
            "_model_name": "LayoutModel",
            "justify_items": null,
            "grid_row": null,
            "max_height": null,
            "align_content": null,
            "visibility": null,
            "align_self": null,
            "height": null,
            "min_height": null,
            "padding": null,
            "grid_auto_rows": null,
            "grid_gap": null,
            "max_width": null,
            "order": null,
            "_view_module_version": "1.2.0",
            "grid_template_areas": null,
            "object_position": null,
            "object_fit": null,
            "grid_auto_columns": null,
            "margin": null,
            "display": null,
            "left": null
          }
        },
        "38391f6971054a048c246b92e45a4fef": {
          "model_module": "@jupyter-widgets/output",
          "model_name": "OutputModel",
          "state": {
            "_view_name": "OutputView",
            "msg_id": "",
            "_dom_classes": [],
            "_model_name": "OutputModel",
            "outputs": [
              {
                "output_type": "stream",
                "metadata": {
                  "tags": []
                },
                "text": "Video available at https://youtube.com/watch?v=aSJTRdjRvvw\n",
                "stream": "stdout"
              },
              {
                "output_type": "display_data",
                "metadata": {
                  "tags": []
                },
                "text/html": "\n        <iframe\n            width=\"854\"\n            height=\"480\"\n            src=\"https://www.youtube.com/embed/aSJTRdjRvvw?fs=1&rel=0\"\n            frameborder=\"0\"\n            allowfullscreen\n        ></iframe>\n        ",
                "text/plain": "<IPython.lib.display.YouTubeVideo at 0x7ff4206f2250>",
                "image/jpeg": "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\n"
              }
            ],
            "_view_module": "@jupyter-widgets/output",
            "_model_module_version": "1.0.0",
            "_view_count": null,
            "_view_module_version": "1.0.0",
            "layout": "IPY_MODEL_8f2616e156524fdcabda217e5bfa881f",
            "_model_module": "@jupyter-widgets/output"
          }
        },
        "2e58a1902db64bd3b80e1e6fe8403e40": {
          "model_module": "@jupyter-widgets/output",
          "model_name": "OutputModel",
          "state": {
            "_view_name": "OutputView",
            "msg_id": "",
            "_dom_classes": [],
            "_model_name": "OutputModel",
            "outputs": [
              {
                "output_type": "stream",
                "metadata": {
                  "tags": []
                },
                "text": "Video available at https://www.bilibili.com/video/BV1aL411H7Ce\n",
                "stream": "stdout"
              },
              {
                "output_type": "display_data",
                "metadata": {
                  "tags": []
                },
                "text/html": "\n        <iframe\n            width=\"854\"\n            height=\"480\"\n            src=\"https://player.bilibili.com/player.html?bvid=BV1aL411H7Ce&page=1?fs=1\"\n            frameborder=\"0\"\n            allowfullscreen\n        ></iframe>\n        ",
                "text/plain": "<__main__.BiliVideo at 0x7ff42b232150>"
              }
            ],
            "_view_module": "@jupyter-widgets/output",
            "_model_module_version": "1.0.0",
            "_view_count": null,
            "_view_module_version": "1.0.0",
            "layout": "IPY_MODEL_bdca42ffe1084407b06d65a387550224",
            "_model_module": "@jupyter-widgets/output"
          }
        },
        "8f2616e156524fdcabda217e5bfa881f": {
          "model_module": "@jupyter-widgets/base",
          "model_name": "LayoutModel",
          "state": {
            "_view_name": "LayoutView",
            "grid_template_rows": null,
            "right": null,
            "justify_content": null,
            "_view_module": "@jupyter-widgets/base",
            "overflow": null,
            "_model_module_version": "1.2.0",
            "_view_count": null,
            "flex_flow": null,
            "width": null,
            "min_width": null,
            "border": null,
            "align_items": null,
            "bottom": null,
            "_model_module": "@jupyter-widgets/base",
            "top": null,
            "grid_column": null,
            "overflow_y": null,
            "overflow_x": null,
            "grid_auto_flow": null,
            "grid_area": null,
            "grid_template_columns": null,
            "flex": null,
            "_model_name": "LayoutModel",
            "justify_items": null,
            "grid_row": null,
            "max_height": null,
            "align_content": null,
            "visibility": null,
            "align_self": null,
            "height": null,
            "min_height": null,
            "padding": null,
            "grid_auto_rows": null,
            "grid_gap": null,
            "max_width": null,
            "order": null,
            "_view_module_version": "1.2.0",
            "grid_template_areas": null,
            "object_position": null,
            "object_fit": null,
            "grid_auto_columns": null,
            "margin": null,
            "display": null,
            "left": null
          }
        },
        "bdca42ffe1084407b06d65a387550224": {
          "model_module": "@jupyter-widgets/base",
          "model_name": "LayoutModel",
          "state": {
            "_view_name": "LayoutView",
            "grid_template_rows": null,
            "right": null,
            "justify_content": null,
            "_view_module": "@jupyter-widgets/base",
            "overflow": null,
            "_model_module_version": "1.2.0",
            "_view_count": null,
            "flex_flow": null,
            "width": null,
            "min_width": null,
            "border": null,
            "align_items": null,
            "bottom": null,
            "_model_module": "@jupyter-widgets/base",
            "top": null,
            "grid_column": null,
            "overflow_y": null,
            "overflow_x": null,
            "grid_auto_flow": null,
            "grid_area": null,
            "grid_template_columns": null,
            "flex": null,
            "_model_name": "LayoutModel",
            "justify_items": null,
            "grid_row": null,
            "max_height": null,
            "align_content": null,
            "visibility": null,
            "align_self": null,
            "height": null,
            "min_height": null,
            "padding": null,
            "grid_auto_rows": null,
            "grid_gap": null,
            "max_width": null,
            "order": null,
            "_view_module_version": "1.2.0",
            "grid_template_areas": null,
            "object_position": null,
            "object_fit": null,
            "grid_auto_columns": null,
            "margin": null,
            "display": null,
            "left": null
          }
        },
        "9f47c841e813476eac42619fcc34ed72": {
          "model_module": "@jupyter-widgets/controls",
          "model_name": "TextareaModel",
          "state": {
            "_view_name": "TextareaView",
            "style": "IPY_MODEL_6e0d2d10d719458788a825945230f0d0",
            "rows": null,
            "_dom_classes": [],
            "description": "",
            "_model_name": "TextareaModel",
            "placeholder": "Type something",
            "_view_module": "@jupyter-widgets/controls",
            "_model_module_version": "1.5.0",
            "value": "Type your answer here and click on `Submit!`",
            "_view_count": null,
            "disabled": false,
            "_view_module_version": "1.5.0",
            "continuous_update": true,
            "description_tooltip": null,
            "_model_module": "@jupyter-widgets/controls",
            "layout": "IPY_MODEL_887873a299634195a19452403e0310d9"
          }
        },
        "6e0d2d10d719458788a825945230f0d0": {
          "model_module": "@jupyter-widgets/controls",
          "model_name": "DescriptionStyleModel",
          "state": {
            "_view_name": "StyleView",
            "_model_name": "DescriptionStyleModel",
            "description_width": "",
            "_view_module": "@jupyter-widgets/base",
            "_model_module_version": "1.5.0",
            "_view_count": null,
            "_view_module_version": "1.2.0",
            "_model_module": "@jupyter-widgets/controls"
          }
        },
        "887873a299634195a19452403e0310d9": {
          "model_module": "@jupyter-widgets/base",
          "model_name": "LayoutModel",
          "state": {
            "_view_name": "LayoutView",
            "grid_template_rows": null,
            "right": null,
            "justify_content": null,
            "_view_module": "@jupyter-widgets/base",
            "overflow": null,
            "_model_module_version": "1.2.0",
            "_view_count": null,
            "flex_flow": null,
            "width": null,
            "min_width": null,
            "border": null,
            "align_items": null,
            "bottom": null,
            "_model_module": "@jupyter-widgets/base",
            "top": null,
            "grid_column": null,
            "overflow_y": null,
            "overflow_x": null,
            "grid_auto_flow": null,
            "grid_area": null,
            "grid_template_columns": null,
            "flex": null,
            "_model_name": "LayoutModel",
            "justify_items": null,
            "grid_row": null,
            "max_height": null,
            "align_content": null,
            "visibility": null,
            "align_self": null,
            "height": null,
            "min_height": null,
            "padding": null,
            "grid_auto_rows": null,
            "grid_gap": null,
            "max_width": null,
            "order": null,
            "_view_module_version": "1.2.0",
            "grid_template_areas": null,
            "object_position": null,
            "object_fit": null,
            "grid_auto_columns": null,
            "margin": null,
            "display": null,
            "left": null
          }
        },
        "f0515571d3444979b903653ddffc876f": {
          "model_module": "@jupyter-widgets/controls",
          "model_name": "ButtonModel",
          "state": {
            "_view_name": "ButtonView",
            "style": "IPY_MODEL_4a43d5489850438a95721fd59188336e",
            "_dom_classes": [],
            "description": "Submit!",
            "_model_name": "ButtonModel",
            "button_style": "",
            "_view_module": "@jupyter-widgets/controls",
            "_model_module_version": "1.5.0",
            "tooltip": "",
            "_view_count": null,
            "disabled": false,
            "_view_module_version": "1.5.0",
            "layout": "IPY_MODEL_a8525ccc8d4d477cb74b0ab7dec6c01a",
            "_model_module": "@jupyter-widgets/controls",
            "icon": ""
          }
        },
        "4a43d5489850438a95721fd59188336e": {
          "model_module": "@jupyter-widgets/controls",
          "model_name": "ButtonStyleModel",
          "state": {
            "_view_name": "StyleView",
            "_model_name": "ButtonStyleModel",
            "_view_module": "@jupyter-widgets/base",
            "_model_module_version": "1.5.0",
            "_view_count": null,
            "button_color": null,
            "font_weight": "",
            "_view_module_version": "1.2.0",
            "_model_module": "@jupyter-widgets/controls"
          }
        },
        "a8525ccc8d4d477cb74b0ab7dec6c01a": {
          "model_module": "@jupyter-widgets/base",
          "model_name": "LayoutModel",
          "state": {
            "_view_name": "LayoutView",
            "grid_template_rows": null,
            "right": null,
            "justify_content": null,
            "_view_module": "@jupyter-widgets/base",
            "overflow": null,
            "_model_module_version": "1.2.0",
            "_view_count": null,
            "flex_flow": null,
            "width": null,
            "min_width": null,
            "border": null,
            "align_items": null,
            "bottom": null,
            "_model_module": "@jupyter-widgets/base",
            "top": null,
            "grid_column": null,
            "overflow_y": null,
            "overflow_x": null,
            "grid_auto_flow": null,
            "grid_area": null,
            "grid_template_columns": null,
            "flex": null,
            "_model_name": "LayoutModel",
            "justify_items": null,
            "grid_row": null,
            "max_height": null,
            "align_content": null,
            "visibility": null,
            "align_self": null,
            "height": null,
            "min_height": null,
            "padding": null,
            "grid_auto_rows": null,
            "grid_gap": null,
            "max_width": null,
            "order": null,
            "_view_module_version": "1.2.0",
            "grid_template_areas": null,
            "object_position": null,
            "object_fit": null,
            "grid_auto_columns": null,
            "margin": null,
            "display": null,
            "left": null
          }
        },
        "137991b55ee14717b772f35085c7a4fb": {
          "model_module": "@jupyter-widgets/controls",
          "model_name": "TabModel",
          "state": {
            "_view_name": "TabView",
            "_dom_classes": [],
            "_titles": {
              "0": "Youtube",
              "1": "Bilibili"
            },
            "_model_name": "TabModel",
            "_view_module": "@jupyter-widgets/controls",
            "selected_index": 0,
            "_model_module_version": "1.5.0",
            "_view_count": null,
            "_view_module_version": "1.5.0",
            "box_style": "",
            "layout": "IPY_MODEL_28d2868b26a049f88e109b3b41f9c1fb",
            "_model_module": "@jupyter-widgets/controls",
            "children": [
              "IPY_MODEL_0613d6bdc87f4bfa8dfe6abfe94d1c25",
              "IPY_MODEL_9dd42271e5ba440da4d2c3a12047164c"
            ]
          }
        },
        "28d2868b26a049f88e109b3b41f9c1fb": {
          "model_module": "@jupyter-widgets/base",
          "model_name": "LayoutModel",
          "state": {
            "_view_name": "LayoutView",
            "grid_template_rows": null,
            "right": null,
            "justify_content": null,
            "_view_module": "@jupyter-widgets/base",
            "overflow": null,
            "_model_module_version": "1.2.0",
            "_view_count": null,
            "flex_flow": null,
            "width": null,
            "min_width": null,
            "border": null,
            "align_items": null,
            "bottom": null,
            "_model_module": "@jupyter-widgets/base",
            "top": null,
            "grid_column": null,
            "overflow_y": null,
            "overflow_x": null,
            "grid_auto_flow": null,
            "grid_area": null,
            "grid_template_columns": null,
            "flex": null,
            "_model_name": "LayoutModel",
            "justify_items": null,
            "grid_row": null,
            "max_height": null,
            "align_content": null,
            "visibility": null,
            "align_self": null,
            "height": null,
            "min_height": null,
            "padding": null,
            "grid_auto_rows": null,
            "grid_gap": null,
            "max_width": null,
            "order": null,
            "_view_module_version": "1.2.0",
            "grid_template_areas": null,
            "object_position": null,
            "object_fit": null,
            "grid_auto_columns": null,
            "margin": null,
            "display": null,
            "left": null
          }
        },
        "0613d6bdc87f4bfa8dfe6abfe94d1c25": {
          "model_module": "@jupyter-widgets/output",
          "model_name": "OutputModel",
          "state": {
            "_view_name": "OutputView",
            "msg_id": "",
            "_dom_classes": [],
            "_model_name": "OutputModel",
            "outputs": [
              {
                "output_type": "stream",
                "metadata": {
                  "tags": []
                },
                "text": "Video available at https://youtube.com/watch?v=3ES5O58Y_2M\n",
                "stream": "stdout"
              },
              {
                "output_type": "display_data",
                "metadata": {
                  "tags": []
                },
                "text/html": "\n        <iframe\n            width=\"854\"\n            height=\"480\"\n            src=\"https://www.youtube.com/embed/3ES5O58Y_2M?fs=1&rel=0\"\n            frameborder=\"0\"\n            allowfullscreen\n        ></iframe>\n        ",
                "text/plain": "<IPython.lib.display.YouTubeVideo at 0x7ff4336f4d10>",
                "image/jpeg": "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\n"
              }
            ],
            "_view_module": "@jupyter-widgets/output",
            "_model_module_version": "1.0.0",
            "_view_count": null,
            "_view_module_version": "1.0.0",
            "layout": "IPY_MODEL_d446378e4d2d4344af9a185e2e96c2d4",
            "_model_module": "@jupyter-widgets/output"
          }
        },
        "9dd42271e5ba440da4d2c3a12047164c": {
          "model_module": "@jupyter-widgets/output",
          "model_name": "OutputModel",
          "state": {
            "_view_name": "OutputView",
            "msg_id": "",
            "_dom_classes": [],
            "_model_name": "OutputModel",
            "outputs": [
              {
                "output_type": "stream",
                "metadata": {
                  "tags": []
                },
                "text": "Video available at https://www.bilibili.com/video/BV1NL411H71t\n",
                "stream": "stdout"
              },
              {
                "output_type": "display_data",
                "metadata": {
                  "tags": []
                },
                "text/html": "\n        <iframe\n            width=\"854\"\n            height=\"480\"\n            src=\"https://player.bilibili.com/player.html?bvid=BV1NL411H71t&page=1?fs=1\"\n            frameborder=\"0\"\n            allowfullscreen\n        ></iframe>\n        ",
                "text/plain": "<__main__.BiliVideo at 0x7ff4207d3950>"
              }
            ],
            "_view_module": "@jupyter-widgets/output",
            "_model_module_version": "1.0.0",
            "_view_count": null,
            "_view_module_version": "1.0.0",
            "layout": "IPY_MODEL_cce41fbaaabd47ceae35bc239b5356d0",
            "_model_module": "@jupyter-widgets/output"
          }
        },
        "d446378e4d2d4344af9a185e2e96c2d4": {
          "model_module": "@jupyter-widgets/base",
          "model_name": "LayoutModel",
          "state": {
            "_view_name": "LayoutView",
            "grid_template_rows": null,
            "right": null,
            "justify_content": null,
            "_view_module": "@jupyter-widgets/base",
            "overflow": null,
            "_model_module_version": "1.2.0",
            "_view_count": null,
            "flex_flow": null,
            "width": null,
            "min_width": null,
            "border": null,
            "align_items": null,
            "bottom": null,
            "_model_module": "@jupyter-widgets/base",
            "top": null,
            "grid_column": null,
            "overflow_y": null,
            "overflow_x": null,
            "grid_auto_flow": null,
            "grid_area": null,
            "grid_template_columns": null,
            "flex": null,
            "_model_name": "LayoutModel",
            "justify_items": null,
            "grid_row": null,
            "max_height": null,
            "align_content": null,
            "visibility": null,
            "align_self": null,
            "height": null,
            "min_height": null,
            "padding": null,
            "grid_auto_rows": null,
            "grid_gap": null,
            "max_width": null,
            "order": null,
            "_view_module_version": "1.2.0",
            "grid_template_areas": null,
            "object_position": null,
            "object_fit": null,
            "grid_auto_columns": null,
            "margin": null,
            "display": null,
            "left": null
          }
        },
        "cce41fbaaabd47ceae35bc239b5356d0": {
          "model_module": "@jupyter-widgets/base",
          "model_name": "LayoutModel",
          "state": {
            "_view_name": "LayoutView",
            "grid_template_rows": null,
            "right": null,
            "justify_content": null,
            "_view_module": "@jupyter-widgets/base",
            "overflow": null,
            "_model_module_version": "1.2.0",
            "_view_count": null,
            "flex_flow": null,
            "width": null,
            "min_width": null,
            "border": null,
            "align_items": null,
            "bottom": null,
            "_model_module": "@jupyter-widgets/base",
            "top": null,
            "grid_column": null,
            "overflow_y": null,
            "overflow_x": null,
            "grid_auto_flow": null,
            "grid_area": null,
            "grid_template_columns": null,
            "flex": null,
            "_model_name": "LayoutModel",
            "justify_items": null,
            "grid_row": null,
            "max_height": null,
            "align_content": null,
            "visibility": null,
            "align_self": null,
            "height": null,
            "min_height": null,
            "padding": null,
            "grid_auto_rows": null,
            "grid_gap": null,
            "max_width": null,
            "order": null,
            "_view_module_version": "1.2.0",
            "grid_template_areas": null,
            "object_position": null,
            "object_fit": null,
            "grid_auto_columns": null,
            "margin": null,
            "display": null,
            "left": null
          }
        },
        "9a02b25b46ce44bda0712d4bfda9013b": {
          "model_module": "@jupyter-widgets/controls",
          "model_name": "HBoxModel",
          "state": {
            "_view_name": "HBoxView",
            "_dom_classes": [],
            "_model_name": "HBoxModel",
            "_view_module": "@jupyter-widgets/controls",
            "_model_module_version": "1.5.0",
            "_view_count": null,
            "_view_module_version": "1.5.0",
            "box_style": "",
            "layout": "IPY_MODEL_fe2fa1bac5a043acb471fccd9719452e",
            "_model_module": "@jupyter-widgets/controls",
            "children": [
              "IPY_MODEL_7b230019c145441ea67c0ad5b461dcd5",
              "IPY_MODEL_f5c9029e60aa48eabf80b25a14fdd80e"
            ]
          }
        },
        "fe2fa1bac5a043acb471fccd9719452e": {
          "model_module": "@jupyter-widgets/base",
          "model_name": "LayoutModel",
          "state": {
            "_view_name": "LayoutView",
            "grid_template_rows": null,
            "right": null,
            "justify_content": null,
            "_view_module": "@jupyter-widgets/base",
            "overflow": null,
            "_model_module_version": "1.2.0",
            "_view_count": null,
            "flex_flow": null,
            "width": null,
            "min_width": null,
            "border": null,
            "align_items": null,
            "bottom": null,
            "_model_module": "@jupyter-widgets/base",
            "top": null,
            "grid_column": null,
            "overflow_y": null,
            "overflow_x": null,
            "grid_auto_flow": null,
            "grid_area": null,
            "grid_template_columns": null,
            "flex": null,
            "_model_name": "LayoutModel",
            "justify_items": null,
            "grid_row": null,
            "max_height": null,
            "align_content": null,
            "visibility": null,
            "align_self": null,
            "height": null,
            "min_height": null,
            "padding": null,
            "grid_auto_rows": null,
            "grid_gap": null,
            "max_width": null,
            "order": null,
            "_view_module_version": "1.2.0",
            "grid_template_areas": null,
            "object_position": null,
            "object_fit": null,
            "grid_auto_columns": null,
            "margin": null,
            "display": null,
            "left": null
          }
        },
        "7b230019c145441ea67c0ad5b461dcd5": {
          "model_module": "@jupyter-widgets/controls",
          "model_name": "FloatProgressModel",
          "state": {
            "_view_name": "ProgressView",
            "style": "IPY_MODEL_f4138a535e064905aa7013215abb42bf",
            "_dom_classes": [],
            "description": "100%",
            "_model_name": "FloatProgressModel",
            "bar_style": "success",
            "max": 200,
            "_view_module": "@jupyter-widgets/controls",
            "_model_module_version": "1.5.0",
            "value": 200,
            "_view_count": null,
            "_view_module_version": "1.5.0",
            "orientation": "horizontal",
            "min": 0,
            "description_tooltip": null,
            "_model_module": "@jupyter-widgets/controls",
            "layout": "IPY_MODEL_23a1d907020a4e8c8ddbe0cd5a0ea9f4"
          }
        },
        "f5c9029e60aa48eabf80b25a14fdd80e": {
          "model_module": "@jupyter-widgets/controls",
          "model_name": "HTMLModel",
          "state": {
            "_view_name": "HTMLView",
            "style": "IPY_MODEL_5f42c18937de4d0986a0e48802efec11",
            "_dom_classes": [],
            "description": "",
            "_model_name": "HTMLModel",
            "placeholder": "​",
            "_view_module": "@jupyter-widgets/controls",
            "_model_module_version": "1.5.0",
            "value": " 200/200 [00:04&lt;00:00, 48.37it/s]",
            "_view_count": null,
            "_view_module_version": "1.5.0",
            "description_tooltip": null,
            "_model_module": "@jupyter-widgets/controls",
            "layout": "IPY_MODEL_7e9b6beb0dbe4dc5a8bd2addf500a8d8"
          }
        },
        "f4138a535e064905aa7013215abb42bf": {
          "model_module": "@jupyter-widgets/controls",
          "model_name": "ProgressStyleModel",
          "state": {
            "_view_name": "StyleView",
            "_model_name": "ProgressStyleModel",
            "description_width": "initial",
            "_view_module": "@jupyter-widgets/base",
            "_model_module_version": "1.5.0",
            "_view_count": null,
            "_view_module_version": "1.2.0",
            "bar_color": null,
            "_model_module": "@jupyter-widgets/controls"
          }
        },
        "23a1d907020a4e8c8ddbe0cd5a0ea9f4": {
          "model_module": "@jupyter-widgets/base",
          "model_name": "LayoutModel",
          "state": {
            "_view_name": "LayoutView",
            "grid_template_rows": null,
            "right": null,
            "justify_content": null,
            "_view_module": "@jupyter-widgets/base",
            "overflow": null,
            "_model_module_version": "1.2.0",
            "_view_count": null,
            "flex_flow": null,
            "width": null,
            "min_width": null,
            "border": null,
            "align_items": null,
            "bottom": null,
            "_model_module": "@jupyter-widgets/base",
            "top": null,
            "grid_column": null,
            "overflow_y": null,
            "overflow_x": null,
            "grid_auto_flow": null,
            "grid_area": null,
            "grid_template_columns": null,
            "flex": null,
            "_model_name": "LayoutModel",
            "justify_items": null,
            "grid_row": null,
            "max_height": null,
            "align_content": null,
            "visibility": null,
            "align_self": null,
            "height": null,
            "min_height": null,
            "padding": null,
            "grid_auto_rows": null,
            "grid_gap": null,
            "max_width": null,
            "order": null,
            "_view_module_version": "1.2.0",
            "grid_template_areas": null,
            "object_position": null,
            "object_fit": null,
            "grid_auto_columns": null,
            "margin": null,
            "display": null,
            "left": null
          }
        },
        "5f42c18937de4d0986a0e48802efec11": {
          "model_module": "@jupyter-widgets/controls",
          "model_name": "DescriptionStyleModel",
          "state": {
            "_view_name": "StyleView",
            "_model_name": "DescriptionStyleModel",
            "description_width": "",
            "_view_module": "@jupyter-widgets/base",
            "_model_module_version": "1.5.0",
            "_view_count": null,
            "_view_module_version": "1.2.0",
            "_model_module": "@jupyter-widgets/controls"
          }
        },
        "7e9b6beb0dbe4dc5a8bd2addf500a8d8": {
          "model_module": "@jupyter-widgets/base",
          "model_name": "LayoutModel",
          "state": {
            "_view_name": "LayoutView",
            "grid_template_rows": null,
            "right": null,
            "justify_content": null,
            "_view_module": "@jupyter-widgets/base",
            "overflow": null,
            "_model_module_version": "1.2.0",
            "_view_count": null,
            "flex_flow": null,
            "width": null,
            "min_width": null,
            "border": null,
            "align_items": null,
            "bottom": null,
            "_model_module": "@jupyter-widgets/base",
            "top": null,
            "grid_column": null,
            "overflow_y": null,
            "overflow_x": null,
            "grid_auto_flow": null,
            "grid_area": null,
            "grid_template_columns": null,
            "flex": null,
            "_model_name": "LayoutModel",
            "justify_items": null,
            "grid_row": null,
            "max_height": null,
            "align_content": null,
            "visibility": null,
            "align_self": null,
            "height": null,
            "min_height": null,
            "padding": null,
            "grid_auto_rows": null,
            "grid_gap": null,
            "max_width": null,
            "order": null,
            "_view_module_version": "1.2.0",
            "grid_template_areas": null,
            "object_position": null,
            "object_fit": null,
            "grid_auto_columns": null,
            "margin": null,
            "display": null,
            "left": null
          }
        },
        "9a41bbca69ab468abbde56f43d5d792f": {
          "model_module": "@jupyter-widgets/controls",
          "model_name": "VBoxModel",
          "state": {
            "_view_name": "VBoxView",
            "_dom_classes": [
              "widget-interact"
            ],
            "_model_name": "VBoxModel",
            "_view_module": "@jupyter-widgets/controls",
            "_model_module_version": "1.5.0",
            "_view_count": null,
            "_view_module_version": "1.5.0",
            "box_style": "",
            "layout": "IPY_MODEL_44a74394d325498abcf788b92be6cd9f",
            "_model_module": "@jupyter-widgets/controls",
            "children": [
              "IPY_MODEL_1c71679cc5674e98afcb3ee5441dc996",
              "IPY_MODEL_0fd01ee33cf14c42b4a0665e3432e790",
              "IPY_MODEL_a923c27a254543878a0c6a9be5747b71",
              "IPY_MODEL_20a0dbe5dde54b489ced3ae35cc2e642",
              "IPY_MODEL_396755357bfb4770b64f9d615f06d17e"
            ]
          }
        },
        "44a74394d325498abcf788b92be6cd9f": {
          "model_module": "@jupyter-widgets/base",
          "model_name": "LayoutModel",
          "state": {
            "_view_name": "LayoutView",
            "grid_template_rows": null,
            "right": null,
            "justify_content": null,
            "_view_module": "@jupyter-widgets/base",
            "overflow": null,
            "_model_module_version": "1.2.0",
            "_view_count": null,
            "flex_flow": null,
            "width": null,
            "min_width": null,
            "border": null,
            "align_items": null,
            "bottom": null,
            "_model_module": "@jupyter-widgets/base",
            "top": null,
            "grid_column": null,
            "overflow_y": null,
            "overflow_x": null,
            "grid_auto_flow": null,
            "grid_area": null,
            "grid_template_columns": null,
            "flex": null,
            "_model_name": "LayoutModel",
            "justify_items": null,
            "grid_row": null,
            "max_height": null,
            "align_content": null,
            "visibility": null,
            "align_self": null,
            "height": null,
            "min_height": null,
            "padding": null,
            "grid_auto_rows": null,
            "grid_gap": null,
            "max_width": null,
            "order": null,
            "_view_module_version": "1.2.0",
            "grid_template_areas": null,
            "object_position": null,
            "object_fit": null,
            "grid_auto_columns": null,
            "margin": null,
            "display": null,
            "left": null
          }
        },
        "1c71679cc5674e98afcb3ee5441dc996": {
          "model_module": "@jupyter-widgets/controls",
          "model_name": "IntSliderModel",
          "state": {
            "_view_name": "IntSliderView",
            "style": "IPY_MODEL_bced150176814c72b1a17413b2eca0eb",
            "_dom_classes": [],
            "description": "max_steps",
            "step": 5,
            "_model_name": "IntSliderModel",
            "orientation": "horizontal",
            "max": 500,
            "_view_module": "@jupyter-widgets/controls",
            "_model_module_version": "1.5.0",
            "value": 300,
            "_view_count": null,
            "disabled": false,
            "_view_module_version": "1.5.0",
            "min": 50,
            "continuous_update": true,
            "readout_format": "d",
            "description_tooltip": null,
            "readout": true,
            "_model_module": "@jupyter-widgets/controls",
            "layout": "IPY_MODEL_6f6b6f4dde8c4dbb9536164c61f48ac8"
          }
        },
        "0fd01ee33cf14c42b4a0665e3432e790": {
          "model_module": "@jupyter-widgets/controls",
          "model_name": "FloatLogSliderModel",
          "state": {
            "_view_name": "FloatLogSliderView",
            "orientation": "horizontal",
            "_view_module": "@jupyter-widgets/controls",
            "_model_module_version": "1.5.0",
            "_view_count": null,
            "disabled": false,
            "readout_format": ".3g",
            "_model_module": "@jupyter-widgets/controls",
            "style": "IPY_MODEL_d283ea0a23c34815beb7f97d3f30f2be",
            "layout": "IPY_MODEL_def129d8a7a742609dff4be080664eb2",
            "min": -3,
            "continuous_update": true,
            "description_tooltip": null,
            "_dom_classes": [],
            "description": "lr",
            "_model_name": "FloatLogSliderModel",
            "max": 0.7,
            "readout": true,
            "step": 0.1,
            "base": 10,
            "value": 0.1,
            "_view_module_version": "1.5.0"
          }
        },
        "a923c27a254543878a0c6a9be5747b71": {
          "model_module": "@jupyter-widgets/controls",
          "model_name": "FloatSliderModel",
          "state": {
            "_view_name": "FloatSliderView",
            "style": "IPY_MODEL_480deb55159341339353caa4c164bc3d",
            "_dom_classes": [],
            "description": "beta",
            "step": 0.01,
            "_model_name": "FloatSliderModel",
            "orientation": "horizontal",
            "max": 1,
            "_view_module": "@jupyter-widgets/controls",
            "_model_module_version": "1.5.0",
            "value": 0.9,
            "_view_count": null,
            "disabled": false,
            "_view_module_version": "1.5.0",
            "min": 0,
            "continuous_update": true,
            "readout_format": ".2f",
            "description_tooltip": null,
            "readout": true,
            "_model_module": "@jupyter-widgets/controls",
            "layout": "IPY_MODEL_d8cb7cd2214d4b19b1890741379c6528"
          }
        },
        "20a0dbe5dde54b489ced3ae35cc2e642": {
          "model_module": "@jupyter-widgets/controls",
          "model_name": "ButtonModel",
          "state": {
            "_view_name": "ButtonView",
            "style": "IPY_MODEL_9cd902902c2640a3a09aed248ebde32b",
            "_dom_classes": [],
            "description": "Run Interact",
            "_model_name": "ButtonModel",
            "button_style": "",
            "_view_module": "@jupyter-widgets/controls",
            "_model_module_version": "1.5.0",
            "tooltip": "",
            "_view_count": null,
            "disabled": false,
            "_view_module_version": "1.5.0",
            "layout": "IPY_MODEL_097404e4237b403b8da1b893e57e90ef",
            "_model_module": "@jupyter-widgets/controls",
            "icon": ""
          }
        },
        "396755357bfb4770b64f9d615f06d17e": {
          "model_module": "@jupyter-widgets/output",
          "model_name": "OutputModel",
          "state": {
            "_view_name": "OutputView",
            "msg_id": "",
            "_dom_classes": [],
            "_model_name": "OutputModel",
            "outputs": [],
            "_view_module": "@jupyter-widgets/output",
            "_model_module_version": "1.0.0",
            "_view_count": null,
            "_view_module_version": "1.0.0",
            "layout": "IPY_MODEL_ca947d56f03345fc84a082988baa961e",
            "_model_module": "@jupyter-widgets/output"
          }
        },
        "bced150176814c72b1a17413b2eca0eb": {
          "model_module": "@jupyter-widgets/controls",
          "model_name": "SliderStyleModel",
          "state": {
            "_view_name": "StyleView",
            "handle_color": null,
            "_model_name": "SliderStyleModel",
            "description_width": "",
            "_view_module": "@jupyter-widgets/base",
            "_model_module_version": "1.5.0",
            "_view_count": null,
            "_view_module_version": "1.2.0",
            "_model_module": "@jupyter-widgets/controls"
          }
        },
        "6f6b6f4dde8c4dbb9536164c61f48ac8": {
          "model_module": "@jupyter-widgets/base",
          "model_name": "LayoutModel",
          "state": {
            "_view_name": "LayoutView",
            "grid_template_rows": null,
            "right": null,
            "justify_content": null,
            "_view_module": "@jupyter-widgets/base",
            "overflow": null,
            "_model_module_version": "1.2.0",
            "_view_count": null,
            "flex_flow": null,
            "width": null,
            "min_width": null,
            "border": null,
            "align_items": null,
            "bottom": null,
            "_model_module": "@jupyter-widgets/base",
            "top": null,
            "grid_column": null,
            "overflow_y": null,
            "overflow_x": null,
            "grid_auto_flow": null,
            "grid_area": null,
            "grid_template_columns": null,
            "flex": null,
            "_model_name": "LayoutModel",
            "justify_items": null,
            "grid_row": null,
            "max_height": null,
            "align_content": null,
            "visibility": null,
            "align_self": null,
            "height": null,
            "min_height": null,
            "padding": null,
            "grid_auto_rows": null,
            "grid_gap": null,
            "max_width": null,
            "order": null,
            "_view_module_version": "1.2.0",
            "grid_template_areas": null,
            "object_position": null,
            "object_fit": null,
            "grid_auto_columns": null,
            "margin": null,
            "display": null,
            "left": null
          }
        },
        "d283ea0a23c34815beb7f97d3f30f2be": {
          "model_module": "@jupyter-widgets/controls",
          "model_name": "SliderStyleModel",
          "state": {
            "_view_name": "StyleView",
            "handle_color": null,
            "_model_name": "SliderStyleModel",
            "description_width": "",
            "_view_module": "@jupyter-widgets/base",
            "_model_module_version": "1.5.0",
            "_view_count": null,
            "_view_module_version": "1.2.0",
            "_model_module": "@jupyter-widgets/controls"
          }
        },
        "def129d8a7a742609dff4be080664eb2": {
          "model_module": "@jupyter-widgets/base",
          "model_name": "LayoutModel",
          "state": {
            "_view_name": "LayoutView",
            "grid_template_rows": null,
            "right": null,
            "justify_content": null,
            "_view_module": "@jupyter-widgets/base",
            "overflow": null,
            "_model_module_version": "1.2.0",
            "_view_count": null,
            "flex_flow": null,
            "width": null,
            "min_width": null,
            "border": null,
            "align_items": null,
            "bottom": null,
            "_model_module": "@jupyter-widgets/base",
            "top": null,
            "grid_column": null,
            "overflow_y": null,
            "overflow_x": null,
            "grid_auto_flow": null,
            "grid_area": null,
            "grid_template_columns": null,
            "flex": null,
            "_model_name": "LayoutModel",
            "justify_items": null,
            "grid_row": null,
            "max_height": null,
            "align_content": null,
            "visibility": null,
            "align_self": null,
            "height": null,
            "min_height": null,
            "padding": null,
            "grid_auto_rows": null,
            "grid_gap": null,
            "max_width": null,
            "order": null,
            "_view_module_version": "1.2.0",
            "grid_template_areas": null,
            "object_position": null,
            "object_fit": null,
            "grid_auto_columns": null,
            "margin": null,
            "display": null,
            "left": null
          }
        },
        "480deb55159341339353caa4c164bc3d": {
          "model_module": "@jupyter-widgets/controls",
          "model_name": "SliderStyleModel",
          "state": {
            "_view_name": "StyleView",
            "handle_color": null,
            "_model_name": "SliderStyleModel",
            "description_width": "",
            "_view_module": "@jupyter-widgets/base",
            "_model_module_version": "1.5.0",
            "_view_count": null,
            "_view_module_version": "1.2.0",
            "_model_module": "@jupyter-widgets/controls"
          }
        },
        "d8cb7cd2214d4b19b1890741379c6528": {
          "model_module": "@jupyter-widgets/base",
          "model_name": "LayoutModel",
          "state": {
            "_view_name": "LayoutView",
            "grid_template_rows": null,
            "right": null,
            "justify_content": null,
            "_view_module": "@jupyter-widgets/base",
            "overflow": null,
            "_model_module_version": "1.2.0",
            "_view_count": null,
            "flex_flow": null,
            "width": null,
            "min_width": null,
            "border": null,
            "align_items": null,
            "bottom": null,
            "_model_module": "@jupyter-widgets/base",
            "top": null,
            "grid_column": null,
            "overflow_y": null,
            "overflow_x": null,
            "grid_auto_flow": null,
            "grid_area": null,
            "grid_template_columns": null,
            "flex": null,
            "_model_name": "LayoutModel",
            "justify_items": null,
            "grid_row": null,
            "max_height": null,
            "align_content": null,
            "visibility": null,
            "align_self": null,
            "height": null,
            "min_height": null,
            "padding": null,
            "grid_auto_rows": null,
            "grid_gap": null,
            "max_width": null,
            "order": null,
            "_view_module_version": "1.2.0",
            "grid_template_areas": null,
            "object_position": null,
            "object_fit": null,
            "grid_auto_columns": null,
            "margin": null,
            "display": null,
            "left": null
          }
        },
        "9cd902902c2640a3a09aed248ebde32b": {
          "model_module": "@jupyter-widgets/controls",
          "model_name": "ButtonStyleModel",
          "state": {
            "_view_name": "StyleView",
            "_model_name": "ButtonStyleModel",
            "_view_module": "@jupyter-widgets/base",
            "_model_module_version": "1.5.0",
            "_view_count": null,
            "button_color": null,
            "font_weight": "",
            "_view_module_version": "1.2.0",
            "_model_module": "@jupyter-widgets/controls"
          }
        },
        "097404e4237b403b8da1b893e57e90ef": {
          "model_module": "@jupyter-widgets/base",
          "model_name": "LayoutModel",
          "state": {
            "_view_name": "LayoutView",
            "grid_template_rows": null,
            "right": null,
            "justify_content": null,
            "_view_module": "@jupyter-widgets/base",
            "overflow": null,
            "_model_module_version": "1.2.0",
            "_view_count": null,
            "flex_flow": null,
            "width": null,
            "min_width": null,
            "border": null,
            "align_items": null,
            "bottom": null,
            "_model_module": "@jupyter-widgets/base",
            "top": null,
            "grid_column": null,
            "overflow_y": null,
            "overflow_x": null,
            "grid_auto_flow": null,
            "grid_area": null,
            "grid_template_columns": null,
            "flex": null,
            "_model_name": "LayoutModel",
            "justify_items": null,
            "grid_row": null,
            "max_height": null,
            "align_content": null,
            "visibility": null,
            "align_self": null,
            "height": null,
            "min_height": null,
            "padding": null,
            "grid_auto_rows": null,
            "grid_gap": null,
            "max_width": null,
            "order": null,
            "_view_module_version": "1.2.0",
            "grid_template_areas": null,
            "object_position": null,
            "object_fit": null,
            "grid_auto_columns": null,
            "margin": null,
            "display": null,
            "left": null
          }
        },
        "ca947d56f03345fc84a082988baa961e": {
          "model_module": "@jupyter-widgets/base",
          "model_name": "LayoutModel",
          "state": {
            "_view_name": "LayoutView",
            "grid_template_rows": null,
            "right": null,
            "justify_content": null,
            "_view_module": "@jupyter-widgets/base",
            "overflow": null,
            "_model_module_version": "1.2.0",
            "_view_count": null,
            "flex_flow": null,
            "width": null,
            "min_width": null,
            "border": null,
            "align_items": null,
            "bottom": null,
            "_model_module": "@jupyter-widgets/base",
            "top": null,
            "grid_column": null,
            "overflow_y": null,
            "overflow_x": null,
            "grid_auto_flow": null,
            "grid_area": null,
            "grid_template_columns": null,
            "flex": null,
            "_model_name": "LayoutModel",
            "justify_items": null,
            "grid_row": null,
            "max_height": null,
            "align_content": null,
            "visibility": null,
            "align_self": null,
            "height": null,
            "min_height": null,
            "padding": null,
            "grid_auto_rows": null,
            "grid_gap": null,
            "max_width": null,
            "order": null,
            "_view_module_version": "1.2.0",
            "grid_template_areas": null,
            "object_position": null,
            "object_fit": null,
            "grid_auto_columns": null,
            "margin": null,
            "display": null,
            "left": null
          }
        },
        "20c89e85cc814a9382e1f8b1403206d9": {
          "model_module": "@jupyter-widgets/controls",
          "model_name": "TextareaModel",
          "state": {
            "_view_name": "TextareaView",
            "style": "IPY_MODEL_466164af70914f74b7bd6b6cd84f9b2f",
            "rows": null,
            "_dom_classes": [],
            "description": "",
            "_model_name": "TextareaModel",
            "placeholder": "Type something",
            "_view_module": "@jupyter-widgets/controls",
            "_model_module_version": "1.5.0",
            "value": "Type your answer here and click on `Submit!`",
            "_view_count": null,
            "disabled": false,
            "_view_module_version": "1.5.0",
            "continuous_update": true,
            "description_tooltip": null,
            "_model_module": "@jupyter-widgets/controls",
            "layout": "IPY_MODEL_86a7b4f1e2cb447db54e900c48ab63c1"
          }
        },
        "466164af70914f74b7bd6b6cd84f9b2f": {
          "model_module": "@jupyter-widgets/controls",
          "model_name": "DescriptionStyleModel",
          "state": {
            "_view_name": "StyleView",
            "_model_name": "DescriptionStyleModel",
            "description_width": "",
            "_view_module": "@jupyter-widgets/base",
            "_model_module_version": "1.5.0",
            "_view_count": null,
            "_view_module_version": "1.2.0",
            "_model_module": "@jupyter-widgets/controls"
          }
        },
        "86a7b4f1e2cb447db54e900c48ab63c1": {
          "model_module": "@jupyter-widgets/base",
          "model_name": "LayoutModel",
          "state": {
            "_view_name": "LayoutView",
            "grid_template_rows": null,
            "right": null,
            "justify_content": null,
            "_view_module": "@jupyter-widgets/base",
            "overflow": null,
            "_model_module_version": "1.2.0",
            "_view_count": null,
            "flex_flow": null,
            "width": null,
            "min_width": null,
            "border": null,
            "align_items": null,
            "bottom": null,
            "_model_module": "@jupyter-widgets/base",
            "top": null,
            "grid_column": null,
            "overflow_y": null,
            "overflow_x": null,
            "grid_auto_flow": null,
            "grid_area": null,
            "grid_template_columns": null,
            "flex": null,
            "_model_name": "LayoutModel",
            "justify_items": null,
            "grid_row": null,
            "max_height": null,
            "align_content": null,
            "visibility": null,
            "align_self": null,
            "height": null,
            "min_height": null,
            "padding": null,
            "grid_auto_rows": null,
            "grid_gap": null,
            "max_width": null,
            "order": null,
            "_view_module_version": "1.2.0",
            "grid_template_areas": null,
            "object_position": null,
            "object_fit": null,
            "grid_auto_columns": null,
            "margin": null,
            "display": null,
            "left": null
          }
        },
        "2104070ef87d4fa38bfd1a01bdd4b52a": {
          "model_module": "@jupyter-widgets/controls",
          "model_name": "ButtonModel",
          "state": {
            "_view_name": "ButtonView",
            "style": "IPY_MODEL_c5c17639f864403081022065a2819b04",
            "_dom_classes": [],
            "description": "Submit!",
            "_model_name": "ButtonModel",
            "button_style": "",
            "_view_module": "@jupyter-widgets/controls",
            "_model_module_version": "1.5.0",
            "tooltip": "",
            "_view_count": null,
            "disabled": false,
            "_view_module_version": "1.5.0",
            "layout": "IPY_MODEL_31a92f34650944869e718b24f5450a2a",
            "_model_module": "@jupyter-widgets/controls",
            "icon": ""
          }
        },
        "c5c17639f864403081022065a2819b04": {
          "model_module": "@jupyter-widgets/controls",
          "model_name": "ButtonStyleModel",
          "state": {
            "_view_name": "StyleView",
            "_model_name": "ButtonStyleModel",
            "_view_module": "@jupyter-widgets/base",
            "_model_module_version": "1.5.0",
            "_view_count": null,
            "button_color": null,
            "font_weight": "",
            "_view_module_version": "1.2.0",
            "_model_module": "@jupyter-widgets/controls"
          }
        },
        "31a92f34650944869e718b24f5450a2a": {
          "model_module": "@jupyter-widgets/base",
          "model_name": "LayoutModel",
          "state": {
            "_view_name": "LayoutView",
            "grid_template_rows": null,
            "right": null,
            "justify_content": null,
            "_view_module": "@jupyter-widgets/base",
            "overflow": null,
            "_model_module_version": "1.2.0",
            "_view_count": null,
            "flex_flow": null,
            "width": null,
            "min_width": null,
            "border": null,
            "align_items": null,
            "bottom": null,
            "_model_module": "@jupyter-widgets/base",
            "top": null,
            "grid_column": null,
            "overflow_y": null,
            "overflow_x": null,
            "grid_auto_flow": null,
            "grid_area": null,
            "grid_template_columns": null,
            "flex": null,
            "_model_name": "LayoutModel",
            "justify_items": null,
            "grid_row": null,
            "max_height": null,
            "align_content": null,
            "visibility": null,
            "align_self": null,
            "height": null,
            "min_height": null,
            "padding": null,
            "grid_auto_rows": null,
            "grid_gap": null,
            "max_width": null,
            "order": null,
            "_view_module_version": "1.2.0",
            "grid_template_areas": null,
            "object_position": null,
            "object_fit": null,
            "grid_auto_columns": null,
            "margin": null,
            "display": null,
            "left": null
          }
        },
        "f04ee8f65fac404681fd52557ec498d4": {
          "model_module": "@jupyter-widgets/controls",
          "model_name": "TabModel",
          "state": {
            "_view_name": "TabView",
            "_dom_classes": [],
            "_titles": {
              "0": "Youtube",
              "1": "Bilibili"
            },
            "_model_name": "TabModel",
            "_view_module": "@jupyter-widgets/controls",
            "selected_index": 0,
            "_model_module_version": "1.5.0",
            "_view_count": null,
            "_view_module_version": "1.5.0",
            "box_style": "",
            "layout": "IPY_MODEL_48771bffd6bf4af69741b16fafc38572",
            "_model_module": "@jupyter-widgets/controls",
            "children": [
              "IPY_MODEL_d0f82131328d4cb0a99be8e53abe8f72",
              "IPY_MODEL_155d5f0794a14da182fc1bfe03e3ca3b"
            ]
          }
        },
        "48771bffd6bf4af69741b16fafc38572": {
          "model_module": "@jupyter-widgets/base",
          "model_name": "LayoutModel",
          "state": {
            "_view_name": "LayoutView",
            "grid_template_rows": null,
            "right": null,
            "justify_content": null,
            "_view_module": "@jupyter-widgets/base",
            "overflow": null,
            "_model_module_version": "1.2.0",
            "_view_count": null,
            "flex_flow": null,
            "width": null,
            "min_width": null,
            "border": null,
            "align_items": null,
            "bottom": null,
            "_model_module": "@jupyter-widgets/base",
            "top": null,
            "grid_column": null,
            "overflow_y": null,
            "overflow_x": null,
            "grid_auto_flow": null,
            "grid_area": null,
            "grid_template_columns": null,
            "flex": null,
            "_model_name": "LayoutModel",
            "justify_items": null,
            "grid_row": null,
            "max_height": null,
            "align_content": null,
            "visibility": null,
            "align_self": null,
            "height": null,
            "min_height": null,
            "padding": null,
            "grid_auto_rows": null,
            "grid_gap": null,
            "max_width": null,
            "order": null,
            "_view_module_version": "1.2.0",
            "grid_template_areas": null,
            "object_position": null,
            "object_fit": null,
            "grid_auto_columns": null,
            "margin": null,
            "display": null,
            "left": null
          }
        },
        "d0f82131328d4cb0a99be8e53abe8f72": {
          "model_module": "@jupyter-widgets/output",
          "model_name": "OutputModel",
          "state": {
            "_view_name": "OutputView",
            "msg_id": "",
            "_dom_classes": [],
            "_model_name": "OutputModel",
            "outputs": [
              {
                "output_type": "stream",
                "metadata": {
                  "tags": []
                },
                "text": "Video available at https://youtube.com/watch?v=7vUpUEKKl5o\n",
                "stream": "stdout"
              },
              {
                "output_type": "display_data",
                "metadata": {
                  "tags": []
                },
                "text/html": "\n        <iframe\n            width=\"854\"\n            height=\"480\"\n            src=\"https://www.youtube.com/embed/7vUpUEKKl5o?fs=1&rel=0\"\n            frameborder=\"0\"\n            allowfullscreen\n        ></iframe>\n        ",
                "text/plain": "<IPython.lib.display.YouTubeVideo at 0x7ff4336f4d10>",
                "image/jpeg": "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\n"
              }
            ],
            "_view_module": "@jupyter-widgets/output",
            "_model_module_version": "1.0.0",
            "_view_count": null,
            "_view_module_version": "1.0.0",
            "layout": "IPY_MODEL_2fcc43a569f543808b12a216b6cc72d3",
            "_model_module": "@jupyter-widgets/output"
          }
        },
        "155d5f0794a14da182fc1bfe03e3ca3b": {
          "model_module": "@jupyter-widgets/output",
          "model_name": "OutputModel",
          "state": {
            "_view_name": "OutputView",
            "msg_id": "",
            "_dom_classes": [],
            "_model_name": "OutputModel",
            "outputs": [
              {
                "output_type": "stream",
                "metadata": {
                  "tags": []
                },
                "text": "Video available at https://www.bilibili.com/video/BV16h41167Jr\n",
                "stream": "stdout"
              },
              {
                "output_type": "display_data",
                "metadata": {
                  "tags": []
                },
                "text/html": "\n        <iframe\n            width=\"854\"\n            height=\"480\"\n            src=\"https://player.bilibili.com/player.html?bvid=BV16h41167Jr&page=1?fs=1\"\n            frameborder=\"0\"\n            allowfullscreen\n        ></iframe>\n        ",
                "text/plain": "<__main__.BiliVideo at 0x7ff420711990>"
              }
            ],
            "_view_module": "@jupyter-widgets/output",
            "_model_module_version": "1.0.0",
            "_view_count": null,
            "_view_module_version": "1.0.0",
            "layout": "IPY_MODEL_0af16af218c948bb9b636fa12f2cf1a5",
            "_model_module": "@jupyter-widgets/output"
          }
        },
        "2fcc43a569f543808b12a216b6cc72d3": {
          "model_module": "@jupyter-widgets/base",
          "model_name": "LayoutModel",
          "state": {
            "_view_name": "LayoutView",
            "grid_template_rows": null,
            "right": null,
            "justify_content": null,
            "_view_module": "@jupyter-widgets/base",
            "overflow": null,
            "_model_module_version": "1.2.0",
            "_view_count": null,
            "flex_flow": null,
            "width": null,
            "min_width": null,
            "border": null,
            "align_items": null,
            "bottom": null,
            "_model_module": "@jupyter-widgets/base",
            "top": null,
            "grid_column": null,
            "overflow_y": null,
            "overflow_x": null,
            "grid_auto_flow": null,
            "grid_area": null,
            "grid_template_columns": null,
            "flex": null,
            "_model_name": "LayoutModel",
            "justify_items": null,
            "grid_row": null,
            "max_height": null,
            "align_content": null,
            "visibility": null,
            "align_self": null,
            "height": null,
            "min_height": null,
            "padding": null,
            "grid_auto_rows": null,
            "grid_gap": null,
            "max_width": null,
            "order": null,
            "_view_module_version": "1.2.0",
            "grid_template_areas": null,
            "object_position": null,
            "object_fit": null,
            "grid_auto_columns": null,
            "margin": null,
            "display": null,
            "left": null
          }
        },
        "0af16af218c948bb9b636fa12f2cf1a5": {
          "model_module": "@jupyter-widgets/base",
          "model_name": "LayoutModel",
          "state": {
            "_view_name": "LayoutView",
            "grid_template_rows": null,
            "right": null,
            "justify_content": null,
            "_view_module": "@jupyter-widgets/base",
            "overflow": null,
            "_model_module_version": "1.2.0",
            "_view_count": null,
            "flex_flow": null,
            "width": null,
            "min_width": null,
            "border": null,
            "align_items": null,
            "bottom": null,
            "_model_module": "@jupyter-widgets/base",
            "top": null,
            "grid_column": null,
            "overflow_y": null,
            "overflow_x": null,
            "grid_auto_flow": null,
            "grid_area": null,
            "grid_template_columns": null,
            "flex": null,
            "_model_name": "LayoutModel",
            "justify_items": null,
            "grid_row": null,
            "max_height": null,
            "align_content": null,
            "visibility": null,
            "align_self": null,
            "height": null,
            "min_height": null,
            "padding": null,
            "grid_auto_rows": null,
            "grid_gap": null,
            "max_width": null,
            "order": null,
            "_view_module_version": "1.2.0",
            "grid_template_areas": null,
            "object_position": null,
            "object_fit": null,
            "grid_auto_columns": null,
            "margin": null,
            "display": null,
            "left": null
          }
        },
        "f3c814dcfcde4a79b0cf9a3d071514d0": {
          "model_module": "@jupyter-widgets/controls",
          "model_name": "VBoxModel",
          "state": {
            "_view_name": "VBoxView",
            "_dom_classes": [
              "widget-interact"
            ],
            "_model_name": "VBoxModel",
            "_view_module": "@jupyter-widgets/controls",
            "_model_module_version": "1.5.0",
            "_view_count": null,
            "_view_module_version": "1.5.0",
            "box_style": "",
            "layout": "IPY_MODEL_16280e001ae14142be3b4eaa74314427",
            "_model_module": "@jupyter-widgets/controls",
            "children": [
              "IPY_MODEL_8e8c8009274e45ac9054dfb68e156320",
              "IPY_MODEL_ec28578d649f4434817874f0e9cc8b04",
              "IPY_MODEL_62b7519c83ea496ea44dc62a713e99ce",
              "IPY_MODEL_d568d398da9e4cfa82fd5fbd4862cda1",
              "IPY_MODEL_18d301aff99e4ad3969813774857f7df",
              "IPY_MODEL_5ea28928147c4c669885e2bf7b39cb3d"
            ]
          }
        },
        "16280e001ae14142be3b4eaa74314427": {
          "model_module": "@jupyter-widgets/base",
          "model_name": "LayoutModel",
          "state": {
            "_view_name": "LayoutView",
            "grid_template_rows": null,
            "right": null,
            "justify_content": null,
            "_view_module": "@jupyter-widgets/base",
            "overflow": null,
            "_model_module_version": "1.2.0",
            "_view_count": null,
            "flex_flow": null,
            "width": null,
            "min_width": null,
            "border": null,
            "align_items": null,
            "bottom": null,
            "_model_module": "@jupyter-widgets/base",
            "top": null,
            "grid_column": null,
            "overflow_y": null,
            "overflow_x": null,
            "grid_auto_flow": null,
            "grid_area": null,
            "grid_template_columns": null,
            "flex": null,
            "_model_name": "LayoutModel",
            "justify_items": null,
            "grid_row": null,
            "max_height": null,
            "align_content": null,
            "visibility": null,
            "align_self": null,
            "height": null,
            "min_height": null,
            "padding": null,
            "grid_auto_rows": null,
            "grid_gap": null,
            "max_width": null,
            "order": null,
            "_view_module_version": "1.2.0",
            "grid_template_areas": null,
            "object_position": null,
            "object_fit": null,
            "grid_auto_columns": null,
            "margin": null,
            "display": null,
            "left": null
          }
        },
        "8e8c8009274e45ac9054dfb68e156320": {
          "model_module": "@jupyter-widgets/controls",
          "model_name": "IntSliderModel",
          "state": {
            "_view_name": "IntSliderView",
            "style": "IPY_MODEL_690928d6f3624dbabd25907412f22c76",
            "_dom_classes": [],
            "description": "max_steps",
            "step": 5,
            "_model_name": "IntSliderModel",
            "orientation": "horizontal",
            "max": 500,
            "_view_module": "@jupyter-widgets/controls",
            "_model_module_version": "1.5.0",
            "value": 150,
            "_view_count": null,
            "disabled": false,
            "_view_module_version": "1.5.0",
            "min": 50,
            "continuous_update": true,
            "readout_format": "d",
            "description_tooltip": null,
            "readout": true,
            "_model_module": "@jupyter-widgets/controls",
            "layout": "IPY_MODEL_59f531bbcdec45c0ad27ca303c024524"
          }
        },
        "ec28578d649f4434817874f0e9cc8b04": {
          "model_module": "@jupyter-widgets/controls",
          "model_name": "DropdownModel",
          "state": {
            "_options_labels": [
              "10",
              "20, 20",
              "100, 100"
            ],
            "_view_name": "DropdownView",
            "style": "IPY_MODEL_0a1a138b2591401ab2eb8169cdd67826",
            "_dom_classes": [],
            "description": "hidden_dims",
            "_model_name": "DropdownModel",
            "index": 0,
            "_view_module": "@jupyter-widgets/controls",
            "_model_module_version": "1.5.0",
            "_view_count": null,
            "disabled": false,
            "_view_module_version": "1.5.0",
            "description_tooltip": null,
            "_model_module": "@jupyter-widgets/controls",
            "layout": "IPY_MODEL_370fc31a470e464c915db1424ba72264"
          }
        },
        "62b7519c83ea496ea44dc62a713e99ce": {
          "model_module": "@jupyter-widgets/controls",
          "model_name": "FloatLogSliderModel",
          "state": {
            "_view_name": "FloatLogSliderView",
            "orientation": "horizontal",
            "_view_module": "@jupyter-widgets/controls",
            "_model_module_version": "1.5.0",
            "_view_count": null,
            "disabled": false,
            "readout_format": ".3g",
            "_model_module": "@jupyter-widgets/controls",
            "style": "IPY_MODEL_ab5ba704d5ed4868b88f6f19a22e361f",
            "layout": "IPY_MODEL_03123dc5b99d489591e12d11adb95ab0",
            "min": -3,
            "continuous_update": true,
            "description_tooltip": null,
            "_dom_classes": [],
            "description": "lr",
            "_model_name": "FloatLogSliderModel",
            "max": 0,
            "readout": true,
            "step": 0.1,
            "base": 10,
            "value": 0.05,
            "_view_module_version": "1.5.0"
          }
        },
        "d568d398da9e4cfa82fd5fbd4862cda1": {
          "model_module": "@jupyter-widgets/controls",
          "model_name": "IntSliderModel",
          "state": {
            "_view_name": "IntSliderView",
            "style": "IPY_MODEL_7632e1ccfcfc407db2d3427d9147475b",
            "_dom_classes": [],
            "description": "num_inits",
            "step": 1,
            "_model_name": "IntSliderModel",
            "orientation": "horizontal",
            "max": 10,
            "_view_module": "@jupyter-widgets/controls",
            "_model_module_version": "1.5.0",
            "value": 7,
            "_view_count": null,
            "disabled": false,
            "_view_module_version": "1.5.0",
            "min": 5,
            "continuous_update": true,
            "readout_format": "d",
            "description_tooltip": null,
            "readout": true,
            "_model_module": "@jupyter-widgets/controls",
            "layout": "IPY_MODEL_06e5302856534cf6a442c9e6618f2126"
          }
        },
        "18d301aff99e4ad3969813774857f7df": {
          "model_module": "@jupyter-widgets/controls",
          "model_name": "ButtonModel",
          "state": {
            "_view_name": "ButtonView",
            "style": "IPY_MODEL_255b2bee9f96473e986df898e2e6aa90",
            "_dom_classes": [],
            "description": "Run Interact",
            "_model_name": "ButtonModel",
            "button_style": "",
            "_view_module": "@jupyter-widgets/controls",
            "_model_module_version": "1.5.0",
            "tooltip": "",
            "_view_count": null,
            "disabled": false,
            "_view_module_version": "1.5.0",
            "layout": "IPY_MODEL_5b6ef1b44a7c4aec891de4e428354cfd",
            "_model_module": "@jupyter-widgets/controls",
            "icon": ""
          }
        },
        "5ea28928147c4c669885e2bf7b39cb3d": {
          "model_module": "@jupyter-widgets/output",
          "model_name": "OutputModel",
          "state": {
            "_view_name": "OutputView",
            "msg_id": "",
            "_dom_classes": [],
            "_model_name": "OutputModel",
            "outputs": [],
            "_view_module": "@jupyter-widgets/output",
            "_model_module_version": "1.0.0",
            "_view_count": null,
            "_view_module_version": "1.0.0",
            "layout": "IPY_MODEL_34c4f21623ab43388cfad4f10aa23812",
            "_model_module": "@jupyter-widgets/output"
          }
        },
        "690928d6f3624dbabd25907412f22c76": {
          "model_module": "@jupyter-widgets/controls",
          "model_name": "SliderStyleModel",
          "state": {
            "_view_name": "StyleView",
            "handle_color": null,
            "_model_name": "SliderStyleModel",
            "description_width": "",
            "_view_module": "@jupyter-widgets/base",
            "_model_module_version": "1.5.0",
            "_view_count": null,
            "_view_module_version": "1.2.0",
            "_model_module": "@jupyter-widgets/controls"
          }
        },
        "59f531bbcdec45c0ad27ca303c024524": {
          "model_module": "@jupyter-widgets/base",
          "model_name": "LayoutModel",
          "state": {
            "_view_name": "LayoutView",
            "grid_template_rows": null,
            "right": null,
            "justify_content": null,
            "_view_module": "@jupyter-widgets/base",
            "overflow": null,
            "_model_module_version": "1.2.0",
            "_view_count": null,
            "flex_flow": null,
            "width": null,
            "min_width": null,
            "border": null,
            "align_items": null,
            "bottom": null,
            "_model_module": "@jupyter-widgets/base",
            "top": null,
            "grid_column": null,
            "overflow_y": null,
            "overflow_x": null,
            "grid_auto_flow": null,
            "grid_area": null,
            "grid_template_columns": null,
            "flex": null,
            "_model_name": "LayoutModel",
            "justify_items": null,
            "grid_row": null,
            "max_height": null,
            "align_content": null,
            "visibility": null,
            "align_self": null,
            "height": null,
            "min_height": null,
            "padding": null,
            "grid_auto_rows": null,
            "grid_gap": null,
            "max_width": null,
            "order": null,
            "_view_module_version": "1.2.0",
            "grid_template_areas": null,
            "object_position": null,
            "object_fit": null,
            "grid_auto_columns": null,
            "margin": null,
            "display": null,
            "left": null
          }
        },
        "0a1a138b2591401ab2eb8169cdd67826": {
          "model_module": "@jupyter-widgets/controls",
          "model_name": "DescriptionStyleModel",
          "state": {
            "_view_name": "StyleView",
            "_model_name": "DescriptionStyleModel",
            "description_width": "",
            "_view_module": "@jupyter-widgets/base",
            "_model_module_version": "1.5.0",
            "_view_count": null,
            "_view_module_version": "1.2.0",
            "_model_module": "@jupyter-widgets/controls"
          }
        },
        "370fc31a470e464c915db1424ba72264": {
          "model_module": "@jupyter-widgets/base",
          "model_name": "LayoutModel",
          "state": {
            "_view_name": "LayoutView",
            "grid_template_rows": null,
            "right": null,
            "justify_content": null,
            "_view_module": "@jupyter-widgets/base",
            "overflow": null,
            "_model_module_version": "1.2.0",
            "_view_count": null,
            "flex_flow": null,
            "width": null,
            "min_width": null,
            "border": null,
            "align_items": null,
            "bottom": null,
            "_model_module": "@jupyter-widgets/base",
            "top": null,
            "grid_column": null,
            "overflow_y": null,
            "overflow_x": null,
            "grid_auto_flow": null,
            "grid_area": null,
            "grid_template_columns": null,
            "flex": null,
            "_model_name": "LayoutModel",
            "justify_items": null,
            "grid_row": null,
            "max_height": null,
            "align_content": null,
            "visibility": null,
            "align_self": null,
            "height": null,
            "min_height": null,
            "padding": null,
            "grid_auto_rows": null,
            "grid_gap": null,
            "max_width": null,
            "order": null,
            "_view_module_version": "1.2.0",
            "grid_template_areas": null,
            "object_position": null,
            "object_fit": null,
            "grid_auto_columns": null,
            "margin": null,
            "display": null,
            "left": null
          }
        },
        "ab5ba704d5ed4868b88f6f19a22e361f": {
          "model_module": "@jupyter-widgets/controls",
          "model_name": "SliderStyleModel",
          "state": {
            "_view_name": "StyleView",
            "handle_color": null,
            "_model_name": "SliderStyleModel",
            "description_width": "",
            "_view_module": "@jupyter-widgets/base",
            "_model_module_version": "1.5.0",
            "_view_count": null,
            "_view_module_version": "1.2.0",
            "_model_module": "@jupyter-widgets/controls"
          }
        },
        "03123dc5b99d489591e12d11adb95ab0": {
          "model_module": "@jupyter-widgets/base",
          "model_name": "LayoutModel",
          "state": {
            "_view_name": "LayoutView",
            "grid_template_rows": null,
            "right": null,
            "justify_content": null,
            "_view_module": "@jupyter-widgets/base",
            "overflow": null,
            "_model_module_version": "1.2.0",
            "_view_count": null,
            "flex_flow": null,
            "width": null,
            "min_width": null,
            "border": null,
            "align_items": null,
            "bottom": null,
            "_model_module": "@jupyter-widgets/base",
            "top": null,
            "grid_column": null,
            "overflow_y": null,
            "overflow_x": null,
            "grid_auto_flow": null,
            "grid_area": null,
            "grid_template_columns": null,
            "flex": null,
            "_model_name": "LayoutModel",
            "justify_items": null,
            "grid_row": null,
            "max_height": null,
            "align_content": null,
            "visibility": null,
            "align_self": null,
            "height": null,
            "min_height": null,
            "padding": null,
            "grid_auto_rows": null,
            "grid_gap": null,
            "max_width": null,
            "order": null,
            "_view_module_version": "1.2.0",
            "grid_template_areas": null,
            "object_position": null,
            "object_fit": null,
            "grid_auto_columns": null,
            "margin": null,
            "display": null,
            "left": null
          }
        },
        "7632e1ccfcfc407db2d3427d9147475b": {
          "model_module": "@jupyter-widgets/controls",
          "model_name": "SliderStyleModel",
          "state": {
            "_view_name": "StyleView",
            "handle_color": null,
            "_model_name": "SliderStyleModel",
            "description_width": "",
            "_view_module": "@jupyter-widgets/base",
            "_model_module_version": "1.5.0",
            "_view_count": null,
            "_view_module_version": "1.2.0",
            "_model_module": "@jupyter-widgets/controls"
          }
        },
        "06e5302856534cf6a442c9e6618f2126": {
          "model_module": "@jupyter-widgets/base",
          "model_name": "LayoutModel",
          "state": {
            "_view_name": "LayoutView",
            "grid_template_rows": null,
            "right": null,
            "justify_content": null,
            "_view_module": "@jupyter-widgets/base",
            "overflow": null,
            "_model_module_version": "1.2.0",
            "_view_count": null,
            "flex_flow": null,
            "width": null,
            "min_width": null,
            "border": null,
            "align_items": null,
            "bottom": null,
            "_model_module": "@jupyter-widgets/base",
            "top": null,
            "grid_column": null,
            "overflow_y": null,
            "overflow_x": null,
            "grid_auto_flow": null,
            "grid_area": null,
            "grid_template_columns": null,
            "flex": null,
            "_model_name": "LayoutModel",
            "justify_items": null,
            "grid_row": null,
            "max_height": null,
            "align_content": null,
            "visibility": null,
            "align_self": null,
            "height": null,
            "min_height": null,
            "padding": null,
            "grid_auto_rows": null,
            "grid_gap": null,
            "max_width": null,
            "order": null,
            "_view_module_version": "1.2.0",
            "grid_template_areas": null,
            "object_position": null,
            "object_fit": null,
            "grid_auto_columns": null,
            "margin": null,
            "display": null,
            "left": null
          }
        },
        "255b2bee9f96473e986df898e2e6aa90": {
          "model_module": "@jupyter-widgets/controls",
          "model_name": "ButtonStyleModel",
          "state": {
            "_view_name": "StyleView",
            "_model_name": "ButtonStyleModel",
            "_view_module": "@jupyter-widgets/base",
            "_model_module_version": "1.5.0",
            "_view_count": null,
            "button_color": null,
            "font_weight": "",
            "_view_module_version": "1.2.0",
            "_model_module": "@jupyter-widgets/controls"
          }
        },
        "5b6ef1b44a7c4aec891de4e428354cfd": {
          "model_module": "@jupyter-widgets/base",
          "model_name": "LayoutModel",
          "state": {
            "_view_name": "LayoutView",
            "grid_template_rows": null,
            "right": null,
            "justify_content": null,
            "_view_module": "@jupyter-widgets/base",
            "overflow": null,
            "_model_module_version": "1.2.0",
            "_view_count": null,
            "flex_flow": null,
            "width": null,
            "min_width": null,
            "border": null,
            "align_items": null,
            "bottom": null,
            "_model_module": "@jupyter-widgets/base",
            "top": null,
            "grid_column": null,
            "overflow_y": null,
            "overflow_x": null,
            "grid_auto_flow": null,
            "grid_area": null,
            "grid_template_columns": null,
            "flex": null,
            "_model_name": "LayoutModel",
            "justify_items": null,
            "grid_row": null,
            "max_height": null,
            "align_content": null,
            "visibility": null,
            "align_self": null,
            "height": null,
            "min_height": null,
            "padding": null,
            "grid_auto_rows": null,
            "grid_gap": null,
            "max_width": null,
            "order": null,
            "_view_module_version": "1.2.0",
            "grid_template_areas": null,
            "object_position": null,
            "object_fit": null,
            "grid_auto_columns": null,
            "margin": null,
            "display": null,
            "left": null
          }
        },
        "34c4f21623ab43388cfad4f10aa23812": {
          "model_module": "@jupyter-widgets/base",
          "model_name": "LayoutModel",
          "state": {
            "_view_name": "LayoutView",
            "grid_template_rows": null,
            "right": null,
            "justify_content": null,
            "_view_module": "@jupyter-widgets/base",
            "overflow": null,
            "_model_module_version": "1.2.0",
            "_view_count": null,
            "flex_flow": null,
            "width": null,
            "min_width": null,
            "border": null,
            "align_items": null,
            "bottom": null,
            "_model_module": "@jupyter-widgets/base",
            "top": null,
            "grid_column": null,
            "overflow_y": null,
            "overflow_x": null,
            "grid_auto_flow": null,
            "grid_area": null,
            "grid_template_columns": null,
            "flex": null,
            "_model_name": "LayoutModel",
            "justify_items": null,
            "grid_row": null,
            "max_height": null,
            "align_content": null,
            "visibility": null,
            "align_self": null,
            "height": null,
            "min_height": null,
            "padding": null,
            "grid_auto_rows": null,
            "grid_gap": null,
            "max_width": null,
            "order": null,
            "_view_module_version": "1.2.0",
            "grid_template_areas": null,
            "object_position": null,
            "object_fit": null,
            "grid_auto_columns": null,
            "margin": null,
            "display": null,
            "left": null
          }
        },
        "f7252679158843c6b6cc5e7afd62ea8a": {
          "model_module": "@jupyter-widgets/controls",
          "model_name": "TextareaModel",
          "state": {
            "_view_name": "TextareaView",
            "style": "IPY_MODEL_48b777470dd74173a529ee5b0d1e2872",
            "rows": null,
            "_dom_classes": [],
            "description": "",
            "_model_name": "TextareaModel",
            "placeholder": "Type something",
            "_view_module": "@jupyter-widgets/controls",
            "_model_module_version": "1.5.0",
            "value": "Type your answer here and click on `Submit!`",
            "_view_count": null,
            "disabled": false,
            "_view_module_version": "1.5.0",
            "continuous_update": true,
            "description_tooltip": null,
            "_model_module": "@jupyter-widgets/controls",
            "layout": "IPY_MODEL_08a89e28d4e642628f1f9e57e9d229a0"
          }
        },
        "48b777470dd74173a529ee5b0d1e2872": {
          "model_module": "@jupyter-widgets/controls",
          "model_name": "DescriptionStyleModel",
          "state": {
            "_view_name": "StyleView",
            "_model_name": "DescriptionStyleModel",
            "description_width": "",
            "_view_module": "@jupyter-widgets/base",
            "_model_module_version": "1.5.0",
            "_view_count": null,
            "_view_module_version": "1.2.0",
            "_model_module": "@jupyter-widgets/controls"
          }
        },
        "08a89e28d4e642628f1f9e57e9d229a0": {
          "model_module": "@jupyter-widgets/base",
          "model_name": "LayoutModel",
          "state": {
            "_view_name": "LayoutView",
            "grid_template_rows": null,
            "right": null,
            "justify_content": null,
            "_view_module": "@jupyter-widgets/base",
            "overflow": null,
            "_model_module_version": "1.2.0",
            "_view_count": null,
            "flex_flow": null,
            "width": null,
            "min_width": null,
            "border": null,
            "align_items": null,
            "bottom": null,
            "_model_module": "@jupyter-widgets/base",
            "top": null,
            "grid_column": null,
            "overflow_y": null,
            "overflow_x": null,
            "grid_auto_flow": null,
            "grid_area": null,
            "grid_template_columns": null,
            "flex": null,
            "_model_name": "LayoutModel",
            "justify_items": null,
            "grid_row": null,
            "max_height": null,
            "align_content": null,
            "visibility": null,
            "align_self": null,
            "height": null,
            "min_height": null,
            "padding": null,
            "grid_auto_rows": null,
            "grid_gap": null,
            "max_width": null,
            "order": null,
            "_view_module_version": "1.2.0",
            "grid_template_areas": null,
            "object_position": null,
            "object_fit": null,
            "grid_auto_columns": null,
            "margin": null,
            "display": null,
            "left": null
          }
        },
        "5fedd8e049ea43ddbacacc36b9d9a085": {
          "model_module": "@jupyter-widgets/controls",
          "model_name": "ButtonModel",
          "state": {
            "_view_name": "ButtonView",
            "style": "IPY_MODEL_0efbc208e8ce46a58523e5614832ff2d",
            "_dom_classes": [],
            "description": "Submit!",
            "_model_name": "ButtonModel",
            "button_style": "",
            "_view_module": "@jupyter-widgets/controls",
            "_model_module_version": "1.5.0",
            "tooltip": "",
            "_view_count": null,
            "disabled": false,
            "_view_module_version": "1.5.0",
            "layout": "IPY_MODEL_7b5da7dae17f456ca9158fb8078c5ada",
            "_model_module": "@jupyter-widgets/controls",
            "icon": ""
          }
        },
        "0efbc208e8ce46a58523e5614832ff2d": {
          "model_module": "@jupyter-widgets/controls",
          "model_name": "ButtonStyleModel",
          "state": {
            "_view_name": "StyleView",
            "_model_name": "ButtonStyleModel",
            "_view_module": "@jupyter-widgets/base",
            "_model_module_version": "1.5.0",
            "_view_count": null,
            "button_color": null,
            "font_weight": "",
            "_view_module_version": "1.2.0",
            "_model_module": "@jupyter-widgets/controls"
          }
        },
        "7b5da7dae17f456ca9158fb8078c5ada": {
          "model_module": "@jupyter-widgets/base",
          "model_name": "LayoutModel",
          "state": {
            "_view_name": "LayoutView",
            "grid_template_rows": null,
            "right": null,
            "justify_content": null,
            "_view_module": "@jupyter-widgets/base",
            "overflow": null,
            "_model_module_version": "1.2.0",
            "_view_count": null,
            "flex_flow": null,
            "width": null,
            "min_width": null,
            "border": null,
            "align_items": null,
            "bottom": null,
            "_model_module": "@jupyter-widgets/base",
            "top": null,
            "grid_column": null,
            "overflow_y": null,
            "overflow_x": null,
            "grid_auto_flow": null,
            "grid_area": null,
            "grid_template_columns": null,
            "flex": null,
            "_model_name": "LayoutModel",
            "justify_items": null,
            "grid_row": null,
            "max_height": null,
            "align_content": null,
            "visibility": null,
            "align_self": null,
            "height": null,
            "min_height": null,
            "padding": null,
            "grid_auto_rows": null,
            "grid_gap": null,
            "max_width": null,
            "order": null,
            "_view_module_version": "1.2.0",
            "grid_template_areas": null,
            "object_position": null,
            "object_fit": null,
            "grid_auto_columns": null,
            "margin": null,
            "display": null,
            "left": null
          }
        },
        "b2b1d00c1d52457697b801539a3db6f5": {
          "model_module": "@jupyter-widgets/controls",
          "model_name": "TabModel",
          "state": {
            "_view_name": "TabView",
            "_dom_classes": [],
            "_titles": {
              "0": "Youtube",
              "1": "Bilibili"
            },
            "_model_name": "TabModel",
            "_view_module": "@jupyter-widgets/controls",
            "selected_index": 0,
            "_model_module_version": "1.5.0",
            "_view_count": null,
            "_view_module_version": "1.5.0",
            "box_style": "",
            "layout": "IPY_MODEL_ba2128f912754b2193c1a39248b0eaa0",
            "_model_module": "@jupyter-widgets/controls",
            "children": [
              "IPY_MODEL_2250cce4c660417b9d3d367cf19d626e",
              "IPY_MODEL_6ed6bde7ce73462d9f90ade3706f3884"
            ]
          }
        },
        "ba2128f912754b2193c1a39248b0eaa0": {
          "model_module": "@jupyter-widgets/base",
          "model_name": "LayoutModel",
          "state": {
            "_view_name": "LayoutView",
            "grid_template_rows": null,
            "right": null,
            "justify_content": null,
            "_view_module": "@jupyter-widgets/base",
            "overflow": null,
            "_model_module_version": "1.2.0",
            "_view_count": null,
            "flex_flow": null,
            "width": null,
            "min_width": null,
            "border": null,
            "align_items": null,
            "bottom": null,
            "_model_module": "@jupyter-widgets/base",
            "top": null,
            "grid_column": null,
            "overflow_y": null,
            "overflow_x": null,
            "grid_auto_flow": null,
            "grid_area": null,
            "grid_template_columns": null,
            "flex": null,
            "_model_name": "LayoutModel",
            "justify_items": null,
            "grid_row": null,
            "max_height": null,
            "align_content": null,
            "visibility": null,
            "align_self": null,
            "height": null,
            "min_height": null,
            "padding": null,
            "grid_auto_rows": null,
            "grid_gap": null,
            "max_width": null,
            "order": null,
            "_view_module_version": "1.2.0",
            "grid_template_areas": null,
            "object_position": null,
            "object_fit": null,
            "grid_auto_columns": null,
            "margin": null,
            "display": null,
            "left": null
          }
        },
        "2250cce4c660417b9d3d367cf19d626e": {
          "model_module": "@jupyter-widgets/output",
          "model_name": "OutputModel",
          "state": {
            "_view_name": "OutputView",
            "msg_id": "",
            "_dom_classes": [],
            "_model_name": "OutputModel",
            "outputs": [
              {
                "output_type": "stream",
                "metadata": {
                  "tags": []
                },
                "text": "Video available at https://youtube.com/watch?v=hbqUxpNBUGk\n",
                "stream": "stdout"
              },
              {
                "output_type": "display_data",
                "metadata": {
                  "tags": []
                },
                "text/html": "\n        <iframe\n            width=\"854\"\n            height=\"480\"\n            src=\"https://www.youtube.com/embed/hbqUxpNBUGk?fs=1&rel=0\"\n            frameborder=\"0\"\n            allowfullscreen\n        ></iframe>\n        ",
                "text/plain": "<IPython.lib.display.YouTubeVideo at 0x7ff42071d790>",
                "image/jpeg": "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\n"
              }
            ],
            "_view_module": "@jupyter-widgets/output",
            "_model_module_version": "1.0.0",
            "_view_count": null,
            "_view_module_version": "1.0.0",
            "layout": "IPY_MODEL_d3f61bd4db1b43f58239c175d5e948b8",
            "_model_module": "@jupyter-widgets/output"
          }
        },
        "6ed6bde7ce73462d9f90ade3706f3884": {
          "model_module": "@jupyter-widgets/output",
          "model_name": "OutputModel",
          "state": {
            "_view_name": "OutputView",
            "msg_id": "",
            "_dom_classes": [],
            "_model_name": "OutputModel",
            "outputs": [
              {
                "output_type": "stream",
                "metadata": {
                  "tags": []
                },
                "text": "Video available at https://www.bilibili.com/video/BV1ty4y1T7Uh\n",
                "stream": "stdout"
              },
              {
                "output_type": "display_data",
                "metadata": {
                  "tags": []
                },
                "text/html": "\n        <iframe\n            width=\"854\"\n            height=\"480\"\n            src=\"https://player.bilibili.com/player.html?bvid=BV1ty4y1T7Uh&page=1?fs=1\"\n            frameborder=\"0\"\n            allowfullscreen\n        ></iframe>\n        ",
                "text/plain": "<__main__.BiliVideo at 0x7ff490777bd0>"
              }
            ],
            "_view_module": "@jupyter-widgets/output",
            "_model_module_version": "1.0.0",
            "_view_count": null,
            "_view_module_version": "1.0.0",
            "layout": "IPY_MODEL_8949628cec454791b1485e60b36741a7",
            "_model_module": "@jupyter-widgets/output"
          }
        },
        "d3f61bd4db1b43f58239c175d5e948b8": {
          "model_module": "@jupyter-widgets/base",
          "model_name": "LayoutModel",
          "state": {
            "_view_name": "LayoutView",
            "grid_template_rows": null,
            "right": null,
            "justify_content": null,
            "_view_module": "@jupyter-widgets/base",
            "overflow": null,
            "_model_module_version": "1.2.0",
            "_view_count": null,
            "flex_flow": null,
            "width": null,
            "min_width": null,
            "border": null,
            "align_items": null,
            "bottom": null,
            "_model_module": "@jupyter-widgets/base",
            "top": null,
            "grid_column": null,
            "overflow_y": null,
            "overflow_x": null,
            "grid_auto_flow": null,
            "grid_area": null,
            "grid_template_columns": null,
            "flex": null,
            "_model_name": "LayoutModel",
            "justify_items": null,
            "grid_row": null,
            "max_height": null,
            "align_content": null,
            "visibility": null,
            "align_self": null,
            "height": null,
            "min_height": null,
            "padding": null,
            "grid_auto_rows": null,
            "grid_gap": null,
            "max_width": null,
            "order": null,
            "_view_module_version": "1.2.0",
            "grid_template_areas": null,
            "object_position": null,
            "object_fit": null,
            "grid_auto_columns": null,
            "margin": null,
            "display": null,
            "left": null
          }
        },
        "8949628cec454791b1485e60b36741a7": {
          "model_module": "@jupyter-widgets/base",
          "model_name": "LayoutModel",
          "state": {
            "_view_name": "LayoutView",
            "grid_template_rows": null,
            "right": null,
            "justify_content": null,
            "_view_module": "@jupyter-widgets/base",
            "overflow": null,
            "_model_module_version": "1.2.0",
            "_view_count": null,
            "flex_flow": null,
            "width": null,
            "min_width": null,
            "border": null,
            "align_items": null,
            "bottom": null,
            "_model_module": "@jupyter-widgets/base",
            "top": null,
            "grid_column": null,
            "overflow_y": null,
            "overflow_x": null,
            "grid_auto_flow": null,
            "grid_area": null,
            "grid_template_columns": null,
            "flex": null,
            "_model_name": "LayoutModel",
            "justify_items": null,
            "grid_row": null,
            "max_height": null,
            "align_content": null,
            "visibility": null,
            "align_self": null,
            "height": null,
            "min_height": null,
            "padding": null,
            "grid_auto_rows": null,
            "grid_gap": null,
            "max_width": null,
            "order": null,
            "_view_module_version": "1.2.0",
            "grid_template_areas": null,
            "object_position": null,
            "object_fit": null,
            "grid_auto_columns": null,
            "margin": null,
            "display": null,
            "left": null
          }
        },
        "eda18f92d2264c91aefecf2eef852a94": {
          "model_module": "@jupyter-widgets/controls",
          "model_name": "VBoxModel",
          "state": {
            "_view_name": "VBoxView",
            "_dom_classes": [
              "widget-interact"
            ],
            "_model_name": "VBoxModel",
            "_view_module": "@jupyter-widgets/controls",
            "_model_module_version": "1.5.0",
            "_view_count": null,
            "_view_module_version": "1.5.0",
            "box_style": "",
            "layout": "IPY_MODEL_87e304388f904cf299cf80c524526eef",
            "_model_module": "@jupyter-widgets/controls",
            "children": [
              "IPY_MODEL_e461d7cb5f49465199f8201ebdcf4be7",
              "IPY_MODEL_beb8be90e69b4f47a34c159a6dab192a"
            ]
          }
        },
        "87e304388f904cf299cf80c524526eef": {
          "model_module": "@jupyter-widgets/base",
          "model_name": "LayoutModel",
          "state": {
            "_view_name": "LayoutView",
            "grid_template_rows": null,
            "right": null,
            "justify_content": null,
            "_view_module": "@jupyter-widgets/base",
            "overflow": null,
            "_model_module_version": "1.2.0",
            "_view_count": null,
            "flex_flow": null,
            "width": null,
            "min_width": null,
            "border": null,
            "align_items": null,
            "bottom": null,
            "_model_module": "@jupyter-widgets/base",
            "top": null,
            "grid_column": null,
            "overflow_y": null,
            "overflow_x": null,
            "grid_auto_flow": null,
            "grid_area": null,
            "grid_template_columns": null,
            "flex": null,
            "_model_name": "LayoutModel",
            "justify_items": null,
            "grid_row": null,
            "max_height": null,
            "align_content": null,
            "visibility": null,
            "align_self": null,
            "height": null,
            "min_height": null,
            "padding": null,
            "grid_auto_rows": null,
            "grid_gap": null,
            "max_width": null,
            "order": null,
            "_view_module_version": "1.2.0",
            "grid_template_areas": null,
            "object_position": null,
            "object_fit": null,
            "grid_auto_columns": null,
            "margin": null,
            "display": null,
            "left": null
          }
        },
        "e461d7cb5f49465199f8201ebdcf4be7": {
          "model_module": "@jupyter-widgets/controls",
          "model_name": "DropdownModel",
          "state": {
            "_options_labels": [
              "1",
              "100",
              "50, 50"
            ],
            "_view_name": "DropdownView",
            "style": "IPY_MODEL_039730cfd9384845a421ae60d121670f",
            "_dom_classes": [],
            "description": "hidden_dims",
            "_model_name": "DropdownModel",
            "index": 1,
            "_view_module": "@jupyter-widgets/controls",
            "_model_module_version": "1.5.0",
            "_view_count": null,
            "disabled": false,
            "_view_module_version": "1.5.0",
            "description_tooltip": null,
            "_model_module": "@jupyter-widgets/controls",
            "layout": "IPY_MODEL_be790aa6c2da4f8b8aa0c08273ef2e35"
          }
        },
        "beb8be90e69b4f47a34c159a6dab192a": {
          "model_module": "@jupyter-widgets/output",
          "model_name": "OutputModel",
          "state": {
            "_view_name": "OutputView",
            "msg_id": "",
            "_dom_classes": [],
            "_model_name": "OutputModel",
            "outputs": [
              {
                "output_type": "display_data",
                "metadata": {
                  "tags": [],
                  "image/png": {
                    "width": 342,
                    "height": 270
                  },
                  "needs_background": "light"
                },
                "image/png": "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\n",
                "text/plain": "<Figure size 360x288 with 1 Axes>"
              }
            ],
            "_view_module": "@jupyter-widgets/output",
            "_model_module_version": "1.0.0",
            "_view_count": null,
            "_view_module_version": "1.0.0",
            "layout": "IPY_MODEL_6360204cdbda41588701e351ac21ef6d",
            "_model_module": "@jupyter-widgets/output"
          }
        },
        "039730cfd9384845a421ae60d121670f": {
          "model_module": "@jupyter-widgets/controls",
          "model_name": "DescriptionStyleModel",
          "state": {
            "_view_name": "StyleView",
            "_model_name": "DescriptionStyleModel",
            "description_width": "",
            "_view_module": "@jupyter-widgets/base",
            "_model_module_version": "1.5.0",
            "_view_count": null,
            "_view_module_version": "1.2.0",
            "_model_module": "@jupyter-widgets/controls"
          }
        },
        "be790aa6c2da4f8b8aa0c08273ef2e35": {
          "model_module": "@jupyter-widgets/base",
          "model_name": "LayoutModel",
          "state": {
            "_view_name": "LayoutView",
            "grid_template_rows": null,
            "right": null,
            "justify_content": null,
            "_view_module": "@jupyter-widgets/base",
            "overflow": null,
            "_model_module_version": "1.2.0",
            "_view_count": null,
            "flex_flow": null,
            "width": null,
            "min_width": null,
            "border": null,
            "align_items": null,
            "bottom": null,
            "_model_module": "@jupyter-widgets/base",
            "top": null,
            "grid_column": null,
            "overflow_y": null,
            "overflow_x": null,
            "grid_auto_flow": null,
            "grid_area": null,
            "grid_template_columns": null,
            "flex": null,
            "_model_name": "LayoutModel",
            "justify_items": null,
            "grid_row": null,
            "max_height": null,
            "align_content": null,
            "visibility": null,
            "align_self": null,
            "height": null,
            "min_height": null,
            "padding": null,
            "grid_auto_rows": null,
            "grid_gap": null,
            "max_width": null,
            "order": null,
            "_view_module_version": "1.2.0",
            "grid_template_areas": null,
            "object_position": null,
            "object_fit": null,
            "grid_auto_columns": null,
            "margin": null,
            "display": null,
            "left": null
          }
        },
        "6360204cdbda41588701e351ac21ef6d": {
          "model_module": "@jupyter-widgets/base",
          "model_name": "LayoutModel",
          "state": {
            "_view_name": "LayoutView",
            "grid_template_rows": null,
            "right": null,
            "justify_content": null,
            "_view_module": "@jupyter-widgets/base",
            "overflow": null,
            "_model_module_version": "1.2.0",
            "_view_count": null,
            "flex_flow": null,
            "width": null,
            "min_width": null,
            "border": null,
            "align_items": null,
            "bottom": null,
            "_model_module": "@jupyter-widgets/base",
            "top": null,
            "grid_column": null,
            "overflow_y": null,
            "overflow_x": null,
            "grid_auto_flow": null,
            "grid_area": null,
            "grid_template_columns": null,
            "flex": null,
            "_model_name": "LayoutModel",
            "justify_items": null,
            "grid_row": null,
            "max_height": null,
            "align_content": null,
            "visibility": null,
            "align_self": null,
            "height": null,
            "min_height": null,
            "padding": null,
            "grid_auto_rows": null,
            "grid_gap": null,
            "max_width": null,
            "order": null,
            "_view_module_version": "1.2.0",
            "grid_template_areas": null,
            "object_position": null,
            "object_fit": null,
            "grid_auto_columns": null,
            "margin": null,
            "display": null,
            "left": null
          }
        },
        "330c661c3cfb4f0ab53b9711451cf524": {
          "model_module": "@jupyter-widgets/controls",
          "model_name": "VBoxModel",
          "state": {
            "_view_name": "VBoxView",
            "_dom_classes": [
              "widget-interact"
            ],
            "_model_name": "VBoxModel",
            "_view_module": "@jupyter-widgets/controls",
            "_model_module_version": "1.5.0",
            "_view_count": null,
            "_view_module_version": "1.5.0",
            "box_style": "",
            "layout": "IPY_MODEL_21e08b5112f84892b71d76f1e37866c6",
            "_model_module": "@jupyter-widgets/controls",
            "children": [
              "IPY_MODEL_0af9d2476e7045d988af31a7d2875794",
              "IPY_MODEL_9350434873ec462e8bbeb634e51fa71a",
              "IPY_MODEL_416d192766454a7c94bc6ad7717ae01e",
              "IPY_MODEL_c888518b64c44581b5ddcfbb53f7a360",
              "IPY_MODEL_35cd63f8b95545b9a8ecdc2c1ec49271"
            ]
          }
        },
        "21e08b5112f84892b71d76f1e37866c6": {
          "model_module": "@jupyter-widgets/base",
          "model_name": "LayoutModel",
          "state": {
            "_view_name": "LayoutView",
            "grid_template_rows": null,
            "right": null,
            "justify_content": null,
            "_view_module": "@jupyter-widgets/base",
            "overflow": null,
            "_model_module_version": "1.2.0",
            "_view_count": null,
            "flex_flow": null,
            "width": null,
            "min_width": null,
            "border": null,
            "align_items": null,
            "bottom": null,
            "_model_module": "@jupyter-widgets/base",
            "top": null,
            "grid_column": null,
            "overflow_y": null,
            "overflow_x": null,
            "grid_auto_flow": null,
            "grid_area": null,
            "grid_template_columns": null,
            "flex": null,
            "_model_name": "LayoutModel",
            "justify_items": null,
            "grid_row": null,
            "max_height": null,
            "align_content": null,
            "visibility": null,
            "align_self": null,
            "height": null,
            "min_height": null,
            "padding": null,
            "grid_auto_rows": null,
            "grid_gap": null,
            "max_width": null,
            "order": null,
            "_view_module_version": "1.2.0",
            "grid_template_areas": null,
            "object_position": null,
            "object_fit": null,
            "grid_auto_columns": null,
            "margin": null,
            "display": null,
            "left": null
          }
        },
        "0af9d2476e7045d988af31a7d2875794": {
          "model_module": "@jupyter-widgets/controls",
          "model_name": "TextModel",
          "state": {
            "_view_name": "TextView",
            "style": "IPY_MODEL_7d92fa5095e24617b7c75cfae2dbe534",
            "_dom_classes": [],
            "description": "batch_sizes",
            "_model_name": "TextModel",
            "placeholder": "​",
            "_view_module": "@jupyter-widgets/controls",
            "_model_module_version": "1.5.0",
            "value": "20, 250, 1000",
            "_view_count": null,
            "disabled": false,
            "_view_module_version": "1.5.0",
            "continuous_update": true,
            "description_tooltip": null,
            "_model_module": "@jupyter-widgets/controls",
            "layout": "IPY_MODEL_7df2c18a795a4b2cb40f787683de9271"
          }
        },
        "9350434873ec462e8bbeb634e51fa71a": {
          "model_module": "@jupyter-widgets/controls",
          "model_name": "TextModel",
          "state": {
            "_view_name": "TextView",
            "style": "IPY_MODEL_15240473653941859e0399bc568e8246",
            "_dom_classes": [],
            "description": "lrs",
            "_model_name": "TextModel",
            "placeholder": "​",
            "_view_module": "@jupyter-widgets/controls",
            "_model_module_version": "1.5.0",
            "value": "5e-3, 5e-3, 5e-3",
            "_view_count": null,
            "disabled": false,
            "_view_module_version": "1.5.0",
            "continuous_update": true,
            "description_tooltip": null,
            "_model_module": "@jupyter-widgets/controls",
            "layout": "IPY_MODEL_c0ab395b2cfb4076bab9a34def82099d"
          }
        },
        "416d192766454a7c94bc6ad7717ae01e": {
          "model_module": "@jupyter-widgets/controls",
          "model_name": "DropdownModel",
          "state": {
            "_options_labels": [
              "2.5",
              "5",
              "10"
            ],
            "_view_name": "DropdownView",
            "style": "IPY_MODEL_a17e045aeced4559a84889a70bff05ed",
            "_dom_classes": [],
            "description": "time_budget",
            "_model_name": "DropdownModel",
            "index": 0,
            "_view_module": "@jupyter-widgets/controls",
            "_model_module_version": "1.5.0",
            "_view_count": null,
            "disabled": false,
            "_view_module_version": "1.5.0",
            "description_tooltip": null,
            "_model_module": "@jupyter-widgets/controls",
            "layout": "IPY_MODEL_a90a73880d7f4055971b284855b94518"
          }
        },
        "c888518b64c44581b5ddcfbb53f7a360": {
          "model_module": "@jupyter-widgets/controls",
          "model_name": "ButtonModel",
          "state": {
            "_view_name": "ButtonView",
            "style": "IPY_MODEL_be7ef6fd3d314dbca6bff508d1230ce7",
            "_dom_classes": [],
            "description": "Run Interact",
            "_model_name": "ButtonModel",
            "button_style": "",
            "_view_module": "@jupyter-widgets/controls",
            "_model_module_version": "1.5.0",
            "tooltip": "",
            "_view_count": null,
            "disabled": false,
            "_view_module_version": "1.5.0",
            "layout": "IPY_MODEL_215d5b8ede194943a35dbb4bc8036565",
            "_model_module": "@jupyter-widgets/controls",
            "icon": ""
          }
        },
        "35cd63f8b95545b9a8ecdc2c1ec49271": {
          "model_module": "@jupyter-widgets/output",
          "model_name": "OutputModel",
          "state": {
            "_view_name": "OutputView",
            "msg_id": "",
            "_dom_classes": [],
            "_model_name": "OutputModel",
            "outputs": [],
            "_view_module": "@jupyter-widgets/output",
            "_model_module_version": "1.0.0",
            "_view_count": null,
            "_view_module_version": "1.0.0",
            "layout": "IPY_MODEL_3863b7253d774d7db9175767bca6cc35",
            "_model_module": "@jupyter-widgets/output"
          }
        },
        "7d92fa5095e24617b7c75cfae2dbe534": {
          "model_module": "@jupyter-widgets/controls",
          "model_name": "DescriptionStyleModel",
          "state": {
            "_view_name": "StyleView",
            "_model_name": "DescriptionStyleModel",
            "description_width": "",
            "_view_module": "@jupyter-widgets/base",
            "_model_module_version": "1.5.0",
            "_view_count": null,
            "_view_module_version": "1.2.0",
            "_model_module": "@jupyter-widgets/controls"
          }
        },
        "7df2c18a795a4b2cb40f787683de9271": {
          "model_module": "@jupyter-widgets/base",
          "model_name": "LayoutModel",
          "state": {
            "_view_name": "LayoutView",
            "grid_template_rows": null,
            "right": null,
            "justify_content": null,
            "_view_module": "@jupyter-widgets/base",
            "overflow": null,
            "_model_module_version": "1.2.0",
            "_view_count": null,
            "flex_flow": null,
            "width": null,
            "min_width": null,
            "border": null,
            "align_items": null,
            "bottom": null,
            "_model_module": "@jupyter-widgets/base",
            "top": null,
            "grid_column": null,
            "overflow_y": null,
            "overflow_x": null,
            "grid_auto_flow": null,
            "grid_area": null,
            "grid_template_columns": null,
            "flex": null,
            "_model_name": "LayoutModel",
            "justify_items": null,
            "grid_row": null,
            "max_height": null,
            "align_content": null,
            "visibility": null,
            "align_self": null,
            "height": null,
            "min_height": null,
            "padding": null,
            "grid_auto_rows": null,
            "grid_gap": null,
            "max_width": null,
            "order": null,
            "_view_module_version": "1.2.0",
            "grid_template_areas": null,
            "object_position": null,
            "object_fit": null,
            "grid_auto_columns": null,
            "margin": null,
            "display": null,
            "left": null
          }
        },
        "15240473653941859e0399bc568e8246": {
          "model_module": "@jupyter-widgets/controls",
          "model_name": "DescriptionStyleModel",
          "state": {
            "_view_name": "StyleView",
            "_model_name": "DescriptionStyleModel",
            "description_width": "",
            "_view_module": "@jupyter-widgets/base",
            "_model_module_version": "1.5.0",
            "_view_count": null,
            "_view_module_version": "1.2.0",
            "_model_module": "@jupyter-widgets/controls"
          }
        },
        "c0ab395b2cfb4076bab9a34def82099d": {
          "model_module": "@jupyter-widgets/base",
          "model_name": "LayoutModel",
          "state": {
            "_view_name": "LayoutView",
            "grid_template_rows": null,
            "right": null,
            "justify_content": null,
            "_view_module": "@jupyter-widgets/base",
            "overflow": null,
            "_model_module_version": "1.2.0",
            "_view_count": null,
            "flex_flow": null,
            "width": null,
            "min_width": null,
            "border": null,
            "align_items": null,
            "bottom": null,
            "_model_module": "@jupyter-widgets/base",
            "top": null,
            "grid_column": null,
            "overflow_y": null,
            "overflow_x": null,
            "grid_auto_flow": null,
            "grid_area": null,
            "grid_template_columns": null,
            "flex": null,
            "_model_name": "LayoutModel",
            "justify_items": null,
            "grid_row": null,
            "max_height": null,
            "align_content": null,
            "visibility": null,
            "align_self": null,
            "height": null,
            "min_height": null,
            "padding": null,
            "grid_auto_rows": null,
            "grid_gap": null,
            "max_width": null,
            "order": null,
            "_view_module_version": "1.2.0",
            "grid_template_areas": null,
            "object_position": null,
            "object_fit": null,
            "grid_auto_columns": null,
            "margin": null,
            "display": null,
            "left": null
          }
        },
        "a17e045aeced4559a84889a70bff05ed": {
          "model_module": "@jupyter-widgets/controls",
          "model_name": "DescriptionStyleModel",
          "state": {
            "_view_name": "StyleView",
            "_model_name": "DescriptionStyleModel",
            "description_width": "",
            "_view_module": "@jupyter-widgets/base",
            "_model_module_version": "1.5.0",
            "_view_count": null,
            "_view_module_version": "1.2.0",
            "_model_module": "@jupyter-widgets/controls"
          }
        },
        "a90a73880d7f4055971b284855b94518": {
          "model_module": "@jupyter-widgets/base",
          "model_name": "LayoutModel",
          "state": {
            "_view_name": "LayoutView",
            "grid_template_rows": null,
            "right": null,
            "justify_content": null,
            "_view_module": "@jupyter-widgets/base",
            "overflow": null,
            "_model_module_version": "1.2.0",
            "_view_count": null,
            "flex_flow": null,
            "width": null,
            "min_width": null,
            "border": null,
            "align_items": null,
            "bottom": null,
            "_model_module": "@jupyter-widgets/base",
            "top": null,
            "grid_column": null,
            "overflow_y": null,
            "overflow_x": null,
            "grid_auto_flow": null,
            "grid_area": null,
            "grid_template_columns": null,
            "flex": null,
            "_model_name": "LayoutModel",
            "justify_items": null,
            "grid_row": null,
            "max_height": null,
            "align_content": null,
            "visibility": null,
            "align_self": null,
            "height": null,
            "min_height": null,
            "padding": null,
            "grid_auto_rows": null,
            "grid_gap": null,
            "max_width": null,
            "order": null,
            "_view_module_version": "1.2.0",
            "grid_template_areas": null,
            "object_position": null,
            "object_fit": null,
            "grid_auto_columns": null,
            "margin": null,
            "display": null,
            "left": null
          }
        },
        "be7ef6fd3d314dbca6bff508d1230ce7": {
          "model_module": "@jupyter-widgets/controls",
          "model_name": "ButtonStyleModel",
          "state": {
            "_view_name": "StyleView",
            "_model_name": "ButtonStyleModel",
            "_view_module": "@jupyter-widgets/base",
            "_model_module_version": "1.5.0",
            "_view_count": null,
            "button_color": null,
            "font_weight": "",
            "_view_module_version": "1.2.0",
            "_model_module": "@jupyter-widgets/controls"
          }
        },
        "215d5b8ede194943a35dbb4bc8036565": {
          "model_module": "@jupyter-widgets/base",
          "model_name": "LayoutModel",
          "state": {
            "_view_name": "LayoutView",
            "grid_template_rows": null,
            "right": null,
            "justify_content": null,
            "_view_module": "@jupyter-widgets/base",
            "overflow": null,
            "_model_module_version": "1.2.0",
            "_view_count": null,
            "flex_flow": null,
            "width": null,
            "min_width": null,
            "border": null,
            "align_items": null,
            "bottom": null,
            "_model_module": "@jupyter-widgets/base",
            "top": null,
            "grid_column": null,
            "overflow_y": null,
            "overflow_x": null,
            "grid_auto_flow": null,
            "grid_area": null,
            "grid_template_columns": null,
            "flex": null,
            "_model_name": "LayoutModel",
            "justify_items": null,
            "grid_row": null,
            "max_height": null,
            "align_content": null,
            "visibility": null,
            "align_self": null,
            "height": null,
            "min_height": null,
            "padding": null,
            "grid_auto_rows": null,
            "grid_gap": null,
            "max_width": null,
            "order": null,
            "_view_module_version": "1.2.0",
            "grid_template_areas": null,
            "object_position": null,
            "object_fit": null,
            "grid_auto_columns": null,
            "margin": null,
            "display": null,
            "left": null
          }
        },
        "3863b7253d774d7db9175767bca6cc35": {
          "model_module": "@jupyter-widgets/base",
          "model_name": "LayoutModel",
          "state": {
            "_view_name": "LayoutView",
            "grid_template_rows": null,
            "right": null,
            "justify_content": null,
            "_view_module": "@jupyter-widgets/base",
            "overflow": null,
            "_model_module_version": "1.2.0",
            "_view_count": null,
            "flex_flow": null,
            "width": null,
            "min_width": null,
            "border": null,
            "align_items": null,
            "bottom": null,
            "_model_module": "@jupyter-widgets/base",
            "top": null,
            "grid_column": null,
            "overflow_y": null,
            "overflow_x": null,
            "grid_auto_flow": null,
            "grid_area": null,
            "grid_template_columns": null,
            "flex": null,
            "_model_name": "LayoutModel",
            "justify_items": null,
            "grid_row": null,
            "max_height": null,
            "align_content": null,
            "visibility": null,
            "align_self": null,
            "height": null,
            "min_height": null,
            "padding": null,
            "grid_auto_rows": null,
            "grid_gap": null,
            "max_width": null,
            "order": null,
            "_view_module_version": "1.2.0",
            "grid_template_areas": null,
            "object_position": null,
            "object_fit": null,
            "grid_auto_columns": null,
            "margin": null,
            "display": null,
            "left": null
          }
        },
        "309ea8d5a8224c44b4d61316f295527b": {
          "model_module": "@jupyter-widgets/controls",
          "model_name": "TabModel",
          "state": {
            "_view_name": "TabView",
            "_dom_classes": [],
            "_titles": {
              "0": "Youtube",
              "1": "Bilibili"
            },
            "_model_name": "TabModel",
            "_view_module": "@jupyter-widgets/controls",
            "selected_index": 0,
            "_model_module_version": "1.5.0",
            "_view_count": null,
            "_view_module_version": "1.5.0",
            "box_style": "",
            "layout": "IPY_MODEL_c7acb5c2dd0244f3905c64c18545e060",
            "_model_module": "@jupyter-widgets/controls",
            "children": [
              "IPY_MODEL_56765a5edb894f45bf7372c9eb67e8a3",
              "IPY_MODEL_85a334df3eb644a4b42dc131bfb9ff7a"
            ]
          }
        },
        "c7acb5c2dd0244f3905c64c18545e060": {
          "model_module": "@jupyter-widgets/base",
          "model_name": "LayoutModel",
          "state": {
            "_view_name": "LayoutView",
            "grid_template_rows": null,
            "right": null,
            "justify_content": null,
            "_view_module": "@jupyter-widgets/base",
            "overflow": null,
            "_model_module_version": "1.2.0",
            "_view_count": null,
            "flex_flow": null,
            "width": null,
            "min_width": null,
            "border": null,
            "align_items": null,
            "bottom": null,
            "_model_module": "@jupyter-widgets/base",
            "top": null,
            "grid_column": null,
            "overflow_y": null,
            "overflow_x": null,
            "grid_auto_flow": null,
            "grid_area": null,
            "grid_template_columns": null,
            "flex": null,
            "_model_name": "LayoutModel",
            "justify_items": null,
            "grid_row": null,
            "max_height": null,
            "align_content": null,
            "visibility": null,
            "align_self": null,
            "height": null,
            "min_height": null,
            "padding": null,
            "grid_auto_rows": null,
            "grid_gap": null,
            "max_width": null,
            "order": null,
            "_view_module_version": "1.2.0",
            "grid_template_areas": null,
            "object_position": null,
            "object_fit": null,
            "grid_auto_columns": null,
            "margin": null,
            "display": null,
            "left": null
          }
        },
        "56765a5edb894f45bf7372c9eb67e8a3": {
          "model_module": "@jupyter-widgets/output",
          "model_name": "OutputModel",
          "state": {
            "_view_name": "OutputView",
            "msg_id": "",
            "_dom_classes": [],
            "_model_name": "OutputModel",
            "outputs": [
              {
                "output_type": "stream",
                "metadata": {
                  "tags": []
                },
                "text": "Video available at https://youtube.com/watch?v=Zr6r2kfmQUM\n",
                "stream": "stdout"
              },
              {
                "output_type": "display_data",
                "metadata": {
                  "tags": []
                },
                "text/html": "\n        <iframe\n            width=\"854\"\n            height=\"480\"\n            src=\"https://www.youtube.com/embed/Zr6r2kfmQUM?fs=1&rel=0\"\n            frameborder=\"0\"\n            allowfullscreen\n        ></iframe>\n        ",
                "text/plain": "<IPython.lib.display.YouTubeVideo at 0x7ff42a0d0290>",
                "image/jpeg": "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\n"
              }
            ],
            "_view_module": "@jupyter-widgets/output",
            "_model_module_version": "1.0.0",
            "_view_count": null,
            "_view_module_version": "1.0.0",
            "layout": "IPY_MODEL_6d78c42e7b834c1a8a2b43e331b7b6c2",
            "_model_module": "@jupyter-widgets/output"
          }
        },
        "85a334df3eb644a4b42dc131bfb9ff7a": {
          "model_module": "@jupyter-widgets/output",
          "model_name": "OutputModel",
          "state": {
            "_view_name": "OutputView",
            "msg_id": "",
            "_dom_classes": [],
            "_model_name": "OutputModel",
            "outputs": [
              {
                "output_type": "stream",
                "metadata": {
                  "tags": []
                },
                "text": "Video available at https://www.bilibili.com/video/BV1eq4y1W7JG\n",
                "stream": "stdout"
              },
              {
                "output_type": "display_data",
                "metadata": {
                  "tags": []
                },
                "text/html": "\n        <iframe\n            width=\"854\"\n            height=\"480\"\n            src=\"https://player.bilibili.com/player.html?bvid=BV1eq4y1W7JG&page=1?fs=1\"\n            frameborder=\"0\"\n            allowfullscreen\n        ></iframe>\n        ",
                "text/plain": "<__main__.BiliVideo at 0x7ff42a161090>"
              }
            ],
            "_view_module": "@jupyter-widgets/output",
            "_model_module_version": "1.0.0",
            "_view_count": null,
            "_view_module_version": "1.0.0",
            "layout": "IPY_MODEL_31005b02ac8f4337befb36043ccf404e",
            "_model_module": "@jupyter-widgets/output"
          }
        },
        "6d78c42e7b834c1a8a2b43e331b7b6c2": {
          "model_module": "@jupyter-widgets/base",
          "model_name": "LayoutModel",
          "state": {
            "_view_name": "LayoutView",
            "grid_template_rows": null,
            "right": null,
            "justify_content": null,
            "_view_module": "@jupyter-widgets/base",
            "overflow": null,
            "_model_module_version": "1.2.0",
            "_view_count": null,
            "flex_flow": null,
            "width": null,
            "min_width": null,
            "border": null,
            "align_items": null,
            "bottom": null,
            "_model_module": "@jupyter-widgets/base",
            "top": null,
            "grid_column": null,
            "overflow_y": null,
            "overflow_x": null,
            "grid_auto_flow": null,
            "grid_area": null,
            "grid_template_columns": null,
            "flex": null,
            "_model_name": "LayoutModel",
            "justify_items": null,
            "grid_row": null,
            "max_height": null,
            "align_content": null,
            "visibility": null,
            "align_self": null,
            "height": null,
            "min_height": null,
            "padding": null,
            "grid_auto_rows": null,
            "grid_gap": null,
            "max_width": null,
            "order": null,
            "_view_module_version": "1.2.0",
            "grid_template_areas": null,
            "object_position": null,
            "object_fit": null,
            "grid_auto_columns": null,
            "margin": null,
            "display": null,
            "left": null
          }
        },
        "31005b02ac8f4337befb36043ccf404e": {
          "model_module": "@jupyter-widgets/base",
          "model_name": "LayoutModel",
          "state": {
            "_view_name": "LayoutView",
            "grid_template_rows": null,
            "right": null,
            "justify_content": null,
            "_view_module": "@jupyter-widgets/base",
            "overflow": null,
            "_model_module_version": "1.2.0",
            "_view_count": null,
            "flex_flow": null,
            "width": null,
            "min_width": null,
            "border": null,
            "align_items": null,
            "bottom": null,
            "_model_module": "@jupyter-widgets/base",
            "top": null,
            "grid_column": null,
            "overflow_y": null,
            "overflow_x": null,
            "grid_auto_flow": null,
            "grid_area": null,
            "grid_template_columns": null,
            "flex": null,
            "_model_name": "LayoutModel",
            "justify_items": null,
            "grid_row": null,
            "max_height": null,
            "align_content": null,
            "visibility": null,
            "align_self": null,
            "height": null,
            "min_height": null,
            "padding": null,
            "grid_auto_rows": null,
            "grid_gap": null,
            "max_width": null,
            "order": null,
            "_view_module_version": "1.2.0",
            "grid_template_areas": null,
            "object_position": null,
            "object_fit": null,
            "grid_auto_columns": null,
            "margin": null,
            "display": null,
            "left": null
          }
        },
        "e752cd015a3d4b50afe8ca0eca45b05d": {
          "model_module": "@jupyter-widgets/controls",
          "model_name": "VBoxModel",
          "state": {
            "_view_name": "VBoxView",
            "_dom_classes": [
              "widget-interact"
            ],
            "_model_name": "VBoxModel",
            "_view_module": "@jupyter-widgets/controls",
            "_model_module_version": "1.5.0",
            "_view_count": null,
            "_view_module_version": "1.5.0",
            "box_style": "",
            "layout": "IPY_MODEL_a2ae9ff11b8d4596bbd6715252229396",
            "_model_module": "@jupyter-widgets/controls",
            "children": [
              "IPY_MODEL_47da3a1ac2d94c14895f8ff07b378977",
              "IPY_MODEL_183cbe19d99449aa97fbff7be51e6466",
              "IPY_MODEL_bd99141d40a3449da7f77b5b439727ef",
              "IPY_MODEL_e0e9b84d09644b78ad14a39779e431fe",
              "IPY_MODEL_56b49ac1e1484bfc9fb794363180255c"
            ]
          }
        },
        "a2ae9ff11b8d4596bbd6715252229396": {
          "model_module": "@jupyter-widgets/base",
          "model_name": "LayoutModel",
          "state": {
            "_view_name": "LayoutView",
            "grid_template_rows": null,
            "right": null,
            "justify_content": null,
            "_view_module": "@jupyter-widgets/base",
            "overflow": null,
            "_model_module_version": "1.2.0",
            "_view_count": null,
            "flex_flow": null,
            "width": null,
            "min_width": null,
            "border": null,
            "align_items": null,
            "bottom": null,
            "_model_module": "@jupyter-widgets/base",
            "top": null,
            "grid_column": null,
            "overflow_y": null,
            "overflow_x": null,
            "grid_auto_flow": null,
            "grid_area": null,
            "grid_template_columns": null,
            "flex": null,
            "_model_name": "LayoutModel",
            "justify_items": null,
            "grid_row": null,
            "max_height": null,
            "align_content": null,
            "visibility": null,
            "align_self": null,
            "height": null,
            "min_height": null,
            "padding": null,
            "grid_auto_rows": null,
            "grid_gap": null,
            "max_width": null,
            "order": null,
            "_view_module_version": "1.2.0",
            "grid_template_areas": null,
            "object_position": null,
            "object_fit": null,
            "grid_auto_columns": null,
            "margin": null,
            "display": null,
            "left": null
          }
        },
        "47da3a1ac2d94c14895f8ff07b378977": {
          "model_module": "@jupyter-widgets/controls",
          "model_name": "IntSliderModel",
          "state": {
            "_view_name": "IntSliderView",
            "style": "IPY_MODEL_58cde934677643ba9bb1f4cd14d933e4",
            "_dom_classes": [],
            "description": "batch_size",
            "step": 5,
            "_model_name": "IntSliderModel",
            "orientation": "horizontal",
            "max": 250,
            "_view_module": "@jupyter-widgets/controls",
            "_model_module_version": "1.5.0",
            "value": 135,
            "_view_count": null,
            "disabled": false,
            "_view_module_version": "1.5.0",
            "min": 25,
            "continuous_update": true,
            "readout_format": "d",
            "description_tooltip": null,
            "readout": true,
            "_model_module": "@jupyter-widgets/controls",
            "layout": "IPY_MODEL_fbe664e72ad94cadbcf64addc735cd65"
          }
        },
        "183cbe19d99449aa97fbff7be51e6466": {
          "model_module": "@jupyter-widgets/controls",
          "model_name": "FloatLogSliderModel",
          "state": {
            "_view_name": "FloatLogSliderView",
            "orientation": "horizontal",
            "_view_module": "@jupyter-widgets/controls",
            "_model_module_version": "1.5.0",
            "_view_count": null,
            "disabled": false,
            "readout_format": ".3g",
            "_model_module": "@jupyter-widgets/controls",
            "style": "IPY_MODEL_1f631252d4214c6db78af266d2196173",
            "layout": "IPY_MODEL_530bfa450a0a40e0a0993edd79ea96bd",
            "min": -5,
            "continuous_update": true,
            "description_tooltip": null,
            "_dom_classes": [],
            "description": "lr",
            "_model_name": "FloatLogSliderModel",
            "max": 0,
            "readout": true,
            "step": 0.1,
            "base": 10,
            "value": 0.002,
            "_view_module_version": "1.5.0"
          }
        },
        "bd99141d40a3449da7f77b5b439727ef": {
          "model_module": "@jupyter-widgets/controls",
          "model_name": "IntSliderModel",
          "state": {
            "_view_name": "IntSliderView",
            "style": "IPY_MODEL_f3f4e3d2833d49f392236202195d147a",
            "_dom_classes": [],
            "description": "max_steps",
            "step": 5,
            "_model_name": "IntSliderModel",
            "orientation": "horizontal",
            "max": 500,
            "_view_module": "@jupyter-widgets/controls",
            "_model_module_version": "1.5.0",
            "value": 275,
            "_view_count": null,
            "disabled": false,
            "_view_module_version": "1.5.0",
            "min": 50,
            "continuous_update": true,
            "readout_format": "d",
            "description_tooltip": null,
            "readout": true,
            "_model_module": "@jupyter-widgets/controls",
            "layout": "IPY_MODEL_add1294917eb4e95aaab89b9d498521a"
          }
        },
        "e0e9b84d09644b78ad14a39779e431fe": {
          "model_module": "@jupyter-widgets/controls",
          "model_name": "ButtonModel",
          "state": {
            "_view_name": "ButtonView",
            "style": "IPY_MODEL_bf63951b293144f9af33e40edfd8bfee",
            "_dom_classes": [],
            "description": "Run Interact",
            "_model_name": "ButtonModel",
            "button_style": "",
            "_view_module": "@jupyter-widgets/controls",
            "_model_module_version": "1.5.0",
            "tooltip": "",
            "_view_count": null,
            "disabled": false,
            "_view_module_version": "1.5.0",
            "layout": "IPY_MODEL_d9a0ddcbfd9e4eb5af04f2f2db66452f",
            "_model_module": "@jupyter-widgets/controls",
            "icon": ""
          }
        },
        "56b49ac1e1484bfc9fb794363180255c": {
          "model_module": "@jupyter-widgets/output",
          "model_name": "OutputModel",
          "state": {
            "_view_name": "OutputView",
            "msg_id": "",
            "_dom_classes": [],
            "_model_name": "OutputModel",
            "outputs": [],
            "_view_module": "@jupyter-widgets/output",
            "_model_module_version": "1.0.0",
            "_view_count": null,
            "_view_module_version": "1.0.0",
            "layout": "IPY_MODEL_c3f44f82750342e18679edceb4b7729a",
            "_model_module": "@jupyter-widgets/output"
          }
        },
        "58cde934677643ba9bb1f4cd14d933e4": {
          "model_module": "@jupyter-widgets/controls",
          "model_name": "SliderStyleModel",
          "state": {
            "_view_name": "StyleView",
            "handle_color": null,
            "_model_name": "SliderStyleModel",
            "description_width": "",
            "_view_module": "@jupyter-widgets/base",
            "_model_module_version": "1.5.0",
            "_view_count": null,
            "_view_module_version": "1.2.0",
            "_model_module": "@jupyter-widgets/controls"
          }
        },
        "fbe664e72ad94cadbcf64addc735cd65": {
          "model_module": "@jupyter-widgets/base",
          "model_name": "LayoutModel",
          "state": {
            "_view_name": "LayoutView",
            "grid_template_rows": null,
            "right": null,
            "justify_content": null,
            "_view_module": "@jupyter-widgets/base",
            "overflow": null,
            "_model_module_version": "1.2.0",
            "_view_count": null,
            "flex_flow": null,
            "width": null,
            "min_width": null,
            "border": null,
            "align_items": null,
            "bottom": null,
            "_model_module": "@jupyter-widgets/base",
            "top": null,
            "grid_column": null,
            "overflow_y": null,
            "overflow_x": null,
            "grid_auto_flow": null,
            "grid_area": null,
            "grid_template_columns": null,
            "flex": null,
            "_model_name": "LayoutModel",
            "justify_items": null,
            "grid_row": null,
            "max_height": null,
            "align_content": null,
            "visibility": null,
            "align_self": null,
            "height": null,
            "min_height": null,
            "padding": null,
            "grid_auto_rows": null,
            "grid_gap": null,
            "max_width": null,
            "order": null,
            "_view_module_version": "1.2.0",
            "grid_template_areas": null,
            "object_position": null,
            "object_fit": null,
            "grid_auto_columns": null,
            "margin": null,
            "display": null,
            "left": null
          }
        },
        "1f631252d4214c6db78af266d2196173": {
          "model_module": "@jupyter-widgets/controls",
          "model_name": "SliderStyleModel",
          "state": {
            "_view_name": "StyleView",
            "handle_color": null,
            "_model_name": "SliderStyleModel",
            "description_width": "",
            "_view_module": "@jupyter-widgets/base",
            "_model_module_version": "1.5.0",
            "_view_count": null,
            "_view_module_version": "1.2.0",
            "_model_module": "@jupyter-widgets/controls"
          }
        },
        "530bfa450a0a40e0a0993edd79ea96bd": {
          "model_module": "@jupyter-widgets/base",
          "model_name": "LayoutModel",
          "state": {
            "_view_name": "LayoutView",
            "grid_template_rows": null,
            "right": null,
            "justify_content": null,
            "_view_module": "@jupyter-widgets/base",
            "overflow": null,
            "_model_module_version": "1.2.0",
            "_view_count": null,
            "flex_flow": null,
            "width": null,
            "min_width": null,
            "border": null,
            "align_items": null,
            "bottom": null,
            "_model_module": "@jupyter-widgets/base",
            "top": null,
            "grid_column": null,
            "overflow_y": null,
            "overflow_x": null,
            "grid_auto_flow": null,
            "grid_area": null,
            "grid_template_columns": null,
            "flex": null,
            "_model_name": "LayoutModel",
            "justify_items": null,
            "grid_row": null,
            "max_height": null,
            "align_content": null,
            "visibility": null,
            "align_self": null,
            "height": null,
            "min_height": null,
            "padding": null,
            "grid_auto_rows": null,
            "grid_gap": null,
            "max_width": null,
            "order": null,
            "_view_module_version": "1.2.0",
            "grid_template_areas": null,
            "object_position": null,
            "object_fit": null,
            "grid_auto_columns": null,
            "margin": null,
            "display": null,
            "left": null
          }
        },
        "f3f4e3d2833d49f392236202195d147a": {
          "model_module": "@jupyter-widgets/controls",
          "model_name": "SliderStyleModel",
          "state": {
            "_view_name": "StyleView",
            "handle_color": null,
            "_model_name": "SliderStyleModel",
            "description_width": "",
            "_view_module": "@jupyter-widgets/base",
            "_model_module_version": "1.5.0",
            "_view_count": null,
            "_view_module_version": "1.2.0",
            "_model_module": "@jupyter-widgets/controls"
          }
        },
        "add1294917eb4e95aaab89b9d498521a": {
          "model_module": "@jupyter-widgets/base",
          "model_name": "LayoutModel",
          "state": {
            "_view_name": "LayoutView",
            "grid_template_rows": null,
            "right": null,
            "justify_content": null,
            "_view_module": "@jupyter-widgets/base",
            "overflow": null,
            "_model_module_version": "1.2.0",
            "_view_count": null,
            "flex_flow": null,
            "width": null,
            "min_width": null,
            "border": null,
            "align_items": null,
            "bottom": null,
            "_model_module": "@jupyter-widgets/base",
            "top": null,
            "grid_column": null,
            "overflow_y": null,
            "overflow_x": null,
            "grid_auto_flow": null,
            "grid_area": null,
            "grid_template_columns": null,
            "flex": null,
            "_model_name": "LayoutModel",
            "justify_items": null,
            "grid_row": null,
            "max_height": null,
            "align_content": null,
            "visibility": null,
            "align_self": null,
            "height": null,
            "min_height": null,
            "padding": null,
            "grid_auto_rows": null,
            "grid_gap": null,
            "max_width": null,
            "order": null,
            "_view_module_version": "1.2.0",
            "grid_template_areas": null,
            "object_position": null,
            "object_fit": null,
            "grid_auto_columns": null,
            "margin": null,
            "display": null,
            "left": null
          }
        },
        "bf63951b293144f9af33e40edfd8bfee": {
          "model_module": "@jupyter-widgets/controls",
          "model_name": "ButtonStyleModel",
          "state": {
            "_view_name": "StyleView",
            "_model_name": "ButtonStyleModel",
            "_view_module": "@jupyter-widgets/base",
            "_model_module_version": "1.5.0",
            "_view_count": null,
            "button_color": null,
            "font_weight": "",
            "_view_module_version": "1.2.0",
            "_model_module": "@jupyter-widgets/controls"
          }
        },
        "d9a0ddcbfd9e4eb5af04f2f2db66452f": {
          "model_module": "@jupyter-widgets/base",
          "model_name": "LayoutModel",
          "state": {
            "_view_name": "LayoutView",
            "grid_template_rows": null,
            "right": null,
            "justify_content": null,
            "_view_module": "@jupyter-widgets/base",
            "overflow": null,
            "_model_module_version": "1.2.0",
            "_view_count": null,
            "flex_flow": null,
            "width": null,
            "min_width": null,
            "border": null,
            "align_items": null,
            "bottom": null,
            "_model_module": "@jupyter-widgets/base",
            "top": null,
            "grid_column": null,
            "overflow_y": null,
            "overflow_x": null,
            "grid_auto_flow": null,
            "grid_area": null,
            "grid_template_columns": null,
            "flex": null,
            "_model_name": "LayoutModel",
            "justify_items": null,
            "grid_row": null,
            "max_height": null,
            "align_content": null,
            "visibility": null,
            "align_self": null,
            "height": null,
            "min_height": null,
            "padding": null,
            "grid_auto_rows": null,
            "grid_gap": null,
            "max_width": null,
            "order": null,
            "_view_module_version": "1.2.0",
            "grid_template_areas": null,
            "object_position": null,
            "object_fit": null,
            "grid_auto_columns": null,
            "margin": null,
            "display": null,
            "left": null
          }
        },
        "c3f44f82750342e18679edceb4b7729a": {
          "model_module": "@jupyter-widgets/base",
          "model_name": "LayoutModel",
          "state": {
            "_view_name": "LayoutView",
            "grid_template_rows": null,
            "right": null,
            "justify_content": null,
            "_view_module": "@jupyter-widgets/base",
            "overflow": null,
            "_model_module_version": "1.2.0",
            "_view_count": null,
            "flex_flow": null,
            "width": null,
            "min_width": null,
            "border": null,
            "align_items": null,
            "bottom": null,
            "_model_module": "@jupyter-widgets/base",
            "top": null,
            "grid_column": null,
            "overflow_y": null,
            "overflow_x": null,
            "grid_auto_flow": null,
            "grid_area": null,
            "grid_template_columns": null,
            "flex": null,
            "_model_name": "LayoutModel",
            "justify_items": null,
            "grid_row": null,
            "max_height": null,
            "align_content": null,
            "visibility": null,
            "align_self": null,
            "height": null,
            "min_height": null,
            "padding": null,
            "grid_auto_rows": null,
            "grid_gap": null,
            "max_width": null,
            "order": null,
            "_view_module_version": "1.2.0",
            "grid_template_areas": null,
            "object_position": null,
            "object_fit": null,
            "grid_auto_columns": null,
            "margin": null,
            "display": null,
            "left": null
          }
        },
        "098d3ec8d6344f36997534b77b356e76": {
          "model_module": "@jupyter-widgets/controls",
          "model_name": "TextareaModel",
          "state": {
            "_view_name": "TextareaView",
            "style": "IPY_MODEL_3c582c367fb04a0aaf81ebf9bb42c338",
            "rows": null,
            "_dom_classes": [],
            "description": "",
            "_model_name": "TextareaModel",
            "placeholder": "Type something",
            "_view_module": "@jupyter-widgets/controls",
            "_model_module_version": "1.5.0",
            "value": "Type your answer here and click on `Submit!`",
            "_view_count": null,
            "disabled": false,
            "_view_module_version": "1.5.0",
            "continuous_update": true,
            "description_tooltip": null,
            "_model_module": "@jupyter-widgets/controls",
            "layout": "IPY_MODEL_2c90cfe6d1a24ff98e48ec82ea24ea60"
          }
        },
        "3c582c367fb04a0aaf81ebf9bb42c338": {
          "model_module": "@jupyter-widgets/controls",
          "model_name": "DescriptionStyleModel",
          "state": {
            "_view_name": "StyleView",
            "_model_name": "DescriptionStyleModel",
            "description_width": "",
            "_view_module": "@jupyter-widgets/base",
            "_model_module_version": "1.5.0",
            "_view_count": null,
            "_view_module_version": "1.2.0",
            "_model_module": "@jupyter-widgets/controls"
          }
        },
        "2c90cfe6d1a24ff98e48ec82ea24ea60": {
          "model_module": "@jupyter-widgets/base",
          "model_name": "LayoutModel",
          "state": {
            "_view_name": "LayoutView",
            "grid_template_rows": null,
            "right": null,
            "justify_content": null,
            "_view_module": "@jupyter-widgets/base",
            "overflow": null,
            "_model_module_version": "1.2.0",
            "_view_count": null,
            "flex_flow": null,
            "width": null,
            "min_width": null,
            "border": null,
            "align_items": null,
            "bottom": null,
            "_model_module": "@jupyter-widgets/base",
            "top": null,
            "grid_column": null,
            "overflow_y": null,
            "overflow_x": null,
            "grid_auto_flow": null,
            "grid_area": null,
            "grid_template_columns": null,
            "flex": null,
            "_model_name": "LayoutModel",
            "justify_items": null,
            "grid_row": null,
            "max_height": null,
            "align_content": null,
            "visibility": null,
            "align_self": null,
            "height": null,
            "min_height": null,
            "padding": null,
            "grid_auto_rows": null,
            "grid_gap": null,
            "max_width": null,
            "order": null,
            "_view_module_version": "1.2.0",
            "grid_template_areas": null,
            "object_position": null,
            "object_fit": null,
            "grid_auto_columns": null,
            "margin": null,
            "display": null,
            "left": null
          }
        },
        "ac2a3ee9b992405aaf10553a54a3c6f7": {
          "model_module": "@jupyter-widgets/controls",
          "model_name": "ButtonModel",
          "state": {
            "_view_name": "ButtonView",
            "style": "IPY_MODEL_442e685e009b434fb076b79d268689c5",
            "_dom_classes": [],
            "description": "Submit!",
            "_model_name": "ButtonModel",
            "button_style": "",
            "_view_module": "@jupyter-widgets/controls",
            "_model_module_version": "1.5.0",
            "tooltip": "",
            "_view_count": null,
            "disabled": false,
            "_view_module_version": "1.5.0",
            "layout": "IPY_MODEL_725102a94fc2483ea5fce703b7138efd",
            "_model_module": "@jupyter-widgets/controls",
            "icon": ""
          }
        },
        "442e685e009b434fb076b79d268689c5": {
          "model_module": "@jupyter-widgets/controls",
          "model_name": "ButtonStyleModel",
          "state": {
            "_view_name": "StyleView",
            "_model_name": "ButtonStyleModel",
            "_view_module": "@jupyter-widgets/base",
            "_model_module_version": "1.5.0",
            "_view_count": null,
            "button_color": null,
            "font_weight": "",
            "_view_module_version": "1.2.0",
            "_model_module": "@jupyter-widgets/controls"
          }
        },
        "725102a94fc2483ea5fce703b7138efd": {
          "model_module": "@jupyter-widgets/base",
          "model_name": "LayoutModel",
          "state": {
            "_view_name": "LayoutView",
            "grid_template_rows": null,
            "right": null,
            "justify_content": null,
            "_view_module": "@jupyter-widgets/base",
            "overflow": null,
            "_model_module_version": "1.2.0",
            "_view_count": null,
            "flex_flow": null,
            "width": null,
            "min_width": null,
            "border": null,
            "align_items": null,
            "bottom": null,
            "_model_module": "@jupyter-widgets/base",
            "top": null,
            "grid_column": null,
            "overflow_y": null,
            "overflow_x": null,
            "grid_auto_flow": null,
            "grid_area": null,
            "grid_template_columns": null,
            "flex": null,
            "_model_name": "LayoutModel",
            "justify_items": null,
            "grid_row": null,
            "max_height": null,
            "align_content": null,
            "visibility": null,
            "align_self": null,
            "height": null,
            "min_height": null,
            "padding": null,
            "grid_auto_rows": null,
            "grid_gap": null,
            "max_width": null,
            "order": null,
            "_view_module_version": "1.2.0",
            "grid_template_areas": null,
            "object_position": null,
            "object_fit": null,
            "grid_auto_columns": null,
            "margin": null,
            "display": null,
            "left": null
          }
        },
        "1fbc872e732b46c490a27304a7b51ec2": {
          "model_module": "@jupyter-widgets/controls",
          "model_name": "TabModel",
          "state": {
            "_view_name": "TabView",
            "_dom_classes": [],
            "_titles": {
              "0": "Youtube",
              "1": "Bilibili"
            },
            "_model_name": "TabModel",
            "_view_module": "@jupyter-widgets/controls",
            "selected_index": 0,
            "_model_module_version": "1.5.0",
            "_view_count": null,
            "_view_module_version": "1.5.0",
            "box_style": "",
            "layout": "IPY_MODEL_ecff5d6e11e24f1cbb9a1e299371d263",
            "_model_module": "@jupyter-widgets/controls",
            "children": [
              "IPY_MODEL_13bd9204cfeb4adea2669ffc7015d12c",
              "IPY_MODEL_f20eb6c00a1247ce9190930abefbae50"
            ]
          }
        },
        "ecff5d6e11e24f1cbb9a1e299371d263": {
          "model_module": "@jupyter-widgets/base",
          "model_name": "LayoutModel",
          "state": {
            "_view_name": "LayoutView",
            "grid_template_rows": null,
            "right": null,
            "justify_content": null,
            "_view_module": "@jupyter-widgets/base",
            "overflow": null,
            "_model_module_version": "1.2.0",
            "_view_count": null,
            "flex_flow": null,
            "width": null,
            "min_width": null,
            "border": null,
            "align_items": null,
            "bottom": null,
            "_model_module": "@jupyter-widgets/base",
            "top": null,
            "grid_column": null,
            "overflow_y": null,
            "overflow_x": null,
            "grid_auto_flow": null,
            "grid_area": null,
            "grid_template_columns": null,
            "flex": null,
            "_model_name": "LayoutModel",
            "justify_items": null,
            "grid_row": null,
            "max_height": null,
            "align_content": null,
            "visibility": null,
            "align_self": null,
            "height": null,
            "min_height": null,
            "padding": null,
            "grid_auto_rows": null,
            "grid_gap": null,
            "max_width": null,
            "order": null,
            "_view_module_version": "1.2.0",
            "grid_template_areas": null,
            "object_position": null,
            "object_fit": null,
            "grid_auto_columns": null,
            "margin": null,
            "display": null,
            "left": null
          }
        },
        "13bd9204cfeb4adea2669ffc7015d12c": {
          "model_module": "@jupyter-widgets/output",
          "model_name": "OutputModel",
          "state": {
            "_view_name": "OutputView",
            "msg_id": "",
            "_dom_classes": [],
            "_model_name": "OutputModel",
            "outputs": [
              {
                "output_type": "stream",
                "metadata": {
                  "tags": []
                },
                "text": "Video available at https://youtube.com/watch?v=0EthSI0cknI\n",
                "stream": "stdout"
              },
              {
                "output_type": "display_data",
                "metadata": {
                  "tags": []
                },
                "text/html": "\n        <iframe\n            width=\"854\"\n            height=\"480\"\n            src=\"https://www.youtube.com/embed/0EthSI0cknI?fs=1&rel=0\"\n            frameborder=\"0\"\n            allowfullscreen\n        ></iframe>\n        ",
                "text/plain": "<IPython.lib.display.YouTubeVideo at 0x7ff420546a10>",
                "image/jpeg": "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\n"
              }
            ],
            "_view_module": "@jupyter-widgets/output",
            "_model_module_version": "1.0.0",
            "_view_count": null,
            "_view_module_version": "1.0.0",
            "layout": "IPY_MODEL_1d00ec908bad4bc680f8c33778a80f1f",
            "_model_module": "@jupyter-widgets/output"
          }
        },
        "f20eb6c00a1247ce9190930abefbae50": {
          "model_module": "@jupyter-widgets/output",
          "model_name": "OutputModel",
          "state": {
            "_view_name": "OutputView",
            "msg_id": "",
            "_dom_classes": [],
            "_model_name": "OutputModel",
            "outputs": [
              {
                "output_type": "stream",
                "metadata": {
                  "tags": []
                },
                "text": "Video available at https://www.bilibili.com/video/BV1TU4y1G7Je\n",
                "stream": "stdout"
              },
              {
                "output_type": "display_data",
                "metadata": {
                  "tags": []
                },
                "text/html": "\n        <iframe\n            width=\"854\"\n            height=\"480\"\n            src=\"https://player.bilibili.com/player.html?bvid=BV1TU4y1G7Je&page=1?fs=1\"\n            frameborder=\"0\"\n            allowfullscreen\n        ></iframe>\n        ",
                "text/plain": "<__main__.BiliVideo at 0x7ff4206a6310>"
              }
            ],
            "_view_module": "@jupyter-widgets/output",
            "_model_module_version": "1.0.0",
            "_view_count": null,
            "_view_module_version": "1.0.0",
            "layout": "IPY_MODEL_aa4877725ba842f58385d30a99c35bf0",
            "_model_module": "@jupyter-widgets/output"
          }
        },
        "1d00ec908bad4bc680f8c33778a80f1f": {
          "model_module": "@jupyter-widgets/base",
          "model_name": "LayoutModel",
          "state": {
            "_view_name": "LayoutView",
            "grid_template_rows": null,
            "right": null,
            "justify_content": null,
            "_view_module": "@jupyter-widgets/base",
            "overflow": null,
            "_model_module_version": "1.2.0",
            "_view_count": null,
            "flex_flow": null,
            "width": null,
            "min_width": null,
            "border": null,
            "align_items": null,
            "bottom": null,
            "_model_module": "@jupyter-widgets/base",
            "top": null,
            "grid_column": null,
            "overflow_y": null,
            "overflow_x": null,
            "grid_auto_flow": null,
            "grid_area": null,
            "grid_template_columns": null,
            "flex": null,
            "_model_name": "LayoutModel",
            "justify_items": null,
            "grid_row": null,
            "max_height": null,
            "align_content": null,
            "visibility": null,
            "align_self": null,
            "height": null,
            "min_height": null,
            "padding": null,
            "grid_auto_rows": null,
            "grid_gap": null,
            "max_width": null,
            "order": null,
            "_view_module_version": "1.2.0",
            "grid_template_areas": null,
            "object_position": null,
            "object_fit": null,
            "grid_auto_columns": null,
            "margin": null,
            "display": null,
            "left": null
          }
        },
        "aa4877725ba842f58385d30a99c35bf0": {
          "model_module": "@jupyter-widgets/base",
          "model_name": "LayoutModel",
          "state": {
            "_view_name": "LayoutView",
            "grid_template_rows": null,
            "right": null,
            "justify_content": null,
            "_view_module": "@jupyter-widgets/base",
            "overflow": null,
            "_model_module_version": "1.2.0",
            "_view_count": null,
            "flex_flow": null,
            "width": null,
            "min_width": null,
            "border": null,
            "align_items": null,
            "bottom": null,
            "_model_module": "@jupyter-widgets/base",
            "top": null,
            "grid_column": null,
            "overflow_y": null,
            "overflow_x": null,
            "grid_auto_flow": null,
            "grid_area": null,
            "grid_template_columns": null,
            "flex": null,
            "_model_name": "LayoutModel",
            "justify_items": null,
            "grid_row": null,
            "max_height": null,
            "align_content": null,
            "visibility": null,
            "align_self": null,
            "height": null,
            "min_height": null,
            "padding": null,
            "grid_auto_rows": null,
            "grid_gap": null,
            "max_width": null,
            "order": null,
            "_view_module_version": "1.2.0",
            "grid_template_areas": null,
            "object_position": null,
            "object_fit": null,
            "grid_auto_columns": null,
            "margin": null,
            "display": null,
            "left": null
          }
        },
        "ccc11b941c0042278e46d1fe15dabd5a": {
          "model_module": "@jupyter-widgets/controls",
          "model_name": "TabModel",
          "state": {
            "_view_name": "TabView",
            "_dom_classes": [],
            "_titles": {
              "0": "Youtube",
              "1": "Bilibili"
            },
            "_model_name": "TabModel",
            "_view_module": "@jupyter-widgets/controls",
            "selected_index": 0,
            "_model_module_version": "1.5.0",
            "_view_count": null,
            "_view_module_version": "1.5.0",
            "box_style": "",
            "layout": "IPY_MODEL_a4f6e43184ce43e4885b61f05fc6e7c8",
            "_model_module": "@jupyter-widgets/controls",
            "children": [
              "IPY_MODEL_401b781fad9044e199dc5d7c388a5008",
              "IPY_MODEL_785810f54ae14d349f4bf9f59a31d45c"
            ]
          }
        },
        "a4f6e43184ce43e4885b61f05fc6e7c8": {
          "model_module": "@jupyter-widgets/base",
          "model_name": "LayoutModel",
          "state": {
            "_view_name": "LayoutView",
            "grid_template_rows": null,
            "right": null,
            "justify_content": null,
            "_view_module": "@jupyter-widgets/base",
            "overflow": null,
            "_model_module_version": "1.2.0",
            "_view_count": null,
            "flex_flow": null,
            "width": null,
            "min_width": null,
            "border": null,
            "align_items": null,
            "bottom": null,
            "_model_module": "@jupyter-widgets/base",
            "top": null,
            "grid_column": null,
            "overflow_y": null,
            "overflow_x": null,
            "grid_auto_flow": null,
            "grid_area": null,
            "grid_template_columns": null,
            "flex": null,
            "_model_name": "LayoutModel",
            "justify_items": null,
            "grid_row": null,
            "max_height": null,
            "align_content": null,
            "visibility": null,
            "align_self": null,
            "height": null,
            "min_height": null,
            "padding": null,
            "grid_auto_rows": null,
            "grid_gap": null,
            "max_width": null,
            "order": null,
            "_view_module_version": "1.2.0",
            "grid_template_areas": null,
            "object_position": null,
            "object_fit": null,
            "grid_auto_columns": null,
            "margin": null,
            "display": null,
            "left": null
          }
        },
        "401b781fad9044e199dc5d7c388a5008": {
          "model_module": "@jupyter-widgets/output",
          "model_name": "OutputModel",
          "state": {
            "_view_name": "OutputView",
            "msg_id": "",
            "_dom_classes": [],
            "_model_name": "OutputModel",
            "outputs": [
              {
                "output_type": "stream",
                "metadata": {
                  "tags": []
                },
                "text": "Video available at https://youtube.com/watch?v=DP9c13vLiOM\n",
                "stream": "stdout"
              },
              {
                "output_type": "display_data",
                "metadata": {
                  "tags": []
                },
                "text/html": "\n        <iframe\n            width=\"854\"\n            height=\"480\"\n            src=\"https://www.youtube.com/embed/DP9c13vLiOM?fs=1&rel=0\"\n            frameborder=\"0\"\n            allowfullscreen\n        ></iframe>\n        ",
                "text/plain": "<IPython.lib.display.YouTubeVideo at 0x7ff42a9ee4d0>",
                "image/jpeg": "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\n"
              }
            ],
            "_view_module": "@jupyter-widgets/output",
            "_model_module_version": "1.0.0",
            "_view_count": null,
            "_view_module_version": "1.0.0",
            "layout": "IPY_MODEL_56d220c85d3b48189eea4a11ac4649a6",
            "_model_module": "@jupyter-widgets/output"
          }
        },
        "785810f54ae14d349f4bf9f59a31d45c": {
          "model_module": "@jupyter-widgets/output",
          "model_name": "OutputModel",
          "state": {
            "_view_name": "OutputView",
            "msg_id": "",
            "_dom_classes": [],
            "_model_name": "OutputModel",
            "outputs": [
              {
                "output_type": "stream",
                "metadata": {
                  "tags": []
                },
                "text": "Video available at https://www.bilibili.com/video/BV1MK4y1u7u2\n",
                "stream": "stdout"
              },
              {
                "output_type": "display_data",
                "metadata": {
                  "tags": []
                },
                "text/html": "\n        <iframe\n            width=\"854\"\n            height=\"480\"\n            src=\"https://player.bilibili.com/player.html?bvid=BV1MK4y1u7u2&page=1?fs=1\"\n            frameborder=\"0\"\n            allowfullscreen\n        ></iframe>\n        ",
                "text/plain": "<__main__.BiliVideo at 0x7ff42a135350>"
              }
            ],
            "_view_module": "@jupyter-widgets/output",
            "_model_module_version": "1.0.0",
            "_view_count": null,
            "_view_module_version": "1.0.0",
            "layout": "IPY_MODEL_6f3dfc23f4fe44a3864e9ceca29bfc86",
            "_model_module": "@jupyter-widgets/output"
          }
        },
        "56d220c85d3b48189eea4a11ac4649a6": {
          "model_module": "@jupyter-widgets/base",
          "model_name": "LayoutModel",
          "state": {
            "_view_name": "LayoutView",
            "grid_template_rows": null,
            "right": null,
            "justify_content": null,
            "_view_module": "@jupyter-widgets/base",
            "overflow": null,
            "_model_module_version": "1.2.0",
            "_view_count": null,
            "flex_flow": null,
            "width": null,
            "min_width": null,
            "border": null,
            "align_items": null,
            "bottom": null,
            "_model_module": "@jupyter-widgets/base",
            "top": null,
            "grid_column": null,
            "overflow_y": null,
            "overflow_x": null,
            "grid_auto_flow": null,
            "grid_area": null,
            "grid_template_columns": null,
            "flex": null,
            "_model_name": "LayoutModel",
            "justify_items": null,
            "grid_row": null,
            "max_height": null,
            "align_content": null,
            "visibility": null,
            "align_self": null,
            "height": null,
            "min_height": null,
            "padding": null,
            "grid_auto_rows": null,
            "grid_gap": null,
            "max_width": null,
            "order": null,
            "_view_module_version": "1.2.0",
            "grid_template_areas": null,
            "object_position": null,
            "object_fit": null,
            "grid_auto_columns": null,
            "margin": null,
            "display": null,
            "left": null
          }
        },
        "6f3dfc23f4fe44a3864e9ceca29bfc86": {
          "model_module": "@jupyter-widgets/base",
          "model_name": "LayoutModel",
          "state": {
            "_view_name": "LayoutView",
            "grid_template_rows": null,
            "right": null,
            "justify_content": null,
            "_view_module": "@jupyter-widgets/base",
            "overflow": null,
            "_model_module_version": "1.2.0",
            "_view_count": null,
            "flex_flow": null,
            "width": null,
            "min_width": null,
            "border": null,
            "align_items": null,
            "bottom": null,
            "_model_module": "@jupyter-widgets/base",
            "top": null,
            "grid_column": null,
            "overflow_y": null,
            "overflow_x": null,
            "grid_auto_flow": null,
            "grid_area": null,
            "grid_template_columns": null,
            "flex": null,
            "_model_name": "LayoutModel",
            "justify_items": null,
            "grid_row": null,
            "max_height": null,
            "align_content": null,
            "visibility": null,
            "align_self": null,
            "height": null,
            "min_height": null,
            "padding": null,
            "grid_auto_rows": null,
            "grid_gap": null,
            "max_width": null,
            "order": null,
            "_view_module_version": "1.2.0",
            "grid_template_areas": null,
            "object_position": null,
            "object_fit": null,
            "grid_auto_columns": null,
            "margin": null,
            "display": null,
            "left": null
          }
        },
        "8903f81413f742b1955122b0369c0220": {
          "model_module": "@jupyter-widgets/controls",
          "model_name": "HBoxModel",
          "state": {
            "_view_name": "HBoxView",
            "_dom_classes": [],
            "_model_name": "HBoxModel",
            "_view_module": "@jupyter-widgets/controls",
            "_model_module_version": "1.5.0",
            "_view_count": null,
            "_view_module_version": "1.5.0",
            "box_style": "",
            "layout": "IPY_MODEL_c83f23bbcf644e2293180f167a81f342",
            "_model_module": "@jupyter-widgets/controls",
            "children": [
              "IPY_MODEL_1caa2dc14986490cbaf95499b0586e6c",
              "IPY_MODEL_b1559ef1badf4b29bdef65a4097bf7db"
            ]
          }
        },
        "c83f23bbcf644e2293180f167a81f342": {
          "model_module": "@jupyter-widgets/base",
          "model_name": "LayoutModel",
          "state": {
            "_view_name": "LayoutView",
            "grid_template_rows": null,
            "right": null,
            "justify_content": null,
            "_view_module": "@jupyter-widgets/base",
            "overflow": null,
            "_model_module_version": "1.2.0",
            "_view_count": null,
            "flex_flow": null,
            "width": null,
            "min_width": null,
            "border": null,
            "align_items": null,
            "bottom": null,
            "_model_module": "@jupyter-widgets/base",
            "top": null,
            "grid_column": null,
            "overflow_y": null,
            "overflow_x": null,
            "grid_auto_flow": null,
            "grid_area": null,
            "grid_template_columns": null,
            "flex": null,
            "_model_name": "LayoutModel",
            "justify_items": null,
            "grid_row": null,
            "max_height": null,
            "align_content": null,
            "visibility": null,
            "align_self": null,
            "height": null,
            "min_height": null,
            "padding": null,
            "grid_auto_rows": null,
            "grid_gap": null,
            "max_width": null,
            "order": null,
            "_view_module_version": "1.2.0",
            "grid_template_areas": null,
            "object_position": null,
            "object_fit": null,
            "grid_auto_columns": null,
            "margin": null,
            "display": null,
            "left": null
          }
        },
        "1caa2dc14986490cbaf95499b0586e6c": {
          "model_module": "@jupyter-widgets/controls",
          "model_name": "FloatProgressModel",
          "state": {
            "_view_name": "ProgressView",
            "style": "IPY_MODEL_c65090f3ebd74fe89a00306d3ec7d0c8",
            "_dom_classes": [],
            "description": "100%",
            "_model_name": "FloatProgressModel",
            "bar_style": "success",
            "max": 5,
            "_view_module": "@jupyter-widgets/controls",
            "_model_module_version": "1.5.0",
            "value": 5,
            "_view_count": null,
            "_view_module_version": "1.5.0",
            "orientation": "horizontal",
            "min": 0,
            "description_tooltip": null,
            "_model_module": "@jupyter-widgets/controls",
            "layout": "IPY_MODEL_8b3a1a3255f24bbf9d45c9d922b63f45"
          }
        },
        "b1559ef1badf4b29bdef65a4097bf7db": {
          "model_module": "@jupyter-widgets/controls",
          "model_name": "HTMLModel",
          "state": {
            "_view_name": "HTMLView",
            "style": "IPY_MODEL_5a0f0cd513e64f769042b30690621165",
            "_dom_classes": [],
            "description": "",
            "_model_name": "HTMLModel",
            "placeholder": "​",
            "_view_module": "@jupyter-widgets/controls",
            "_model_module_version": "1.5.0",
            "value": " 5/5 [00:44&lt;00:00,  8.94s/it]",
            "_view_count": null,
            "_view_module_version": "1.5.0",
            "description_tooltip": null,
            "_model_module": "@jupyter-widgets/controls",
            "layout": "IPY_MODEL_a589d86827da43afa332da7cdbf55bd1"
          }
        },
        "c65090f3ebd74fe89a00306d3ec7d0c8": {
          "model_module": "@jupyter-widgets/controls",
          "model_name": "ProgressStyleModel",
          "state": {
            "_view_name": "StyleView",
            "_model_name": "ProgressStyleModel",
            "description_width": "initial",
            "_view_module": "@jupyter-widgets/base",
            "_model_module_version": "1.5.0",
            "_view_count": null,
            "_view_module_version": "1.2.0",
            "bar_color": null,
            "_model_module": "@jupyter-widgets/controls"
          }
        },
        "8b3a1a3255f24bbf9d45c9d922b63f45": {
          "model_module": "@jupyter-widgets/base",
          "model_name": "LayoutModel",
          "state": {
            "_view_name": "LayoutView",
            "grid_template_rows": null,
            "right": null,
            "justify_content": null,
            "_view_module": "@jupyter-widgets/base",
            "overflow": null,
            "_model_module_version": "1.2.0",
            "_view_count": null,
            "flex_flow": null,
            "width": null,
            "min_width": null,
            "border": null,
            "align_items": null,
            "bottom": null,
            "_model_module": "@jupyter-widgets/base",
            "top": null,
            "grid_column": null,
            "overflow_y": null,
            "overflow_x": null,
            "grid_auto_flow": null,
            "grid_area": null,
            "grid_template_columns": null,
            "flex": null,
            "_model_name": "LayoutModel",
            "justify_items": null,
            "grid_row": null,
            "max_height": null,
            "align_content": null,
            "visibility": null,
            "align_self": null,
            "height": null,
            "min_height": null,
            "padding": null,
            "grid_auto_rows": null,
            "grid_gap": null,
            "max_width": null,
            "order": null,
            "_view_module_version": "1.2.0",
            "grid_template_areas": null,
            "object_position": null,
            "object_fit": null,
            "grid_auto_columns": null,
            "margin": null,
            "display": null,
            "left": null
          }
        },
        "5a0f0cd513e64f769042b30690621165": {
          "model_module": "@jupyter-widgets/controls",
          "model_name": "DescriptionStyleModel",
          "state": {
            "_view_name": "StyleView",
            "_model_name": "DescriptionStyleModel",
            "description_width": "",
            "_view_module": "@jupyter-widgets/base",
            "_model_module_version": "1.5.0",
            "_view_count": null,
            "_view_module_version": "1.2.0",
            "_model_module": "@jupyter-widgets/controls"
          }
        },
        "a589d86827da43afa332da7cdbf55bd1": {
          "model_module": "@jupyter-widgets/base",
          "model_name": "LayoutModel",
          "state": {
            "_view_name": "LayoutView",
            "grid_template_rows": null,
            "right": null,
            "justify_content": null,
            "_view_module": "@jupyter-widgets/base",
            "overflow": null,
            "_model_module_version": "1.2.0",
            "_view_count": null,
            "flex_flow": null,
            "width": null,
            "min_width": null,
            "border": null,
            "align_items": null,
            "bottom": null,
            "_model_module": "@jupyter-widgets/base",
            "top": null,
            "grid_column": null,
            "overflow_y": null,
            "overflow_x": null,
            "grid_auto_flow": null,
            "grid_area": null,
            "grid_template_columns": null,
            "flex": null,
            "_model_name": "LayoutModel",
            "justify_items": null,
            "grid_row": null,
            "max_height": null,
            "align_content": null,
            "visibility": null,
            "align_self": null,
            "height": null,
            "min_height": null,
            "padding": null,
            "grid_auto_rows": null,
            "grid_gap": null,
            "max_width": null,
            "order": null,
            "_view_module_version": "1.2.0",
            "grid_template_areas": null,
            "object_position": null,
            "object_fit": null,
            "grid_auto_columns": null,
            "margin": null,
            "display": null,
            "left": null
          }
        }
      }
    }
  },
  "cells": [
    {
      "cell_type": "markdown",
      "metadata": {
        "id": "view-in-github",
        "colab_type": "text"
      },
      "source": [
        "<a href=\"https://colab.research.google.com/github/sazio/NMA-DL/blob/main/tutorials/W1D4_Optimization/student/W1D4_Tutorial1.ipynb\" target=\"_parent\"><img src=\"https://colab.research.google.com/assets/colab-badge.svg\" alt=\"Open In Colab\"/></a>"
      ]
    },
    {
      "cell_type": "markdown",
      "metadata": {
        "execution": {},
        "id": "8E26zZRVYSup"
      },
      "source": [
        "# Tutorial 1: Optimization techniques\n",
        "**Week 1, Day 4: Optimization**\n",
        "\n",
        "**By Neuromatch Academy**\n",
        "\n",
        "__Content creators:__ Jose Gallego-Posada, Ioannis Mitliagkas\n",
        "\n",
        "__Content reviewers:__ Piyush Chauhan, Vladimir Haltakov, Siwei Bai, Kelson Shilling-Scrivo\n",
        "\n",
        "__Content editors:__ Charles J Edelson, Gagana B, Spiros Chavlis\n",
        "\n",
        "__Production editors:__ Arush Tagade, Spiros Chavlis"
      ]
    },
    {
      "cell_type": "markdown",
      "metadata": {
        "execution": {},
        "id": "am27Zk0nYSuq"
      },
      "source": [
        "**Our 2021 Sponsors, including Presenting Sponsor Facebook Reality Labs**\n",
        "\n",
        "<p align='center'><img src='https://github.com/NeuromatchAcademy/widgets/blob/master/sponsors.png?raw=True'/></p>"
      ]
    },
    {
      "cell_type": "markdown",
      "metadata": {
        "execution": {},
        "id": "0-bVqAFMYSuq"
      },
      "source": [
        "---\n",
        "# Tutorial Objectives\n",
        "\n",
        "Objectives:\n",
        "*   Necessity and importance of optimization\n",
        "*   Introduction to commonly used optimization techniques\n",
        "*   Optimization in non-convex loss landscapes \n",
        "*   'Adaptive' hyperparameter tuning \n",
        "*   Ethical concerns\n",
        "\n"
      ]
    },
    {
      "cell_type": "code",
      "metadata": {
        "cellView": "form",
        "execution": {},
        "colab": {
          "base_uri": "https://localhost:8080/",
          "height": 501
        },
        "id": "HPRfF8N2YSuq",
        "outputId": "54f9c20c-769f-414e-a4db-f1fc751c6d9a"
      },
      "source": [
        "# @title Tutorial slides\n",
        "\n",
        "# @markdown These are the slides for the videos in this tutorial\n",
        "from IPython.display import IFrame\n",
        "IFrame(src=f\"https://mfr.ca-1.osf.io/render?url=https://osf.io/ft2sz/?direct%26mode=render%26action=download%26mode=render\", width=854, height=480)"
      ],
      "execution_count": 2,
      "outputs": [
        {
          "output_type": "execute_result",
          "data": {
            "text/html": [
              "\n",
              "        <iframe\n",
              "            width=\"854\"\n",
              "            height=\"480\"\n",
              "            src=\"https://mfr.ca-1.osf.io/render?url=https://osf.io/ft2sz/?direct%26mode=render%26action=download%26mode=render\"\n",
              "            frameborder=\"0\"\n",
              "            allowfullscreen\n",
              "        ></iframe>\n",
              "        "
            ],
            "text/plain": [
              "<IPython.lib.display.IFrame at 0x7ff490789ad0>"
            ]
          },
          "metadata": {
            "tags": []
          },
          "execution_count": 2
        }
      ]
    },
    {
      "cell_type": "markdown",
      "metadata": {
        "execution": {},
        "id": "GqbG_1bsYSuq"
      },
      "source": [
        "---\n",
        "# Setup"
      ]
    },
    {
      "cell_type": "code",
      "metadata": {
        "cellView": "form",
        "execution": {},
        "colab": {
          "base_uri": "https://localhost:8080/"
        },
        "id": "oq5LMmYqYSur",
        "outputId": "0a7cf662-ba1a-497c-a033-1c0371bae283"
      },
      "source": [
        "# @title Install dependencies\n",
        "!pip install git+https://github.com/NeuromatchAcademy/evaltools --quiet\n",
        "from evaltools.airtable import AirtableForm\n",
        "\n",
        "# generate airtable form\n",
        "atform = AirtableForm('appn7VdPRseSoMXEG','W1D4_T1','https://portal.neuromatchacademy.org/api/redirect/to/9548a279-c9f9-4586-b89c-f0ceceba5c14')"
      ],
      "execution_count": 3,
      "outputs": [
        {
          "output_type": "stream",
          "text": [
            "  Building wheel for evaltools (setup.py) ... \u001b[?25l\u001b[?25hdone\n"
          ],
          "name": "stdout"
        }
      ]
    },
    {
      "cell_type": "code",
      "metadata": {
        "execution": {},
        "id": "_Ln9HDCnYSur"
      },
      "source": [
        "# Imports\n",
        "import time\n",
        "import copy\n",
        "import torch\n",
        "import torchvision\n",
        "\n",
        "import numpy as np\n",
        "import ipywidgets as widgets\n",
        "import matplotlib.pyplot as plt\n",
        "\n",
        "import torch.nn as nn\n",
        "import torch.optim as optim\n",
        "import torch.nn.functional as F\n",
        "import torchvision.datasets as datasets\n",
        "\n",
        "from tqdm.auto import tqdm"
      ],
      "execution_count": 4,
      "outputs": []
    },
    {
      "cell_type": "code",
      "metadata": {
        "cellView": "form",
        "execution": {},
        "id": "74DM8NRlYSur"
      },
      "source": [
        "# @title Figure settings\n",
        "import ipywidgets as widgets       # interactive display\n",
        "%config InlineBackend.figure_format = 'retina'\n",
        "plt.style.use(\"https://raw.githubusercontent.com/NeuromatchAcademy/content-creation/main/nma.mplstyle\")\n",
        "plt.rc('axes', unicode_minus=False)"
      ],
      "execution_count": 5,
      "outputs": []
    },
    {
      "cell_type": "code",
      "metadata": {
        "cellView": "form",
        "execution": {},
        "id": "IG7gkIEyYSur"
      },
      "source": [
        "# @title Helper functions\n",
        "def print_params(model):\n",
        "  for name, param in model.named_parameters():\n",
        "    if param.requires_grad:\n",
        "      print(name, param.data)"
      ],
      "execution_count": 6,
      "outputs": []
    },
    {
      "cell_type": "code",
      "metadata": {
        "cellView": "form",
        "execution": {},
        "id": "LffLFFAhYSur"
      },
      "source": [
        "# @title Set random seed\n",
        "\n",
        "# @markdown Executing `set_seed(seed=seed)` you are setting the seed\n",
        "\n",
        "# for DL its critical to set the random seed so that students can have a\n",
        "# baseline to compare their results to expected results.\n",
        "# Read more here: https://pytorch.org/docs/stable/notes/randomness.html\n",
        "\n",
        "# Call `set_seed` function in the exercises to ensure reproducibility.\n",
        "import random\n",
        "import torch\n",
        "\n",
        "def set_seed(seed=None, seed_torch=True):\n",
        "  if seed is None:\n",
        "    seed = np.random.choice(2 ** 32)\n",
        "  random.seed(seed)\n",
        "  np.random.seed(seed)\n",
        "  if seed_torch:\n",
        "    torch.manual_seed(seed)\n",
        "    torch.cuda.manual_seed_all(seed)\n",
        "    torch.cuda.manual_seed(seed)\n",
        "    torch.backends.cudnn.benchmark = False\n",
        "    torch.backends.cudnn.deterministic = True\n",
        "\n",
        "  print(f'Random seed {seed} has been set.')\n",
        "\n",
        "\n",
        "# In case that `DataLoader` is used\n",
        "def seed_worker(worker_id):\n",
        "  worker_seed = torch.initial_seed() % 2**32\n",
        "  np.random.seed(worker_seed)\n",
        "  random.seed(worker_seed)"
      ],
      "execution_count": 7,
      "outputs": []
    },
    {
      "cell_type": "code",
      "metadata": {
        "cellView": "form",
        "execution": {},
        "id": "rRONUfs2YSur"
      },
      "source": [
        "# @title Set device (GPU or CPU). Execute `set_device()`\n",
        "# especially if torch modules used.\n",
        "\n",
        "# inform the user if the notebook uses GPU or CPU.\n",
        "\n",
        "def set_device():\n",
        "  device = \"cuda\" if torch.cuda.is_available() else \"cpu\"\n",
        "  if device != \"cuda\":\n",
        "    print(\"WARNING: For this notebook to perform best, \"\n",
        "        \"if possible, in the menu under `Runtime` -> \"\n",
        "        \"`Change runtime type.`  select `GPU` \")\n",
        "  else:\n",
        "    print(\"GPU is enabled in this notebook.\")\n",
        "\n",
        "  return device"
      ],
      "execution_count": 8,
      "outputs": []
    },
    {
      "cell_type": "code",
      "metadata": {
        "execution": {},
        "colab": {
          "base_uri": "https://localhost:8080/"
        },
        "id": "Vl81PNlpYSus",
        "outputId": "0394bb61-8f31-4985-c8cd-d35b204a35db"
      },
      "source": [
        "SEED = 2021\n",
        "set_seed(seed=SEED)\n",
        "DEVICE = set_device()"
      ],
      "execution_count": 9,
      "outputs": [
        {
          "output_type": "stream",
          "text": [
            "Random seed 2021 has been set.\n",
            "GPU is enabled in this notebook.\n"
          ],
          "name": "stdout"
        }
      ]
    },
    {
      "cell_type": "markdown",
      "metadata": {
        "execution": {},
        "id": "o5bu3N2QYSus"
      },
      "source": [
        "---\n",
        "# Section 1. Introduction\n",
        "\n",
        "*Time estimate: ~15 mins*"
      ]
    },
    {
      "cell_type": "code",
      "metadata": {
        "cellView": "form",
        "execution": {},
        "colab": {
          "base_uri": "https://localhost:8080/",
          "height": 580,
          "referenced_widgets": [
            "a3012409d7c84b96b9809e2bab57906f",
            "e9d6bde3e07243118482cdb7f288d159",
            "49260ab02e5941bb9a54fe3dc087c69e",
            "12a78b87c0144c79b6d1ef4f1faa4f29",
            "354f93601567418da1c5322a5ee721c7",
            "23312c5320f44880a70a1904daa35044"
          ]
        },
        "id": "AYSfk1AzYSus",
        "outputId": "6cc8ed4c-c7c8-45ec-9acc-7529dff55db6"
      },
      "source": [
        "# @title Video 1: Introduction\n",
        "from ipywidgets import widgets\n",
        "\n",
        "out2 = widgets.Output()\n",
        "with out2:\n",
        "  from IPython.display import IFrame\n",
        "  class BiliVideo(IFrame):\n",
        "    def __init__(self, id, page=1, width=400, height=300, **kwargs):\n",
        "      self.id=id\n",
        "      src = \"https://player.bilibili.com/player.html?bvid={0}&page={1}\".format(id, page)\n",
        "      super(BiliVideo, self).__init__(src, width, height, **kwargs)\n",
        "\n",
        "  video = BiliVideo(id=f\"BV1VB4y1K7Vr\", width=854, height=480, fs=1)\n",
        "  print(\"Video available at https://www.bilibili.com/video/{0}\".format(video.id))\n",
        "  display(video)\n",
        "\n",
        "out1 = widgets.Output()\n",
        "with out1:\n",
        "  from IPython.display import YouTubeVideo\n",
        "  video = YouTubeVideo(id=f\"zm9oekdkJbQ\", width=854, height=480, fs=1, rel=0)\n",
        "  print(\"Video available at https://youtube.com/watch?v=\" + video.id)\n",
        "  display(video)\n",
        "\n",
        "out = widgets.Tab([out1, out2])\n",
        "out.set_title(0, 'Youtube')\n",
        "out.set_title(1, 'Bilibili')\n",
        "\n",
        "# add event to airtable\n",
        "atform.add_event('Video 1: Introduction')\n",
        "\n",
        "display(out)"
      ],
      "execution_count": 10,
      "outputs": [
        {
          "output_type": "display_data",
          "data": {
            "application/vnd.jupyter.widget-view+json": {
              "model_id": "a3012409d7c84b96b9809e2bab57906f",
              "version_minor": 0,
              "version_major": 2
            },
            "text/plain": [
              "Tab(children=(Output(), Output()), _titles={'0': 'Youtube', '1': 'Bilibili'})"
            ]
          },
          "metadata": {
            "tags": []
          }
        }
      ]
    },
    {
      "cell_type": "markdown",
      "metadata": {
        "execution": {},
        "id": "3s2H0V5qYSus"
      },
      "source": [
        "## Discuss: Unexpected consequences\n",
        "\n",
        "Can you think of examples from your own experience/life where poorly chosen incentives or objectives have lead to unexpected consequences?"
      ]
    },
    {
      "cell_type": "markdown",
      "metadata": {
        "execution": {},
        "id": "imQQoZNRYSus"
      },
      "source": [
        "[*Click for solution*](https://github.com/NeuromatchAcademy/course-content-dl/tree/main//tutorials/W1D4_Optimization/solutions/W1D4_Tutorial1_Solution_b8bbba6f.py)\n",
        "\n"
      ]
    },
    {
      "cell_type": "markdown",
      "metadata": {
        "execution": {},
        "id": "m0APeWYNYSus"
      },
      "source": [
        "---\n",
        "# Section 2: Case study: successfully training an MLP for image classification\n",
        "\n",
        "*Time estimate: ~40 mins*"
      ]
    },
    {
      "cell_type": "markdown",
      "metadata": {
        "execution": {},
        "id": "RiknC4i5YSus"
      },
      "source": [
        "Many of the core ideas (and tricks) in modern optimization for deep learning can be illustrated in the simple setting of training an MLP to solve an image classification task. In this tutorial we will guide you through the key challenges that arise when optimizing high-dimensional, non-convex$^\\dagger$ problems. We will use these challenges to motivate and explain some commonly used solutions.\n",
        "\n",
        "**Disclaimer:** Some of the functions you will code in this tutorial are already implemented in Pytorch and many other libraries. For pedagogical reasons, we decided to bring these simple coding tasks into the spotlight and place a relatively higher emphasis in your understanding of the algorithms, rather than the use of a specific library. \n",
        "\n",
        "In 'day-to-day' research projects you will likely to rely on the community-vetted, optimized libraries rather than the 'manual implementations' you will write today. In Section 8 you will have a chance to 'put it all together' and use the full power of Pytorch to tune the parameters of an MLP to classify handwritten digits."
      ]
    },
    {
      "cell_type": "markdown",
      "metadata": {
        "execution": {},
        "id": "5ORMBe7pYSut"
      },
      "source": [
        "$^\\dagger$: A **convex** function has one, global minimum - a nice property, as an optimization algorithm won't get stuck in a local minimum that isn't a global one (e.g., $f(x)=x^2 + 2x + 1$). A **non-convex** function is wavy - has some 'valleys' (local minima) that aren't as deep as the overall deepest 'valley' (global minimum). Thus, the optimization algorithms can get stuck in the local minimum, and it can be hard to tell when this happens (e.g., $f(x) = x^4 + x^3 - 2x^2 - 2x$). See also **Section 5** for more details."
      ]
    },
    {
      "cell_type": "code",
      "metadata": {
        "cellView": "form",
        "execution": {},
        "colab": {
          "base_uri": "https://localhost:8080/",
          "height": 580,
          "referenced_widgets": [
            "5c99c9b053034ff8b49df77966c78f75",
            "b42f5ec103a044aeb5078b0f06edc167",
            "b74c75a36e3e4829b41e3ecf3fbc7321",
            "728adc4d5530401399789d50fb33632a",
            "4981d3e4045d4f84b4ec0fbd0054b924",
            "ae5b732a2a654f868b49167f7b6e0cdf"
          ]
        },
        "id": "e-OnZTviYSut",
        "outputId": "9aa4d0a9-e6a1-4bca-bce5-585e12771f4b"
      },
      "source": [
        "# @title Video 2: Case Study - MLP Classification\n",
        "from ipywidgets import widgets\n",
        "\n",
        "out2 = widgets.Output()\n",
        "with out2:\n",
        "  from IPython.display import IFrame\n",
        "  class BiliVideo(IFrame):\n",
        "    def __init__(self, id, page=1, width=400, height=300, **kwargs):\n",
        "      self.id=id\n",
        "      src = \"https://player.bilibili.com/player.html?bvid={0}&page={1}\".format(id, page)\n",
        "      super(BiliVideo, self).__init__(src, width, height, **kwargs)\n",
        "\n",
        "  video = BiliVideo(id=f\"BV1GB4y1K7Ha\", width=854, height=480, fs=1)\n",
        "  print(\"Video available at https://www.bilibili.com/video/{0}\".format(video.id))\n",
        "  display(video)\n",
        "\n",
        "out1 = widgets.Output()\n",
        "with out1:\n",
        "  from IPython.display import YouTubeVideo\n",
        "  video = YouTubeVideo(id=f\"pJc2ENhYbqA\", width=854, height=480, fs=1, rel=0)\n",
        "  print(\"Video available at https://youtube.com/watch?v=\" + video.id)\n",
        "  display(video)\n",
        "\n",
        "out = widgets.Tab([out1, out2])\n",
        "out.set_title(0, 'Youtube')\n",
        "out.set_title(1, 'Bilibili')\n",
        "\n",
        "# add event to airtable\n",
        "atform.add_event('Video 2: Case Study - MLP Classification')\n",
        "\n",
        "display(out)"
      ],
      "execution_count": 11,
      "outputs": [
        {
          "output_type": "display_data",
          "data": {
            "application/vnd.jupyter.widget-view+json": {
              "model_id": "5c99c9b053034ff8b49df77966c78f75",
              "version_minor": 0,
              "version_major": 2
            },
            "text/plain": [
              "Tab(children=(Output(), Output()), _titles={'0': 'Youtube', '1': 'Bilibili'})"
            ]
          },
          "metadata": {
            "tags": []
          }
        }
      ]
    },
    {
      "cell_type": "markdown",
      "metadata": {
        "execution": {},
        "id": "TJUtmVXeYSut"
      },
      "source": [
        "## Section 2.1: Data\n",
        "\n",
        "We will use the MNIST dataset of handwritten digits. We load the data via the Pytorch `datasets` module, as you learned in W1D1.\n",
        "\n",
        "**Note:** Although we can download the MNIST dataset directly from `datasets` using the optional argument `download=True`, we are going to download them from NMA directory on OSF to ensure network reliability.\n"
      ]
    },
    {
      "cell_type": "code",
      "metadata": {
        "cellView": "form",
        "execution": {},
        "colab": {
          "base_uri": "https://localhost:8080/"
        },
        "id": "bGINdWpdYSut",
        "outputId": "26a1b522-0e62-4ca4-c4e4-7a6d1c547de4"
      },
      "source": [
        "# @title Download MNIST dataset\n",
        "import tarfile, requests, os\n",
        "\n",
        "fname = 'MNIST.tar.gz'\n",
        "name = 'MNIST'\n",
        "url = 'https://osf.io/y2fj6/download'\n",
        "\n",
        "if not os.path.exists(name):\n",
        "  print('\\nDownloading MNIST dataset...')\n",
        "  r = requests.get(url, allow_redirects=True)\n",
        "  with open(fname, 'wb') as fh:\n",
        "    fh.write(r.content)\n",
        "  print('\\nDownloading MNIST completed.')\n",
        "\n",
        "if not os.path.exists(name):\n",
        "  with tarfile.open(fname) as tar:\n",
        "    tar.extractall()\n",
        "    os.remove(fname)\n",
        "else:\n",
        "  print('MNIST dataset has been dowloaded.')"
      ],
      "execution_count": 12,
      "outputs": [
        {
          "output_type": "stream",
          "text": [
            "\n",
            "Downloading MNIST dataset...\n",
            "\n",
            "Downloading MNIST completed.\n"
          ],
          "name": "stdout"
        }
      ]
    },
    {
      "cell_type": "code",
      "metadata": {
        "execution": {},
        "id": "CE2utaZnYSut"
      },
      "source": [
        "def load_mnist_data(change_tensors=False, download=False):\n",
        "  \"\"\"Load training and test examples for the MNIST digits dataset\n",
        "\n",
        "  Returns:\n",
        "    train_data (tensor): training input tensor of size (train_size x 784)\n",
        "    train_target (tensor): training 0-9 integer label tensor of size (train_size)\n",
        "    test_data (tensor): test input tensor of size (70k-train_size x 784)\n",
        "    test_target (tensor): training 0-9 integer label tensor of size (70k-train_size)\n",
        "\n",
        "  \"\"\"\n",
        "  # Load train and test sets\n",
        "  train_set = datasets.MNIST(root='.', train=True, download=download,\n",
        "                             transform=torchvision.transforms.ToTensor())\n",
        "  test_set = datasets.MNIST(root='.', train=False, download=download,\n",
        "                            transform=torchvision.transforms.ToTensor())\n",
        "\n",
        "  # Original data is in range [0, 255]. We normalize the data wrt its mean and std_dev.\n",
        "  ## Note that we only used *training set* information to compute mean and std\n",
        "  mean = train_set.data.float().mean()\n",
        "  std = train_set.data.float().std()\n",
        "\n",
        "  if change_tensors:\n",
        "    # Apply normalization directly to the tensors containing the dataset\n",
        "    train_set.data = (train_set.data.float() - mean) / std\n",
        "    test_set.data = (test_set.data.float() - mean) / std\n",
        "  else:\n",
        "    tform = torchvision.transforms.Compose([torchvision.transforms.ToTensor(),\n",
        "                                            torchvision.transforms.Normalize(mean=[mean / 255.], std=[std / 255.])\n",
        "                                            ])\n",
        "    train_set = datasets.MNIST(root='.', train=True, download=download,\n",
        "                               transform=tform)\n",
        "    test_set = datasets.MNIST(root='.', train=False, download=download,\n",
        "                              transform=tform)\n",
        "\n",
        "  return train_set, test_set\n",
        "\n",
        "\n",
        "train_set, test_set = load_mnist_data(change_tensors=True)"
      ],
      "execution_count": 13,
      "outputs": []
    },
    {
      "cell_type": "markdown",
      "metadata": {
        "execution": {},
        "id": "Blw4beiHYSut"
      },
      "source": [
        "As we are just getting started, we will concentrate on a small subset of only 500 examples out of the 60.000 data points contained in the whole training set.\n",
        "\n"
      ]
    },
    {
      "cell_type": "code",
      "metadata": {
        "execution": {},
        "id": "CRFn9hgFYSuu"
      },
      "source": [
        "# Sample a random subset of 500 indices\n",
        "subset_index = np.random.choice(len(train_set.data), 500)\n",
        "\n",
        "# We will use these symbols to represent the training data and labels, to stay\n",
        "# as close to the mathematical expressions as possible.\n",
        "X, y = train_set.data[subset_index, :], train_set.targets[subset_index]"
      ],
      "execution_count": 14,
      "outputs": []
    },
    {
      "cell_type": "markdown",
      "metadata": {
        "execution": {},
        "id": "H3IvZtdLYSuu"
      },
      "source": [
        "Run the following cell to visualize the content of three examples in our training set. Note how the pre-processing we applied to the data changes the range of pixel values after normalization.\n"
      ]
    },
    {
      "cell_type": "code",
      "metadata": {
        "cellView": "form",
        "execution": {},
        "colab": {
          "base_uri": "https://localhost:8080/",
          "height": 374
        },
        "id": "jJ3ljx4cYSuu",
        "outputId": "27a5b98c-aae0-46be-9e24-9137dca14524"
      },
      "source": [
        "# @title Run me!\n",
        "num_figures = 3\n",
        "fig, axs = plt.subplots(1, num_figures, figsize=(5 * num_figures, 5))\n",
        "\n",
        "for sample_id, ax in enumerate(axs):\n",
        "  # Plot the pixel values for each image\n",
        "  ax.matshow(X[sample_id, :], cmap='gray_r')\n",
        "  # 'Write' the pixel value in the corresponding location\n",
        "  for (i, j), z in np.ndenumerate(X[sample_id, :]):\n",
        "    text = '{:.1f}'.format(z)\n",
        "    ax.text(j, i, text, ha='center',\n",
        "            va='center', fontsize=6, c='steelblue')\n",
        "\n",
        "  ax.set_title('Label: ' + str(y[sample_id].item()))\n",
        "  ax.axis('off')\n",
        "\n",
        "plt.show()"
      ],
      "execution_count": 15,
      "outputs": [
        {
          "output_type": "display_data",
          "data": {
            "image/png": "[encoded data removed]",
            "text/plain": [
              "<Figure size 1080x360 with 3 Axes>"
            ]
          },
          "metadata": {
            "tags": [],
            "image/png": {
              "width": 1032,
              "height": 357
            },
            "needs_background": "light"
          }
        }
      ]
    },
    {
      "cell_type": "markdown",
      "metadata": {
        "execution": {},
        "id": "nb4PIO3bYSuu"
      },
      "source": [
        "## Section 2.2: Model\n",
        "\n",
        "As you will see next week, there are specific model architectures that are better suited to image-like data, such as Convolutional Neural Networks (CNNs). For simplicity, in this tutorial we will focus exclusively on Multi-Layer Perceptron (MLP) models as they allow us to highlight many important optimization challenges shared with more advanced neural network designs."
      ]
    },
    {
      "cell_type": "code",
      "metadata": {
        "execution": {},
        "id": "0pkQxGznYSuu"
      },
      "source": [
        "class MLP(nn.Module):\n",
        "  \"\"\" This class implements MLPs in Pytorch of an arbitrary number of hidden\n",
        "  layers of potentially different sizes. Since we concentrate on classification\n",
        "  tasks in this tutorial, we have a log_softmax layer at prediction time.\n",
        "  \"\"\"\n",
        "\n",
        "  def __init__(self, in_dim=784, out_dim=10, hidden_dims=[], use_bias=True):\n",
        "    \"\"\"Constructs a MultiLayerPerceptron\n",
        "\n",
        "    Args:\n",
        "        in_dim (int): dimensionality of input data\n",
        "        out_dim (int): number of classes\n",
        "        hidden_dims (list): contains the dimensions of the hidden layers, an empty\n",
        "            list corresponds to a linear model (in_dim, out_dim)\n",
        "    \"\"\"\n",
        "\n",
        "    super(MLP, self).__init__()\n",
        "\n",
        "    self.in_dim = in_dim\n",
        "    self.out_dim = out_dim\n",
        "\n",
        "    # If we have no hidden layer, just initialize a linear model (e.g. in logistic regression)\n",
        "    if len(hidden_dims) == 0:\n",
        "      layers = [nn.Linear(in_dim, out_dim, bias=use_bias)]\n",
        "    else:\n",
        "      # 'Actual' MLP with dimensions in_dim - num_hidden_layers*[hidden_dim] - out_dim\n",
        "      layers = [nn.Linear(in_dim, hidden_dims[0], bias=use_bias), nn.ReLU()]\n",
        "\n",
        "      # Loop until before the last layer\n",
        "      for i, hidden_dim in enumerate(hidden_dims[:-1]):\n",
        "        layers += [nn.Linear(hidden_dim, hidden_dims[i + 1], bias=use_bias),\n",
        "                   nn.ReLU()]\n",
        "\n",
        "      # Add final layer to the number of classes\n",
        "      layers += [nn.Linear(hidden_dims[-1], out_dim, bias=use_bias)]\n",
        "\n",
        "    self.main = nn.Sequential(*layers)\n",
        "\n",
        "  def forward(self, x):\n",
        "    # Flatten the images into 'vectors'\n",
        "    transformed_x = x.view(-1, self.in_dim)\n",
        "    hidden_output = self.main(transformed_x)\n",
        "    output = F.log_softmax(hidden_output, dim=1)\n",
        "    return output"
      ],
      "execution_count": 16,
      "outputs": []
    },
    {
      "cell_type": "markdown",
      "metadata": {
        "execution": {},
        "id": "NH6c61LzYSuu"
      },
      "source": [
        "Linear models constitute a very special kind of MLPs: they are equivalent to an MLP with *zero* hidden layers. This is simply an affine transformation, in other words a 'linear' map $W x$ with an 'offset' $b$; followed by a softmax function.\n",
        "\n",
        "$$f(x) = \\text{softmax}(W x + b)$$\n",
        "\n",
        "Here $x \\in \\mathbb{R}^{784}$, $W \\in \\mathbb{R}^{10 \\times 784}$ and $b \\in \\mathbb{R}^{10}$. Notice that the dimensions of the weight matrix are $10 \\times 784$ as the input tensors are flattened images, i.e., $28 \\times 28 = 784$-dimensional tensors and the output layer consists of $10$ nodes."
      ]
    },
    {
      "cell_type": "code",
      "metadata": {
        "execution": {},
        "colab": {
          "base_uri": "https://localhost:8080/"
        },
        "id": "lry2H_QSYSuu",
        "outputId": "27acc6c3-3c1e-48c3-9b60-06ccba031e35"
      },
      "source": [
        "# Empty hidden_dims means we take a model with zero hidden layers.\n",
        "model = MLP(in_dim=784, out_dim=10, hidden_dims=[])\n",
        "\n",
        "# We print the model structure with 784 inputs and 10 outputs\n",
        "print(model)"
      ],
      "execution_count": 17,
      "outputs": [
        {
          "output_type": "stream",
          "text": [
            "MLP(\n",
            "  (main): Sequential(\n",
            "    (0): Linear(in_features=784, out_features=10, bias=True)\n",
            "  )\n",
            ")\n"
          ],
          "name": "stdout"
        }
      ]
    },
    {
      "cell_type": "markdown",
      "metadata": {
        "execution": {},
        "id": "9PdqiXEvYSuu"
      },
      "source": [
        "## Section 2.3: Loss\n",
        "\n",
        "While we care about the accuracy of the model, the 'discrete' nature of the 0-1 loss makes it challenging to optimize. In order to learn good parameters for this model, we will use the cross entropy loss (negative log-likelihood), which you saw in last lecture, as a surrogate objective to be minimized. \n",
        "\n",
        "This particular choice of model and optimization objective leads to a *convex* optimization problem with respect to the parameters $W$ and $b$. "
      ]
    },
    {
      "cell_type": "code",
      "metadata": {
        "execution": {},
        "id": "H3PBVoT1YSuu"
      },
      "source": [
        "loss_fn = F.nll_loss"
      ],
      "execution_count": 18,
      "outputs": []
    },
    {
      "cell_type": "markdown",
      "metadata": {
        "execution": {},
        "id": "EpC1RvsQYSuu"
      },
      "source": [
        "## Section 2.4: Interpretability"
      ]
    },
    {
      "cell_type": "markdown",
      "metadata": {
        "execution": {},
        "id": "6r2zR7PhYSuu"
      },
      "source": [
        "In last lecture, you saw that inspecting the weights of a model can provide insights on what 'concepts' the model has learned. Here we show the weights of a partially trained model. The weights corresponding to each class 'learn' to _fire_ when an input of the class is detected.\n"
      ]
    },
    {
      "cell_type": "code",
      "metadata": {
        "execution": {},
        "id": "lFdW0ZUlYSuu"
      },
      "source": [
        "#@markdown Run _this cell_ to train the model. If you are curious about how the training\n",
        "#@markdown takes place, double-click this cell to find out. At the end of this tutorial\n",
        "#@markdown you will have the opportunity to train a more complex model on your own.\n",
        "\n",
        "cell_verbose = False\n",
        "partial_trained_model = MLP(in_dim=784, out_dim=10, hidden_dims=[])\n",
        "\n",
        "if cell_verbose:\n",
        "  print('Init loss', loss_fn(partial_trained_model(X), y).item()) # This matches around np.log(10 = # of classes)\n",
        "\n",
        "optimizer = optim.Adam(partial_trained_model.parameters(), lr=7e-4)\n",
        "for _ in range(200):\n",
        "  loss = loss_fn(partial_trained_model(X), y)\n",
        "  optimizer.zero_grad()\n",
        "  loss.backward()\n",
        "  optimizer.step()\n",
        "\n",
        "if cell_verbose:\n",
        "  print('End loss', loss_fn(partial_trained_model(X), y).item()) # This should be less than 1e-2"
      ],
      "execution_count": 19,
      "outputs": []
    },
    {
      "cell_type": "code",
      "metadata": {
        "execution": {},
        "colab": {
          "base_uri": "https://localhost:8080/",
          "height": 141
        },
        "id": "rFZHz76gYSuv",
        "outputId": "ba45e4c5-1356-41d8-d37a-32b70e93d4e0"
      },
      "source": [
        "# Show class filters of a trained model\n",
        "W = partial_trained_model.main[0].weight.data.numpy()\n",
        "\n",
        "fig, axs = plt.subplots(1, 10, figsize=(15, 4))\n",
        "for class_id in range(10):\n",
        "  axs[class_id].imshow(W[class_id, :].reshape(28, 28), cmap='gray_r')\n",
        "  axs[class_id].axis('off')\n",
        "  axs[class_id].set_title('Class ' + str(class_id) )\n",
        "\n",
        "plt.show()"
      ],
      "execution_count": 20,
      "outputs": [
        {
          "output_type": "display_data",
          "data": {
            "image/png": "[encoded data removed]",
            "text/plain": [
              "<Figure size 1080x288 with 10 Axes>"
            ]
          },
          "metadata": {
            "tags": [],
            "image/png": {
              "width": 1062,
              "height": 124
            },
            "needs_background": "light"
          }
        }
      ]
    },
    {
      "cell_type": "markdown",
      "metadata": {
        "execution": {},
        "id": "awgMYkQXYSuv"
      },
      "source": [
        "---\n",
        "# Section 3: High dimensional search\n",
        "\n",
        "*Time estimate: ~25 mins*"
      ]
    },
    {
      "cell_type": "markdown",
      "metadata": {
        "execution": {},
        "id": "xvqcyMYMYSuv"
      },
      "source": [
        "We now have a model with its corresponding trainable parameters as well as an objective to optimize. Where do we go to next? How do we find a 'good' configuration of parameters?\n",
        "\n",
        "One idea is to choose a random direction and move only if the objective is reduced. However, this is inefficient in high dimensions and you will see how gradient descent (with a suitable step-size) can guarantee consistent improvement in terms of the objective function."
      ]
    },
    {
      "cell_type": "code",
      "metadata": {
        "cellView": "form",
        "execution": {},
        "colab": {
          "base_uri": "https://localhost:8080/",
          "height": 580,
          "referenced_widgets": [
            "273b99b291254282ac1ff6c66cbb8771",
            "7412c85269134ac1a51547047d833d21",
            "38391f6971054a048c246b92e45a4fef",
            "2e58a1902db64bd3b80e1e6fe8403e40",
            "8f2616e156524fdcabda217e5bfa881f",
            "bdca42ffe1084407b06d65a387550224"
          ]
        },
        "id": "7FoSpd2RYSuv",
        "outputId": "b7106209-d6e2-469e-fc2a-b77eaa489d4a"
      },
      "source": [
        "# @title Video 3: Optimization of an Objective Function\n",
        "from ipywidgets import widgets\n",
        "\n",
        "out2 = widgets.Output()\n",
        "with out2:\n",
        "  from IPython.display import IFrame\n",
        "  class BiliVideo(IFrame):\n",
        "    def __init__(self, id, page=1, width=400, height=300, **kwargs):\n",
        "      self.id=id\n",
        "      src = \"https://player.bilibili.com/player.html?bvid={0}&page={1}\".format(id, page)\n",
        "      super(BiliVideo, self).__init__(src, width, height, **kwargs)\n",
        "\n",
        "  video = BiliVideo(id=f\"BV1aL411H7Ce\", width=854, height=480, fs=1)\n",
        "  print(\"Video available at https://www.bilibili.com/video/{0}\".format(video.id))\n",
        "  display(video)\n",
        "\n",
        "out1 = widgets.Output()\n",
        "with out1:\n",
        "  from IPython.display import YouTubeVideo\n",
        "  video = YouTubeVideo(id=f\"aSJTRdjRvvw\", width=854, height=480, fs=1, rel=0)\n",
        "  print(\"Video available at https://youtube.com/watch?v=\" + video.id)\n",
        "  display(video)\n",
        "\n",
        "out = widgets.Tab([out1, out2])\n",
        "out.set_title(0, 'Youtube')\n",
        "out.set_title(1, 'Bilibili')\n",
        "\n",
        "# add event to airtable\n",
        "atform.add_event('Video 3: Optimization of an Objective Function')\n",
        "\n",
        "display(out)"
      ],
      "execution_count": 21,
      "outputs": [
        {
          "output_type": "display_data",
          "data": {
            "application/vnd.jupyter.widget-view+json": {
              "model_id": "273b99b291254282ac1ff6c66cbb8771",
              "version_minor": 0,
              "version_major": 2
            },
            "text/plain": [
              "Tab(children=(Output(), Output()), _titles={'0': 'Youtube', '1': 'Bilibili'})"
            ]
          },
          "metadata": {
            "tags": []
          }
        }
      ]
    },
    {
      "cell_type": "markdown",
      "metadata": {
        "execution": {},
        "id": "1aD9RsjYYSuv"
      },
      "source": [
        "## Coding Exercise 3: Implement gradient descent\n",
        "\n",
        "In this exercise you will use PyTorch automatic differentiation capabilities to compute the gradient of the loss with respect to the parameters of the model. You will then use these gradients to implement the update performed by the gradient descent method.  "
      ]
    },
    {
      "cell_type": "code",
      "metadata": {
        "execution": {},
        "id": "yr_5YhJkYSuv"
      },
      "source": [
        "def zero_grad(params):\n",
        "  \"\"\"Clear up gradients as Pytorch automatically accumulates gradients from\n",
        "  successive backward calls\n",
        "  \"\"\"\n",
        "  for par in params:\n",
        "    if not(par.grad is None):\n",
        "      par.grad.data.zero_()\n",
        "\n",
        "\n",
        "def random_update(model, noise_scale=0.1, normalized=False):\n",
        "  \"\"\" Performs a random update on the parameters of the model\n",
        "  \"\"\"\n",
        "  for par in model.parameters():\n",
        "    noise = torch.randn_like(par)\n",
        "    if normalized:\n",
        "      noise /= torch.norm(noise)\n",
        "    par.data +=  noise_scale * noise"
      ],
      "execution_count": 22,
      "outputs": []
    },
    {
      "cell_type": "code",
      "metadata": {
        "execution": {},
        "colab": {
          "base_uri": "https://localhost:8080/"
        },
        "id": "6axxAmZ5YSuv",
        "outputId": "be5b01f0-b287-4cf6-c54b-40ea1885c59d"
      },
      "source": [
        "def gradient_update(loss, params, lr=1e-3):\n",
        "  \"\"\"Perform a gradient descent update on a given loss over a collection of parameters\n",
        "\n",
        "  Args:\n",
        "    loss (tensor): A scalar tensor containing the loss whose gradient will be computed\n",
        "    params (iterable): Collection of parameters with respect to which we compute gradients\n",
        "    lr (float): Scalar specifying the learning rate or step-size for the update\n",
        "  \"\"\"\n",
        "  # Clear up gradients as Pytorch automatically accumulates gradients from\n",
        "  # successive backward calls\n",
        "  zero_grad(params)\n",
        "\n",
        "  # Compute gradients on given objective\n",
        "  loss.backward()\n",
        "\n",
        "  with torch.no_grad():\n",
        "    for par in params:\n",
        "      #################################################\n",
        "      ## TODO for students: update the value of the parameter ##\n",
        "      #raise NotImplementedError(\"Student exercise: implement gradient update\")\n",
        "      #################################################\n",
        "      # Here we work with the 'data' attribute of the parameter rather than the\n",
        "      # parameter itself.\n",
        "      par.data -= lr*par.grad.data\n",
        "\n",
        "\n",
        "# add event to airtable\n",
        "atform.add_event('Coding Exercise 3: Implement gradient descent')\n",
        "\n",
        "\n",
        "set_seed(seed=SEED)\n",
        "model1 = MLP(in_dim=784, out_dim=10, hidden_dims=[])\n",
        "print('\\n The model1 parameters before the update are: \\n')\n",
        "print_params(model1)\n",
        "loss = loss_fn(model1(X), y)\n",
        "\n",
        "## Uncomment below to test your function\n",
        "gradient_update(loss, list(model1.parameters()), lr=1e-1)\n",
        "print('\\n The model1 parameters after the update are: \\n')\n",
        "print_params(model1)"
      ],
      "execution_count": 23,
      "outputs": [
        {
          "output_type": "stream",
          "text": [
            "Random seed 2021 has been set.\n",
            "\n",
            " The model1 parameters before the update are: \n",
            "\n",
            "main.0.weight tensor([[-0.0264,  0.0010,  0.0173,  ...,  0.0297,  0.0278, -0.0221],\n",
            "        [-0.0040, -0.0295, -0.0086,  ..., -0.0070,  0.0254, -0.0233],\n",
            "        [ 0.0240, -0.0231,  0.0342,  ...,  0.0124,  0.0270, -0.0180],\n",
            "        ...,\n",
            "        [-0.0005,  0.0157,  0.0111,  ...,  0.0144, -0.0301, -0.0144],\n",
            "        [ 0.0181,  0.0303,  0.0255,  ..., -0.0110, -0.0175,  0.0205],\n",
            "        [ 0.0208, -0.0353, -0.0183,  ..., -0.0271,  0.0099,  0.0003]])\n",
            "main.0.bias tensor([-0.0290, -0.0033,  0.0100, -0.0320,  0.0022,  0.0221,  0.0307,  0.0243,\n",
            "         0.0159, -0.0064])\n",
            "\n",
            " The model1 parameters after the update are: \n",
            "\n",
            "main.0.weight tensor([[-0.0263,  0.0010,  0.0174,  ...,  0.0298,  0.0278, -0.0220],\n",
            "        [-0.0047, -0.0302, -0.0093,  ..., -0.0077,  0.0248, -0.0240],\n",
            "        [ 0.0234, -0.0237,  0.0335,  ...,  0.0117,  0.0263, -0.0187],\n",
            "        ...,\n",
            "        [-0.0006,  0.0156,  0.0110,  ...,  0.0143, -0.0302, -0.0145],\n",
            "        [ 0.0164,  0.0286,  0.0238,  ..., -0.0127, -0.0191,  0.0188],\n",
            "        [ 0.0206, -0.0354, -0.0184,  ..., -0.0272,  0.0098,  0.0002]])\n",
            "main.0.bias tensor([-0.0292, -0.0018,  0.0115, -0.0370,  0.0054,  0.0155,  0.0317,  0.0246,\n",
            "         0.0198, -0.0061])\n"
          ],
          "name": "stdout"
        }
      ]
    },
    {
      "cell_type": "markdown",
      "metadata": {
        "execution": {},
        "id": "kq-4QQECYSuv"
      },
      "source": [
        "[*Click for solution*](https://github.com/NeuromatchAcademy/course-content-dl/tree/main//tutorials/W1D4_Optimization/solutions/W1D4_Tutorial1_Solution_1c2b3d1a.py)\n",
        "\n"
      ]
    },
    {
      "cell_type": "markdown",
      "metadata": {
        "execution": {},
        "id": "Pw_26MuWYSuv"
      },
      "source": [
        "```\n",
        " The model1 parameters after the update are: \n",
        "\n",
        "main.0.weight tensor([[-0.0263,  0.0010,  0.0174,  ...,  0.0298,  0.0278, -0.0220],\n",
        "        [-0.0047, -0.0302, -0.0093,  ..., -0.0077,  0.0248, -0.0240],\n",
        "        [ 0.0234, -0.0237,  0.0335,  ...,  0.0117,  0.0263, -0.0187],\n",
        "        ...,\n",
        "        [-0.0006,  0.0156,  0.0110,  ...,  0.0143, -0.0302, -0.0145],\n",
        "        [ 0.0164,  0.0286,  0.0238,  ..., -0.0127, -0.0191,  0.0188],\n",
        "        [ 0.0206, -0.0354, -0.0184,  ..., -0.0272,  0.0098,  0.0002]])\n",
        "main.0.bias tensor([-0.0292, -0.0018,  0.0115, -0.0370,  0.0054,  0.0155,  0.0317,  0.0246,\n",
        "         0.0198, -0.0061])\n",
        "```"
      ]
    },
    {
      "cell_type": "markdown",
      "metadata": {
        "execution": {},
        "id": "8tcXspAbYSuv"
      },
      "source": [
        "## Comparing updates\n",
        "\n",
        "These plots compare the effectiveness of updating random directions for the problem of optimizing the parameters of a high-dimensional linear model. We contrast the behavior at initialization and during an intermediate stage of training by showing the histograms of change in loss over 100 different random directions vs the changed in loss induced by the gradient descent update\n",
        "\n",
        "**Remember:** since we are trying to minimize, here negative is better!\n"
      ]
    },
    {
      "cell_type": "code",
      "metadata": {
        "cellView": "form",
        "execution": {},
        "colab": {
          "base_uri": "https://localhost:8080/",
          "height": 311
        },
        "id": "fLO6gH1NYSuv",
        "outputId": "340b426b-e01c-46d2-f6fd-5e949deaaca2"
      },
      "source": [
        "# @markdown _Run this cell_ to visualize the results\n",
        "fig, axs = plt.subplots(1, 2, figsize=(10, 4))\n",
        "\n",
        "for id, (model_name, my_model) in enumerate([('Initialization', model),\n",
        "                                              ('Partially trained', partial_trained_model)]):\n",
        "  # Compue the loss we will be comparing to\n",
        "  base_loss = loss_fn(my_model(X), y)\n",
        "\n",
        "  # Compute the improvement via gradient descent\n",
        "  dummy_model = copy.deepcopy(my_model)\n",
        "  loss1 = loss_fn(dummy_model(X), y)\n",
        "  gradient_update(loss1, list(dummy_model.parameters()), lr=1e-2)\n",
        "  gd_delta = loss_fn(dummy_model(X), y) - base_loss\n",
        "\n",
        "  deltas = []\n",
        "  for trial_id in range(100):\n",
        "    # Compute the improvement obtained with a random direction\n",
        "    dummy_model = copy.deepcopy(my_model)\n",
        "    random_update(dummy_model, noise_scale=1e-2)\n",
        "    deltas.append((loss_fn(dummy_model(X), y) - base_loss).item())\n",
        "\n",
        "  # Plot histogram for random direction and vertical line for gradient descent\n",
        "  axs[id].hist(deltas, label='Random Directions', bins=20)\n",
        "  axs[id].set_title(model_name)\n",
        "  axs[id].set_xlabel('Change in loss')\n",
        "  axs[id].set_ylabel('% samples')\n",
        "  axs[id].axvline(0, c='green', alpha=0.5)\n",
        "  axs[id].axvline(gd_delta.item(), linestyle='--', c='red', alpha=1,\n",
        "                  label='Gradient Descent')\n",
        "\n",
        "\n",
        "handles, labels = axs[id].get_legend_handles_labels()\n",
        "fig.legend(handles, labels, loc='upper center',\n",
        "           bbox_to_anchor=(0.5, 1.05),\n",
        "           fancybox=False, shadow=False, ncol=2)\n",
        "\n",
        "plt.show()"
      ],
      "execution_count": 24,
      "outputs": [
        {
          "output_type": "display_data",
          "data": {
            "image/png": "[encoded data removed]",
            "text/plain": [
              "<Figure size 720x288 with 2 Axes>"
            ]
          },
          "metadata": {
            "tags": [],
            "image/png": {
              "width": 701,
              "height": 294
            },
            "needs_background": "light"
          }
        }
      ]
    },
    {
      "cell_type": "markdown",
      "metadata": {
        "execution": {},
        "id": "-Wzyp5R-YSuv"
      },
      "source": [
        "## Think! 3: Gradient descent vs. random search\n",
        "\n",
        "Compare the behavior of gradient descent and random search based on the histograms above. Is any of the two methods more reliable? How can you explain the changes between behavior of the methods at initialization vs during training?"
      ]
    },
    {
      "cell_type": "code",
      "metadata": {
        "cellView": "form",
        "execution": {},
        "colab": {
          "base_uri": "https://localhost:8080/",
          "height": 93,
          "referenced_widgets": [
            "9f47c841e813476eac42619fcc34ed72",
            "6e0d2d10d719458788a825945230f0d0",
            "887873a299634195a19452403e0310d9",
            "f0515571d3444979b903653ddffc876f",
            "4a43d5489850438a95721fd59188336e",
            "a8525ccc8d4d477cb74b0ab7dec6c01a"
          ]
        },
        "id": "pJ-EcmsFYSuw",
        "outputId": "c5d370f9-ae7c-4ed1-89f9-e9c839ee061f"
      },
      "source": [
        "# @title Student Response\n",
        "from ipywidgets import widgets\n",
        "\n",
        "\n",
        "text=widgets.Textarea(\n",
        "   value='Type your answer here and click on `Submit!`',\n",
        "   placeholder='Type something',\n",
        "   description='',\n",
        "   disabled=False\n",
        ")\n",
        "\n",
        "button = widgets.Button(description=\"Submit!\")\n",
        "\n",
        "display(text,button)\n",
        "\n",
        "def on_button_clicked(b):\n",
        "   atform.add_answer('q1' , text.value)\n",
        "   print(\"Submission successful!\")\n",
        "\n",
        "\n",
        "button.on_click(on_button_clicked)"
      ],
      "execution_count": 25,
      "outputs": [
        {
          "output_type": "display_data",
          "data": {
            "application/vnd.jupyter.widget-view+json": {
              "model_id": "9f47c841e813476eac42619fcc34ed72",
              "version_minor": 0,
              "version_major": 2
            },
            "text/plain": [
              "Textarea(value='Type your answer here and click on `Submit!`', placeholder='Type something')"
            ]
          },
          "metadata": {
            "tags": []
          }
        },
        {
          "output_type": "display_data",
          "data": {
            "application/vnd.jupyter.widget-view+json": {
              "model_id": "f0515571d3444979b903653ddffc876f",
              "version_minor": 0,
              "version_major": 2
            },
            "text/plain": [
              "Button(description='Submit!', style=ButtonStyle())"
            ]
          },
          "metadata": {
            "tags": []
          }
        }
      ]
    },
    {
      "cell_type": "markdown",
      "metadata": {
        "execution": {},
        "id": "xW1PdG4-YSuw"
      },
      "source": [
        "[*Click for solution*](https://github.com/NeuromatchAcademy/course-content-dl/tree/main//tutorials/W1D4_Optimization/solutions/W1D4_Tutorial1_Solution_2de57667.py)\n",
        "\n"
      ]
    },
    {
      "cell_type": "markdown",
      "metadata": {
        "execution": {},
        "id": "DbjsIj-tYSuw"
      },
      "source": [
        "---\n",
        "# Section 4: Poor conditioning\n",
        "\n",
        "*Time estimate: ~30 mins*"
      ]
    },
    {
      "cell_type": "markdown",
      "metadata": {
        "execution": {},
        "id": "CU1l9yXJYSuw"
      },
      "source": [
        "Already in this 'simple' logistic regression problem, the issue of bad conditioning is haunting us. Not all parameters are created equal and the sensitivity of the network to changes on the parameters will have a big impact in the dynamics of the optimization.\n"
      ]
    },
    {
      "cell_type": "code",
      "metadata": {
        "cellView": "form",
        "execution": {},
        "colab": {
          "base_uri": "https://localhost:8080/",
          "height": 580,
          "referenced_widgets": [
            "137991b55ee14717b772f35085c7a4fb",
            "28d2868b26a049f88e109b3b41f9c1fb",
            "0613d6bdc87f4bfa8dfe6abfe94d1c25",
            "9dd42271e5ba440da4d2c3a12047164c",
            "d446378e4d2d4344af9a185e2e96c2d4",
            "cce41fbaaabd47ceae35bc239b5356d0"
          ]
        },
        "id": "XXq59DtiYSuw",
        "outputId": "2a86452d-c9e1-4892-c6d1-0a4d98c3f80d"
      },
      "source": [
        "# @title Video 4: Momentum\n",
        "from ipywidgets import widgets\n",
        "\n",
        "out2 = widgets.Output()\n",
        "with out2:\n",
        "  from IPython.display import IFrame\n",
        "  class BiliVideo(IFrame):\n",
        "    def __init__(self, id, page=1, width=400, height=300, **kwargs):\n",
        "      self.id=id\n",
        "      src = \"https://player.bilibili.com/player.html?bvid={0}&page={1}\".format(id, page)\n",
        "      super(BiliVideo, self).__init__(src, width, height, **kwargs)\n",
        "\n",
        "  video = BiliVideo(id=f\"BV1NL411H71t\", width=854, height=480, fs=1)\n",
        "  print(\"Video available at https://www.bilibili.com/video/{0}\".format(video.id))\n",
        "  display(video)\n",
        "\n",
        "out1 = widgets.Output()\n",
        "with out1:\n",
        "  from IPython.display import YouTubeVideo\n",
        "  video = YouTubeVideo(id=f\"3ES5O58Y_2M\", width=854, height=480, fs=1, rel=0)\n",
        "  print(\"Video available at https://youtube.com/watch?v=\" + video.id)\n",
        "  display(video)\n",
        "\n",
        "out = widgets.Tab([out1, out2])\n",
        "out.set_title(0, 'Youtube')\n",
        "out.set_title(1, 'Bilibili')\n",
        "\n",
        "# add event to airtable\n",
        "atform.add_event('Video 4: Momentum')\n",
        "\n",
        "display(out)"
      ],
      "execution_count": 26,
      "outputs": [
        {
          "output_type": "display_data",
          "data": {
            "application/vnd.jupyter.widget-view+json": {
              "model_id": "137991b55ee14717b772f35085c7a4fb",
              "version_minor": 0,
              "version_major": 2
            },
            "text/plain": [
              "Tab(children=(Output(), Output()), _titles={'0': 'Youtube', '1': 'Bilibili'})"
            ]
          },
          "metadata": {
            "tags": []
          }
        }
      ]
    },
    {
      "cell_type": "markdown",
      "metadata": {
        "execution": {},
        "id": "_RnhvRJhYSuw"
      },
      "source": [
        "We illustrate this issue in a 2-dimensional setting. We freeze all but two parameters of the network: one of them is an element of the weight matrix (filter) for class 0, while the other is the bias for class 7. This results in an optimization with two decision variables.\n",
        "\n",
        "How much difference is there in the behavior of these two parameters under gradient descent? What is the effect of momentum in bridging that gap?\n"
      ]
    },
    {
      "cell_type": "code",
      "metadata": {
        "cellView": "form",
        "execution": {},
        "id": "ZPxv9fsCYSuw"
      },
      "source": [
        "# @markdown _Run this cell_ to setup some helper functions.\n",
        "\n",
        "def loss_2d(model, u, v, mask_idx=(0, 378), bias_id=7):\n",
        "  \"\"\"Defines a 2-dim function by freezing all but two parameters of a linear\n",
        "  model.\n",
        "\n",
        "  Args:\n",
        "    model (torch module): a pytorch 0-hidden layer (linear) model\n",
        "    u (scalar): first free parameter\n",
        "    v (scalar): second free parameter\n",
        "    mask_idx (tuple): selects parameter in weight matrix replaced by u\n",
        "    bias_idx (int): selects parameter in bias vector replaced by v\n",
        "\n",
        "  Returns:\n",
        "    scalar: loss of the 'new' model over inputs X, y (defined externally)\n",
        "  \"\"\"\n",
        "\n",
        "  # We zero out the element of the weight tensor that will be\n",
        "  # replaced by u\n",
        "  mask = torch.ones_like(model.main[0].weight)\n",
        "  mask[mask_idx[0], mask_idx[1]] = 0.\n",
        "  masked_weights = model.main[0].weight * mask\n",
        "\n",
        "  # u is replacing an element of the weight matrix\n",
        "  masked_weights[mask_idx[0], mask_idx[1]] = u\n",
        "\n",
        "  res = X.reshape(-1, 784) @ masked_weights.T + model.main[0].bias\n",
        "\n",
        "  # v is replacing a bias for class 7\n",
        "  res[:, 7] += v - model.main[0].bias[7]\n",
        "  res =  F.log_softmax(res, dim=1)\n",
        "\n",
        "  return loss_fn(res, y)\n",
        "\n",
        "\n",
        "def plot_surface(U, V, Z, fig):\n",
        "  \"\"\" Plot a 3D loss surface given meshed inputs U, V and values Z\n",
        "  \"\"\"\n",
        "  ax = fig.add_subplot(1, 2, 2, projection='3d')\n",
        "  ax.view_init(45, -130)\n",
        "\n",
        "  surf = ax.plot_surface(U, V, Z, cmap=plt.cm.coolwarm,\n",
        "                      linewidth=0, antialiased=True, alpha=0.5)\n",
        "\n",
        "  # Select certain level contours to plot\n",
        "  # levels = Z.min() * np.array([1.005, 1.1, 1.3, 1.5, 2.])\n",
        "  # plt.contour(U, V, Z)# levels=levels, alpha=0.5)\n",
        "\n",
        "  ax.set_xlabel('Weight')\n",
        "  ax.set_ylabel('Bias')\n",
        "  ax.set_zlabel('Loss', rotation=90)\n",
        "\n",
        "  return ax\n",
        "\n",
        "\n",
        "def plot_param_distance(best_u, best_v, trajs, fig, styles, labels,\n",
        "                        use_log=False, y_min_v=-12.0, y_max_v=1.5):\n",
        "  \"\"\" Plot the distance to each of the two parameters for a collection of 'trajectories'\n",
        "  \"\"\"\n",
        "  ax = fig.add_subplot(1, 1, 1)\n",
        "\n",
        "  for traj, style, label in zip(trajs, styles, labels):\n",
        "    d0 = np.array([np.abs(_[0] - best_u) for _ in traj])\n",
        "    d1 = np.array([np.abs(_[1] - best_v) for _ in traj])\n",
        "    if use_log:\n",
        "      d0 = np.log(1e-16 + d0)\n",
        "      d1 = np.log(1e-16 + d1)\n",
        "    ax.plot(range(len(traj)), d0, style, label='weight - ' + label)\n",
        "    ax.plot(range(len(traj)), d1, style, label='bias - ' + label)\n",
        "  ax.set_xlabel('Iteration')\n",
        "  if use_log:\n",
        "    ax.set_ylabel('Log distance to optimum (per dimension)')\n",
        "    ax.set_ylim(y_min_v, y_max_v)\n",
        "  else:\n",
        "    ax.set_ylabel('Abs distance to optimum (per dimension)')\n",
        "  ax.legend(loc='right', bbox_to_anchor=(1.5, 0.5),\n",
        "            fancybox=False, shadow=False, ncol=1)\n",
        "\n",
        "  return ax\n",
        "\n",
        "\n",
        "def run_optimizer(inits, eval_fn, update_fn, max_steps=500,\n",
        "                  optim_kwargs={'lr':1e-2}, log_traj=True):\n",
        "  \"\"\"Runs an optimizer on a given objective and logs parameter trajectory\n",
        "\n",
        "  Args:\n",
        "      inits list(scalar): initialization of parameters\n",
        "      eval_fn (callable): function computing the objective to be minimized\n",
        "      update_fn (callable): function executing parameter update\n",
        "      max_steps (int): number of iterations to run\n",
        "      optim_kwargs (dict): customize optimizer hyperparameters\n",
        "\n",
        "  Returns:\n",
        "      list[list]: trajectory information [*params, loss] for each optimization step\n",
        "  \"\"\"\n",
        "\n",
        "  # Initialize parameters and optimizer\n",
        "  params = [nn.Parameter(torch.tensor(_)) for _ in inits]\n",
        "  # Methods like momentum and rmsprop keep and auxiliary vector of parameters\n",
        "  aux_tensors = [torch.zeros_like(_) for _ in params]\n",
        "  if log_traj:\n",
        "    traj = np.zeros((max_steps, len(params)+1))\n",
        "  for _ in range(max_steps):\n",
        "    # Evaluate loss\n",
        "    loss = eval_fn(*params)\n",
        "    # Store 'trajectory' information\n",
        "    if log_traj:\n",
        "      traj[_, :] = [_.item() for _ in params] + [loss.item()]\n",
        "    # Perform update\n",
        "    if update_fn == gradient_update:\n",
        "      gradient_update(loss, params, **optim_kwargs)\n",
        "    else:\n",
        "      update_fn(loss, params, aux_tensors, **optim_kwargs)\n",
        "  if log_traj:\n",
        "    return traj\n",
        "\n",
        "\n",
        "L = 4.\n",
        "xs = np.linspace(-L, L, 30)\n",
        "ys = np.linspace(-L, L, 30)\n",
        "U, V = np.meshgrid(xs, ys)"
      ],
      "execution_count": 27,
      "outputs": []
    },
    {
      "cell_type": "markdown",
      "metadata": {
        "execution": {},
        "id": "dQVCs2gyYSuw"
      },
      "source": [
        "## Coding Exercise 4: Implement momentum\n",
        "\n",
        "In this exercise you will implement the momentum update given by:\n",
        "\n",
        "\\begin{equation}\n",
        "w_{t+1} = w_t - \\eta \\nabla J(w_t) + \\beta (w_t - w_{t-1})\n",
        "\\end{equation}\n",
        "\n",
        "It is convenient to re-express this update rule in terms of a recursion. For that, we define 'velocity' as the quantity:\n",
        "\\begin{equation}\n",
        "v_{t-1} := w_{t} - w_{t-1}\n",
        "\\end{equation}\n",
        "\n",
        "which leads to the two-step update rule:\n",
        "\n",
        "\\begin{equation}\n",
        "v_t = - \\eta \\nabla J(w_t) + \\beta (\\underbrace{w_t - w_{t-1}}_{v_{t-1}})\n",
        "\\end{equation}\n",
        "\n",
        "\\begin{equation}\n",
        "w_{t+1} \\leftarrow w_t + v_{t}\n",
        "\\end{equation}\n",
        "\n",
        "Pay attention to the positive sign of the update in the last equation, given the definition of $v_t$, above. "
      ]
    },
    {
      "cell_type": "code",
      "metadata": {
        "execution": {},
        "colab": {
          "base_uri": "https://localhost:8080/"
        },
        "id": "BcQeI1LdYSuw",
        "outputId": "6a0b0068-cfda-4d3e-c06e-0d6517e60782"
      },
      "source": [
        "def momentum_update(loss, params, grad_vel, lr=1e-3, beta=0.8):\n",
        "  \"\"\"Perform a momentum update over a collection of parameters given a loss and 'velocities'\n",
        "\n",
        "  Args:\n",
        "    loss (tensor): A scalar tensor containing the loss whose gradient will be computed\n",
        "    params (iterable): Collection of parameters with respect to which we compute gradients\n",
        "    grad_vel (iterable): Collection containing the 'velocity' v_t for each parameter\n",
        "    lr (float): Scalar specifying the learning rate or step-size for the update\n",
        "    beta (float): Scalar 'momentum' parameter\n",
        "  \"\"\"\n",
        "  # Clear up gradients as Pytorch automatically accumulates gradients from\n",
        "  # successive backward calls\n",
        "  zero_grad(params)\n",
        "  # Compute gradients on given objective\n",
        "  loss.backward()\n",
        "\n",
        "  with torch.no_grad():\n",
        "    for (par, vel) in zip(params, grad_vel):\n",
        "      #################################################\n",
        "      ## TODO for students: update the value of the parameter ##\n",
        "      # raise NotImplementedError(\"Student exercise: implement momentum update\")\n",
        "      #################################################\n",
        "      # Update 'velocity'\n",
        "      vel.data = -lr*par.grad.data + beta*vel.data\n",
        "      # Update parameters\n",
        "      par.data += vel.data \n",
        "\n",
        "\n",
        "# add event to airtable\n",
        "atform.add_event('Coding Exercise 4: Implement momentum')\n",
        "\n",
        "\n",
        "set_seed(seed=SEED)\n",
        "model2 = MLP(in_dim=784, out_dim=10, hidden_dims=[])\n",
        "print('\\n The model2 parameters before the update are: \\n')\n",
        "print_params(model2)\n",
        "loss = loss_fn(model2(X), y)\n",
        "initial_vel = [torch.randn_like(p) for p in model2.parameters()]\n",
        "\n",
        "## Uncomment below to test your function\n",
        "momentum_update(loss, list(model2.parameters()), grad_vel=initial_vel, lr=1e-1, beta=0.9)\n",
        "print('\\n The model2 parameters after the update are: \\n')\n",
        "print_params(model2)"
      ],
      "execution_count": 28,
      "outputs": [
        {
          "output_type": "stream",
          "text": [
            "Random seed 2021 has been set.\n",
            "\n",
            " The model2 parameters before the update are: \n",
            "\n",
            "main.0.weight tensor([[-0.0264,  0.0010,  0.0173,  ...,  0.0297,  0.0278, -0.0221],\n",
            "        [-0.0040, -0.0295, -0.0086,  ..., -0.0070,  0.0254, -0.0233],\n",
            "        [ 0.0240, -0.0231,  0.0342,  ...,  0.0124,  0.0270, -0.0180],\n",
            "        ...,\n",
            "        [-0.0005,  0.0157,  0.0111,  ...,  0.0144, -0.0301, -0.0144],\n",
            "        [ 0.0181,  0.0303,  0.0255,  ..., -0.0110, -0.0175,  0.0205],\n",
            "        [ 0.0208, -0.0353, -0.0183,  ..., -0.0271,  0.0099,  0.0003]])\n",
            "main.0.bias tensor([-0.0290, -0.0033,  0.0100, -0.0320,  0.0022,  0.0221,  0.0307,  0.0243,\n",
            "         0.0159, -0.0064])\n",
            "\n",
            " The model2 parameters after the update are: \n",
            "\n",
            "main.0.weight tensor([[ 1.5898,  0.0116, -2.0239,  ..., -1.0871,  0.4030, -0.9577],\n",
            "        [ 0.4653,  0.6022, -0.7363,  ...,  0.5485, -0.2747, -0.6539],\n",
            "        [-1.4117, -1.1045,  0.6492,  ..., -1.0201,  0.6503,  0.1310],\n",
            "        ...,\n",
            "        [-0.5098,  0.5075, -0.0718,  ...,  1.1192,  0.2900, -0.9657],\n",
            "        [-0.4405, -0.1174,  0.7542,  ...,  0.0792, -0.1857,  0.3537],\n",
            "        [-1.0824,  1.0080, -0.4254,  ..., -0.3760, -1.7491,  0.6025]])\n",
            "main.0.bias tensor([ 0.4147, -1.0440,  0.8720, -1.6201, -0.9632,  0.9430, -0.5180,  1.3417,\n",
            "         0.6574,  0.3677])\n"
          ],
          "name": "stdout"
        }
      ]
    },
    {
      "cell_type": "markdown",
      "metadata": {
        "execution": {},
        "id": "GOQOBZiAYSuw"
      },
      "source": [
        "[*Click for solution*](https://github.com/NeuromatchAcademy/course-content-dl/tree/main//tutorials/W1D4_Optimization/solutions/W1D4_Tutorial1_Solution_ba72f88a.py)\n",
        "\n"
      ]
    },
    {
      "cell_type": "markdown",
      "metadata": {
        "execution": {},
        "id": "74cZlucwYSuw"
      },
      "source": [
        "```\n",
        " The model2 parameters after the update are: \n",
        "\n",
        "main.0.weight tensor([[ 1.5898,  0.0116, -2.0239,  ..., -1.0871,  0.4030, -0.9577],\n",
        "        [ 0.4653,  0.6022, -0.7363,  ...,  0.5485, -0.2747, -0.6539],\n",
        "        [-1.4117, -1.1045,  0.6492,  ..., -1.0201,  0.6503,  0.1310],\n",
        "        ...,\n",
        "        [-0.5098,  0.5075, -0.0718,  ...,  1.1192,  0.2900, -0.9657],\n",
        "        [-0.4405, -0.1174,  0.7542,  ...,  0.0792, -0.1857,  0.3537],\n",
        "        [-1.0824,  1.0080, -0.4254,  ..., -0.3760, -1.7491,  0.6025]])\n",
        "main.0.bias tensor([ 0.4147, -1.0440,  0.8720, -1.6201, -0.9632,  0.9430, -0.5180,  1.3417,\n",
        "         0.6574,  0.3677])\n",
        "```"
      ]
    },
    {
      "cell_type": "markdown",
      "metadata": {
        "execution": {},
        "id": "lf0UTvoxYSux"
      },
      "source": [
        "## Interactive Demo 4: Momentum vs. GD\n",
        "\n",
        "The plots below show the distance to the optimum for both variables across the two methods, as well as the parameter trajectory over the loss surface."
      ]
    },
    {
      "cell_type": "code",
      "metadata": {
        "cellView": "form",
        "execution": {},
        "colab": {
          "base_uri": "https://localhost:8080/",
          "height": 211,
          "referenced_widgets": [
            "9a02b25b46ce44bda0712d4bfda9013b",
            "fe2fa1bac5a043acb471fccd9719452e",
            "7b230019c145441ea67c0ad5b461dcd5",
            "f5c9029e60aa48eabf80b25a14fdd80e",
            "f4138a535e064905aa7013215abb42bf",
            "23a1d907020a4e8c8ddbe0cd5a0ea9f4",
            "5f42c18937de4d0986a0e48802efec11",
            "7e9b6beb0dbe4dc5a8bd2addf500a8d8",
            "9a41bbca69ab468abbde56f43d5d792f",
            "44a74394d325498abcf788b92be6cd9f",
            "1c71679cc5674e98afcb3ee5441dc996",
            "0fd01ee33cf14c42b4a0665e3432e790",
            "a923c27a254543878a0c6a9be5747b71",
            "20a0dbe5dde54b489ced3ae35cc2e642",
            "396755357bfb4770b64f9d615f06d17e",
            "bced150176814c72b1a17413b2eca0eb",
            "6f6b6f4dde8c4dbb9536164c61f48ac8",
            "d283ea0a23c34815beb7f97d3f30f2be",
            "def129d8a7a742609dff4be080664eb2",
            "480deb55159341339353caa4c164bc3d",
            "d8cb7cd2214d4b19b1890741379c6528",
            "9cd902902c2640a3a09aed248ebde32b",
            "097404e4237b403b8da1b893e57e90ef",
            "ca947d56f03345fc84a082988baa961e"
          ]
        },
        "id": "F1TfYSuvYSux",
        "outputId": "94ff72a6-df14-40ec-9ab1-08f90fbf9c83"
      },
      "source": [
        "# @markdown Run this cell to enable the widget!\n",
        "from matplotlib.lines import Line2D\n",
        "\n",
        "# Find the optimum of this 2D problem using Newton's method\n",
        "def run_newton(func, init_list=[0., 0.], max_iter=200):\n",
        "\n",
        "  par_tensor = torch.tensor(init_list, requires_grad=True)\n",
        "  t_g = lambda par_tensor: func(par_tensor[0], par_tensor[1])\n",
        "\n",
        "  for _ in tqdm(range(max_iter)):\n",
        "    eval_loss = t_g(par_tensor)\n",
        "    eval_grad = torch.autograd.grad(eval_loss, [par_tensor])[0]\n",
        "    eval_hess = torch.autograd.functional.hessian(t_g, par_tensor)\n",
        "    # Newton's update is:  - inverse(Hessian) x gradient\n",
        "    par_tensor.data -= torch.inverse(eval_hess) @ eval_grad\n",
        "\n",
        "  return par_tensor.data.numpy()\n",
        "\n",
        "\n",
        "set_seed(2021)\n",
        "model = MLP(in_dim=784, out_dim=10, hidden_dims=[])\n",
        "# Define 2d loss objectives and surface values\n",
        "g = lambda u, v: loss_2d(copy.deepcopy(model), u, v)\n",
        "Z = np.fromiter(map(g, U.ravel(), V.ravel()), U.dtype).reshape(V.shape)\n",
        "\n",
        "best_u, best_v  = run_newton(func=g)\n",
        "\n",
        "# Initialization of the variables\n",
        "INITS = [2.5, 3.7]\n",
        "\n",
        "# Used for plotting\n",
        "LABELS = ['GD', 'Momentum']\n",
        "COLORS = ['black', 'red']\n",
        "LSTYLES = ['-', '--']\n",
        "\n",
        "\n",
        "@widgets.interact_manual\n",
        "def momentum_experiment(max_steps=widgets.IntSlider(300, 50, 500, 5),\n",
        "                        lr=widgets.FloatLogSlider(value=1e-1, min=-3, max=0.7, step=0.1),\n",
        "                        beta=widgets.FloatSlider(value=9e-1, min=0, max=1., step=0.01)\n",
        "                        ):\n",
        "\n",
        "  # Execute both optimizers\n",
        "  sgd_traj = run_optimizer(INITS, eval_fn=g, update_fn=gradient_update,\n",
        "                           max_steps=max_steps, optim_kwargs={'lr': lr})\n",
        "  mom_traj = run_optimizer(INITS, eval_fn=g, update_fn=momentum_update,\n",
        "                           max_steps=max_steps, optim_kwargs={'lr': lr, 'beta':beta})\n",
        "\n",
        "  TRAJS = [sgd_traj, mom_traj]\n",
        "\n",
        "  # Plot distances\n",
        "  fig = plt.figure(figsize=(9,4))\n",
        "  plot_param_distance(best_u, best_v, TRAJS, fig,\n",
        "                      LSTYLES, LABELS, use_log=True, y_min_v=-12.0, y_max_v=1.5)\n",
        "\n",
        "  # # Plot trajectories\n",
        "  fig = plt.figure(figsize=(12, 5))\n",
        "  ax = plot_surface(U, V, Z, fig)\n",
        "  for traj, c, label in zip(TRAJS, COLORS, LABELS):\n",
        "    ax.plot3D(*traj.T, c, linewidth=0.3, label=label)\n",
        "    ax.scatter3D(*traj.T, '.-', s=1, c=c)\n",
        "\n",
        "  # Plot optimum point\n",
        "  ax.scatter(best_u, best_v, Z.min(), marker='*', s=80, c='lime', label='Opt.');\n",
        "  lines = [Line2D([0], [0],\n",
        "                  color=c,\n",
        "                  linewidth=3,\n",
        "                  linestyle='--') for c in COLORS]\n",
        "  lines.append(Line2D([0], [0], color='lime', linewidth=0, marker='*'))\n",
        "  ax.legend(lines, LABELS + ['Optimum'], loc='right',\n",
        "            bbox_to_anchor=(.8, -0.1), ncol=len(LABELS) + 1)"
      ],
      "execution_count": 29,
      "outputs": [
        {
          "output_type": "stream",
          "text": [
            "Random seed 2021 has been set.\n"
          ],
          "name": "stdout"
        },
        {
          "output_type": "display_data",
          "data": {
            "application/vnd.jupyter.widget-view+json": {
              "model_id": "9a02b25b46ce44bda0712d4bfda9013b",
              "version_minor": 0,
              "version_major": 2
            },
            "text/plain": [
              "HBox(children=(FloatProgress(value=0.0, max=200.0), HTML(value='')))"
            ]
          },
          "metadata": {
            "tags": []
          }
        },
        {
          "output_type": "stream",
          "text": [
            "\n"
          ],
          "name": "stdout"
        },
        {
          "output_type": "display_data",
          "data": {
            "application/vnd.jupyter.widget-view+json": {
              "model_id": "9a41bbca69ab468abbde56f43d5d792f",
              "version_minor": 0,
              "version_major": 2
            },
            "text/plain": [
              "interactive(children=(IntSlider(value=300, description='max_steps', max=500, min=50, step=5), FloatLogSlider(v…"
            ]
          },
          "metadata": {
            "tags": []
          }
        }
      ]
    },
    {
      "cell_type": "markdown",
      "metadata": {
        "execution": {},
        "id": "AuhzpQS6YSux"
      },
      "source": [
        "## Think! 4: Momentum and oscillations\n",
        "\n",
        "- Discuss how this specific example illustrates the issue of poor conditioning in optimization? How does momentum help resolve these difficulties?\n",
        "\n",
        "- Do you see oscillations for any of these methods? Why does this happen?\n",
        "\n",
        "- Finally, tune the learning rate and momentum parameters to achieve a loss below $10^{-6}$ (for both dimensions) within 100 iterations."
      ]
    },
    {
      "cell_type": "code",
      "metadata": {
        "cellView": "form",
        "execution": {},
        "colab": {
          "base_uri": "https://localhost:8080/",
          "height": 93,
          "referenced_widgets": [
            "20c89e85cc814a9382e1f8b1403206d9",
            "466164af70914f74b7bd6b6cd84f9b2f",
            "86a7b4f1e2cb447db54e900c48ab63c1",
            "2104070ef87d4fa38bfd1a01bdd4b52a",
            "c5c17639f864403081022065a2819b04",
            "31a92f34650944869e718b24f5450a2a"
          ]
        },
        "id": "0bGdJCXpYSux",
        "outputId": "7c3e1df9-088f-458e-fce7-746e85d6a27b"
      },
      "source": [
        "# @title Student Response\n",
        "from ipywidgets import widgets\n",
        "\n",
        "\n",
        "text=widgets.Textarea(\n",
        "   value='Type your answer here and click on `Submit!`',\n",
        "   placeholder='Type something',\n",
        "   description='',\n",
        "   disabled=False\n",
        ")\n",
        "\n",
        "button = widgets.Button(description=\"Submit!\")\n",
        "\n",
        "display(text,button)\n",
        "\n",
        "def on_button_clicked(b):\n",
        "   atform.add_answer('q2' , text.value)\n",
        "   print(\"Submission successful!\")\n",
        "\n",
        "\n",
        "button.on_click(on_button_clicked)"
      ],
      "execution_count": 30,
      "outputs": [
        {
          "output_type": "display_data",
          "data": {
            "application/vnd.jupyter.widget-view+json": {
              "model_id": "20c89e85cc814a9382e1f8b1403206d9",
              "version_minor": 0,
              "version_major": 2
            },
            "text/plain": [
              "Textarea(value='Type your answer here and click on `Submit!`', placeholder='Type something')"
            ]
          },
          "metadata": {
            "tags": []
          }
        },
        {
          "output_type": "display_data",
          "data": {
            "application/vnd.jupyter.widget-view+json": {
              "model_id": "2104070ef87d4fa38bfd1a01bdd4b52a",
              "version_minor": 0,
              "version_major": 2
            },
            "text/plain": [
              "Button(description='Submit!', style=ButtonStyle())"
            ]
          },
          "metadata": {
            "tags": []
          }
        }
      ]
    },
    {
      "cell_type": "markdown",
      "metadata": {
        "execution": {},
        "id": "meKIBO5RYSux"
      },
      "source": [
        "[*Click for solution*](https://github.com/NeuromatchAcademy/course-content-dl/tree/main//tutorials/W1D4_Optimization/solutions/W1D4_Tutorial1_Solution_5eaa9306.py)\n",
        "\n"
      ]
    },
    {
      "cell_type": "markdown",
      "metadata": {
        "execution": {},
        "id": "YTv2VaYMYSux"
      },
      "source": [
        "---\n",
        "# Section 5: Non-convexity\n",
        "\n",
        "*Time estimate: ~30 mins*"
      ]
    },
    {
      "cell_type": "markdown",
      "metadata": {
        "execution": {},
        "id": "WX8Z84ABYSux"
      },
      "source": [
        "The introduction of even just 1 hidden layer in the neural network transforms the previous convex optimization problem into a non-convex one. And with great non-convexity, comes great responsibility... (Sorry, we couldn't help it!)\n",
        "\n",
        "**Note:** From this section onwards we will be dealing with non-convex optimization problems for the remaining of the tutorial. "
      ]
    },
    {
      "cell_type": "code",
      "metadata": {
        "cellView": "form",
        "execution": {},
        "colab": {
          "base_uri": "https://localhost:8080/",
          "height": 580,
          "referenced_widgets": [
            "f04ee8f65fac404681fd52557ec498d4",
            "48771bffd6bf4af69741b16fafc38572",
            "d0f82131328d4cb0a99be8e53abe8f72",
            "155d5f0794a14da182fc1bfe03e3ca3b",
            "2fcc43a569f543808b12a216b6cc72d3",
            "0af16af218c948bb9b636fa12f2cf1a5"
          ]
        },
        "id": "t5hoi_SeYSux",
        "outputId": "339e65bb-53bb-4ddb-851b-39b516d93f80"
      },
      "source": [
        "# @title Video 5: Overparametrization\n",
        "from ipywidgets import widgets\n",
        "\n",
        "out2 = widgets.Output()\n",
        "with out2:\n",
        "  from IPython.display import IFrame\n",
        "  class BiliVideo(IFrame):\n",
        "    def __init__(self, id, page=1, width=400, height=300, **kwargs):\n",
        "      self.id=id\n",
        "      src = \"https://player.bilibili.com/player.html?bvid={0}&page={1}\".format(id, page)\n",
        "      super(BiliVideo, self).__init__(src, width, height, **kwargs)\n",
        "\n",
        "  video = BiliVideo(id=f\"BV16h41167Jr\", width=854, height=480, fs=1)\n",
        "  print(\"Video available at https://www.bilibili.com/video/{0}\".format(video.id))\n",
        "  display(video)\n",
        "\n",
        "out1 = widgets.Output()\n",
        "with out1:\n",
        "  from IPython.display import YouTubeVideo\n",
        "  video = YouTubeVideo(id=f\"7vUpUEKKl5o\", width=854, height=480, fs=1, rel=0)\n",
        "  print(\"Video available at https://youtube.com/watch?v=\" + video.id)\n",
        "  display(video)\n",
        "\n",
        "out = widgets.Tab([out1, out2])\n",
        "out.set_title(0, 'Youtube')\n",
        "out.set_title(1, 'Bilibili')\n",
        "\n",
        "# add event to airtable\n",
        "atform.add_event(\"Video 5: Overparametrization\")\n",
        "\n",
        "display(out)"
      ],
      "execution_count": 31,
      "outputs": [
        {
          "output_type": "display_data",
          "data": {
            "application/vnd.jupyter.widget-view+json": {
              "model_id": "f04ee8f65fac404681fd52557ec498d4",
              "version_minor": 0,
              "version_major": 2
            },
            "text/plain": [
              "Tab(children=(Output(), Output()), _titles={'0': 'Youtube', '1': 'Bilibili'})"
            ]
          },
          "metadata": {
            "tags": []
          }
        }
      ]
    },
    {
      "cell_type": "markdown",
      "metadata": {
        "execution": {},
        "id": "4AatN6qrYSux"
      },
      "source": [
        "Take a couple of minutes to play with a more complex 3D visualization of the loss landscape of a neural network on a non-convex problem. Visit https://losslandscape.com/explorer.\n",
        "\n",
        "1. Explore the features on the bottom left corner. You can see an explanation for each icon by clicking on the [i] button located on the top right corner.\n",
        "2. Use the 'gradient descent' feature to perform a thought experiment:\n",
        "    -   Choose an initialization\n",
        "    -   Choose the learning rate\n",
        "    -   Mentally formulate your hypothesis about what kind of trajectory you expect to observe \n",
        "3. Run the experiment and contrast your intuition with the observed behavior.\n",
        "4. Repeat this experiment a handful of times for several initialization/learning rate configurations\n"
      ]
    },
    {
      "cell_type": "markdown",
      "metadata": {
        "execution": {},
        "id": "R3SbVmR1YSux"
      },
      "source": [
        "## Interactive Demo 5: Overparametrization to the rescue!\n",
        "\n",
        "As you may have seen, the non-convex nature of the surface can lead the optimization process to get stuck in undesirable local-optima. There is ample empirical evidence supporting the claim that 'overparameterized' models are easier to train.\n",
        "\n",
        "We will explore this assertion in the context of our MLP training. For this, we initialize a fixed model and construct several models by small random perturbations to the original initialized weights. Now, we train each of these perturbed models and see how the loss evolves. If we were in the convex setting, we should reach very similar objective values upon convergence since all these models were very close at the beginning of training, and in convex problems, every local optimum is also a global optimum.\n",
        "\n",
        "Use the interactive plot below to visualize the loss progression for these perturbed models:\n",
        "\n",
        "1. Select different settings from the `hidden_dims` drop-down menu.\n",
        "2. Explore the effect of the number of steps and learning rate."
      ]
    },
    {
      "cell_type": "code",
      "metadata": {
        "cellView": "form",
        "execution": {},
        "colab": {
          "base_uri": "https://localhost:8080/",
          "height": 177,
          "referenced_widgets": [
            "f3c814dcfcde4a79b0cf9a3d071514d0",
            "16280e001ae14142be3b4eaa74314427",
            "8e8c8009274e45ac9054dfb68e156320",
            "ec28578d649f4434817874f0e9cc8b04",
            "62b7519c83ea496ea44dc62a713e99ce",
            "d568d398da9e4cfa82fd5fbd4862cda1",
            "18d301aff99e4ad3969813774857f7df",
            "5ea28928147c4c669885e2bf7b39cb3d",
            "690928d6f3624dbabd25907412f22c76",
            "59f531bbcdec45c0ad27ca303c024524",
            "0a1a138b2591401ab2eb8169cdd67826",
            "370fc31a470e464c915db1424ba72264",
            "ab5ba704d5ed4868b88f6f19a22e361f",
            "03123dc5b99d489591e12d11adb95ab0",
            "7632e1ccfcfc407db2d3427d9147475b",
            "06e5302856534cf6a442c9e6618f2126",
            "255b2bee9f96473e986df898e2e6aa90",
            "5b6ef1b44a7c4aec891de4e428354cfd",
            "34c4f21623ab43388cfad4f10aa23812"
          ]
        },
        "id": "iWIkiyWXYSux",
        "outputId": "7bb1095b-3ec0-45ca-8e0d-0783e7cf502e"
      },
      "source": [
        "# @markdown Execute this cell to enable the widget!\n",
        "\n",
        "@widgets.interact_manual\n",
        "def overparam(max_steps=widgets.IntSlider(150, 50, 500, 5),\n",
        "              hidden_dims=widgets.Dropdown(options=[\"10\", \"20, 20\", \"100, 100\"],\n",
        "                                           value=\"10\"),\n",
        "              lr=widgets.FloatLogSlider(value=5e-2, min=-3, max=0, step=0.1),\n",
        "              num_inits=widgets.IntSlider(7, 5, 10, 1)):\n",
        "\n",
        "    X, y = train_set.data[subset_index, :], train_set.targets[subset_index]\n",
        "\n",
        "    hdims = [int(s) for s in hidden_dims.split(',')]\n",
        "    base_model = MLP(in_dim=784, out_dim=10, hidden_dims=hdims)\n",
        "\n",
        "    fig, axs = plt.subplots(1, 1, figsize=(5, 4))\n",
        "\n",
        "    for _ in tqdm(range(num_inits)):\n",
        "      model = copy.deepcopy(base_model)\n",
        "      random_update(model, noise_scale=2e-1)\n",
        "\n",
        "      loss_hist = np.zeros((max_steps, 2))\n",
        "      for step in range(max_steps):\n",
        "        loss = loss_fn(model(X), y)\n",
        "        gradient_update(loss, list(model.parameters()), lr=lr)\n",
        "        loss_hist[step] = np.array([step, loss.item()])\n",
        "\n",
        "      plt.plot(loss_hist[:, 0], loss_hist[:, 1])\n",
        "\n",
        "    plt.xlabel('Iteration')\n",
        "    plt.ylabel('Loss')\n",
        "    plt.ylim(0, 3)\n",
        "    plt.show()\n",
        "\n",
        "    num_params = sum([np.prod(_.shape) for _ in model.parameters()])\n",
        "    print('Number of paramaters in model:  ' + str(num_params))"
      ],
      "execution_count": 32,
      "outputs": [
        {
          "output_type": "display_data",
          "data": {
            "application/vnd.jupyter.widget-view+json": {
              "model_id": "f3c814dcfcde4a79b0cf9a3d071514d0",
              "version_minor": 0,
              "version_major": 2
            },
            "text/plain": [
              "interactive(children=(IntSlider(value=150, description='max_steps', max=500, min=50, step=5), Dropdown(descrip…"
            ]
          },
          "metadata": {
            "tags": []
          }
        }
      ]
    },
    {
      "cell_type": "markdown",
      "metadata": {
        "execution": {},
        "id": "halw8sUnYSux"
      },
      "source": [
        "### Think! 5.1: Width and depth of the network\n",
        "\n",
        "- We see that as we increase the width/depth of the network, training becomes faster and more consistent across different initializations. What might be the reasons for this behavior? \n",
        "\n",
        "- What are some potential downsides of this approach to dealing with non-convexity? \n"
      ]
    },
    {
      "cell_type": "code",
      "metadata": {
        "cellView": "form",
        "execution": {},
        "colab": {
          "base_uri": "https://localhost:8080/",
          "height": 93,
          "referenced_widgets": [
            "f7252679158843c6b6cc5e7afd62ea8a",
            "48b777470dd74173a529ee5b0d1e2872",
            "08a89e28d4e642628f1f9e57e9d229a0",
            "5fedd8e049ea43ddbacacc36b9d9a085",
            "0efbc208e8ce46a58523e5614832ff2d",
            "7b5da7dae17f456ca9158fb8078c5ada"
          ]
        },
        "id": "VeXGVghFYSuy",
        "outputId": "9130793d-89a6-4bcf-f105-b1e2040021f9"
      },
      "source": [
        "# @title Student Response\n",
        "from ipywidgets import widgets\n",
        "\n",
        "\n",
        "text=widgets.Textarea(\n",
        "   value='Type your answer here and click on `Submit!`',\n",
        "   placeholder='Type something',\n",
        "   description='',\n",
        "   disabled=False\n",
        ")\n",
        "\n",
        "button = widgets.Button(description=\"Submit!\")\n",
        "\n",
        "display(text,button)\n",
        "\n",
        "def on_button_clicked(b):\n",
        "   atform.add_answer('q3' , text.value)\n",
        "   print(\"Submission successful!\")"
      ],
      "execution_count": 33,
      "outputs": [
        {
          "output_type": "display_data",
          "data": {
            "application/vnd.jupyter.widget-view+json": {
              "model_id": "f7252679158843c6b6cc5e7afd62ea8a",
              "version_minor": 0,
              "version_major": 2
            },
            "text/plain": [
              "Textarea(value='Type your answer here and click on `Submit!`', placeholder='Type something')"
            ]
          },
          "metadata": {
            "tags": []
          }
        },
        {
          "output_type": "display_data",
          "data": {
            "application/vnd.jupyter.widget-view+json": {
              "model_id": "5fedd8e049ea43ddbacacc36b9d9a085",
              "version_minor": 0,
              "version_major": 2
            },
            "text/plain": [
              "Button(description='Submit!', style=ButtonStyle())"
            ]
          },
          "metadata": {
            "tags": []
          }
        }
      ]
    },
    {
      "cell_type": "markdown",
      "metadata": {
        "execution": {},
        "id": "OImZyNmrYSuy"
      },
      "source": [
        "[*Click for solution*](https://github.com/NeuromatchAcademy/course-content-dl/tree/main//tutorials/W1D4_Optimization/solutions/W1D4_Tutorial1_Solution_d69ca8d7.py)\n",
        "\n"
      ]
    },
    {
      "cell_type": "markdown",
      "metadata": {
        "execution": {},
        "id": "WwGZnGLLYSuy"
      },
      "source": [
        "---\n",
        "# Section 6: Full gradients are expensive\n",
        "\n",
        "*Time estimate: ~25 mins*"
      ]
    },
    {
      "cell_type": "markdown",
      "metadata": {
        "execution": {},
        "id": "lnA5sJmxYSuy"
      },
      "source": [
        "So far we have used only a small (fixed) subset of 500 training examples to perform the updates on the model parameters in our quest to minimize the loss. But what if we decided to use the training set? Do our current approach scale to datasets with tens of thousands, or millions of datapoints?\n",
        "\n",
        "In this section we explore an efficient alternative to avoid having to perform computations on all the training examples before performing a parameter update."
      ]
    },
    {
      "cell_type": "code",
      "metadata": {
        "cellView": "form",
        "execution": {},
        "colab": {
          "base_uri": "https://localhost:8080/",
          "height": 580,
          "referenced_widgets": [
            "b2b1d00c1d52457697b801539a3db6f5",
            "ba2128f912754b2193c1a39248b0eaa0",
            "2250cce4c660417b9d3d367cf19d626e",
            "6ed6bde7ce73462d9f90ade3706f3884",
            "d3f61bd4db1b43f58239c175d5e948b8",
            "8949628cec454791b1485e60b36741a7"
          ]
        },
        "id": "udYXYi_3YSuy",
        "outputId": "8e155b5a-a157-4914-a398-4a96aadc69fc"
      },
      "source": [
        "# @title Video 6: Mini-batches\n",
        "from ipywidgets import widgets\n",
        "\n",
        "out2 = widgets.Output()\n",
        "with out2:\n",
        "  from IPython.display import IFrame\n",
        "  class BiliVideo(IFrame):\n",
        "    def __init__(self, id, page=1, width=400, height=300, **kwargs):\n",
        "      self.id=id\n",
        "      src = \"https://player.bilibili.com/player.html?bvid={0}&page={1}\".format(id, page)\n",
        "      super(BiliVideo, self).__init__(src, width, height, **kwargs)\n",
        "\n",
        "  video = BiliVideo(id=f\"BV1ty4y1T7Uh\", width=854, height=480, fs=1)\n",
        "  print(\"Video available at https://www.bilibili.com/video/{0}\".format(video.id))\n",
        "  display(video)\n",
        "\n",
        "out1 = widgets.Output()\n",
        "with out1:\n",
        "  from IPython.display import YouTubeVideo\n",
        "  video = YouTubeVideo(id=f\"hbqUxpNBUGk\", width=854, height=480, fs=1, rel=0)\n",
        "  print(\"Video available at https://youtube.com/watch?v=\" + video.id)\n",
        "  display(video)\n",
        "\n",
        "out = widgets.Tab([out1, out2])\n",
        "out.set_title(0, 'Youtube')\n",
        "out.set_title(1, 'Bilibili')\n",
        "\n",
        "# add event to airtable\n",
        "atform.add_event(\"Video 6: Mini-batches\")\n",
        "\n",
        "display(out)"
      ],
      "execution_count": 34,
      "outputs": [
        {
          "output_type": "display_data",
          "data": {
            "application/vnd.jupyter.widget-view+json": {
              "model_id": "b2b1d00c1d52457697b801539a3db6f5",
              "version_minor": 0,
              "version_major": 2
            },
            "text/plain": [
              "Tab(children=(Output(), Output()), _titles={'0': 'Youtube', '1': 'Bilibili'})"
            ]
          },
          "metadata": {
            "tags": []
          }
        }
      ]
    },
    {
      "cell_type": "markdown",
      "metadata": {
        "execution": {},
        "id": "uVIH4vV2YSuy"
      },
      "source": [
        "## Interactive Demo 6.1: Cost of computation\n",
        "\n",
        "Evaluating a neural network is a relatively fast process. However, when repeated millions of times, the computational cost of performing forward and backward passes through the network starts to become significant.\n",
        "\n",
        "In the visualization below, we show the time (averaged over 5 runs) of computing a forward and backward pass with a changing number of input examples. Choose from the different options in the drop-down box and note how the vertical scale changes depending on the size of the network. \n",
        "\n",
        "**Remarks:** Note that the computational cost of a forward pass shows a clear linear relationship with the number of input examples, and the cost of the corresponding backward pass exhibits a similar computational complexity."
      ]
    },
    {
      "cell_type": "code",
      "metadata": {
        "cellView": "form",
        "execution": {},
        "colab": {
          "base_uri": "https://localhost:8080/",
          "height": 319,
          "referenced_widgets": [
            "eda18f92d2264c91aefecf2eef852a94",
            "87e304388f904cf299cf80c524526eef",
            "e461d7cb5f49465199f8201ebdcf4be7",
            "beb8be90e69b4f47a34c159a6dab192a",
            "039730cfd9384845a421ae60d121670f",
            "be790aa6c2da4f8b8aa0c08273ef2e35",
            "6360204cdbda41588701e351ac21ef6d"
          ]
        },
        "id": "FP9ZKNYrYSuy",
        "outputId": "4107d019-7bf6-48e4-af8f-7e2e092680a4"
      },
      "source": [
        "# @markdown Execute this cell to enable the widget!\n",
        "\n",
        "def measure_update_time(model, num_points):\n",
        "  X, y = train_set.data[:num_points], train_set.targets[:num_points]\n",
        "  start_time = time.time()\n",
        "  loss = loss_fn(model(X), y)\n",
        "  loss_time = time.time()\n",
        "  gradient_update(loss, list(model.parameters()), lr=0)\n",
        "  gradient_time = time.time()\n",
        "  return loss_time - start_time, gradient_time - loss_time\n",
        "\n",
        "\n",
        "@widgets.interact\n",
        "def computation_time(hidden_dims=widgets.Dropdown(options=[\"1\", \"100\", \"50, 50\"],\n",
        "                                                  value=\"100\")):\n",
        "\n",
        "  hdims = [int(s) for s in hidden_dims.split(',')]\n",
        "  model = MLP(in_dim=784, out_dim=10, hidden_dims=hdims)\n",
        "\n",
        "  NUM_POINTS = [1, 5, 10, 100, 200, 500, 1000, 5000, 10000, 20000, 30000, 50000]\n",
        "  times_list = []\n",
        "  for _ in range(5):\n",
        "    times_list.append(np.array([measure_update_time(model, _) for _ in NUM_POINTS]))\n",
        "\n",
        "  times = np.array(times_list).mean(axis=0)\n",
        "\n",
        "  fig, axs = plt.subplots(1, 1, figsize=(5,4))\n",
        "  plt.plot(NUM_POINTS, times[:, 0], label='Forward')\n",
        "  plt.plot(NUM_POINTS, times[:, 1], label='Backward')\n",
        "  plt.xlabel('Number of data points')\n",
        "  plt.ylabel('Seconds')\n",
        "  plt.legend()"
      ],
      "execution_count": 35,
      "outputs": [
        {
          "output_type": "display_data",
          "data": {
            "application/vnd.jupyter.widget-view+json": {
              "model_id": "eda18f92d2264c91aefecf2eef852a94",
              "version_minor": 0,
              "version_major": 2
            },
            "text/plain": [
              "interactive(children=(Dropdown(description='hidden_dims', index=1, options=('1', '100', '50, 50'), value='100'…"
            ]
          },
          "metadata": {
            "tags": []
          }
        }
      ]
    },
    {
      "cell_type": "markdown",
      "metadata": {
        "execution": {},
        "id": "Bn-eW2CdYSuy"
      },
      "source": [
        "## Coding Exercise 6: Implement minibatch sampling\n",
        "\n",
        "Complete the code in `sample_minibatch` so as to produce IID subsets of the training set of the desired size. (This is _not_ a trick question.) "
      ]
    },
    {
      "cell_type": "code",
      "metadata": {
        "execution": {},
        "colab": {
          "base_uri": "https://localhost:8080/"
        },
        "id": "ylSwL-4QYSuy",
        "outputId": "d2960ace-650b-49cc-837e-7ef2fd6bfee1"
      },
      "source": [
        "def sample_minibatch(input_data, target_data, num_points=100):\n",
        "  \"\"\"Sample a minibatch of size num_point from the provided input-target data\n",
        "\n",
        "  Args:\n",
        "    input_data (tensor): Multi-dimensional tensor containing the input data\n",
        "    target_data (tensor): 1D tensor containing the class labels\n",
        "    num_points (int): Number of elements to be included in minibatch\n",
        "\n",
        "  Returns:\n",
        "    batch_inputs (tensor): Minibatch inputs\n",
        "    batch_targets (tensor): Minibatch targets\n",
        "  \"\"\"\n",
        "  #################################################\n",
        "  ## TODO for students: sample minibatch of data ##\n",
        "  #raise NotImplementedError(\"Student exercise: implement gradient update\")\n",
        "  #################################################\n",
        "  # Sample a collection of IID indices from the existing data\n",
        "  batch_indices = torch.randint(0, input_data.shape[0], (num_points,)) #np.random.randint(0, input_data.shape[0], num_points)\n",
        "  # Use batch_indices to extract entries from the input and target data tensors\n",
        "  batch_inputs = input_data[batch_indices, :, :]\n",
        "  batch_targets = target_data[batch_indices]\n",
        "\n",
        "  return batch_inputs, batch_targets\n",
        "\n",
        "# add event to airtable\n",
        "atform.add_event('Coding Exercise 6: Implement minibatch sampling')\n",
        "\n",
        "\n",
        "## Uncomment to test your function\n",
        "x_batch, y_batch = sample_minibatch(X, y, num_points=100)\n",
        "print(f\"The input shape is {x_batch.shape} and the target shape is: {y_batch.shape}\")"
      ],
      "execution_count": 36,
      "outputs": [
        {
          "output_type": "stream",
          "text": [
            "The input shape is torch.Size([100, 28, 28]) and the target shape is: torch.Size([100])\n"
          ],
          "name": "stdout"
        }
      ]
    },
    {
      "cell_type": "markdown",
      "metadata": {
        "execution": {},
        "id": "zw4PxLn0YSuy"
      },
      "source": [
        "[*Click for solution*](https://github.com/NeuromatchAcademy/course-content-dl/tree/main//tutorials/W1D4_Optimization/solutions/W1D4_Tutorial1_Solution_6bf245d5.py)\n",
        "\n"
      ]
    },
    {
      "cell_type": "markdown",
      "metadata": {
        "execution": {},
        "id": "7tXhhnA9YSuy"
      },
      "source": [
        "```\n",
        "The input shape is torch.Size([100, 28, 28]) and the target shape is: torch.Size([100])\n",
        "```"
      ]
    },
    {
      "cell_type": "markdown",
      "metadata": {
        "execution": {},
        "id": "qB-r8eNQYSuy"
      },
      "source": [
        "## Interactive Demo 6.2: *Compare* different minibatch sizes\n",
        "\n",
        "What are the trade-offs induced by the choice of minibatch size? The interactive plot below shows the training evolution of a 2-hidden layer MLP with 100 hidden units in each hidden layer. Different plots correspond to a different choice of minibatch size. We have a fixed time budget for all the cases, reflected in the horizontal axes of these plots."
      ]
    },
    {
      "cell_type": "code",
      "metadata": {
        "cellView": "form",
        "execution": {},
        "colab": {
          "base_uri": "https://localhost:8080/",
          "height": 145,
          "referenced_widgets": [
            "330c661c3cfb4f0ab53b9711451cf524",
            "21e08b5112f84892b71d76f1e37866c6",
            "0af9d2476e7045d988af31a7d2875794",
            "9350434873ec462e8bbeb634e51fa71a",
            "416d192766454a7c94bc6ad7717ae01e",
            "c888518b64c44581b5ddcfbb53f7a360",
            "35cd63f8b95545b9a8ecdc2c1ec49271",
            "7d92fa5095e24617b7c75cfae2dbe534",
            "7df2c18a795a4b2cb40f787683de9271",
            "15240473653941859e0399bc568e8246",
            "c0ab395b2cfb4076bab9a34def82099d",
            "a17e045aeced4559a84889a70bff05ed",
            "a90a73880d7f4055971b284855b94518",
            "be7ef6fd3d314dbca6bff508d1230ce7",
            "215d5b8ede194943a35dbb4bc8036565",
            "3863b7253d774d7db9175767bca6cc35"
          ]
        },
        "id": "zx4t8YMSYSuy",
        "outputId": "d9c6d84a-309c-47fa-d339-c2cc4077a038"
      },
      "source": [
        "# @markdown Execute this cell to enable the widget!\n",
        "\n",
        "@widgets.interact_manual\n",
        "def minibatch_experiment(batch_sizes='20, 250, 1000',\n",
        "                         lrs='5e-3, 5e-3, 5e-3',\n",
        "                         time_budget=widgets.Dropdown(options=[\"2.5\", \"5\", \"10\"],\n",
        "                                                      value=\"2.5\")):\n",
        "\n",
        "  batch_sizes = [int(s) for s in batch_sizes.split(',')]\n",
        "  lrs = [float(s) for s in lrs.split(',')]\n",
        "\n",
        "  LOSS_HIST = {_:[] for _ in batch_sizes}\n",
        "\n",
        "  X, y = train_set.data, train_set.targets\n",
        "  base_model = MLP(in_dim=784, out_dim=10, hidden_dims=[100, 100])\n",
        "\n",
        "  for id, batch_size in enumerate(tqdm(batch_sizes)):\n",
        "    start_time = time.time()\n",
        "    # Create a new copy of the model for each batch size\n",
        "    model = copy.deepcopy(base_model)\n",
        "    params = list(model.parameters())\n",
        "    lr = lrs[id]\n",
        "    # Fixed budget per choice of batch size\n",
        "    while (time.time() - start_time) < float(time_budget):\n",
        "      data, labels = sample_minibatch(X, y, batch_size)\n",
        "      loss = loss_fn(model(data), labels)\n",
        "      gradient_update(loss, params, lr=lr)\n",
        "      LOSS_HIST[batch_size].append([time.time() - start_time,\n",
        "                                    loss.item()])\n",
        "\n",
        "  fig, axs = plt.subplots(1, len(batch_sizes), figsize=(10, 3))\n",
        "  for ax, batch_size in zip(axs, batch_sizes):\n",
        "    plot_data = np.array(LOSS_HIST[batch_size])\n",
        "    ax.plot(plot_data[:, 0], plot_data[:, 1], label=batch_size,\n",
        "            alpha=0.8)\n",
        "    ax.set_title('Batch size: ' + str(batch_size))\n",
        "    ax.set_xlabel('Seconds')\n",
        "    ax.set_ylabel('Loss')\n",
        "  plt.show()"
      ],
      "execution_count": 37,
      "outputs": [
        {
          "output_type": "display_data",
          "data": {
            "application/vnd.jupyter.widget-view+json": {
              "model_id": "330c661c3cfb4f0ab53b9711451cf524",
              "version_minor": 0,
              "version_major": 2
            },
            "text/plain": [
              "interactive(children=(Text(value='20, 250, 1000', description='batch_sizes'), Text(value='5e-3, 5e-3, 5e-3', d…"
            ]
          },
          "metadata": {
            "tags": []
          }
        }
      ]
    },
    {
      "cell_type": "markdown",
      "metadata": {
        "execution": {},
        "id": "aYus2RwsYSuz"
      },
      "source": [
        "**Remarks:** SGD works! We have an algorithm that can be applied (with the due precautions) to learn datasets of arbitrary size. \n",
        "\n",
        "However, **note the diference in the vertical scale** across the plots above. When using a larger minibatch, we can perform fewer parameter updates as the forward and backward passes are more expensive.\n",
        "\n",
        "This highlights the interplay between the minibatch size and the learning rate: when our minibatch is larger, we have a more confident estimator of the direction to move, and thus can afford a larger learning rate. On the other hand, extremely small minibatches are very fast computationally but are not representative of the data distribution and yield estimations of the gradient with high variance.\n",
        "\n",
        "We encourage you to tune the value of the learning rate for each of the minibatch sizes in the previous demo, to achieve a training loss steadily below 0.5 within 5 seconds."
      ]
    },
    {
      "cell_type": "markdown",
      "metadata": {
        "execution": {},
        "id": "Rn-IVi0MYSuz"
      },
      "source": [
        "---\n",
        "# Section 7: Adaptive methods\n",
        "\n",
        "*Time estimate: ~25 mins*"
      ]
    },
    {
      "cell_type": "markdown",
      "metadata": {
        "execution": {},
        "id": "1PaWoLk3YSuz"
      },
      "source": [
        "As of now, you should be aware that there are many knobs to turn when working on a machine learning problem. Some of these relate to the optimization algorithm, to the choice of model, or to the objective to minimize. Here are some prototypical examples:\n",
        "\n",
        "- Problem: loss function, regularization coefficients (Day 5)\n",
        "- Model: architecture, activations function\n",
        "- Optimizer: learning rate, batch size, momentum coefficient\n",
        "\n",
        "We concentrate on the choices that are directly related with optimization. In particular, we will explore some _automatic_ methods for setting the learning rate, in a way that fixes the poor-conditioning problem and is robust across different problems."
      ]
    },
    {
      "cell_type": "code",
      "metadata": {
        "cellView": "form",
        "execution": {},
        "colab": {
          "base_uri": "https://localhost:8080/",
          "height": 580,
          "referenced_widgets": [
            "309ea8d5a8224c44b4d61316f295527b",
            "c7acb5c2dd0244f3905c64c18545e060",
            "56765a5edb894f45bf7372c9eb67e8a3",
            "85a334df3eb644a4b42dc131bfb9ff7a",
            "6d78c42e7b834c1a8a2b43e331b7b6c2",
            "31005b02ac8f4337befb36043ccf404e"
          ]
        },
        "id": "QGvVsX5mYSuz",
        "outputId": "c98d57c9-517b-4ce9-c5be-eb70ff35d3ec"
      },
      "source": [
        "# @title Video 7: Adaptive Methods\n",
        "from ipywidgets import widgets\n",
        "\n",
        "out2 = widgets.Output()\n",
        "with out2:\n",
        "  from IPython.display import IFrame\n",
        "  class BiliVideo(IFrame):\n",
        "    def __init__(self, id, page=1, width=400, height=300, **kwargs):\n",
        "      self.id=id\n",
        "      src = \"https://player.bilibili.com/player.html?bvid={0}&page={1}\".format(id, page)\n",
        "      super(BiliVideo, self).__init__(src, width, height, **kwargs)\n",
        "\n",
        "  video = BiliVideo(id=f\"BV1eq4y1W7JG\", width=854, height=480, fs=1)\n",
        "  print(\"Video available at https://www.bilibili.com/video/{0}\".format(video.id))\n",
        "  display(video)\n",
        "\n",
        "out1 = widgets.Output()\n",
        "with out1:\n",
        "  from IPython.display import YouTubeVideo\n",
        "  video = YouTubeVideo(id=f\"Zr6r2kfmQUM\", width=854, height=480, fs=1, rel=0)\n",
        "  print(\"Video available at https://youtube.com/watch?v=\" + video.id)\n",
        "  display(video)\n",
        "\n",
        "out = widgets.Tab([out1, out2])\n",
        "out.set_title(0, 'Youtube')\n",
        "out.set_title(1, 'Bilibili')\n",
        "\n",
        "# add event to airtable\n",
        "atform.add_event('Video 7: Adaptive Methods')\n",
        "\n",
        "display(out)"
      ],
      "execution_count": 38,
      "outputs": [
        {
          "output_type": "display_data",
          "data": {
            "application/vnd.jupyter.widget-view+json": {
              "model_id": "309ea8d5a8224c44b4d61316f295527b",
              "version_minor": 0,
              "version_major": 2
            },
            "text/plain": [
              "Tab(children=(Output(), Output()), _titles={'0': 'Youtube', '1': 'Bilibili'})"
            ]
          },
          "metadata": {
            "tags": []
          }
        }
      ]
    },
    {
      "cell_type": "markdown",
      "metadata": {
        "execution": {},
        "id": "yZKp-FeVYSuz"
      },
      "source": [
        "## Coding Exercise 7: Implement RMSprop\n",
        "\n",
        "In this exercise you will implement the update of the RMSprop optimizer:\n",
        "\n",
        "\\begin{align}\n",
        "v_{t} &= \\alpha v_{t-1} + (1 - \\alpha) \\nabla J(w_t)^2 \\\\ \\\\\n",
        "w_{t+1} &= w_t - \\eta \\frac{\\nabla J(w_t)}{\\sqrt{v_t + \\epsilon}}\n",
        "\\end{align}\n",
        "\n",
        "where the non-standard operations (division of two vectors, squaring a vector, etc) are to be interpreted as element-wise operations, i.e., the operation is applied to each (pair of) entry[ies] of the vector(s) considered as real number(s).\n",
        "\n",
        "Here, the $\\epsilon$ hyperparameter provides numerical estability to the algorithm, by preventing the learning rate to become too big when $v_t$ is small. Typically, we set $\\epsilon$ to a default small value, like $10^{-8}$.  "
      ]
    },
    {
      "cell_type": "code",
      "metadata": {
        "execution": {},
        "colab": {
          "base_uri": "https://localhost:8080/"
        },
        "id": "Ay5g_25mYSuz",
        "outputId": "9a5e26cb-dab4-4af6-8637-4834b6e13663"
      },
      "source": [
        "def rmsprop_update(loss, params, grad_sq, lr=1e-3, alpha=0.8, epsilon=1e-8):\n",
        "  \"\"\"Perform an RMSprop update on a collection of parameters\n",
        "\n",
        "  Args:\n",
        "    loss (tensor): A scalar tensor containing the loss whose gradient will be computed\n",
        "    params (iterable): Collection of parameters with respect to which we compute gradients\n",
        "    grad_sq (iterable): Moving average of squared gradients\n",
        "    lr (float): Scalar specifying the learning rate or step-size for the update\n",
        "    alpha (float): Moving average parameter\n",
        "    epsilon (float): for numerical estability\n",
        "  \"\"\"\n",
        "  # Clear up gradients as Pytorch automatically accumulates gradients from\n",
        "  # successive backward calls\n",
        "  zero_grad(params)\n",
        "  # Compute gradients on given objective\n",
        "  loss.backward()\n",
        "\n",
        "  with torch.no_grad():\n",
        "    for (par, gsq) in zip(params, grad_sq):\n",
        "      #################################################\n",
        "      ## TODO for students: update the value of the parameter ##\n",
        "      # Use gsq.data and par.grad\n",
        "      # raise NotImplementedError(\"Student exercise: implement gradient update\")\n",
        "      #################################################\n",
        "      # Update estimate of gradient variance\n",
        "      gsq.data = alpha*gsq.data + (1-alpha)*par.grad*par.grad\n",
        "      # Update parameters\n",
        "      par.data -=  lr*par.grad/np.sqrt(gsq.data + epsilon)\n",
        "\n",
        "\n",
        "# add event to airtable\n",
        "atform.add_event('Coding Exercise 7: Implement RMSprop')\n",
        "\n",
        "\n",
        "set_seed(seed=SEED)\n",
        "model3 = MLP(in_dim=784, out_dim=10, hidden_dims=[])\n",
        "print('\\n The model3 parameters before the update are: \\n')\n",
        "print_params(model3)\n",
        "loss = loss_fn(model3(X), y)\n",
        "# Intialize the moving average of squared gradients\n",
        "grad_sq = [1e-6*i for i in list(model3.parameters())]\n",
        "\n",
        "\n",
        "\n",
        "## Uncomment below to test your function\n",
        "rmsprop_update(loss, list(model3.parameters()), grad_sq=grad_sq, lr=1e-3)\n",
        "print('\\n The model3 parameters after the update are: \\n')\n",
        "print_params(model3)"
      ],
      "execution_count": 39,
      "outputs": [
        {
          "output_type": "stream",
          "text": [
            "Random seed 2021 has been set.\n",
            "\n",
            " The model3 parameters before the update are: \n",
            "\n",
            "main.0.weight tensor([[-0.0264,  0.0010,  0.0173,  ...,  0.0297,  0.0278, -0.0221],\n",
            "        [-0.0040, -0.0295, -0.0086,  ..., -0.0070,  0.0254, -0.0233],\n",
            "        [ 0.0240, -0.0231,  0.0342,  ...,  0.0124,  0.0270, -0.0180],\n",
            "        ...,\n",
            "        [-0.0005,  0.0157,  0.0111,  ...,  0.0144, -0.0301, -0.0144],\n",
            "        [ 0.0181,  0.0303,  0.0255,  ..., -0.0110, -0.0175,  0.0205],\n",
            "        [ 0.0208, -0.0353, -0.0183,  ..., -0.0271,  0.0099,  0.0003]])\n",
            "main.0.bias tensor([-0.0290, -0.0033,  0.0100, -0.0320,  0.0022,  0.0221,  0.0307,  0.0243,\n",
            "         0.0159, -0.0064])\n",
            "\n",
            " The model3 parameters after the update are: \n",
            "\n",
            "main.0.weight tensor([[-0.0240,  0.0031,  0.0193,  ...,  0.0316,  0.0297, -0.0198],\n",
            "        [-0.0063, -0.0318, -0.0109,  ..., -0.0093,  0.0232, -0.0255],\n",
            "        [ 0.0218, -0.0253,  0.0320,  ...,  0.0102,  0.0248, -0.0203],\n",
            "        ...,\n",
            "        [-0.0027,  0.0136,  0.0089,  ...,  0.0123, -0.0324, -0.0166],\n",
            "        [ 0.0159,  0.0281,  0.0233,  ..., -0.0133, -0.0197,  0.0182],\n",
            "        [ 0.0186, -0.0376, -0.0205,  ..., -0.0293,  0.0077, -0.0019]])\n",
            "main.0.bias tensor([-0.0313, -0.0011,  0.0122, -0.0342,  0.0045,  0.0199,  0.0329,  0.0265,\n",
            "         0.0182, -0.0041])\n"
          ],
          "name": "stdout"
        },
        {
          "output_type": "stream",
          "text": [
            "/usr/local/lib/python3.7/dist-packages/ipykernel_launcher.py:28: RuntimeWarning: invalid value encountered in sqrt\n"
          ],
          "name": "stderr"
        }
      ]
    },
    {
      "cell_type": "markdown",
      "metadata": {
        "execution": {},
        "id": "TiO5HSciYSuz"
      },
      "source": [
        "[*Click for solution*](https://github.com/NeuromatchAcademy/course-content-dl/tree/main//tutorials/W1D4_Optimization/solutions/W1D4_Tutorial1_Solution_b4a7e579.py)\n",
        "\n"
      ]
    },
    {
      "cell_type": "markdown",
      "metadata": {
        "execution": {},
        "id": "uyq1SjSRYSuz"
      },
      "source": [
        "```\n",
        " The model3 parameters after the update are: \n",
        "\n",
        "main.0.weight tensor([[-0.0240,  0.0031,  0.0193,  ...,  0.0316,  0.0297, -0.0198],\n",
        "        [-0.0063, -0.0318, -0.0109,  ..., -0.0093,  0.0232, -0.0255],\n",
        "        [ 0.0218, -0.0253,  0.0320,  ...,  0.0102,  0.0248, -0.0203],\n",
        "        ...,\n",
        "        [-0.0027,  0.0136,  0.0089,  ...,  0.0123, -0.0324, -0.0166],\n",
        "        [ 0.0159,  0.0281,  0.0233,  ..., -0.0133, -0.0197,  0.0182],\n",
        "        [ 0.0186, -0.0376, -0.0205,  ..., -0.0293,  0.0077, -0.0019]])\n",
        "main.0.bias tensor([-0.0313, -0.0011,  0.0122, -0.0342,  0.0045,  0.0199,  0.0329,  0.0265,\n",
        "         0.0182, -0.0041])\n",
        "```"
      ]
    },
    {
      "cell_type": "markdown",
      "metadata": {
        "execution": {},
        "id": "QiRBI_L8YSuz"
      },
      "source": [
        "## Interactive Demo 7: Compare optimizers\n",
        "\n",
        "Below, we compare your implementations of SGD, momentum and RMSprop. If you have successfully coded all the exercises so far: congrats! You are now *in the know* of some of the most commonly used and powerful tools of optimization for deep learning. "
      ]
    },
    {
      "cell_type": "code",
      "metadata": {
        "cellView": "form",
        "execution": {},
        "colab": {
          "base_uri": "https://localhost:8080/",
          "height": 145,
          "referenced_widgets": [
            "e752cd015a3d4b50afe8ca0eca45b05d",
            "a2ae9ff11b8d4596bbd6715252229396",
            "47da3a1ac2d94c14895f8ff07b378977",
            "183cbe19d99449aa97fbff7be51e6466",
            "bd99141d40a3449da7f77b5b439727ef",
            "e0e9b84d09644b78ad14a39779e431fe",
            "56b49ac1e1484bfc9fb794363180255c",
            "58cde934677643ba9bb1f4cd14d933e4",
            "fbe664e72ad94cadbcf64addc735cd65",
            "1f631252d4214c6db78af266d2196173",
            "530bfa450a0a40e0a0993edd79ea96bd",
            "f3f4e3d2833d49f392236202195d147a",
            "add1294917eb4e95aaab89b9d498521a",
            "bf63951b293144f9af33e40edfd8bfee",
            "d9a0ddcbfd9e4eb5af04f2f2db66452f",
            "c3f44f82750342e18679edceb4b7729a"
          ]
        },
        "id": "8eF7t0N_YSuz",
        "outputId": "210b07ef-e896-4fb9-e5d7-fd8c64f0e30c"
      },
      "source": [
        "# @markdown Execute this cell to enable the widget!\n",
        "X, y = train_set.data, train_set.targets\n",
        "\n",
        "@widgets.interact_manual\n",
        "def compare_optimizers(\n",
        "    batch_size=(25, 250, 5),\n",
        "    lr=widgets.FloatLogSlider(value=2e-3, min=-5, max=0),\n",
        "    max_steps=(50, 500, 5)):\n",
        "\n",
        "  SGD_DICT = [gradient_update, 'SGD', 'black', '-', {'lr': lr}]\n",
        "  MOM_DICT = [momentum_update, 'Momentum', 'red', '--', {'lr': lr, 'beta': 0.9}]\n",
        "  RMS_DICT = [rmsprop_update, 'RMSprop', 'fuchsia', '-', {'lr': lr, 'alpha': 0.8}]\n",
        "\n",
        "  ALL_DICTS = [SGD_DICT, MOM_DICT, RMS_DICT]\n",
        "\n",
        "  base_model = MLP(in_dim=784, out_dim=10, hidden_dims=[100, 100])\n",
        "\n",
        "  LOSS_HIST = {}\n",
        "\n",
        "  for opt_dict in tqdm(ALL_DICTS):\n",
        "    update_fn, opt_name, color, lstyle, kwargs = opt_dict\n",
        "    LOSS_HIST[opt_name] = []\n",
        "\n",
        "    model = copy.deepcopy(base_model)\n",
        "    params = list(model.parameters())\n",
        "\n",
        "    if opt_name != 'SGD':\n",
        "      aux_tensors = [torch.zeros_like(_) for _ in params]\n",
        "\n",
        "    for step in range(max_steps):\n",
        "      data, labels = sample_minibatch(X, y, batch_size)\n",
        "      loss = loss_fn(model(data), labels)\n",
        "      if opt_name == 'SGD':\n",
        "        update_fn(loss, params, **kwargs)\n",
        "      else:\n",
        "        update_fn(loss, params, aux_tensors, **kwargs)\n",
        "      LOSS_HIST[opt_name].append(loss.item())\n",
        "\n",
        "  fig, axs = plt.subplots(1, len(ALL_DICTS), figsize=(9, 3))\n",
        "  for ax, optim_dict in zip(axs, ALL_DICTS):\n",
        "    opt_name = optim_dict[1]\n",
        "    ax.plot(range(max_steps), LOSS_HIST[opt_name], alpha=0.8)\n",
        "    ax.set_title(opt_name)\n",
        "    ax.set_xlabel('Iteration')\n",
        "    ax.set_ylabel('Loss')\n",
        "    ax.set_ylim(0, 2.5)\n",
        "  plt.show()"
      ],
      "execution_count": 40,
      "outputs": [
        {
          "output_type": "display_data",
          "data": {
            "application/vnd.jupyter.widget-view+json": {
              "model_id": "e752cd015a3d4b50afe8ca0eca45b05d",
              "version_minor": 0,
              "version_major": 2
            },
            "text/plain": [
              "interactive(children=(IntSlider(value=135, description='batch_size', max=250, min=25, step=5), FloatLogSlider(…"
            ]
          },
          "metadata": {
            "tags": []
          }
        }
      ]
    },
    {
      "cell_type": "markdown",
      "metadata": {
        "execution": {},
        "id": "LjtOGVySYSuz"
      },
      "source": [
        "### **Discussion**\n",
        "\n",
        "Tune the 3 methods above in order to make each individually excel and discuss your findings. How do the methods compare in terms of robustness to small changes of the hyperparameters? How easy was it to find a good hyperparameter configuration? "
      ]
    },
    {
      "cell_type": "markdown",
      "metadata": {
        "execution": {},
        "id": "EK48tGJtYSu0"
      },
      "source": [
        "\n",
        "**Remarks:** Note that RMSprop is allowing us to use a 'per-dimension' learning rate _without having to tune one learning rate for each dimension **ourselves**_. The method uses information collected about the variance of the gradients throughout training to **adapt** the step size for each of the parameters automatically. The savings in tuning efforts of RMSprop over SGD or 'plain' momentum are undisputed on this task. \n",
        "\n",
        "Moreover, adaptive optimization methods are currently a highly active research domain, with many related algorithms like Adam, AMSgrad, Adagrad being used in practical application and theoretically investigated. "
      ]
    },
    {
      "cell_type": "markdown",
      "metadata": {
        "execution": {},
        "id": "xvN43nG0YSu0"
      },
      "source": [
        "### Locality of Gradients\n",
        "As we've seen throught this tutorial, poor conditioning can be a significant burden on convergence to an optimum while using gradient based optimization. Of the methods we've seen to deal with this issue, notice how both momentum and adaptive learning rates incorperate past gradient values into their update schemes. Why do we use past values of our loss function's gradient while updating our current MLP weights?\n",
        "\n",
        "Recall from W1D2 that the gradient of a function, $\\nabla f(w_t)$, is a **local** property and computes the direction of maximum change of $f(w_t)$ at the point $w_t$. However, when we train our MLP model we are hoping to find the __global__ optimum for our training loss. By incorperating past values of our function's gradient into our optimization schemes, we use more information about the overall shape of our function than just a single gradient alone can provide. "
      ]
    },
    {
      "cell_type": "markdown",
      "metadata": {
        "execution": {},
        "id": "oTz6WnjgYSu0"
      },
      "source": [
        "## Think! 7: Loss function and optimization\n",
        "\n",
        "Can you think of other ways we can incorperate more information about our loss function into our optimization schemes?"
      ]
    },
    {
      "cell_type": "code",
      "metadata": {
        "cellView": "form",
        "execution": {},
        "colab": {
          "base_uri": "https://localhost:8080/",
          "height": 93,
          "referenced_widgets": [
            "098d3ec8d6344f36997534b77b356e76",
            "3c582c367fb04a0aaf81ebf9bb42c338",
            "2c90cfe6d1a24ff98e48ec82ea24ea60",
            "ac2a3ee9b992405aaf10553a54a3c6f7",
            "442e685e009b434fb076b79d268689c5",
            "725102a94fc2483ea5fce703b7138efd"
          ]
        },
        "id": "y81a-WLiYSu0",
        "outputId": "04a9a95d-5bf3-44e2-c829-40c7e661986d"
      },
      "source": [
        "# @title Student Response\n",
        "from ipywidgets import widgets\n",
        "\n",
        "\n",
        "text=widgets.Textarea(\n",
        "   value='Type your answer here and click on `Submit!`',\n",
        "   placeholder='Type something',\n",
        "   description='',\n",
        "   disabled=False\n",
        ")\n",
        "\n",
        "button = widgets.Button(description=\"Submit!\")\n",
        "\n",
        "display(text,button)\n",
        "\n",
        "def on_button_clicked(b):\n",
        "   atform.add_answer('q4' , text.value)\n",
        "   print(\"Submission successful!\")"
      ],
      "execution_count": 41,
      "outputs": [
        {
          "output_type": "display_data",
          "data": {
            "application/vnd.jupyter.widget-view+json": {
              "model_id": "098d3ec8d6344f36997534b77b356e76",
              "version_minor": 0,
              "version_major": 2
            },
            "text/plain": [
              "Textarea(value='Type your answer here and click on `Submit!`', placeholder='Type something')"
            ]
          },
          "metadata": {
            "tags": []
          }
        },
        {
          "output_type": "display_data",
          "data": {
            "application/vnd.jupyter.widget-view+json": {
              "model_id": "ac2a3ee9b992405aaf10553a54a3c6f7",
              "version_minor": 0,
              "version_major": 2
            },
            "text/plain": [
              "Button(description='Submit!', style=ButtonStyle())"
            ]
          },
          "metadata": {
            "tags": []
          }
        }
      ]
    },
    {
      "cell_type": "markdown",
      "metadata": {
        "execution": {},
        "id": "5NXM4uiDYSu0"
      },
      "source": [
        "[*Click for solution*](https://github.com/NeuromatchAcademy/course-content-dl/tree/main//tutorials/W1D4_Optimization/solutions/W1D4_Tutorial1_Solution_a3f4354b.py)\n",
        "\n"
      ]
    },
    {
      "cell_type": "markdown",
      "metadata": {
        "execution": {},
        "id": "2XFbvcOdYSu0"
      },
      "source": [
        "---\n",
        "# Section 8: Ethical concerns\n",
        "\n",
        "*Time estimate: ~15mins*"
      ]
    },
    {
      "cell_type": "code",
      "metadata": {
        "cellView": "form",
        "execution": {},
        "colab": {
          "base_uri": "https://localhost:8080/",
          "height": 580,
          "referenced_widgets": [
            "1fbc872e732b46c490a27304a7b51ec2",
            "ecff5d6e11e24f1cbb9a1e299371d263",
            "13bd9204cfeb4adea2669ffc7015d12c",
            "f20eb6c00a1247ce9190930abefbae50",
            "1d00ec908bad4bc680f8c33778a80f1f",
            "aa4877725ba842f58385d30a99c35bf0"
          ]
        },
        "id": "bV6pJ1TyYSu0",
        "outputId": "f36ae3d8-16ee-478e-d306-30d924ed924b"
      },
      "source": [
        "# @title Video 8: Ethical concerns\n",
        "from ipywidgets import widgets\n",
        "\n",
        "out2 = widgets.Output()\n",
        "with out2:\n",
        "  from IPython.display import IFrame\n",
        "  class BiliVideo(IFrame):\n",
        "    def __init__(self, id, page=1, width=400, height=300, **kwargs):\n",
        "      self.id=id\n",
        "      src = \"https://player.bilibili.com/player.html?bvid={0}&page={1}\".format(id, page)\n",
        "      super(BiliVideo, self).__init__(src, width, height, **kwargs)\n",
        "\n",
        "  video = BiliVideo(id=f\"BV1TU4y1G7Je\", width=854, height=480, fs=1)\n",
        "  print(\"Video available at https://www.bilibili.com/video/{0}\".format(video.id))\n",
        "  display(video)\n",
        "\n",
        "out1 = widgets.Output()\n",
        "with out1:\n",
        "  from IPython.display import YouTubeVideo\n",
        "  video = YouTubeVideo(id=f\"0EthSI0cknI\", width=854, height=480, fs=1, rel=0)\n",
        "  print(\"Video available at https://youtube.com/watch?v=\" + video.id)\n",
        "  display(video)\n",
        "\n",
        "out = widgets.Tab([out1, out2])\n",
        "out.set_title(0, 'Youtube')\n",
        "out.set_title(1, 'Bilibili')\n",
        "\n",
        "# add event to airtable\n",
        "atform.add_event('Video 8: Ethical concerns')\n",
        "\n",
        "display(out)"
      ],
      "execution_count": 42,
      "outputs": [
        {
          "output_type": "display_data",
          "data": {
            "application/vnd.jupyter.widget-view+json": {
              "model_id": "1fbc872e732b46c490a27304a7b51ec2",
              "version_minor": 0,
              "version_major": 2
            },
            "text/plain": [
              "Tab(children=(Output(), Output()), _titles={'0': 'Youtube', '1': 'Bilibili'})"
            ]
          },
          "metadata": {
            "tags": []
          }
        }
      ]
    },
    {
      "cell_type": "markdown",
      "metadata": {
        "execution": {},
        "id": "aqFUYnsUYSu0"
      },
      "source": [
        "---\n",
        "# Summary\n",
        "\n",
        "* Optimization is necessary to create Deep Learning models that are guaranteed to converge \n",
        "* Stochastic Gradient Descent and Momentum are two commonly used optimization techniques\n",
        "* RMSProp is a way of adaptive hyper parameter tuning which utilises a per-dimension learning rate\n",
        "* Poor choice of optimization objectives can lead to unforeseen, undesirable consequences \n",
        "\n",
        "If you have time left, you can read the Bonus material, were we put all together and we compare our model with a benchmark model."
      ]
    },
    {
      "cell_type": "code",
      "metadata": {
        "cellView": "form",
        "execution": {},
        "id": "Uhy3c0t7YSu0"
      },
      "source": [
        "# @title Airtable Submission Link\n",
        "from IPython import display as IPydisplay\n",
        "IPydisplay.HTML(\n",
        "   f\"\"\"\n",
        " <div>\n",
        "   <a href= \"{atform.url()}\" target=\"_blank\">\n",
        "   <img src=\"https://github.com/NeuromatchAcademy/course-content-dl/blob/main/tutorials/static/SurveyButton.png?raw=1\"\n",
        " alt=\"button link end of day Survey\" style=\"width:410px\"></a>\n",
        "   </div>\"\"\" )"
      ],
      "execution_count": null,
      "outputs": []
    },
    {
      "cell_type": "markdown",
      "metadata": {
        "execution": {},
        "id": "UpDdhMu-YSu0"
      },
      "source": [
        "---\n",
        "# Bonus: Putting it all together\n",
        "\n",
        "*Time estimate: ~40 mins*"
      ]
    },
    {
      "cell_type": "markdown",
      "metadata": {
        "execution": {},
        "id": "PtlNUYZQYSu0"
      },
      "source": [
        "We have progressively built a sophisticated optimization algorithm which is able to deal with a non-convex, poor-conditioned problem concerning tens of thousands of training examples. Now we present _you_ with a small challenge: beat us! :P\n",
        "\n",
        "Your mission is to train an MLP model that can compete with a benchmark model which we have pre-trained for you. In this section you will be able to use the full Pytorch power: loading the data, defining the model, sampling minibatches as well as Pytorch's **optimizer implementations**. \n",
        "\n",
        "There is a big engineering component behind the design of optimizers and their implementation can sometimes become tricky. So unless you are directly doing research in optimization, it's recommended to use an implementation provided by a widely reviewed open-source library."
      ]
    },
    {
      "cell_type": "code",
      "metadata": {
        "cellView": "form",
        "execution": {},
        "colab": {
          "base_uri": "https://localhost:8080/",
          "height": 580,
          "referenced_widgets": [
            "ccc11b941c0042278e46d1fe15dabd5a",
            "a4f6e43184ce43e4885b61f05fc6e7c8",
            "401b781fad9044e199dc5d7c388a5008",
            "785810f54ae14d349f4bf9f59a31d45c",
            "56d220c85d3b48189eea4a11ac4649a6",
            "6f3dfc23f4fe44a3864e9ceca29bfc86"
          ]
        },
        "id": "dtQOygfSYSu0",
        "outputId": "6bf41586-01c1-41b9-a4ce-3c7367d444fc"
      },
      "source": [
        "# @title Video 9: Putting it all together\n",
        "from ipywidgets import widgets\n",
        "\n",
        "out2 = widgets.Output()\n",
        "with out2:\n",
        "  from IPython.display import IFrame\n",
        "  class BiliVideo(IFrame):\n",
        "    def __init__(self, id, page=1, width=400, height=300, **kwargs):\n",
        "      self.id=id\n",
        "      src = \"https://player.bilibili.com/player.html?bvid={0}&page={1}\".format(id, page)\n",
        "      super(BiliVideo, self).__init__(src, width, height, **kwargs)\n",
        "\n",
        "  video = BiliVideo(id=f\"BV1MK4y1u7u2\", width=854, height=480, fs=1)\n",
        "  print(\"Video available at https://www.bilibili.com/video/{0}\".format(video.id))\n",
        "  display(video)\n",
        "\n",
        "out1 = widgets.Output()\n",
        "with out1:\n",
        "  from IPython.display import YouTubeVideo\n",
        "  video = YouTubeVideo(id=f\"DP9c13vLiOM\", width=854, height=480, fs=1, rel=0)\n",
        "  print(\"Video available at https://youtube.com/watch?v=\" + video.id)\n",
        "  display(video)\n",
        "\n",
        "out = widgets.Tab([out1, out2])\n",
        "out.set_title(0, 'Youtube')\n",
        "out.set_title(1, 'Bilibili')\n",
        "\n",
        "# add event to airtable\n",
        "atform.add_event('Video 9: Putting it all together')\n",
        "\n",
        "display(out)"
      ],
      "execution_count": 43,
      "outputs": [
        {
          "output_type": "display_data",
          "data": {
            "application/vnd.jupyter.widget-view+json": {
              "model_id": "ccc11b941c0042278e46d1fe15dabd5a",
              "version_minor": 0,
              "version_major": 2
            },
            "text/plain": [
              "Tab(children=(Output(), Output()), _titles={'0': 'Youtube', '1': 'Bilibili'})"
            ]
          },
          "metadata": {
            "tags": []
          }
        }
      ]
    },
    {
      "cell_type": "code",
      "metadata": {
        "cellView": "form",
        "execution": {},
        "colab": {
          "base_uri": "https://localhost:8080/"
        },
        "id": "IAEF213qYSu0",
        "outputId": "7e99036e-ec99-4e9c-fbb8-5643f612c3e8"
      },
      "source": [
        "# @title Download parameters of the benchmark model\n",
        "import requests\n",
        "\n",
        "fname = 'benchmark_model.pt'\n",
        "url = \"https://osf.io/sj4e8/download\"\n",
        "r = requests.get(url, allow_redirects=True)\n",
        "with open(fname, 'wb') as fh:\n",
        "  fh.write(r.content)\n",
        "\n",
        "# Load the benchmark model's parameters\n",
        "DEVICE = set_device()\n",
        "if DEVICE == \"cuda\":\n",
        "  benchmark_state_dict = torch.load(fname)\n",
        "else:\n",
        "  benchmark_state_dict = torch.load(fname, map_location=torch.device('cpu'))"
      ],
      "execution_count": 45,
      "outputs": [
        {
          "output_type": "stream",
          "text": [
            "GPU is enabled in this notebook.\n"
          ],
          "name": "stdout"
        }
      ]
    },
    {
      "cell_type": "code",
      "metadata": {
        "execution": {},
        "id": "axv70rlAYSu1"
      },
      "source": [
        "# Create MLP object and update weights with those of saved model\n",
        "benchmark_model = MLP(in_dim=784, out_dim=10,\n",
        "                      hidden_dims=[200, 100, 50]).to(DEVICE)\n",
        "benchmark_model.load_state_dict(benchmark_state_dict)\n",
        "\n",
        "\n",
        "# Define helper function to evaluate models\n",
        "def eval_model(model, data_loader, num_batches=np.inf, device='cpu'):\n",
        "\n",
        "  loss_log, acc_log = [], []\n",
        "  model.to(device=device)\n",
        "\n",
        "  # We are just evaluating the model, no need to compute gradients\n",
        "  with torch.no_grad():\n",
        "    for batch_id, batch in enumerate(data_loader):\n",
        "      # If we only evaluate a number of batches, stop after we reach that number\n",
        "      if batch_id > num_batches:\n",
        "        break\n",
        "      # Extract minibatch data\n",
        "      data, labels = batch[0].to(device), batch[1].to(device)\n",
        "      # Evaluate model and loss on minibatch\n",
        "      preds = model(data)\n",
        "      loss_log.append(loss_fn(preds, labels).item())\n",
        "      acc_log.append(torch.mean(1. * (preds.argmax(dim=1) == labels)).item())\n",
        "\n",
        "  return np.mean(loss_log), np.mean(acc_log)"
      ],
      "execution_count": 46,
      "outputs": []
    },
    {
      "cell_type": "markdown",
      "metadata": {
        "execution": {},
        "id": "Qlct9lumYSu1"
      },
      "source": [
        "We define an optimizer in the following steps:\n",
        "\n",
        "1. Load  the corresponding class that implements the parameter updates and other internal management activities, including:\n",
        "    - create auxiliary variables,\n",
        "    - update moving averages,\n",
        "    - adjust learning rate.\n",
        "2. Pass the parameters of the Pytorch model that the optimizer has control over. Note that different parameter groups can potentially be controlled by different optimizers.\n",
        "3. Specify hyperparameters, including learning rate, momentum, moving average factors, etc.\n",
        "\n"
      ]
    },
    {
      "cell_type": "markdown",
      "metadata": {
        "execution": {},
        "id": "FxX_9JWEYSu1"
      },
      "source": [
        "## Exercise Bonus: Train your own model\n",
        "\n",
        "Now, train the model with your preferred optimizer and find a good combination of hyperparameter settings."
      ]
    },
    {
      "cell_type": "code",
      "metadata": {
        "execution": {},
        "id": "GnuVfqbwYSu1"
      },
      "source": [
        "#################################################\n",
        "## TODO for students: adjust training settings ##\n",
        "\n",
        "# The three parameters below are in your full control\n",
        "MAX_EPOCHS = 5  # select number of epochs to train\n",
        "LR = 1e-3  # choose the step size\n",
        "BATCH_SIZE = 128  # number of examples per minibatch\n",
        "\n",
        "# Define the model and associated optimizer -- you may change its architecture!\n",
        "model = MLP(in_dim=784, out_dim=10, hidden_dims=[200, 500, 150, 50]).to(DEVICE)\n",
        "\n",
        "# You can take your pick from many different optimizers\n",
        "# Check the optimizer documentation and hyperparameter meaning before using!\n",
        "# More details on Pytorch optimizers: https://pytorch.org/docs/stable/optim.html\n",
        "# optimizer = torch.optim.SGD(model.parameters(), lr=LR, momentum=0.9)\n",
        "# optimizer = torch.optim.RMSprop(model.parameters(), lr=LR, alpha=0.99)\n",
        "# optimizer = torch.optim.Adagrad(model.parameters(), lr=LR)\n",
        "optimizer = torch.optim.Adam(model.parameters(), lr=LR, betas = (0.85, 0.95))\n",
        "#################################################"
      ],
      "execution_count": 67,
      "outputs": []
    },
    {
      "cell_type": "code",
      "metadata": {
        "execution": {},
        "colab": {
          "base_uri": "https://localhost:8080/",
          "height": 253,
          "referenced_widgets": [
            "8903f81413f742b1955122b0369c0220",
            "c83f23bbcf644e2293180f167a81f342",
            "1caa2dc14986490cbaf95499b0586e6c",
            "b1559ef1badf4b29bdef65a4097bf7db",
            "c65090f3ebd74fe89a00306d3ec7d0c8",
            "8b3a1a3255f24bbf9d45c9d922b63f45",
            "5a0f0cd513e64f769042b30690621165",
            "a589d86827da43afa332da7cdbf55bd1"
          ]
        },
        "id": "d5szUIe-YSu1",
        "outputId": "a4eab151-9122-4598-dadd-7c32373d132b"
      },
      "source": [
        "set_seed(seed=SEED)\n",
        "# Print trainig stats every LOG_FREQ minibatches\n",
        "LOG_FREQ = 200\n",
        "# Frequency for evaluating the validation metrics\n",
        "VAL_FREQ = 200\n",
        "# Load data using a Pytorch Dataset\n",
        "train_set_orig, test_set_orig = load_mnist_data(change_tensors=False)\n",
        "\n",
        "# We separate 10,000 training samples to create a validation set\n",
        "train_set_orig, val_set_orig = torch.utils.data.random_split(train_set_orig, [50000, 10000])\n",
        "\n",
        "# Create the corresponding DataLoaders for training and test\n",
        "g_seed = torch.Generator()\n",
        "g_seed.manual_seed(SEED)\n",
        "\n",
        "train_loader = torch.utils.data.DataLoader(train_set_orig,\n",
        "                                           shuffle=True,\n",
        "                                           batch_size=BATCH_SIZE,\n",
        "                                           num_workers=2,\n",
        "                                           worker_init_fn=seed_worker,\n",
        "                                           generator=g_seed)\n",
        "val_loader = torch.utils.data.DataLoader(val_set_orig,\n",
        "                                         shuffle=True,\n",
        "                                         batch_size=256,\n",
        "                                         num_workers=2,\n",
        "                                         worker_init_fn=seed_worker,\n",
        "                                         generator=g_seed)\n",
        "test_loader = torch.utils.data.DataLoader(test_set_orig,\n",
        "                                          batch_size=256,\n",
        "                                          num_workers=2,\n",
        "                                          worker_init_fn=seed_worker,\n",
        "                                          generator=g_seed)\n",
        "\n",
        "# Run training\n",
        "metrics = {'train_loss':[],\n",
        "           'train_acc':[],\n",
        "           'val_loss':[],\n",
        "           'val_acc':[],\n",
        "           'val_idx':[]}\n",
        "\n",
        "step_idx = 0\n",
        "for epoch in tqdm(range(MAX_EPOCHS)):\n",
        "\n",
        "  running_loss, running_acc = 0., 0.\n",
        "\n",
        "  for batch_id, batch in enumerate(train_loader):\n",
        "    step_idx += 1\n",
        "    # Extract minibatch data and labels\n",
        "    data, labels = batch[0].to(DEVICE), batch[1].to(DEVICE)\n",
        "    # Just like before, refresh gradient accumulators.\n",
        "    # Note that this is now a method of the optimizer.\n",
        "    optimizer.zero_grad()\n",
        "    # Evaluate model and loss on minibatch\n",
        "    preds = model(data)\n",
        "    loss = loss_fn(preds, labels)\n",
        "    acc = torch.mean(1.0 * (preds.argmax(dim=1) == labels))\n",
        "    # Compute gradients\n",
        "    loss.backward()\n",
        "    # Update parameters\n",
        "    # Note how all the magic in the update of the parameters is encapsulated by\n",
        "    # the optimizer class.\n",
        "    optimizer.step()\n",
        "    # Log metrics for plotting\n",
        "    metrics['train_loss'].append(loss.cpu().item())\n",
        "    metrics['train_acc'].append(acc.cpu().item())\n",
        "\n",
        "    if batch_id % VAL_FREQ == (VAL_FREQ - 1):\n",
        "      # Get an estimate of the validation accuracy with 100 batches\n",
        "      val_loss, val_acc = eval_model(model, val_loader,\n",
        "                                     num_batches=100,\n",
        "                                     device=DEVICE)\n",
        "      metrics['val_idx'].append(step_idx)\n",
        "      metrics['val_loss'].append(val_loss)\n",
        "      metrics['val_acc'].append(val_acc)\n",
        "\n",
        "      print(f\"[VALID] Epoch {epoch + 1} - Batch {batch_id + 1} - \"\n",
        "            f\"Loss: {val_loss:.3f} - Acc: {100*val_acc:.3f}%\")\n",
        "\n",
        "    # print statistics\n",
        "    running_loss += loss.cpu().item()\n",
        "    running_acc += acc.cpu().item()\n",
        "    # Print every LOG_FREQ minibatches\n",
        "    if batch_id % LOG_FREQ == (LOG_FREQ-1):\n",
        "      print(f\"[TRAIN] Epoch {epoch + 1} - Batch {batch_id + 1} - \"\n",
        "            f\"Loss: {running_loss / LOG_FREQ:.3f} - \"\n",
        "            f\"Acc: {100 * running_acc / LOG_FREQ:.3f}%\")\n",
        "\n",
        "      running_loss, running_acc = 0., 0."
      ],
      "execution_count": 68,
      "outputs": [
        {
          "output_type": "stream",
          "text": [
            "Random seed 2021 has been set.\n"
          ],
          "name": "stdout"
        },
        {
          "output_type": "display_data",
          "data": {
            "application/vnd.jupyter.widget-view+json": {
              "model_id": "8903f81413f742b1955122b0369c0220",
              "version_minor": 0,
              "version_major": 2
            },
            "text/plain": [
              "HBox(children=(FloatProgress(value=0.0, max=5.0), HTML(value='')))"
            ]
          },
          "metadata": {
            "tags": []
          }
        },
        {
          "output_type": "stream",
          "text": [
            "[VALID] Epoch 1 - Batch 200 - Loss: 0.224 - Acc: 93.115%\n",
            "[TRAIN] Epoch 1 - Batch 200 - Loss: 0.484 - Acc: 85.250%\n",
            "[VALID] Epoch 2 - Batch 200 - Loss: 0.124 - Acc: 96.182%\n",
            "[TRAIN] Epoch 2 - Batch 200 - Loss: 0.128 - Acc: 96.055%\n",
            "[VALID] Epoch 3 - Batch 200 - Loss: 0.101 - Acc: 96.846%\n",
            "[TRAIN] Epoch 3 - Batch 200 - Loss: 0.082 - Acc: 97.488%\n",
            "[VALID] Epoch 4 - Batch 200 - Loss: 0.105 - Acc: 97.070%\n",
            "[TRAIN] Epoch 4 - Batch 200 - Loss: 0.059 - Acc: 98.184%\n",
            "[VALID] Epoch 5 - Batch 200 - Loss: 0.096 - Acc: 97.451%\n",
            "[TRAIN] Epoch 5 - Batch 200 - Loss: 0.051 - Acc: 98.395%\n",
            "\n"
          ],
          "name": "stdout"
        }
      ]
    },
    {
      "cell_type": "code",
      "metadata": {
        "execution": {},
        "colab": {
          "base_uri": "https://localhost:8080/",
          "height": 286
        },
        "id": "ehRwObFoYSu1",
        "outputId": "ff6e293c-b003-413d-e3bb-9eeee04cbf89"
      },
      "source": [
        "fig, ax = plt.subplots(1, 2, figsize=(10, 4))\n",
        "\n",
        "ax[0].plot(range(len(metrics['train_loss'])), metrics['train_loss'],\n",
        "           alpha=0.8, label='Train')\n",
        "ax[0].plot(metrics['val_idx'], metrics['val_loss'], label='Valid')\n",
        "ax[0].set_xlabel('Iteration')\n",
        "ax[0].set_ylabel('Loss')\n",
        "ax[0].legend()\n",
        "\n",
        "ax[1].plot(range(len(metrics['train_acc'])), metrics['train_acc'],\n",
        "           alpha=0.8, label='Train')\n",
        "ax[1].plot(metrics['val_idx'], metrics['val_acc'], label='Valid')\n",
        "ax[1].set_xlabel('Iteration')\n",
        "ax[1].set_ylabel('Accuracy')\n",
        "ax[1].legend()\n",
        "plt.tight_layout()\n",
        "plt.show()"
      ],
      "execution_count": 69,
      "outputs": [
        {
          "output_type": "display_data",
          "data": {
            "image/png": "[encoded data removed]",
            "text/plain": [
              "<Figure size 720x288 with 2 Axes>"
            ]
          },
          "metadata": {
            "tags": [],
            "image/png": {
              "width": 701,
              "height": 269
            },
            "needs_background": "light"
          }
        }
      ]
    },
    {
      "cell_type": "markdown",
      "metadata": {
        "execution": {},
        "id": "NfKkK64yYSu1"
      },
      "source": [
        "## Think! Bonus: Metrics\n",
        "\n",
        "Which metric did you optimize when searching for the right configuration? The training set loss? Accuracy? Validation/test set metrics? Why? Discuss!"
      ]
    },
    {
      "cell_type": "markdown",
      "metadata": {
        "execution": {},
        "id": "e3Xa_X0EYSu1"
      },
      "source": [
        "[*Click for solution*](https://github.com/NeuromatchAcademy/course-content-dl/tree/main//tutorials/W1D4_Optimization/solutions/W1D4_Tutorial1_Solution_093a66ad.py)\n",
        "\n"
      ]
    },
    {
      "cell_type": "markdown",
      "metadata": {
        "execution": {},
        "id": "wfsMNgOtYSu1"
      },
      "source": [
        "### Evaluation\n",
        "\n",
        "We _finally_ can evaluate and compare the performance of the models on previously unseen examples. \n",
        "\n",
        "Which model would you keep? (\\*drum roll*)    "
      ]
    },
    {
      "cell_type": "code",
      "metadata": {
        "execution": {},
        "colab": {
          "base_uri": "https://localhost:8080/"
        },
        "id": "qT8RO_s4YSu1",
        "outputId": "f893104b-0fc2-449c-be85-0b40282cbef7"
      },
      "source": [
        "print('Your model...')\n",
        "train_loss, train_accuracy = eval_model(my_model, train_loader, device=DEVICE)\n",
        "test_loss, test_accuracy = eval_model(my_model, test_loader, device=DEVICE)\n",
        "print(f'Train Loss {train_loss:.3f} / Test Loss {test_loss:.3f}')\n",
        "print(f'Train Accuracy {100*train_accuracy:.3f}% / Test Accuracy {100*test_accuracy:.3f}%')\n",
        "\n",
        "print('\\nBenchmark model')\n",
        "train_loss, train_accuracy = eval_model(benchmark_model, train_loader, device=DEVICE)\n",
        "test_loss, test_accuracy = eval_model(benchmark_model, test_loader, device=DEVICE)\n",
        "print(f'Train Loss {train_loss:.3f} / Test Loss {test_loss:.3f}')\n",
        "print(f'Train Accuracy {100*train_accuracy:.3f}% / Test Accuracy {100*test_accuracy:.3f}%')"
      ],
      "execution_count": 70,
      "outputs": [
        {
          "output_type": "stream",
          "text": [
            "Your model...\n",
            "Train Loss 0.507 / Test Loss 0.479\n",
            "Train Accuracy 84.610% / Test Accuracy 85.400%\n",
            "\n",
            "Benchmark model\n",
            "Train Loss 0.011 / Test Loss 0.025\n",
            "Train Accuracy 99.784% / Test Accuracy 99.316%\n"
          ],
          "name": "stdout"
        }
      ]
    },
    {
      "cell_type": "code",
      "metadata": {
        "id": "KS5fY1QkFWmu"
      },
      "source": [
        ""
      ],
      "execution_count": 60,
      "outputs": []
    }
  ]
}